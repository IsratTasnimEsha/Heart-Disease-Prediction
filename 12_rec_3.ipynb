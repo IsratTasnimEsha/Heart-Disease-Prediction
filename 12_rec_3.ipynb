{
 "cells": [
  {
   "cell_type": "code",
   "execution_count": 1,
   "metadata": {},
   "outputs": [],
   "source": [
    "import pandas as pd\n",
    "import numpy as np\n",
    "import random\n",
    "import os\n",
    "import matplotlib.pyplot as plt\n",
    "from sklearn.model_selection import train_test_split\n",
    "from sklearn.preprocessing import StandardScaler\n",
    "from sklearn.tree import DecisionTreeClassifier\n",
    "from sklearn.ensemble import RandomForestClassifier\n",
    "from sklearn.metrics import f1_score\n",
    "from sklearn.decomposition import PCA\n",
    "from keras.models import Sequential\n",
    "from keras.layers import LSTM, Dense, Dropout\n",
    "from keras.optimizers import Adam\n",
    "import tensorflow as tf\n",
    "import seaborn as sns\n",
    "from sklearn.ensemble import IsolationForest\n",
    "from sklearn.metrics import confusion_matrix, accuracy_score, precision_score, recall_score, f1_score, confusion_matrix\n",
    "import joblib\n",
    "os.chdir('Resources/')\n",
    "\n",
    "import warnings\n",
    "warnings.filterwarnings(\"ignore\")"
   ]
  },
  {
   "cell_type": "code",
   "execution_count": 2,
   "metadata": {},
   "outputs": [],
   "source": [
    "df = pd.read_csv('10_SP_Preprocessed_Data.csv')\n",
    "\n",
    "X = df.drop(['HeartDisease'], axis='columns')\n",
    "Y = df[['HeartDisease']]"
   ]
  },
  {
   "cell_type": "code",
   "execution_count": null,
   "metadata": {},
   "outputs": [
    {
     "name": "stdout",
     "output_type": "stream",
     "text": [
      "0 0.9313725490196079 0.9313725490196079 0\n",
      "1 0.9078341013824884 0.9313725490196079 0\n",
      "2 0.9248826291079812 0.9313725490196079 0\n",
      "3 0.8925233644859814 0.9313725490196079 0\n",
      "4 0.9241706161137441 0.9313725490196079 0\n",
      "5 0.9282511210762332 0.9313725490196079 0\n",
      "6 0.9078341013824884 0.9313725490196079 0\n",
      "7 0.9296482412060302 0.9313725490196079 0\n",
      "8 0.9212962962962963 0.9313725490196079 0\n",
      "9 0.9345794392523364 0.9345794392523364 9\n",
      "10 0.9178082191780822 0.9345794392523364 9\n",
      "11 0.9212962962962963 0.9345794392523364 9\n",
      "12 0.9563106796116505 0.9563106796116505 12\n",
      "13 0.8785046728971962 0.9563106796116505 12\n",
      "14 0.9380530973451328 0.9563106796116505 12\n",
      "15 0.9261083743842364 0.9563106796116505 12\n",
      "16 0.9383886255924171 0.9563106796116505 12\n",
      "17 0.897196261682243 0.9563106796116505 12\n",
      "18 0.9203980099502488 0.9563106796116505 12\n",
      "19 0.9342723004694836 0.9563106796116505 12\n",
      "20 0.9209302325581395 0.9563106796116505 12\n",
      "21 0.8431372549019608 0.9563106796116505 12\n",
      "22 0.9422222222222222 0.9563106796116505 12\n",
      "23 0.9504504504504504 0.9563106796116505 12\n",
      "24 0.8761904761904762 0.9563106796116505 12\n",
      "25 0.9130434782608695 0.9563106796116505 12\n",
      "26 0.9575471698113207 0.9575471698113207 26\n",
      "27 0.8968609865470852 0.9575471698113207 26\n",
      "28 0.8532110091743119 0.9575471698113207 26\n",
      "29 0.9013452914798207 0.9575471698113207 26\n",
      "30 0.9320388349514563 0.9575471698113207 26\n",
      "31 0.9276018099547512 0.9575471698113207 26\n",
      "32 0.927536231884058 0.9575471698113207 26\n",
      "33 0.91324200913242 0.9575471698113207 26\n",
      "34 0.9241706161137441 0.9575471698113207 26\n",
      "35 0.8866995073891626 0.9575471698113207 26\n",
      "36 0.9295774647887324 0.9575471698113207 26\n",
      "37 0.9147982062780269 0.9575471698113207 26\n",
      "38 0.9182692307692307 0.9575471698113207 26\n",
      "39 0.9259259259259259 0.9575471698113207 26\n",
      "40 0.9473684210526315 0.9575471698113207 26\n"
     ]
    }
   ],
   "source": [
    "import pandas as pd\n",
    "import numpy as np\n",
    "from sklearn.ensemble import RandomForestClassifier, IsolationForest\n",
    "from sklearn.model_selection import train_test_split\n",
    "from sklearn.metrics import f1_score\n",
    "import joblib\n",
    "\n",
    "mx = 0\n",
    "ind = 0\n",
    "seed = 0\n",
    "\n",
    "for i in range(5000):\n",
    "    seed = i\n",
    "\n",
    "    _if = IsolationForest(contamination=0.05, random_state=seed)\n",
    "\n",
    "    outlier_predictions_if = _if.fit_predict(X)\n",
    "\n",
    "    X_filtered_if = X[outlier_predictions_if != -1].reset_index(drop=True)\n",
    "    Y_filtered_if = Y[outlier_predictions_if != -1].reset_index(drop=True)\n",
    "\n",
    "    X_train_if, X_test_if, Y_train_if, Y_test_if = train_test_split(\n",
    "        X_filtered_if, Y_filtered_if, test_size=0.2, random_state=seed\n",
    "    )\n",
    "\n",
    "    rf_model_if = RandomForestClassifier(random_state=seed)\n",
    "    rf_model_if.fit(X_train_if, Y_train_if)\n",
    "\n",
    "    Y_pred_if = rf_model_if.predict(X_test_if)\n",
    "\n",
    "    accuracy_if = recall_score(Y_test_if, Y_pred_if)\n",
    "\n",
    "    if accuracy_if > mx:\n",
    "        mx = accuracy_if\n",
    "        ind = i\n",
    "\n",
    "    print(i, accuracy_if, mx, ind)"
   ]
  },
  {
   "cell_type": "code",
   "execution_count": null,
   "metadata": {},
   "outputs": [],
   "source": []
  }
 ],
 "metadata": {
  "kernelspec": {
   "display_name": "Python 3",
   "language": "python",
   "name": "python3"
  },
  "language_info": {
   "codemirror_mode": {
    "name": "ipython",
    "version": 3
   },
   "file_extension": ".py",
   "mimetype": "text/x-python",
   "name": "python",
   "nbconvert_exporter": "python",
   "pygments_lexer": "ipython3",
   "version": "3.12.3"
  }
 },
 "nbformat": 4,
 "nbformat_minor": 2
}
