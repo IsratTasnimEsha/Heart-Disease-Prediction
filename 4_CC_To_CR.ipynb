{
 "cells": [
  {
   "cell_type": "code",
   "execution_count": 1,
   "metadata": {},
   "outputs": [],
   "source": [
    "import pandas as pd\n",
    "import random\n",
    "from math import pow\n",
    "from decimal import Decimal\n",
    "import os\n",
    "import pickle\n",
    "import hashlib\n",
    "import shutil\n",
    "os.chdir('Resources/')"
   ]
  },
  {
   "cell_type": "code",
   "execution_count": 2,
   "metadata": {},
   "outputs": [],
   "source": [
    "df = pd.read_csv(\"1_CC_Structured_Data.csv\")"
   ]
  },
  {
   "cell_type": "code",
   "execution_count": 3,
   "metadata": {},
   "outputs": [],
   "source": [
    "cr1_columns = [\"Age\", \"Sex\", \"ChestPainType\", \"RestingBloodPressure\", \"Cholesterol\"]\n",
    "cr2_columns = [\"FastingBloodSugar\", \"RestingECG\", \"MaximumHeartRate\", \"ExerciseAngina\", \"Oldpeak\"]\n",
    "cc_columns = [\"ST_Slope\", \"HeartDisease\"]"
   ]
  },
  {
   "cell_type": "code",
   "execution_count": 4,
   "metadata": {},
   "outputs": [],
   "source": [
    "df[cr1_columns].to_csv(\"4_CR1_Structured_Data_Part.csv\", index=False)\n",
    "df[cr2_columns].to_csv(\"4_CR2_Structured_Data_Part.csv\", index=False)\n",
    "df[cc_columns].to_csv(\"4_CC_Structured_Data_Part.csv\", index=False)"
   ]
  },
  {
   "cell_type": "code",
   "execution_count": 5,
   "metadata": {},
   "outputs": [
    {
     "data": {
      "text/plain": [
       "'4_CR2_Public_Key.pkl'"
      ]
     },
     "execution_count": 5,
     "metadata": {},
     "output_type": "execute_result"
    }
   ],
   "source": [
    "shutil.copy('3_CC_Public_Key.pkl', '4_CR1_Public_Key.pkl')\n",
    "shutil.copy('3_CC_Public_Key.pkl', '4_CR2_Public_Key.pkl')"
   ]
  },
  {
   "cell_type": "code",
   "execution_count": null,
   "metadata": {},
   "outputs": [],
   "source": []
  }
 ],
 "metadata": {
  "kernelspec": {
   "display_name": "Python 3",
   "language": "python",
   "name": "python3"
  },
  "language_info": {
   "codemirror_mode": {
    "name": "ipython",
    "version": 3
   },
   "file_extension": ".py",
   "mimetype": "text/x-python",
   "name": "python",
   "nbconvert_exporter": "python",
   "pygments_lexer": "ipython3",
   "version": "3.12.3"
  }
 },
 "nbformat": 4,
 "nbformat_minor": 2
}
