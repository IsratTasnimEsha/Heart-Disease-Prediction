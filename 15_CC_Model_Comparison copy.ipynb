{
 "cells": [
  {
   "cell_type": "code",
   "execution_count": 3,
   "metadata": {},
   "outputs": [
    {
     "ename": "FileNotFoundError",
     "evalue": "[WinError 2] The system cannot find the file specified: 'Resources/'",
     "output_type": "error",
     "traceback": [
      "\u001b[1;31m---------------------------------------------------------------------------\u001b[0m",
      "\u001b[1;31mFileNotFoundError\u001b[0m                         Traceback (most recent call last)",
      "Cell \u001b[1;32mIn[3], line 7\u001b[0m\n\u001b[0;32m      5\u001b[0m \u001b[38;5;28;01mimport\u001b[39;00m \u001b[38;5;21;01mjoblib\u001b[39;00m\n\u001b[0;32m      6\u001b[0m \u001b[38;5;28;01mimport\u001b[39;00m \u001b[38;5;21;01mos\u001b[39;00m\n\u001b[1;32m----> 7\u001b[0m \u001b[43mos\u001b[49m\u001b[38;5;241;43m.\u001b[39;49m\u001b[43mchdir\u001b[49m\u001b[43m(\u001b[49m\u001b[38;5;124;43m'\u001b[39;49m\u001b[38;5;124;43mResources/\u001b[39;49m\u001b[38;5;124;43m'\u001b[39;49m\u001b[43m)\u001b[49m\n\u001b[0;32m      9\u001b[0m \u001b[38;5;28;01mfrom\u001b[39;00m \u001b[38;5;21;01mcustom_tuple_scaler\u001b[39;00m \u001b[38;5;28;01mimport\u001b[39;00m CustomTupleScaler\n",
      "\u001b[1;31mFileNotFoundError\u001b[0m: [WinError 2] The system cannot find the file specified: 'Resources/'"
     ]
    }
   ],
   "source": [
    "import pandas as pd\n",
    "import numpy as np\n",
    "from sklearn.metrics import f1_score\n",
    "import random\n",
    "import joblib\n",
    "import os\n",
    "os.chdir('Resources/')\n",
    "\n",
    "from custom_tuple_scaler import CustomTupleScaler"
   ]
  },
  {
   "cell_type": "code",
   "execution_count": null,
   "metadata": {},
   "outputs": [
    {
     "name": "stdout",
     "output_type": "stream",
     "text": [
      "\n",
      "--- F1 Score Comparison ---\n",
      "Fold 1: Original Dataset: 95.58%, Encrypted Dataset: 92.03%\n",
      "Fold 2: Original Dataset: 95.83%, Encrypted Dataset: 93.17%\n",
      "Fold 3: Original Dataset: 94.66%, Encrypted Dataset: 92.14%\n",
      "Fold 4: Original Dataset: 96.61%, Encrypted Dataset: 94.17%\n",
      "Fold 5: Original Dataset: 96.35%, Encrypted Dataset: 93.43%\n"
     ]
    }
   ],
   "source": [
    "import pandas as pd\n",
    "import numpy as np\n",
    "from sklearn.preprocessing import StandardScaler, LabelEncoder\n",
    "from sklearn.metrics import f1_score\n",
    "from sklearn.ensemble import RandomForestClassifier\n",
    "import joblib\n",
    "import ast  # To safely parse the list from file\n",
    "\n",
    "# Load data\n",
    "df = pd.read_csv('1_CC_Structured_Data.csv')\n",
    "\n",
    "# Load test row indices\n",
    "with open(\"12_SP_Test_Data_RF_IF.txt\", \"r\") as file:\n",
    "    test_indices_list = ast.literal_eval(file.read().strip())  # Convert string to list safely\n",
    "\n",
    "# Load previously stored F1 scores\n",
    "with open(\"13_CC_F1_Scores_RF_IF.txt\", \"r\") as file:\n",
    "    stored_f1_scores = []\n",
    "    for line in file:\n",
    "        if \"F1-score for fold\" in line:\n",
    "            stored_f1_scores.append(float(line.split(\":\")[1].strip()))\n",
    "\n",
    "# Define categorical columns\n",
    "categorical_cols = [\"Sex\", \"ChestPainType\", \"FastingBloodSugar\", \"RestingECG\", \"ExerciseAngina\", \"ST_Slope\", \"HeartDisease\"]\n",
    "\n",
    "# Encode categorical data\n",
    "label_encoders = {}\n",
    "for col in categorical_cols:\n",
    "    le = LabelEncoder()\n",
    "    df[col] = le.fit_transform(df[col])\n",
    "    label_encoders[col] = le  # Store encoders for future use\n",
    "\n",
    "# Define features and target\n",
    "X = df.drop(columns=[\"HeartDisease\"])  # Features\n",
    "y = df[\"HeartDisease\"]  # Target\n",
    "\n",
    "# Load hyperparameters for the RandomForestClassifier\n",
    "with open(\"13_CC_Hyperparameters.txt\", \"r\") as hp_file:\n",
    "    hyperparameters = {}\n",
    "    for line in hp_file:\n",
    "        if \"RandomForestClassifier\" in line:\n",
    "            params = line.split(\"Hyperparameters:\")[1].strip()\n",
    "            hyperparameters[\"RandomForestClassifier\"] = eval(params)\n",
    "\n",
    "# Extract hyperparameters for RandomForestClassifier\n",
    "rf_params = hyperparameters[\"RandomForestClassifier\"]\n",
    "\n",
    "# Initialize and train the RandomForest model using the same hyperparameters\n",
    "rf_model = RandomForestClassifier(random_state=rf_params[\"random_state\"], n_estimators=rf_params[\"n_estimators\"])\n",
    "\n",
    "# Store calculated F1 scores\n",
    "calculated_f1_scores = []\n",
    "\n",
    "# Iterate over each test dataset\n",
    "for i, test_indices in enumerate(test_indices_list, start=1):\n",
    "    # Ensure test indices are within range\n",
    "    test_indices = [idx for idx in test_indices if idx < len(df)]\n",
    "\n",
    "    # Split into train and test using the extracted indices\n",
    "    df_test = df.iloc[test_indices]\n",
    "\n",
    "    # Separate features and target\n",
    "    X_test, y_test = df_test.drop(columns=[\"HeartDisease\"]), df_test[\"HeartDisease\"]\n",
    "    \n",
    "    # Split into train set excluding current test data\n",
    "    df_train = df.drop(test_indices)\n",
    "    X_train, y_train = df_train.drop(columns=[\"HeartDisease\"]), df_train[\"HeartDisease\"]\n",
    "\n",
    "    # Scale the data using StandardScaler\n",
    "    scaler = StandardScaler()\n",
    "    X_train_scaled = scaler.fit_transform(X_train)  # Fit on the train data\n",
    "    X_test_scaled = scaler.transform(X_test)  # Transform the test data\n",
    "\n",
    "    # Train the RandomForest model\n",
    "    rf_model.fit(X_train_scaled, y_train)\n",
    "\n",
    "    # Predict on the test set\n",
    "    y_pred = rf_model.predict(X_test_scaled)\n",
    "\n",
    "    # Calculate F1-score\n",
    "    f1 = f1_score(y_test, y_pred, average='weighted')  # Weighted for class imbalance\n",
    "    calculated_f1_scores.append(f1 * 100)  # Convert to percentage\n",
    "\n",
    "    # Save the trained model for the current fold\n",
    "    model_path = f'12_SP_Model_RF_IF_{i}.joblib'\n",
    "\n",
    "# Compare stored vs calculated F1 scores\n",
    "print(\"\\n--- F1 Score Comparison ---\")\n",
    "for i in range(5):\n",
    "    print(f\"Fold {i+1}: Original Dataset: {calculated_f1_scores[i]:.2f}%, Encrypted Dataset: {stored_f1_scores[i]:.2f}%\")\n"
   ]
  },
  {
   "cell_type": "code",
   "execution_count": null,
   "metadata": {},
   "outputs": [],
   "source": []
  }
 ],
 "metadata": {
  "kernelspec": {
   "display_name": "Python 3",
   "language": "python",
   "name": "python3"
  },
  "language_info": {
   "codemirror_mode": {
    "name": "ipython",
    "version": 3
   },
   "file_extension": ".py",
   "mimetype": "text/x-python",
   "name": "python",
   "nbconvert_exporter": "python",
   "pygments_lexer": "ipython3",
   "version": "3.12.3"
  }
 },
 "nbformat": 4,
 "nbformat_minor": 2
}
