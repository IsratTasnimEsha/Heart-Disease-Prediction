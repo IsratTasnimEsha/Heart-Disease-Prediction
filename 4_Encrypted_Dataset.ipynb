{
 "cells": [
  {
   "cell_type": "code",
   "execution_count": 1,
   "metadata": {},
   "outputs": [],
   "source": [
    "import pandas as pd\n",
    "import random\n",
    "from math import pow\n",
    "from decimal import Decimal\n",
    "import os\n",
    "import pickle\n",
    "os.chdir('Resources/')"
   ]
  },
  {
   "cell_type": "code",
   "execution_count": 2,
   "metadata": {},
   "outputs": [],
   "source": [
    "public_key_file_path = '3_Public_Key.pkl'\n",
    "\n",
    "with open(public_key_file_path, 'rb') as public_key_file:\n",
    "    column_keys = pickle.load(public_key_file)"
   ]
  },
  {
   "cell_type": "code",
   "execution_count": 3,
   "metadata": {},
   "outputs": [],
   "source": [
    "def power(a, b, c):\n",
    "    x = 1\n",
    "    y = a\n",
    "    while b > 0:\n",
    "        if b % 2 != 0:\n",
    "            x = (x * y) % c\n",
    "        y = (y * y) % c\n",
    "        b = int(b / 2)\n",
    "    return x % c"
   ]
  },
  {
   "cell_type": "code",
   "execution_count": 4,
   "metadata": {},
   "outputs": [],
   "source": [
    "def encrypt(value, q, h, g, fixed_key):\n",
    "    s = power(h, fixed_key, q)\n",
    "    p = power(g, fixed_key, q)\n",
    "    return s * value, p"
   ]
  },
  {
   "cell_type": "code",
   "execution_count": 5,
   "metadata": {},
   "outputs": [],
   "source": [
    "df = pd.read_csv('1_Structured_Data.csv')\n",
    "X = df.drop(['HeartDisease'], axis='columns')\n",
    "Y = df[['HeartDisease']]"
   ]
  },
  {
   "cell_type": "code",
   "execution_count": 6,
   "metadata": {},
   "outputs": [],
   "source": [
    "encrypted_X = X.copy()\n",
    "for column in X.columns:\n",
    "    q, h, g, fixed_key = colum\n",
    "    n_keys[column]\n",
    "    encrypted_values = []\n",
    "    for value in X[column]:\n",
    "        if isinstance(value, str):\n",
    "            numeric_value = sum(ord(char) for char in value)\n",
    "            encrypted_value, _ = encrypt(numeric_value, q, h, g, fixed_key)\n",
    "        else:\n",
    "            encrypted_value, _ = encrypt(float(value), q, h, g, fixed_key)\n",
    "        encrypted_values.append(encrypted_value % 999999999)\n",
    "    encrypted_X[column] = encrypted_values"
   ]
  },
  {
   "cell_type": "code",
   "execution_count": 7,
   "metadata": {},
   "outputs": [
    {
     "data": {
      "text/plain": [
       "Age                     933579027.0\n",
       "Sex                     792366684.0\n",
       "ChestPainType           179941807.0\n",
       "RestingBloodPressure    960088105.0\n",
       "Cholesterol             170441534.0\n",
       "FastingBloodSugar       102746448.0\n",
       "RestingECG               62046250.0\n",
       "MaximumHeartRate        950239232.0\n",
       "ExerciseAngina          592084377.0\n",
       "Oldpeak                 108681802.0\n",
       "ST_Slope                524890275.0\n",
       "Name: 1, dtype: float64"
      ]
     },
     "execution_count": 7,
     "metadata": {},
     "output_type": "execute_result"
    }
   ],
   "source": [
    "encrypted_X.loc[1]"
   ]
  },
  {
   "cell_type": "code",
   "execution_count": 8,
   "metadata": {},
   "outputs": [
    {
     "name": "stderr",
     "output_type": "stream",
     "text": [
      "C:\\Users\\USER\\AppData\\Local\\Temp\\ipykernel_3156\\2653026528.py:1: FutureWarning: Downcasting behavior in `replace` is deprecated and will be removed in a future version. To retain the old behavior, explicitly call `result.infer_objects(copy=False)`. To opt-in to the future behavior, set `pd.set_option('future.no_silent_downcasting', True)`\n",
      "  Y['HeartDisease'] = Y['HeartDisease'].replace({'No': 0, 'Yes': 1})\n",
      "C:\\Users\\USER\\AppData\\Local\\Temp\\ipykernel_3156\\2653026528.py:1: SettingWithCopyWarning: \n",
      "A value is trying to be set on a copy of a slice from a DataFrame.\n",
      "Try using .loc[row_indexer,col_indexer] = value instead\n",
      "\n",
      "See the caveats in the documentation: https://pandas.pydata.org/pandas-docs/stable/user_guide/indexing.html#returning-a-view-versus-a-copy\n",
      "  Y['HeartDisease'] = Y['HeartDisease'].replace({'No': 0, 'Yes': 1})\n"
     ]
    }
   ],
   "source": [
    "Y['HeartDisease'] = Y['HeartDisease'].replace({'No': 0, 'Yes': 1})"
   ]
  },
  {
   "cell_type": "code",
   "execution_count": 9,
   "metadata": {},
   "outputs": [],
   "source": [
    "encrypted_df = pd.concat([encrypted_X, Y], axis=1)\n",
    "encrypted_df.to_csv('4_Encrypted_Data.csv', index=False)"
   ]
  }
 ],
 "metadata": {
  "kernelspec": {
   "display_name": "base",
   "language": "python",
   "name": "python3"
  },
  "language_info": {
   "codemirror_mode": {
    "name": "ipython",
    "version": 3
   },
   "file_extension": ".py",
   "mimetype": "text/x-python",
   "name": "python",
   "nbconvert_exporter": "python",
   "pygments_lexer": "ipython3",
   "version": "3.11.5"
  }
 },
 "nbformat": 4,
 "nbformat_minor": 2
}
