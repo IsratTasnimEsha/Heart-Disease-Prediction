{
 "cells": [
  {
   "cell_type": "code",
   "execution_count": 1,
   "metadata": {},
   "outputs": [],
   "source": [
    "import pandas as pd\n",
    "import numpy as np\n",
    "import random\n",
    "from math import pow\n",
    "from decimal import Decimal\n",
    "import os\n",
    "import pickle\n",
    "import hashlib\n",
    "os.chdir('Resources/')"
   ]
  },
  {
   "cell_type": "code",
   "execution_count": 2,
   "metadata": {},
   "outputs": [],
   "source": [
    "def gcd(a, b):\n",
    "    if a < b:\n",
    "        return gcd(b, a)\n",
    "    elif a % b == 0:\n",
    "        return b\n",
    "    else:\n",
    "        return gcd(b, a % b)"
   ]
  },
  {
   "cell_type": "code",
   "execution_count": 3,
   "metadata": {},
   "outputs": [],
   "source": [
    "def gen_key(q):\n",
    "    key = random.randint(10**20, q)  # Ensure q is an integer\n",
    "    while gcd(q, key) != 1:\n",
    "        key = random.randint(10**20, q)\n",
    "    return key"
   ]
  },
  {
   "cell_type": "code",
   "execution_count": 4,
   "metadata": {},
   "outputs": [],
   "source": [
    "def power(a, b, c):\n",
    "    x = 1\n",
    "    y = a\n",
    "    while b > 0:\n",
    "        if b % 2 != 0:\n",
    "            x = (x * y) % c\n",
    "        y = (y * y) % c\n",
    "        b = int(b / 2)\n",
    "    return x % c"
   ]
  },
  {
   "cell_type": "code",
   "execution_count": 5,
   "metadata": {},
   "outputs": [],
   "source": [
    "def encrypt(msg, q, h, g):\n",
    "    en_msg = []\n",
    "    k = gen_key(q)  # Private key for sender\n",
    "    s = power(h, k, q)\n",
    "    p = power(g, k, q)\n",
    "    \n",
    "    for i in range(0, len(msg)):\n",
    "        en_msg.append(s * msg[i])  # Encrypt each element\n",
    "    \n",
    "    return en_msg, p"
   ]
  },
  {
   "cell_type": "code",
   "execution_count": 6,
   "metadata": {},
   "outputs": [],
   "source": [
    "df = pd.read_csv('1_Structured_Data.csv')"
   ]
  },
  {
   "cell_type": "code",
   "execution_count": 7,
   "metadata": {},
   "outputs": [],
   "source": [
    "with open('3_Public_Key.pkl', 'rb') as f_public:\n",
    "    public_key_data = pickle.load(f_public)\n",
    "\n",
    "q = public_key_data['q']\n",
    "g = public_key_data['g']\n",
    "public_keys = public_key_data['public_keys']"
   ]
  },
  {
   "cell_type": "code",
   "execution_count": 8,
   "metadata": {},
   "outputs": [
    {
     "name": "stderr",
     "output_type": "stream",
     "text": [
      "C:\\Users\\USER\\AppData\\Local\\Temp\\ipykernel_29736\\1187081150.py:8: FutureWarning: factorize with argument that is not not a Series, Index, ExtensionArray, or np.ndarray is deprecated and will raise in a future version.\n",
      "  encoded_values = pd.factorize(attribute_values)[0]\n"
     ]
    },
    {
     "name": "stdout",
     "output_type": "stream",
     "text": [
      "Attribute 1 - Public Key (h): 23552891995090420724187286843139817579833478694649\n",
      "Attribute 1 - Encrypted Values: [0, 2739517856553132910837996140463046561002056734878, 39510270724339184611942373211510368028762413962616, 30153819039220166170859756664645242600592368382015, 89025378926634369487741991864382450663067295358520, 27009969016977830379703429125081957054286198873865, 106404936516320346399971115050053487028013580638566, 89025378926634369487741991864382450663067295358520, 39510270724339184611942373211510368028762413962616, 30153819039220166170859756664645242600592368382015]\n",
      "Attribute 2 - Public Key (h): 22092398618004232775598353971487435627163773167424\n",
      "Attribute 2 - Encrypted Values: [0, 5855621056848202200152943217350522901513916747947, 0, 5855621056848202200152943217350522901513916747947, 0, 0, 5855621056848202200152943217350522901513916747947, 0, 0, 5855621056848202200152943217350522901513916747947]\n",
      "Attribute 3 - Public Key (h): 22985883276704406025078901378249389342430389108000\n",
      "Attribute 3 - Encrypted Values: [0, 24375452410450166792669252933228788653107662730047, 0, 29869604890351470793236150350590655462363571810440, 24375452410450166792669252933228788653107662730047, 24375452410450166792669252933228788653107662730047, 0, 0, 29869604890351470793236150350590655462363571810440, 0]\n",
      "Attribute 4 - Public Key (h): 18829873619362624247272445544440984319595603218463\n",
      "Attribute 4 - Encrypted Values: [0, 10796147439164303588574574217655404663178253689946, 35036578953575807639605935729505380508848515515832, 59905290794414840638674359747486052617787471104775, 54759134739359868614301905789289841010856719828020, 1591214933777044293961798203529848290153829382730, 35036578953575807639605935729505380508848515515832, 98285338406057642278354487076193954207573562386968, 0, 1591214933777044293961798203529848290153829382730]\n",
      "Attribute 5 - Public Key (h): 17228203175734476111615928336569184982785310101723\n",
      "Attribute 5 - Encrypted Values: [0, 235401055051756973300637270984945453108665663101, 45880080491149765175334145947458970881946862370186, 58692325560388305095823053053146853637087732385570, 9600691522698155411149937690938190741403235282276, 82248537471186266047988072775224743898858849943965, 118953496763447504553000431845667263372878271382352, 71066610048070225141488489975747628742067665231719, 179119417798819712228868819460233981901254340819304, 11310994219897617740428198857079331400287019961032]\n",
      "Attribute 6 - Public Key (h): 5920766838305989874018136989703226626374970099946\n",
      "Attribute 6 - Encrypted Values: [0, 0, 0, 0, 0, 0, 0, 0, 0, 0]\n",
      "Attribute 7 - Public Key (h): 9659648310620529119303290876498393858744146539740\n",
      "Attribute 7 - Encrypted Values: [0, 0, 21073205693957910047822545480854529273992816131431, 0, 0, 0, 0, 0, 0, 0]\n",
      "Attribute 8 - Public Key (h): 16505100413920753040098552751162868800387013699785\n",
      "Attribute 8 - Encrypted Values: [0, 11635003896368283907423326667695950434027747779424, 35283957276453427581852623736920178412464032810360, 69839806005163772999334820884123146152346389806081, 32333016257266550047056673512503524661715611347148, 114757279322843090260157648255348443461837078862550, 114757279322843090260157648255348443461837078862550, 14482378003665262943093684006239075114263325405050, 47620046857158853666015933638004486883040992511788, 30242948603421001450579801202398434264578487047576]\n",
      "Attribute 9 - Public Key (h): 17568631833385981104717783850742193982628001113264\n",
      "Attribute 9 - Encrypted Values: [0, 0, 0, 15677726626594143600421409827860785078472586818784, 0, 0, 0, 0, 15677726626594143600421409827860785078472586818784, 0]\n",
      "Attribute 10 - Public Key (h): 8730094821028033341333288222070705943038717434502\n",
      "Attribute 10 - Encrypted Values: [0, 17312936628092637115576800779125007557324524910636, 0, 10685171141557275465010066090475260492735973054522, 0, 0, 0, 0, 10685171141557275465010066090475260492735973054522, 0]\n",
      "Attribute 11 - Public Key (h): 498249717462085804633259685414553102012000414508\n",
      "Attribute 11 - Encrypted Values: [0, 3014189590008081827318830704138344439007056773399, 0, 3014189590008081827318830704138344439007056773399, 0, 0, 0, 0, 3014189590008081827318830704138344439007056773399, 0]\n"
     ]
    }
   ],
   "source": [
    "encrypted_values_list = []\n",
    "p_list = []\n",
    "\n",
    "for i in range(11):\n",
    "    attribute_values = df.iloc[:, i].tolist()\n",
    "\n",
    "    # Factorize and handle missing values (None)\n",
    "    encoded_values = pd.factorize(attribute_values)[0]\n",
    "    encoded_values = [None if val == -1 else val for val in encoded_values]\n",
    "\n",
    "    # Maintain a dictionary for deterministic encryption within the same attribute\n",
    "    value_to_encrypted = {}\n",
    "    value_to_p = {}\n",
    "\n",
    "    encrypted_values = []\n",
    "    p_values = []\n",
    "\n",
    "    for val in encoded_values:\n",
    "        if val is not None:  # Process only valid values\n",
    "            if val not in value_to_encrypted:  # Encrypt if not already encrypted\n",
    "                encrypted_result, p = encrypt([val], q, public_keys[i], g)\n",
    "                value_to_encrypted[val] = encrypted_result[0]\n",
    "                value_to_p[val] = p\n",
    "\n",
    "            encrypted_values.append(value_to_encrypted[val])\n",
    "            p_values.append(value_to_p[val])\n",
    "        else:\n",
    "            encrypted_values.append(None)  # Retain None values\n",
    "            p_values.append(None)\n",
    "\n",
    "    encrypted_values_list.append(encrypted_values)\n",
    "    p_list.append(p_values)\n",
    "\n",
    "    # Debug output\n",
    "    print(f\"Attribute {i+1} - Public Key (h): {public_keys[i]}\")\n",
    "    print(f\"Attribute {i+1} - Encrypted Values:\", encrypted_values[:10])\n",
    "\n",
    "# Create DataFrame from encrypted values\n",
    "encrypted_df = pd.DataFrame(encrypted_values_list).T\n",
    "encrypted_df.columns = df.columns[:11]\n"
   ]
  },
  {
   "cell_type": "code",
   "execution_count": 9,
   "metadata": {},
   "outputs": [
    {
     "name": "stderr",
     "output_type": "stream",
     "text": [
      "C:\\Users\\USER\\AppData\\Local\\Temp\\ipykernel_29736\\3805717430.py:1: FutureWarning: Downcasting behavior in `replace` is deprecated and will be removed in a future version. To retain the old behavior, explicitly call `result.infer_objects(copy=False)`. To opt-in to the future behavior, set `pd.set_option('future.no_silent_downcasting', True)`\n",
      "  df['HeartDisease'] = df['HeartDisease'].replace({'Yes': 1, 'No': 0})\n"
     ]
    }
   ],
   "source": [
    "df['HeartDisease'] = df['HeartDisease'].replace({'Yes': 1, 'No': 0})\n",
    "combined_df = pd.concat([encrypted_df, df['HeartDisease']], axis=1)\n",
    "combined_df.to_csv('4_Encrypted_Data.csv', index=False)"
   ]
  },
  {
   "cell_type": "code",
   "execution_count": 10,
   "metadata": {},
   "outputs": [],
   "source": [
    "with open('4_Encrypted_Values_and_P.pkl', 'wb') as f_encrypted:\n",
    "    pickle.dump({'encrypted_values_list': encrypted_values_list, 'p_list': p_list}, f_encrypted)"
   ]
  },
  {
   "cell_type": "code",
   "execution_count": null,
   "metadata": {},
   "outputs": [],
   "source": []
  }
 ],
 "metadata": {
  "kernelspec": {
   "display_name": "Python 3",
   "language": "python",
   "name": "python3"
  },
  "language_info": {
   "codemirror_mode": {
    "name": "ipython",
    "version": 3
   },
   "file_extension": ".py",
   "mimetype": "text/x-python",
   "name": "python",
   "nbconvert_exporter": "python",
   "pygments_lexer": "ipython3",
   "version": "3.12.3"
  }
 },
 "nbformat": 4,
 "nbformat_minor": 2
}
