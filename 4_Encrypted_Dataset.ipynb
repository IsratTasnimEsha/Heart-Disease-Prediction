{
 "cells": [
  {
   "cell_type": "code",
   "execution_count": 1,
   "metadata": {},
   "outputs": [],
   "source": [
    "import pandas as pd\n",
    "import numpy as np\n",
    "import random\n",
    "from math import pow\n",
    "from decimal import Decimal\n",
    "import os\n",
    "import pickle\n",
    "import hashlib\n",
    "os.chdir('Resources/')"
   ]
  },
  {
   "cell_type": "code",
   "execution_count": 2,
   "metadata": {},
   "outputs": [],
   "source": [
    "def gcd(a, b):\n",
    "    if a < b:\n",
    "        return gcd(b, a)\n",
    "    elif a % b == 0:\n",
    "        return b\n",
    "    else:\n",
    "        return gcd(b, a % b)"
   ]
  },
  {
   "cell_type": "code",
   "execution_count": 3,
   "metadata": {},
   "outputs": [],
   "source": [
    "def gen_key(q):\n",
    "    key = random.randint(10**20, q)  # Ensure q is an integer\n",
    "    while gcd(q, key) != 1:\n",
    "        key = random.randint(10**20, q)\n",
    "    return key"
   ]
  },
  {
   "cell_type": "code",
   "execution_count": 4,
   "metadata": {},
   "outputs": [],
   "source": [
    "def power(a, b, c):\n",
    "    x = 1\n",
    "    y = a\n",
    "    while b > 0:\n",
    "        if b % 2 != 0:\n",
    "            x = (x * y) % c\n",
    "        y = (y * y) % c\n",
    "        b = int(b / 2)\n",
    "    return x % c"
   ]
  },
  {
   "cell_type": "code",
   "execution_count": null,
   "metadata": {},
   "outputs": [],
   "source": [
    "def encrypt(msg, q, h, g):\n",
    "    en_msg = []\n",
    "    k = gen_key(q)  # Private key for sender\n",
    "    s = power(h, k, q)\n",
    "    p = power(g, k, q)\n",
    "    \n",
    "    for i in range(0, len(msg)):\n",
    "        en_msg.append(s * msg[i])  # Encrypt each element\n",
    "    \n",
    "    return en_msg, p"
   ]
  },
  {
   "cell_type": "code",
   "execution_count": 6,
   "metadata": {},
   "outputs": [],
   "source": [
    "df = pd.read_csv('1_Structured_Data.csv')"
   ]
  },
  {
   "cell_type": "code",
   "execution_count": 7,
   "metadata": {},
   "outputs": [],
   "source": [
    "with open('3_Public_Key.pkl', 'rb') as f_public:\n",
    "    public_key_data = pickle.load(f_public)\n",
    "\n",
    "q = public_key_data['q']\n",
    "g = public_key_data['g']\n",
    "public_keys = public_key_data['public_keys']"
   ]
  },
  {
   "cell_type": "code",
   "execution_count": 8,
   "metadata": {},
   "outputs": [
    {
     "name": "stderr",
     "output_type": "stream",
     "text": [
      "C:\\Users\\USER\\AppData\\Local\\Temp\\ipykernel_4616\\1187081150.py:8: FutureWarning: factorize with argument that is not not a Series, Index, ExtensionArray, or np.ndarray is deprecated and will raise in a future version.\n",
      "  encoded_values = pd.factorize(attribute_values)[0]\n"
     ]
    },
    {
     "name": "stdout",
     "output_type": "stream",
     "text": [
      "Attribute 1 - Public Key (h): 1042016265484613204028080355066285368559887720363\n",
      "Attribute 1 - Encrypted Values: [0, 5086600012490731442943930571085139155474036451295, 5207383839504054707363518626041174678109639052454, 7627115353597159256912609008269949662070481573805, 17531699370909507068407927260739537185473745991116, 30562508776055667191160869995759161807348436562815, 55063456334314987424963129158875172019883819437442, 17531699370909507068407927260739537185473745991116, 5207383839504054707363518626041174678109639052454, 7627115353597159256912609008269949662070481573805]\n",
      "Attribute 2 - Public Key (h): 7279734963124952722665336995010195927456722704469\n",
      "Attribute 2 - Encrypted Values: [0, 7071071391752259975941988339317745999154049513885, 0, 7071071391752259975941988339317745999154049513885, 0, 0, 7071071391752259975941988339317745999154049513885, 0, 0, 7071071391752259975941988339317745999154049513885]\n",
      "Attribute 3 - Public Key (h): 5931716208391435207564961074241222946251477815475\n",
      "Attribute 3 - Encrypted Values: [0, 3693394287169285625561633551529311552288291726451, 0, 12623492300744115413659614053566010516768440881098, 3693394287169285625561633551529311552288291726451, 3693394287169285625561633551529311552288291726451, 0, 0, 12623492300744115413659614053566010516768440881098, 0]\n",
      "Attribute 4 - Public Key (h): 7709222260027825191606917828034453744984397715945\n",
      "Attribute 4 - Encrypted Values: [0, 5175914769706139133326819730605926829869476645925, 16490443314420217850751780735024283284479588779230, 28213549481778011169124119223807518757126178613213, 35333999031472326404539092891665477578409824478940, 30725158960577548601775069819702855998805137466745, 16490443314420217850751780735024283284479588779230, 47095743053689723756517099915783036651709223501206, 0, 30725158960577548601775069819702855998805137466745]\n",
      "Attribute 5 - Public Key (h): 6199169848042493901187157976627634790798394762201\n",
      "Attribute 5 - Encrypted Values: [0, 3654457158519509432647054985887688144984129579195, 16838547801472405199751585986501041640522012009694, 27459267997512635207738458353032520909012479074335, 23431440644264762181684319037456674341209863552236, 14028259810983463774655494537958114228255677270055, 34582534627932718858721903346879919874540068118814, 48556897058018410731252964562287700592584172433105, 687616140572970222230777389276155003514706226744, 17129124719148916189302424179764995729829708680941]\n",
      "Attribute 6 - Public Key (h): 5450000225405192890355654742069352914650224792159\n",
      "Attribute 6 - Encrypted Values: [0, 0, 0, 0, 0, 0, 0, 0, 0, 0]\n",
      "Attribute 7 - Public Key (h): 9297183944819844405286654520849593436974478638709\n",
      "Attribute 7 - Encrypted Values: [0, 0, 9621738090568275869477687555969033527922969576409, 0, 0, 0, 0, 0, 0, 0]\n",
      "Attribute 8 - Public Key (h): 4732932511921364331458490990938742906142569809137\n",
      "Attribute 8 - Encrypted Values: [0, 7749924548760520972601492349689704999702817857625, 5019699940053996939423747539058325707711149753650, 7782102217293024951967561736137719425429878600059, 12756645962094468340251451332969165452008583294828, 1330306472766003986533025812646516795159889395585, 1330306472766003986533025812646516795159889395585, 45928376305659656216413519000798016300679457870398, 4253510422977314377077284243313502266007476083857, 19563482176262873909979161562766214037452014498600]\n",
      "Attribute 9 - Public Key (h): 4533318052278614945060719226297701814873550366695\n",
      "Attribute 9 - Encrypted Values: [0, 0, 0, 6101113734445077839558897487645777814803709760017, 0, 0, 0, 0, 6101113734445077839558897487645777814803709760017, 0]\n",
      "Attribute 10 - Public Key (h): 662901203129762713093515641050016582487181971089\n",
      "Attribute 10 - Encrypted Values: [0, 245038893928629602155269405840782131126479212815, 0, 2815023479410418188148879593211075002888681951058, 0, 0, 0, 0, 2815023479410418188148879593211075002888681951058, 0]\n",
      "Attribute 11 - Public Key (h): 2424276319265860724540183508092545245644142887945\n",
      "Attribute 11 - Encrypted Values: [0, 5526331184158574830305657681120936352210552536047, 0, 5526331184158574830305657681120936352210552536047, 0, 0, 0, 0, 5526331184158574830305657681120936352210552536047, 0]\n"
     ]
    }
   ],
   "source": [
    "encrypted_values_list = []\n",
    "p_list = []\n",
    "\n",
    "for i in range(11):\n",
    "    attribute_values = df.iloc[:, i].tolist()\n",
    "\n",
    "    # Factorize and handle missing values (None)\n",
    "    encoded_values = pd.factorize(attribute_values)[0]\n",
    "    encoded_values = [None if val == -1 else val for val in encoded_values]\n",
    "\n",
    "    # Maintain a dictionary for deterministic encryption within the same attribute\n",
    "    value_to_encrypted = {}\n",
    "    value_to_p = {}\n",
    "\n",
    "    encrypted_values = []\n",
    "    p_values = []\n",
    "\n",
    "    for val in encoded_values:\n",
    "        if val is not None:  # Process only valid values\n",
    "            if val not in value_to_encrypted:  # Encrypt if not already encrypted\n",
    "                encrypted_result, p = encrypt([val], q, public_keys[i], g)\n",
    "                value_to_encrypted[val] = encrypted_result[0]\n",
    "                value_to_p[val] = p\n",
    "\n",
    "            encrypted_values.append(value_to_encrypted[val])\n",
    "            p_values.append(value_to_p[val])\n",
    "        else:\n",
    "            encrypted_values.append(None)  # Retain None values\n",
    "            p_values.append(None)\n",
    "\n",
    "    encrypted_values_list.append(encrypted_values)\n",
    "    p_list.append(p_values)\n",
    "\n",
    "    # Debug output\n",
    "    print(f\"Attribute {i+1} - Public Key (h): {public_keys[i]}\")\n",
    "    print(f\"Attribute {i+1} - Encrypted Values:\", encrypted_values[:10])\n",
    "\n",
    "# Create DataFrame from encrypted values\n",
    "encrypted_df = pd.DataFrame(encrypted_values_list).T\n",
    "encrypted_df.columns = df.columns[:11]\n"
   ]
  },
  {
   "cell_type": "code",
   "execution_count": 9,
   "metadata": {},
   "outputs": [
    {
     "name": "stderr",
     "output_type": "stream",
     "text": [
      "C:\\Users\\USER\\AppData\\Local\\Temp\\ipykernel_4616\\3805717430.py:1: FutureWarning: Downcasting behavior in `replace` is deprecated and will be removed in a future version. To retain the old behavior, explicitly call `result.infer_objects(copy=False)`. To opt-in to the future behavior, set `pd.set_option('future.no_silent_downcasting', True)`\n",
      "  df['HeartDisease'] = df['HeartDisease'].replace({'Yes': 1, 'No': 0})\n"
     ]
    }
   ],
   "source": [
    "df['HeartDisease'] = df['HeartDisease'].replace({'Yes': 1, 'No': 0})\n",
    "combined_df = pd.concat([encrypted_df, df['HeartDisease']], axis=1)\n",
    "combined_df.to_csv('4_Encrypted_Data.csv', index=False)"
   ]
  },
  {
   "cell_type": "code",
   "execution_count": 10,
   "metadata": {},
   "outputs": [],
   "source": [
    "with open('4_Encrypted_Values_and_P.pkl', 'wb') as f_encrypted:\n",
    "    pickle.dump({'encrypted_values_list': encrypted_values_list, 'p_list': p_list}, f_encrypted)"
   ]
  },
  {
   "cell_type": "code",
   "execution_count": null,
   "metadata": {},
   "outputs": [],
   "source": []
  }
 ],
 "metadata": {
  "kernelspec": {
   "display_name": "Python 3",
   "language": "python",
   "name": "python3"
  },
  "language_info": {
   "codemirror_mode": {
    "name": "ipython",
    "version": 3
   },
   "file_extension": ".py",
   "mimetype": "text/x-python",
   "name": "python",
   "nbconvert_exporter": "python",
   "pygments_lexer": "ipython3",
   "version": "3.12.3"
  }
 },
 "nbformat": 4,
 "nbformat_minor": 2
}
