{
 "cells": [
  {
   "cell_type": "code",
   "execution_count": 1,
   "metadata": {},
   "outputs": [],
   "source": [
    "import ipywidgets as widgets\n",
    "from IPython.display import display\n",
    "import pandas as pd\n",
    "import hashlib\n",
    "import random\n",
    "import os\n",
    "import pickle\n",
    "import joblib\n",
    "os.chdir('Resources/')"
   ]
  },
  {
   "cell_type": "code",
   "execution_count": 2,
   "metadata": {},
   "outputs": [],
   "source": [
    "with open('3_Public_Key.pkl', 'rb') as f_public:\n",
    "    public_key_data = pickle.load(f_public)\n",
    "\n",
    "q = public_key_data['q']\n",
    "g = public_key_data['g']\n",
    "public_keys = public_key_data['public_keys']"
   ]
  },
  {
   "cell_type": "code",
   "execution_count": 3,
   "metadata": {},
   "outputs": [],
   "source": [
    "model = joblib.load('9_RF_Isolation_Model.joblib')\n",
    "scaler = joblib.load('6_scaler.joblib')"
   ]
  },
  {
   "cell_type": "code",
   "execution_count": 4,
   "metadata": {},
   "outputs": [],
   "source": [
    "def power(a, b, c):\n",
    "    x = 1\n",
    "    y = a\n",
    "    while b > 0:\n",
    "        if b % 2 != 0:\n",
    "            x = (x * y) % c\n",
    "        y = (y * y) % c\n",
    "        b = int(b / 2)\n",
    "    return x % c"
   ]
  },
  {
   "cell_type": "code",
   "execution_count": 5,
   "metadata": {},
   "outputs": [],
   "source": [
    "def encrypt(msg, q, h, g):\n",
    "    en_msg = []\n",
    "    k = gen_key(q)  # Private key for sender\n",
    "    s = power(h, k, q)\n",
    "    p = power(g, k, q)\n",
    "    \n",
    "    for i in range(0, len(msg)):\n",
    "        en_msg.append(s * msg[i])  # Encrypt each element\n",
    "    \n",
    "    return en_msg, p"
   ]
  },
  {
   "cell_type": "code",
   "execution_count": 8,
   "metadata": {},
   "outputs": [],
   "source": [
    "def save_button_clicked(button):\n",
    "    X_new_s = {\n",
    "        'Age': int(age_widget.value),\n",
    "        'Sex': sex_widget.value,\n",
    "        'ChestPainType': chest_pain_type_widget.value,\n",
    "        'RestingBloodPressure': int(resting_blood_pressure_widget.value),\n",
    "        'Cholesterol': int(cholesterol_widget.value),\n",
    "        'FastingBloodSugar': fasting_blood_sugar_widget.value,\n",
    "        'RestingECG': resting_ecg_widget.value,\n",
    "        'MaximumHeartRate': int(max_heart_rate_widget.value),\n",
    "        'ExerciseAngina': exercise_angina_widget.value,\n",
    "        'Oldpeak': float(oldpeak_widget.value),\n",
    "        'ST_Slope': st_slope_widget.value\n",
    "    }\n",
    "\n",
    "    encrypted_row = {}\n",
    "    for column, value in X_new_s.items():\n",
    "        q, h, g = column_keys[column]\n",
    "        if isinstance(value, str):\n",
    "            numeric_value = sum(ord(char) for char in value)\n",
    "            encrypted_value, _ = encrypt(numeric_value, q, h, g, fixed_key)\n",
    "        else:\n",
    "            encrypted_value, _ = encrypt(float(value), q, h, g, fixed_key)\n",
    "        encrypted_row[column] = encrypted_value\n",
    "\n",
    "    encrypted_df_s = pd.DataFrame([encrypted_row])\n",
    "\n",
    "    X_new_scaled_s = scaler.transform(encrypted_df_s)\n",
    "\n",
    "    pred_new_s = model.predict(X_new_scaled_s)\n",
    "\n",
    "    output_widget.clear_output()\n",
    "    with output_widget:\n",
    "        if pred_new_s[0] == 0:\n",
    "            print(\"Heart Disease: No\")\n",
    "        else:\n",
    "            print(\"Heart Disease: Yes\")"
   ]
  },
  {
   "cell_type": "code",
   "execution_count": 9,
   "metadata": {},
   "outputs": [
    {
     "data": {
      "application/vnd.jupyter.widget-view+json": {
       "model_id": "01d4989021bc40c381a9ce41b5222d79",
       "version_major": 2,
       "version_minor": 0
      },
      "text/plain": [
       "Text(value='', description='Age:')"
      ]
     },
     "metadata": {},
     "output_type": "display_data"
    },
    {
     "data": {
      "application/vnd.jupyter.widget-view+json": {
       "model_id": "6a7135929e5e466da680530b2d6ac2dd",
       "version_major": 2,
       "version_minor": 0
      },
      "text/plain": [
       "Dropdown(description='Sex:', options=('Female', 'Male'), value='Female')"
      ]
     },
     "metadata": {},
     "output_type": "display_data"
    },
    {
     "data": {
      "application/vnd.jupyter.widget-view+json": {
       "model_id": "64eb0bd87d5840cd96cdeb911774260f",
       "version_major": 2,
       "version_minor": 0
      },
      "text/plain": [
       "Dropdown(description='ChestPainType:', options=('Typical Angina', 'Atypical Angina', 'Non-anginal Pain', 'Asym…"
      ]
     },
     "metadata": {},
     "output_type": "display_data"
    },
    {
     "data": {
      "application/vnd.jupyter.widget-view+json": {
       "model_id": "ff4ddb867746469a8974e40e1b850b6b",
       "version_major": 2,
       "version_minor": 0
      },
      "text/plain": [
       "Text(value='', description='RestingBloodPressure:')"
      ]
     },
     "metadata": {},
     "output_type": "display_data"
    },
    {
     "data": {
      "application/vnd.jupyter.widget-view+json": {
       "model_id": "a6af08e262074068aa780728da1c1090",
       "version_major": 2,
       "version_minor": 0
      },
      "text/plain": [
       "Text(value='', description='Cholesterol:')"
      ]
     },
     "metadata": {},
     "output_type": "display_data"
    },
    {
     "data": {
      "application/vnd.jupyter.widget-view+json": {
       "model_id": "e49f1086dc4e4dce9a947f3300eb356b",
       "version_major": 2,
       "version_minor": 0
      },
      "text/plain": [
       "Dropdown(description='FastingBloodSugar:', options=('No', 'Yes'), value='No')"
      ]
     },
     "metadata": {},
     "output_type": "display_data"
    },
    {
     "data": {
      "application/vnd.jupyter.widget-view+json": {
       "model_id": "72b7ed6473b44cb0ad6695a69d73d465",
       "version_major": 2,
       "version_minor": 0
      },
      "text/plain": [
       "Dropdown(description='RestingECG:', options=('Normal', 'Abnormal ST-T Wave', 'Left Ventricular Hypertrophy'), …"
      ]
     },
     "metadata": {},
     "output_type": "display_data"
    },
    {
     "data": {
      "application/vnd.jupyter.widget-view+json": {
       "model_id": "3eb8dda8d60f4c3085e651addcd14109",
       "version_major": 2,
       "version_minor": 0
      },
      "text/plain": [
       "Text(value='', description='MaximumHeartRate:')"
      ]
     },
     "metadata": {},
     "output_type": "display_data"
    },
    {
     "data": {
      "application/vnd.jupyter.widget-view+json": {
       "model_id": "3a2903c02f46478181542fcd9ee6d688",
       "version_major": 2,
       "version_minor": 0
      },
      "text/plain": [
       "Dropdown(description='ExerciseAngina:', options=('No', 'Yes'), value='No')"
      ]
     },
     "metadata": {},
     "output_type": "display_data"
    },
    {
     "data": {
      "application/vnd.jupyter.widget-view+json": {
       "model_id": "88eaa08223614786ad36230e6a8b8de0",
       "version_major": 2,
       "version_minor": 0
      },
      "text/plain": [
       "Text(value='', description='Oldpeak:')"
      ]
     },
     "metadata": {},
     "output_type": "display_data"
    },
    {
     "data": {
      "application/vnd.jupyter.widget-view+json": {
       "model_id": "05a4aeff30ef405895af50d0219f9aad",
       "version_major": 2,
       "version_minor": 0
      },
      "text/plain": [
       "Dropdown(description='ST_Slope:', options=('Upsloping', 'Flat', 'Downsloping'), value='Upsloping')"
      ]
     },
     "metadata": {},
     "output_type": "display_data"
    },
    {
     "data": {
      "application/vnd.jupyter.widget-view+json": {
       "model_id": "81aa21fdb3c34dd39da2503afab36d78",
       "version_major": 2,
       "version_minor": 0
      },
      "text/plain": [
       "Button(description='Save Data', style=ButtonStyle())"
      ]
     },
     "metadata": {},
     "output_type": "display_data"
    },
    {
     "data": {
      "application/vnd.jupyter.widget-view+json": {
       "model_id": "968f78a345a148efb2f2dd5a65aad24a",
       "version_major": 2,
       "version_minor": 0
      },
      "text/plain": [
       "Output()"
      ]
     },
     "metadata": {},
     "output_type": "display_data"
    },
    {
     "ename": "NameError",
     "evalue": "name 'column_keys' is not defined",
     "output_type": "error",
     "traceback": [
      "\u001b[1;31m---------------------------------------------------------------------------\u001b[0m",
      "\u001b[1;31mNameError\u001b[0m                                 Traceback (most recent call last)",
      "Cell \u001b[1;32mIn[8], line 18\u001b[0m, in \u001b[0;36msave_button_clicked\u001b[1;34m(button)\u001b[0m\n\u001b[0;32m     16\u001b[0m encrypted_row \u001b[38;5;241m=\u001b[39m {}\n\u001b[0;32m     17\u001b[0m \u001b[38;5;28;01mfor\u001b[39;00m column, value \u001b[38;5;129;01min\u001b[39;00m X_new_s\u001b[38;5;241m.\u001b[39mitems():\n\u001b[1;32m---> 18\u001b[0m     q, h, g \u001b[38;5;241m=\u001b[39m \u001b[43mcolumn_keys\u001b[49m[column]\n\u001b[0;32m     19\u001b[0m     \u001b[38;5;28;01mif\u001b[39;00m \u001b[38;5;28misinstance\u001b[39m(value, \u001b[38;5;28mstr\u001b[39m):\n\u001b[0;32m     20\u001b[0m         numeric_value \u001b[38;5;241m=\u001b[39m \u001b[38;5;28msum\u001b[39m(\u001b[38;5;28mord\u001b[39m(char) \u001b[38;5;28;01mfor\u001b[39;00m char \u001b[38;5;129;01min\u001b[39;00m value)\n",
      "\u001b[1;31mNameError\u001b[0m: name 'column_keys' is not defined"
     ]
    }
   ],
   "source": [
    "age_widget = widgets.Text(description=\"Age:\")\n",
    "sex_widget = widgets.Dropdown(options=['Female', 'Male'], description=\"Sex:\")\n",
    "chest_pain_type_widget = widgets.Dropdown(options=['Typical Angina', 'Atypical Angina', 'Non-anginal Pain', 'Asymptomatic'], description=\"ChestPainType:\")\n",
    "resting_blood_pressure_widget = widgets.Text(description=\"RestingBloodPressure:\")\n",
    "cholesterol_widget = widgets.Text(description=\"Cholesterol:\")\n",
    "fasting_blood_sugar_widget = widgets.Dropdown(options=['No', 'Yes'], description=\"FastingBloodSugar:\")\n",
    "resting_ecg_widget = widgets.Dropdown(options=['Normal', 'Abnormal ST-T Wave', 'Left Ventricular Hypertrophy'], description=\"RestingECG:\")\n",
    "max_heart_rate_widget = widgets.Text(description=\"MaximumHeartRate:\")\n",
    "exercise_angina_widget = widgets.Dropdown(options=['No', 'Yes'], description=\"ExerciseAngina:\")\n",
    "oldpeak_widget = widgets.Text(description=\"Oldpeak:\")\n",
    "st_slope_widget = widgets.Dropdown(options=['Upsloping', 'Flat', 'Downsloping'], description=\"ST_Slope:\")\n",
    "\n",
    "save_button = widgets.Button(description=\"Save Data\")\n",
    "save_button.on_click(save_button_clicked)\n",
    "\n",
    "output_widget = widgets.Output()\n",
    "\n",
    "display(age_widget, sex_widget, chest_pain_type_widget, resting_blood_pressure_widget, cholesterol_widget, fasting_blood_sugar_widget, resting_ecg_widget, max_heart_rate_widget, exercise_angina_widget, oldpeak_widget, st_slope_widget, save_button, output_widget)"
   ]
  },
  {
   "cell_type": "code",
   "execution_count": 1,
   "metadata": {},
   "outputs": [
    {
     "ename": "NameError",
     "evalue": "name 'model' is not defined",
     "output_type": "error",
     "traceback": [
      "\u001b[1;31m---------------------------------------------------------------------------\u001b[0m",
      "\u001b[1;31mNameError\u001b[0m                                 Traceback (most recent call last)",
      "Cell \u001b[1;32mIn[1], line 27\u001b[0m\n\u001b[0;32m     24\u001b[0m Y_train, Y_test \u001b[38;5;241m=\u001b[39m Y\u001b[38;5;241m.\u001b[39miloc[train_index], Y\u001b[38;5;241m.\u001b[39miloc[test_index]\n\u001b[0;32m     26\u001b[0m \u001b[38;5;66;03m# Train the model\u001b[39;00m\n\u001b[1;32m---> 27\u001b[0m \u001b[43mmodel\u001b[49m\u001b[38;5;241m.\u001b[39mfit(X_train, Y_train)\n\u001b[0;32m     29\u001b[0m \u001b[38;5;66;03m# Predict on the test set\u001b[39;00m\n\u001b[0;32m     30\u001b[0m y_pred_fold \u001b[38;5;241m=\u001b[39m model\u001b[38;5;241m.\u001b[39mpredict(X_test)\n",
      "\u001b[1;31mNameError\u001b[0m: name 'model' is not defined"
     ]
    }
   ],
   "source": [
    "import pandas as pd\n",
    "from sklearn.metrics import f1_score\n",
    "from sklearn.model_selection import StratifiedKFold\n",
    "import numpy as np\n",
    "import os\n",
    "os.chdir('Resources/')\n",
    "\n",
    "# Load the secret data\n",
    "df = pd.read_csv('8_SP_Encrypted_Data.csv')\n",
    "X = df.drop(['HeartDisease'], axis='columns')\n",
    "Y = df[['HeartDisease']]\n",
    "\n",
    "# Initialize lists to store the true and predicted labels\n",
    "y_true = []\n",
    "y_pred = []\n",
    "\n",
    "# Set up the stratified k-fold cross-validation (10 folds)\n",
    "kf = StratifiedKFold(n_splits=10, shuffle=True, random_state=530)\n",
    "\n",
    "# Iterate through each fold\n",
    "for train_index, test_index in kf.split(df, Y):\n",
    "    # Split the data into training and testing sets\n",
    "    X_train, X_test = X.iloc[train_index], X.iloc[test_index]\n",
    "    Y_train, Y_test = Y.iloc[train_index], Y.iloc[test_index]\n",
    "\n",
    "    # Train the model\n",
    "    model.fit(X_train, Y_train)\n",
    "    \n",
    "    # Predict on the test set\n",
    "    y_pred_fold = model.predict(X_test)\n",
    "\n",
    "    # Append the true labels and predicted labels for this fold\n",
    "    y_true.extend(Y_test)\n",
    "    y_pred.extend(y_pred_fold)\n",
    "\n",
    "# Calculate the F1 score for all folds\n",
    "f1 = f1_score(y_true, y_pred) * 100\n",
    "print(f\"Average F1 Score (10-fold): {f1}\")\n"
   ]
  },
  {
   "cell_type": "code",
   "execution_count": null,
   "metadata": {},
   "outputs": [],
   "source": []
  }
 ],
 "metadata": {
  "kernelspec": {
   "display_name": "Python 3",
   "language": "python",
   "name": "python3"
  },
  "language_info": {
   "codemirror_mode": {
    "name": "ipython",
    "version": 3
   },
   "file_extension": ".py",
   "mimetype": "text/x-python",
   "name": "python",
   "nbconvert_exporter": "python",
   "pygments_lexer": "ipython3",
   "version": "3.12.3"
  }
 },
 "nbformat": 4,
 "nbformat_minor": 2
}
