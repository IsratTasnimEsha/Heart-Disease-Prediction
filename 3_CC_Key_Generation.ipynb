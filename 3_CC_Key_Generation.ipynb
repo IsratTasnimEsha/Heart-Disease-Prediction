{
 "cells": [
  {
   "cell_type": "code",
   "execution_count": 1,
   "metadata": {},
   "outputs": [],
   "source": [
    "import random\n",
    "from sympy import nextprime\n",
    "import os\n",
    "import pickle\n",
    "from sympy import isprime\n",
    "os.chdir('Resources/')"
   ]
  },
  {
   "cell_type": "code",
   "execution_count": 2,
   "metadata": {},
   "outputs": [],
   "source": [
    "def key_generation():\n",
    "    while True:\n",
    "        p = random.randint(10**20, 10**50)\n",
    "        if isprime(p):\n",
    "            break\n",
    "    \n",
    "    g = random.randint(2, p - 1)  \n",
    "    x = random.randint(1, p - 2)  \n",
    "    h = power(g, x, p)  \n",
    "    \n",
    "    return {\"p\": p, \"g\": g, \"x\": x}, {\"p\": p, \"g\": g, \"h\": h}"
   ]
  },
  {
   "cell_type": "code",
   "execution_count": 3,
   "metadata": {},
   "outputs": [],
   "source": [
    "def power(b, p, m):\n",
    "    b = b % m\n",
    "    if p == 0:\n",
    "        return 1\n",
    "    j = power(b, p // 2, m)\n",
    "    j = (j * j) % m\n",
    "    if p % 2 == 1:\n",
    "        j = (j * b) % m\n",
    "    return j"
   ]
  },
  {
   "cell_type": "code",
   "execution_count": 4,
   "metadata": {},
   "outputs": [],
   "source": [
    "def save_key(filename, key):\n",
    "    with open(filename, \"wb\") as f:\n",
    "        pickle.dump(key, f)"
   ]
  },
  {
   "cell_type": "code",
   "execution_count": null,
   "metadata": {},
   "outputs": [],
   "source": [
    "private_key, public_key = key_generation()\n",
    "\n",
    "save_key(\"3_CC_Private_Key.pkl\", private_key)\n",
    "save_key(\"3_CC_Public_Key.pkl\", public_key)"
   ]
  },
  {
   "cell_type": "code",
   "execution_count": null,
   "metadata": {},
   "outputs": [],
   "source": []
  }
 ],
 "metadata": {
  "kernelspec": {
   "display_name": "Python 3",
   "language": "python",
   "name": "python3"
  },
  "language_info": {
   "codemirror_mode": {
    "name": "ipython",
    "version": 3
   },
   "file_extension": ".py",
   "mimetype": "text/x-python",
   "name": "python",
   "nbconvert_exporter": "python",
   "pygments_lexer": "ipython3",
   "version": "3.12.3"
  }
 },
 "nbformat": 4,
 "nbformat_minor": 2
}
