{
 "cells": [
  {
   "cell_type": "code",
   "execution_count": 1,
   "metadata": {},
   "outputs": [],
   "source": [
    "import pandas as pd\n",
    "import numpy as np\n",
    "from sklearn.metrics import f1_score\n",
    "import random\n",
    "import joblib\n",
    "import os\n",
    "os.chdir('Resources/')\n",
    "\n",
    "from custom_tuple_scaler import CustomTupleScaler"
   ]
  },
  {
   "cell_type": "code",
   "execution_count": 2,
   "metadata": {},
   "outputs": [],
   "source": [
    "df = pd.read_csv('6_CC_Encrypted_Data.csv')"
   ]
  },
  {
   "cell_type": "code",
   "execution_count": 3,
   "metadata": {},
   "outputs": [
    {
     "data": {
      "text/html": [
       "<div>\n",
       "<style scoped>\n",
       "    .dataframe tbody tr th:only-of-type {\n",
       "        vertical-align: middle;\n",
       "    }\n",
       "\n",
       "    .dataframe tbody tr th {\n",
       "        vertical-align: top;\n",
       "    }\n",
       "\n",
       "    .dataframe thead th {\n",
       "        text-align: right;\n",
       "    }\n",
       "</style>\n",
       "<table border=\"1\" class=\"dataframe\">\n",
       "  <thead>\n",
       "    <tr style=\"text-align: right;\">\n",
       "      <th></th>\n",
       "      <th>HeartDisease</th>\n",
       "    </tr>\n",
       "  </thead>\n",
       "  <tbody>\n",
       "    <tr>\n",
       "      <th>0</th>\n",
       "      <td>0</td>\n",
       "    </tr>\n",
       "    <tr>\n",
       "      <th>1</th>\n",
       "      <td>1</td>\n",
       "    </tr>\n",
       "    <tr>\n",
       "      <th>2</th>\n",
       "      <td>0</td>\n",
       "    </tr>\n",
       "    <tr>\n",
       "      <th>3</th>\n",
       "      <td>1</td>\n",
       "    </tr>\n",
       "    <tr>\n",
       "      <th>4</th>\n",
       "      <td>0</td>\n",
       "    </tr>\n",
       "    <tr>\n",
       "      <th>...</th>\n",
       "      <td>...</td>\n",
       "    </tr>\n",
       "    <tr>\n",
       "      <th>3245</th>\n",
       "      <td>1</td>\n",
       "    </tr>\n",
       "    <tr>\n",
       "      <th>3246</th>\n",
       "      <td>1</td>\n",
       "    </tr>\n",
       "    <tr>\n",
       "      <th>3247</th>\n",
       "      <td>0</td>\n",
       "    </tr>\n",
       "    <tr>\n",
       "      <th>3248</th>\n",
       "      <td>0</td>\n",
       "    </tr>\n",
       "    <tr>\n",
       "      <th>3249</th>\n",
       "      <td>0</td>\n",
       "    </tr>\n",
       "  </tbody>\n",
       "</table>\n",
       "<p>3250 rows × 1 columns</p>\n",
       "</div>"
      ],
      "text/plain": [
       "      HeartDisease\n",
       "0                0\n",
       "1                1\n",
       "2                0\n",
       "3                1\n",
       "4                0\n",
       "...            ...\n",
       "3245             1\n",
       "3246             1\n",
       "3247             0\n",
       "3248             0\n",
       "3249             0\n",
       "\n",
       "[3250 rows x 1 columns]"
      ]
     },
     "execution_count": 3,
     "metadata": {},
     "output_type": "execute_result"
    }
   ],
   "source": [
    "Y = df[['HeartDisease']]\n",
    "Y"
   ]
  },
  {
   "cell_type": "code",
   "execution_count": 4,
   "metadata": {},
   "outputs": [
    {
     "name": "stdout",
     "output_type": "stream",
     "text": [
      "6965361356960251970681699416527167003396930684399 , 30217139673302031254829592992378024533878940689657\n",
      "54600078953351133152003341118517817314167801601939 , 23882417530828833820232030289434178573895492614734\n",
      "36649207273954309735937122332365840930023873680884 , 31257445741747527543331712533634722199901749334179\n",
      "83860246762706255172761784370775066461479861118299 , 47736326788307872921021879683387002044728535726667\n",
      "16043955655060611551799098102694158622740324518298 , 43570977182708344300493988886736242425372723276623\n",
      "48796268997449217309075469418552965717916389030766 , 21270487134087081655449550974215752004786739471885\n",
      "3857767734957454709824171872090418722115974714484 , 6007744126266429215264072859610897495757862371132\n",
      "83297904217885534795359347609074572793018462457138 , 40148136876669348027076612145139127910533037019312\n",
      "12956688826076395746654158514081595251862400502558 , 5473654934117652083434044599580847510549404051408\n",
      "5759314526113684676869960964229505210431962579413 , 9488133877349612967877140601298226962784337710630\n",
      "78949507728584780390701073438136512925023759739404 , 45618960443992718645592720069173286841300228957617\n",
      "[6965361356960251970681699416527167003396930684399, 54600078953351133152003341118517817314167801601939, 36649207273954309735937122332365840930023873680884, 83860246762706255172761784370775066461479861118299, 16043955655060611551799098102694158622740324518298, 48796268997449217309075469418552965717916389030766, 3857767734957454709824171872090418722115974714484, 83297904217885534795359347609074572793018462457138, 12956688826076395746654158514081595251862400502558, 5759314526113684676869960964229505210431962579413, 78949507728584780390701073438136512925023759739404]\n",
      "[30217139673302031254829592992378024533878940689657, 23882417530828833820232030289434178573895492614734, 31257445741747527543331712533634722199901749334179, 47736326788307872921021879683387002044728535726667, 43570977182708344300493988886736242425372723276623, 21270487134087081655449550974215752004786739471885, 6007744126266429215264072859610897495757862371132, 40148136876669348027076612145139127910533037019312, 5473654934117652083434044599580847510549404051408, 9488133877349612967877140601298226962784337710630, 45618960443992718645592720069173286841300228957617]\n"
     ]
    }
   ],
   "source": [
    "c1_list = []\n",
    "c2_list = []\n",
    "\n",
    "for k in range(11):\n",
    "    cnt = 0\n",
    "    c1_sum = 0\n",
    "    c2_sum = 0\n",
    "    \n",
    "    messages = df.iloc[:, k].values\n",
    "\n",
    "    for i, message in enumerate(messages, 1):\n",
    "        if message is not None and message == message:\n",
    "            c1, c2 = map(int, message.strip(\"()\").split(\",\"))\n",
    "            c1_sum += c1\n",
    "            c2_sum += c2\n",
    "            cnt += 1\n",
    "    \n",
    "    print(c1_sum//cnt, \",\", c2_sum//cnt)\n",
    "\n",
    "    c1_list.append(c1_sum//cnt)\n",
    "    c2_list.append(c2_sum//cnt)\n",
    "\n",
    "print(c1_list)\n",
    "print(c2_list)"
   ]
  },
  {
   "cell_type": "code",
   "execution_count": 5,
   "metadata": {},
   "outputs": [],
   "source": [
    "column_names = [\n",
    "    \"Age\", \"Sex\", \"ChestPainType\", \"RestingBloodPressure\", \"Cholesterol\",\n",
    "    \"FastingBloodSugar\", \"RestingECG\", \"MaximumHeartRate\", \"ExerciseAngina\",\n",
    "    \"Oldpeak\", \"ST_Slope\", \"HeartDisease\"\n",
    "]"
   ]
  },
  {
   "cell_type": "code",
   "execution_count": 6,
   "metadata": {},
   "outputs": [],
   "source": [
    "imputed_data = pd.DataFrame()\n",
    "\n",
    "for k in range(11):\n",
    "    \n",
    "    messages = df.iloc[:, k].values\n",
    "\n",
    "    imputed_column = []\n",
    "\n",
    "    for i, message in enumerate(messages, 1):\n",
    "        if message is None:\n",
    "            c1 = c1_list[k]\n",
    "            c2 = c2_list[k]\n",
    "        \n",
    "        if message is not None and message == message:\n",
    "            c1, c2 = map(int, message.strip(\"()\").split(\",\"))\n",
    "\n",
    "        imputed_column.append(f\"({c1},{c2})\")\n",
    "\n",
    "    imputed_data[column_names[k]] = imputed_column"
   ]
  },
  {
   "cell_type": "code",
   "execution_count": 7,
   "metadata": {},
   "outputs": [],
   "source": [
    "scaler = joblib.load('13_CC_Scaler.joblib')"
   ]
  },
  {
   "cell_type": "code",
   "execution_count": 8,
   "metadata": {},
   "outputs": [
    {
     "name": "stderr",
     "output_type": "stream",
     "text": [
      "g:\\Thesis - Copy\\Resources\\custom_tuple_scaler.py:22: FutureWarning: DataFrame.applymap has been deprecated. Use DataFrame.map instead.\n",
      "  c2_values = X.applymap(self._extract_c2)\n"
     ]
    }
   ],
   "source": [
    "df_scaled = scaler.transform(imputed_data)\n",
    "df_scaled = pd.DataFrame(df_scaled, columns=imputed_data.columns)\n",
    "# df_scaled.to_csv('scaled_new_data.csv', index=False)"
   ]
  },
  {
   "cell_type": "code",
   "execution_count": 9,
   "metadata": {},
   "outputs": [],
   "source": [
    "with open(\"12_SP_Test_Data_RF_IF.txt\", \"r\") as file:\n",
    "    test_indices = eval(file.read()) "
   ]
  },
  {
   "cell_type": "code",
   "execution_count": 10,
   "metadata": {},
   "outputs": [],
   "source": [
    "file_path = \"13_CC_F1_Scores_RF_IF.txt\"\n",
    "\n",
    "with open(file_path, \"r\") as f:\n",
    "    lines = f.readlines()\n",
    "\n",
    "reference_f1_scores = []\n",
    "for line in lines:\n",
    "    if \"F1-score for fold\" in line:\n",
    "        score = float(line.split(\":\")[1].strip())\n",
    "        reference_f1_scores.append(score)"
   ]
  },
  {
   "cell_type": "code",
   "execution_count": 11,
   "metadata": {},
   "outputs": [
    {
     "name": "stdout",
     "output_type": "stream",
     "text": [
      "Test indices for fold 1: [0, 3, 8, 13, 21, 22, 25, 26, 27, 30, 31, 39, 51, 53, 55, 58, 66, 72, 78, 81, 84, 86, 87, 89, 98, 99, 105, 118, 123, 139, 141, 144, 152, 162, 164, 172, 175, 176, 184, 192, 195, 196, 203, 213, 224, 228, 234, 237, 243, 249, 253, 254, 261, 262, 264, 271, 275, 299, 302, 304, 314, 315, 316, 319, 321, 325, 326, 329, 330, 340, 342, 344, 346, 351, 356, 361, 366, 368, 371, 375, 390, 391, 393, 403, 415, 420, 422, 423, 437, 444, 445, 449, 464, 466, 469, 471, 473, 491, 494, 496, 498, 502, 512, 524, 534, 535, 542, 543, 546, 550, 555, 565, 566, 572, 575, 581, 590, 591, 597, 599, 607, 617, 638, 640, 642, 646, 651, 656, 664, 672, 673, 675, 681, 689, 690, 692, 695, 699, 708, 709, 712, 713, 716, 718, 720, 723, 732, 733, 734, 735, 741, 754, 756, 760, 771, 772, 785, 788, 796, 797, 800, 809, 812, 822, 839, 840, 851, 853, 856, 869, 877, 881, 885, 897, 915, 918, 923, 928, 932, 936, 937, 939, 943, 944, 946, 948, 950, 953, 956, 958, 964, 970, 971, 975, 985, 986, 989, 990, 993, 995, 996, 998, 999, 1002, 1004, 1022, 1038, 1047, 1050, 1051, 1053, 1054, 1056, 1057, 1064, 1073, 1075, 1076, 1089, 1098, 1110, 1119, 1123, 1138, 1145, 1151, 1153, 1159, 1174, 1175, 1181, 1190, 1196, 1197, 1203, 1208, 1211, 1212, 1216, 1218, 1226, 1230, 1234, 1239, 1240, 1248, 1258, 1259, 1279, 1285, 1286, 1289, 1290, 1293, 1300, 1302, 1304, 1307, 1310, 1326, 1337, 1340, 1341, 1343, 1344, 1345, 1360, 1365, 1391, 1393, 1396, 1398, 1399, 1405, 1407, 1408, 1415, 1422, 1425, 1426, 1430, 1446, 1447, 1448, 1451, 1469, 1472, 1474, 1482, 1484, 1486, 1491, 1504, 1508, 1513, 1522, 1524, 1525, 1530, 1535, 1536, 1551, 1553, 1559, 1565, 1566, 1568, 1572, 1574, 1577, 1579, 1593, 1594, 1603, 1612, 1614, 1618, 1632, 1634, 1640, 1643, 1644, 1648, 1650, 1651, 1652, 1653, 1656, 1664, 1668, 1669, 1671, 1675, 1684, 1685, 1687, 1692, 1694, 1696, 1705, 1706, 1710, 1715, 1723, 1724, 1728, 1730, 1737, 1739, 1743, 1766, 1772, 1776, 1790, 1792, 1795, 1799, 1803, 1808, 1815, 1816, 1825, 1827, 1829, 1833, 1836, 1852, 1853, 1857, 1858, 1860, 1871, 1879, 1892, 1900, 1901, 1903, 1904, 1907, 1911, 1917, 1921, 1922, 1930, 1935, 1950, 1951, 1953, 1959, 1974, 1981, 1982, 1983, 1987, 1995, 1998, 2001, 2008, 2010, 2012, 2013, 2018, 2027, 2042, 2044, 2045, 2049, 2050, 2055, 2056, 2075, 2091, 2095, 2104, 2113, 2122, 2126, 2145, 2146, 2152, 2171, 2178, 2186, 2194, 2202, 2223, 2224, 2233, 2235, 2236, 2237, 2244, 2247, 2253, 2254, 2257, 2260, 2263, 2272, 2273, 2274, 2279, 2280, 2283, 2287, 2303, 2305, 2310, 2313, 2316, 2323, 2326, 2331, 2332, 2350, 2351, 2352, 2354, 2355, 2359, 2360, 2363, 2367, 2378, 2380, 2385, 2397, 2402, 2405, 2407, 2408, 2424, 2433, 2440, 2442, 2443, 2456, 2462, 2463, 2467, 2471, 2479, 2481, 2483, 2484, 2497, 2498, 2500, 2505, 2514, 2523, 2530, 2533, 2540, 2550, 2552, 2559, 2568, 2581, 2587, 2594, 2596, 2611, 2618, 2622, 2631, 2633, 2641, 2642, 2652, 2653, 2669, 2672, 2675, 2677, 2685, 2686, 2688, 2703, 2705, 2708, 2717, 2738, 2759, 2761, 2770, 2773, 2779, 2780, 2781, 2782, 2794, 2800, 2802, 2804, 2806, 2817, 2827, 2831, 2832, 2835, 2857, 2858, 2869, 2879, 2896, 2898, 2902, 2903, 2904, 2910, 2917, 2924, 2925, 2936, 2938, 2939, 2943, 2951, 2957, 2962, 2963, 2967, 2989, 2995, 2997, 3001, 3002, 3011, 3020, 3023, 3028, 3038, 3042, 3046, 3063, 3064, 3069, 3075, 3078, 3082, 3083, 3087, 3092, 3095, 3103, 3107, 3112, 3113, 3114, 3115, 3119, 3120, 3122, 3126, 3130, 3131, 3134, 3135, 3137, 3144, 3150, 3153, 3157, 3158, 3162, 3164, 3168, 3175, 3180, 3196, 3202, 3206, 3216, 3218, 3230, 3233, 3245]\n",
      "Computed F1-score for fold 1: 97.07\n",
      "Reference F1-score for fold 1: 97.07\n",
      "The computed F1-score matches the reference score.\n"
     ]
    }
   ],
   "source": [
    "fold_to_test = random.randint(1, 5)\n",
    "\n",
    "test_indices_fold = test_indices[fold_to_test - 1] \n",
    "print(f\"Test indices for fold {fold_to_test}: {test_indices_fold}\")\n",
    "\n",
    "X_test = df_scaled.iloc[test_indices_fold]\n",
    "\n",
    "model_path = f'12_SP_Model_RF_IF_{fold_to_test}.joblib'\n",
    "model = joblib.load(model_path)\n",
    "\n",
    "Y_test = Y.iloc[test_indices_fold]\n",
    "Y_pred = model.predict(X_test)\n",
    "\n",
    "computed_f1_fold = f1_score(Y_test, Y_pred) * 100\n",
    "\n",
    "reference_f1_fold = reference_f1_scores[fold_to_test - 1]\n",
    "\n",
    "print(f\"Computed F1-score for fold 1: {computed_f1_fold:.2f}\")\n",
    "print(f\"Reference F1-score for fold 1: {reference_f1_fold:.2f}\")\n",
    "\n",
    "if np.isclose(computed_f1_fold, reference_f1_fold, atol=1e-2):\n",
    "    print(\"The computed F1-score matches the reference score.\")\n",
    "else:\n",
    "    print(\"The computed F1-score does not match the reference score.\")"
   ]
  },
  {
   "cell_type": "code",
   "execution_count": null,
   "metadata": {},
   "outputs": [],
   "source": []
  }
 ],
 "metadata": {
  "kernelspec": {
   "display_name": "Python 3",
   "language": "python",
   "name": "python3"
  },
  "language_info": {
   "codemirror_mode": {
    "name": "ipython",
    "version": 3
   },
   "file_extension": ".py",
   "mimetype": "text/x-python",
   "name": "python",
   "nbconvert_exporter": "python",
   "pygments_lexer": "ipython3",
   "version": "3.12.3"
  }
 },
 "nbformat": 4,
 "nbformat_minor": 2
}
