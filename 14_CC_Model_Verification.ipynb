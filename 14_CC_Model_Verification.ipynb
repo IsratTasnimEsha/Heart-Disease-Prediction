{
 "cells": [
  {
   "cell_type": "code",
   "execution_count": 1,
   "metadata": {},
   "outputs": [],
   "source": [
    "import pandas as pd\n",
    "import numpy as np\n",
    "from sklearn.metrics import f1_score\n",
    "import random\n",
    "import joblib\n",
    "import os\n",
    "os.chdir('Resources/')\n",
    "\n",
    "from custom_tuple_scaler import CustomTupleScaler"
   ]
  },
  {
   "cell_type": "code",
   "execution_count": 2,
   "metadata": {},
   "outputs": [],
   "source": [
    "df = pd.read_csv('6_CC_Encrypted_Data.csv')"
   ]
  },
  {
   "cell_type": "code",
   "execution_count": 3,
   "metadata": {},
   "outputs": [
    {
     "data": {
      "text/html": [
       "<div>\n",
       "<style scoped>\n",
       "    .dataframe tbody tr th:only-of-type {\n",
       "        vertical-align: middle;\n",
       "    }\n",
       "\n",
       "    .dataframe tbody tr th {\n",
       "        vertical-align: top;\n",
       "    }\n",
       "\n",
       "    .dataframe thead th {\n",
       "        text-align: right;\n",
       "    }\n",
       "</style>\n",
       "<table border=\"1\" class=\"dataframe\">\n",
       "  <thead>\n",
       "    <tr style=\"text-align: right;\">\n",
       "      <th></th>\n",
       "      <th>HeartDisease</th>\n",
       "    </tr>\n",
       "  </thead>\n",
       "  <tbody>\n",
       "    <tr>\n",
       "      <th>0</th>\n",
       "      <td>0</td>\n",
       "    </tr>\n",
       "    <tr>\n",
       "      <th>1</th>\n",
       "      <td>1</td>\n",
       "    </tr>\n",
       "    <tr>\n",
       "      <th>2</th>\n",
       "      <td>0</td>\n",
       "    </tr>\n",
       "    <tr>\n",
       "      <th>3</th>\n",
       "      <td>1</td>\n",
       "    </tr>\n",
       "    <tr>\n",
       "      <th>4</th>\n",
       "      <td>0</td>\n",
       "    </tr>\n",
       "    <tr>\n",
       "      <th>...</th>\n",
       "      <td>...</td>\n",
       "    </tr>\n",
       "    <tr>\n",
       "      <th>3245</th>\n",
       "      <td>1</td>\n",
       "    </tr>\n",
       "    <tr>\n",
       "      <th>3246</th>\n",
       "      <td>1</td>\n",
       "    </tr>\n",
       "    <tr>\n",
       "      <th>3247</th>\n",
       "      <td>0</td>\n",
       "    </tr>\n",
       "    <tr>\n",
       "      <th>3248</th>\n",
       "      <td>0</td>\n",
       "    </tr>\n",
       "    <tr>\n",
       "      <th>3249</th>\n",
       "      <td>0</td>\n",
       "    </tr>\n",
       "  </tbody>\n",
       "</table>\n",
       "<p>3250 rows × 1 columns</p>\n",
       "</div>"
      ],
      "text/plain": [
       "      HeartDisease\n",
       "0                0\n",
       "1                1\n",
       "2                0\n",
       "3                1\n",
       "4                0\n",
       "...            ...\n",
       "3245             1\n",
       "3246             1\n",
       "3247             0\n",
       "3248             0\n",
       "3249             0\n",
       "\n",
       "[3250 rows x 1 columns]"
      ]
     },
     "execution_count": 3,
     "metadata": {},
     "output_type": "execute_result"
    }
   ],
   "source": [
    "Y = df[['HeartDisease']]\n",
    "Y"
   ]
  },
  {
   "cell_type": "code",
   "execution_count": 4,
   "metadata": {},
   "outputs": [
    {
     "name": "stdout",
     "output_type": "stream",
     "text": [
      "6965361356960251970681699416527167003396930684399 , 30217139673302031254829592992378024533878940689657\n",
      "54600078953351133152003341118517817314167801601939 , 23882417530828833820232030289434178573895492614734\n",
      "36649207273954309735937122332365840930023873680884 , 31257445741747527543331712533634722199901749334179\n",
      "83860246762706255172761784370775066461479861118299 , 47736326788307872921021879683387002044728535726667\n",
      "16043955655060611551799098102694158622740324518298 , 43570977182708344300493988886736242425372723276623\n",
      "48796268997449217309075469418552965717916389030766 , 21270487134087081655449550974215752004786739471885\n",
      "3857767734957454709824171872090418722115974714484 , 6007744126266429215264072859610897495757862371132\n",
      "83297904217885534795359347609074572793018462457138 , 40148136876669348027076612145139127910533037019312\n",
      "12956688826076395746654158514081595251862400502558 , 5473654934117652083434044599580847510549404051408\n",
      "5759314526113684676869960964229505210431962579413 , 9488133877349612967877140601298226962784337710630\n",
      "78949507728584780390701073438136512925023759739404 , 45618960443992718645592720069173286841300228957617\n",
      "[6965361356960251970681699416527167003396930684399, 54600078953351133152003341118517817314167801601939, 36649207273954309735937122332365840930023873680884, 83860246762706255172761784370775066461479861118299, 16043955655060611551799098102694158622740324518298, 48796268997449217309075469418552965717916389030766, 3857767734957454709824171872090418722115974714484, 83297904217885534795359347609074572793018462457138, 12956688826076395746654158514081595251862400502558, 5759314526113684676869960964229505210431962579413, 78949507728584780390701073438136512925023759739404]\n",
      "[30217139673302031254829592992378024533878940689657, 23882417530828833820232030289434178573895492614734, 31257445741747527543331712533634722199901749334179, 47736326788307872921021879683387002044728535726667, 43570977182708344300493988886736242425372723276623, 21270487134087081655449550974215752004786739471885, 6007744126266429215264072859610897495757862371132, 40148136876669348027076612145139127910533037019312, 5473654934117652083434044599580847510549404051408, 9488133877349612967877140601298226962784337710630, 45618960443992718645592720069173286841300228957617]\n"
     ]
    }
   ],
   "source": [
    "c1_list = []\n",
    "c2_list = []\n",
    "\n",
    "for k in range(11):\n",
    "    cnt = 0\n",
    "    c1_sum = 0\n",
    "    c2_sum = 0\n",
    "    \n",
    "    messages = df.iloc[:, k].values\n",
    "\n",
    "    for i, message in enumerate(messages, 1):\n",
    "        if message is not None and message == message:\n",
    "            c1, c2 = map(int, message.strip(\"()\").split(\",\"))\n",
    "            c1_sum += c1\n",
    "            c2_sum += c2\n",
    "            cnt += 1\n",
    "    \n",
    "    print(c1_sum//cnt, \",\", c2_sum//cnt)\n",
    "\n",
    "    c1_list.append(c1_sum//cnt)\n",
    "    c2_list.append(c2_sum//cnt)\n",
    "\n",
    "print(c1_list)\n",
    "print(c2_list)"
   ]
  },
  {
   "cell_type": "code",
   "execution_count": 5,
   "metadata": {},
   "outputs": [],
   "source": [
    "column_names = [\n",
    "    \"Age\", \"Sex\", \"ChestPainType\", \"RestingBloodPressure\", \"Cholesterol\",\n",
    "    \"FastingBloodSugar\", \"RestingECG\", \"MaximumHeartRate\", \"ExerciseAngina\",\n",
    "    \"Oldpeak\", \"ST_Slope\", \"HeartDisease\"\n",
    "]"
   ]
  },
  {
   "cell_type": "code",
   "execution_count": 6,
   "metadata": {},
   "outputs": [],
   "source": [
    "imputed_data = pd.DataFrame()\n",
    "\n",
    "for k in range(11):\n",
    "    \n",
    "    messages = df.iloc[:, k].values\n",
    "\n",
    "    imputed_column = []\n",
    "\n",
    "    for i, message in enumerate(messages, 1):\n",
    "        if message is None:\n",
    "            c1 = c1_list[k]\n",
    "            c2 = c2_list[k]\n",
    "        \n",
    "        if message is not None and message == message:\n",
    "            c1, c2 = map(int, message.strip(\"()\").split(\",\"))\n",
    "\n",
    "        imputed_column.append(f\"({c1},{c2})\")\n",
    "\n",
    "    imputed_data[column_names[k]] = imputed_column"
   ]
  },
  {
   "cell_type": "code",
   "execution_count": 7,
   "metadata": {},
   "outputs": [],
   "source": [
    "scaler = joblib.load('13_CC_Scaler.joblib')"
   ]
  },
  {
   "cell_type": "code",
   "execution_count": 8,
   "metadata": {},
   "outputs": [
    {
     "name": "stderr",
     "output_type": "stream",
     "text": [
      "g:\\Thesis - Copy\\Resources\\custom_tuple_scaler.py:22: FutureWarning: DataFrame.applymap has been deprecated. Use DataFrame.map instead.\n",
      "  c2_values = X.applymap(self._extract_c2)\n"
     ]
    }
   ],
   "source": [
    "df_scaled = scaler.transform(imputed_data)\n",
    "df_scaled = pd.DataFrame(df_scaled, columns=imputed_data.columns)\n",
    "# df_scaled.to_csv('scaled_new_data.csv', index=False)"
   ]
  },
  {
   "cell_type": "code",
   "execution_count": 9,
   "metadata": {},
   "outputs": [],
   "source": [
    "with open(\"12_SP_Test_Data_RF_IF.txt\", \"r\") as file:\n",
    "    test_indices = eval(file.read()) "
   ]
  },
  {
   "cell_type": "code",
   "execution_count": 10,
   "metadata": {},
   "outputs": [],
   "source": [
    "file_path = \"13_CC_F1_Scores_RF_IF.txt\"\n",
    "\n",
    "with open(file_path, \"r\") as f:\n",
    "    lines = f.readlines()\n",
    "\n",
    "reference_f1_scores = []\n",
    "for line in lines:\n",
    "    if \"F1-score for fold\" in line:\n",
    "        score = float(line.split(\":\")[1].strip())\n",
    "        reference_f1_scores.append(score)"
   ]
  },
  {
   "cell_type": "code",
   "execution_count": 22,
   "metadata": {},
   "outputs": [
    {
     "name": "stdout",
     "output_type": "stream",
     "text": [
      "Test indices for fold 2: [4, 12, 14, 15, 16, 35, 40, 41, 42, 45, 52, 57, 59, 62, 63, 67, 69, 73, 74, 75, 82, 95, 103, 117, 132, 138, 140, 153, 154, 157, 163, 179, 183, 189, 191, 193, 201, 202, 207, 214, 219, 222, 223, 225, 230, 231, 235, 241, 251, 252, 256, 258, 265, 270, 279, 287, 307, 328, 334, 337, 343, 348, 352, 358, 362, 364, 373, 374, 377, 394, 401, 405, 412, 417, 418, 430, 431, 434, 435, 438, 440, 446, 453, 457, 461, 463, 468, 477, 481, 490, 493, 499, 508, 513, 517, 518, 519, 520, 525, 528, 533, 536, 537, 541, 553, 556, 557, 559, 561, 562, 564, 577, 582, 583, 584, 586, 587, 595, 596, 600, 603, 608, 609, 615, 618, 619, 620, 627, 630, 634, 644, 648, 652, 654, 658, 666, 667, 674, 683, 684, 687, 696, 698, 700, 706, 727, 728, 731, 736, 740, 742, 748, 750, 752, 759, 761, 763, 765, 766, 767, 777, 791, 798, 799, 801, 805, 808, 810, 813, 815, 817, 823, 829, 836, 844, 845, 858, 860, 862, 863, 866, 867, 873, 879, 902, 906, 910, 911, 917, 921, 931, 940, 942, 954, 957, 959, 961, 965, 968, 982, 1006, 1010, 1019, 1024, 1033, 1040, 1049, 1062, 1079, 1080, 1095, 1099, 1100, 1101, 1104, 1111, 1117, 1120, 1122, 1124, 1130, 1140, 1144, 1149, 1152, 1163, 1167, 1168, 1180, 1188, 1204, 1209, 1210, 1228, 1229, 1233, 1235, 1243, 1245, 1250, 1252, 1256, 1301, 1309, 1314, 1318, 1330, 1334, 1346, 1354, 1355, 1361, 1367, 1375, 1383, 1386, 1388, 1390, 1395, 1403, 1406, 1409, 1410, 1411, 1419, 1444, 1453, 1456, 1457, 1459, 1460, 1461, 1463, 1467, 1471, 1475, 1497, 1500, 1503, 1505, 1507, 1510, 1512, 1523, 1534, 1544, 1552, 1557, 1561, 1567, 1575, 1580, 1592, 1595, 1600, 1605, 1622, 1625, 1627, 1628, 1629, 1630, 1635, 1649, 1655, 1665, 1689, 1699, 1707, 1712, 1719, 1722, 1725, 1726, 1732, 1738, 1747, 1757, 1763, 1773, 1780, 1782, 1784, 1785, 1787, 1793, 1796, 1805, 1812, 1813, 1817, 1841, 1849, 1863, 1894, 1897, 1898, 1899, 1915, 1926, 1931, 1933, 1939, 1941, 1946, 1949, 1955, 1960, 1963, 1968, 1978, 1984, 1986, 1988, 1992, 1994, 2002, 2004, 2011, 2017, 2020, 2021, 2025, 2030, 2033, 2036, 2039, 2040, 2043, 2046, 2053, 2061, 2069, 2076, 2081, 2084, 2088, 2089, 2090, 2093, 2098, 2099, 2107, 2109, 2116, 2127, 2132, 2134, 2138, 2141, 2143, 2158, 2164, 2165, 2166, 2168, 2173, 2174, 2180, 2182, 2183, 2184, 2189, 2195, 2197, 2201, 2214, 2215, 2216, 2219, 2226, 2228, 2229, 2232, 2238, 2239, 2242, 2261, 2265, 2267, 2268, 2270, 2278, 2286, 2288, 2291, 2293, 2294, 2296, 2312, 2317, 2321, 2325, 2337, 2338, 2348, 2357, 2365, 2366, 2370, 2371, 2376, 2388, 2389, 2390, 2393, 2399, 2400, 2409, 2411, 2412, 2426, 2427, 2430, 2432, 2436, 2441, 2446, 2449, 2450, 2453, 2455, 2459, 2468, 2469, 2473, 2476, 2482, 2485, 2488, 2501, 2504, 2506, 2511, 2516, 2518, 2527, 2534, 2545, 2546, 2547, 2549, 2554, 2555, 2556, 2557, 2561, 2573, 2589, 2590, 2597, 2599, 2612, 2614, 2623, 2624, 2632, 2635, 2638, 2639, 2648, 2651, 2655, 2657, 2666, 2668, 2670, 2671, 2678, 2689, 2695, 2696, 2698, 2712, 2714, 2719, 2720, 2722, 2725, 2727, 2732, 2735, 2737, 2741, 2742, 2743, 2745, 2751, 2753, 2763, 2766, 2767, 2772, 2777, 2785, 2791, 2797, 2799, 2805, 2812, 2813, 2833, 2838, 2848, 2850, 2856, 2860, 2864, 2866, 2868, 2872, 2875, 2876, 2889, 2891, 2893, 2899, 2900, 2908, 2909, 2920, 2928, 2929, 2935, 2950, 2955, 2956, 2960, 2961, 2970, 2972, 2977, 2980, 2988, 2993, 2996, 3005, 3008, 3014, 3017, 3036, 3054, 3056, 3057, 3065, 3071, 3072, 3077, 3084, 3096, 3123, 3125, 3128, 3139, 3140, 3142, 3143, 3151, 3160, 3166, 3170, 3173, 3177, 3185, 3189, 3195, 3203, 3205, 3210, 3211, 3214, 3215, 3222, 3225, 3226, 3240, 3241, 3246]\n",
      "Computed F1-score for fold 1: 95.45\n",
      "Reference F1-score for fold 1: 95.45\n",
      "The computed F1-score matches the reference score.\n"
     ]
    }
   ],
   "source": [
    "fold_to_test = random.randint(1, 5)\n",
    "\n",
    "test_indices_fold = test_indices[fold_to_test - 1] \n",
    "print(f\"Test indices for fold {fold_to_test}: {test_indices_fold}\")\n",
    "\n",
    "X_test = df_scaled.iloc[test_indices_fold]\n",
    "\n",
    "model_path = f'12_SP_Model_RF_IF_{fold_to_test}.joblib'\n",
    "model = joblib.load(model_path)\n",
    "\n",
    "Y_test = Y.iloc[test_indices_fold]\n",
    "Y_pred = model.predict(X_test)\n",
    "\n",
    "computed_f1_fold = f1_score(Y_test, Y_pred) * 100\n",
    "\n",
    "reference_f1_fold = reference_f1_scores[fold_to_test - 1]\n",
    "\n",
    "print(f\"Computed F1-score for fold 1: {computed_f1_fold:.2f}\")\n",
    "print(f\"Reference F1-score for fold 1: {reference_f1_fold:.2f}\")\n",
    "\n",
    "if np.isclose(computed_f1_fold, reference_f1_fold, atol=1e-2):\n",
    "    print(\"The computed F1-score matches the reference score.\")\n",
    "else:\n",
    "    print(\"The computed F1-score does not match the reference score.\")"
   ]
  },
  {
   "cell_type": "code",
   "execution_count": null,
   "metadata": {},
   "outputs": [],
   "source": []
  }
 ],
 "metadata": {
  "kernelspec": {
   "display_name": "Python 3",
   "language": "python",
   "name": "python3"
  },
  "language_info": {
   "codemirror_mode": {
    "name": "ipython",
    "version": 3
   },
   "file_extension": ".py",
   "mimetype": "text/x-python",
   "name": "python",
   "nbconvert_exporter": "python",
   "pygments_lexer": "ipython3",
   "version": "3.12.3"
  }
 },
 "nbformat": 4,
 "nbformat_minor": 2
}
