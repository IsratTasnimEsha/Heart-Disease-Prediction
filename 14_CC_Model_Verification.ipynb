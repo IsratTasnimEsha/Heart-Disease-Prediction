{
 "cells": [
  {
   "cell_type": "code",
   "execution_count": 1,
   "metadata": {},
   "outputs": [],
   "source": [
    "import pandas as pd\n",
    "import numpy as np\n",
    "from sklearn.metrics import f1_score\n",
    "import random\n",
    "import joblib\n",
    "import os\n",
    "os.chdir('Resources/')\n",
    "\n",
    "from custom_tuple_scaler import CustomTupleScaler"
   ]
  },
  {
   "cell_type": "code",
   "execution_count": 2,
   "metadata": {},
   "outputs": [],
   "source": [
    "df = pd.read_csv('6_CC_Encrypted_Data.csv')"
   ]
  },
  {
   "cell_type": "code",
   "execution_count": 3,
   "metadata": {},
   "outputs": [
    {
     "data": {
      "text/html": [
       "<div>\n",
       "<style scoped>\n",
       "    .dataframe tbody tr th:only-of-type {\n",
       "        vertical-align: middle;\n",
       "    }\n",
       "\n",
       "    .dataframe tbody tr th {\n",
       "        vertical-align: top;\n",
       "    }\n",
       "\n",
       "    .dataframe thead th {\n",
       "        text-align: right;\n",
       "    }\n",
       "</style>\n",
       "<table border=\"1\" class=\"dataframe\">\n",
       "  <thead>\n",
       "    <tr style=\"text-align: right;\">\n",
       "      <th></th>\n",
       "      <th>HeartDisease</th>\n",
       "    </tr>\n",
       "  </thead>\n",
       "  <tbody>\n",
       "    <tr>\n",
       "      <th>0</th>\n",
       "      <td>0</td>\n",
       "    </tr>\n",
       "    <tr>\n",
       "      <th>1</th>\n",
       "      <td>1</td>\n",
       "    </tr>\n",
       "    <tr>\n",
       "      <th>2</th>\n",
       "      <td>0</td>\n",
       "    </tr>\n",
       "    <tr>\n",
       "      <th>3</th>\n",
       "      <td>1</td>\n",
       "    </tr>\n",
       "    <tr>\n",
       "      <th>4</th>\n",
       "      <td>0</td>\n",
       "    </tr>\n",
       "    <tr>\n",
       "      <th>...</th>\n",
       "      <td>...</td>\n",
       "    </tr>\n",
       "    <tr>\n",
       "      <th>4039</th>\n",
       "      <td>1</td>\n",
       "    </tr>\n",
       "    <tr>\n",
       "      <th>4040</th>\n",
       "      <td>1</td>\n",
       "    </tr>\n",
       "    <tr>\n",
       "      <th>4041</th>\n",
       "      <td>0</td>\n",
       "    </tr>\n",
       "    <tr>\n",
       "      <th>4042</th>\n",
       "      <td>0</td>\n",
       "    </tr>\n",
       "    <tr>\n",
       "      <th>4043</th>\n",
       "      <td>0</td>\n",
       "    </tr>\n",
       "  </tbody>\n",
       "</table>\n",
       "<p>4044 rows × 1 columns</p>\n",
       "</div>"
      ],
      "text/plain": [
       "      HeartDisease\n",
       "0                0\n",
       "1                1\n",
       "2                0\n",
       "3                1\n",
       "4                0\n",
       "...            ...\n",
       "4039             1\n",
       "4040             1\n",
       "4041             0\n",
       "4042             0\n",
       "4043             0\n",
       "\n",
       "[4044 rows x 1 columns]"
      ]
     },
     "execution_count": 3,
     "metadata": {},
     "output_type": "execute_result"
    }
   ],
   "source": [
    "Y = df[['HeartDisease']]\n",
    "Y"
   ]
  },
  {
   "cell_type": "code",
   "execution_count": 4,
   "metadata": {},
   "outputs": [
    {
     "name": "stdout",
     "output_type": "stream",
     "text": [
      "3476488068334709321004428324822234875385570758714 , 24846772438844064578074177402607600227383966714210\n",
      "11587453737390097227590471271492528351599113734033 , 27773639256068336172113331344507987356100129784375\n",
      "363472194187901669993758967694323171766562404977 , 435807668318848180298083450231339819189020734865\n",
      "17402451201959742363565894493521834331259341891463 , 15798875891211319973932591331097539913869529544197\n",
      "85477594117714443314955803616242954325220841032757 , 48132071089559527662724153025685563663794416086559\n",
      "37951409833662251487848155814881565034966359570932 , 27501205851845249880495748870672033180948245791186\n",
      "41133527773195702721888254430635588152230146284903 , 25455986176245553370557702814934831441420395444461\n",
      "52831977755943035119171149659892192776866553558891 , 46342762707402498902325772082906869547404374799532\n",
      "854204650939784222357072555579547723560401354486 , 42625275023631980949490223498197459029619372792630\n",
      "10446115961261407535314330840454009363668715221538 , 6270213635896234659994366004505269271585574105055\n",
      "9645776526511081362876630389278851602463270884913 , 8583865112413139460358873227686512737591732364614\n",
      "[3476488068334709321004428324822234875385570758714, 11587453737390097227590471271492528351599113734033, 363472194187901669993758967694323171766562404977, 17402451201959742363565894493521834331259341891463, 85477594117714443314955803616242954325220841032757, 37951409833662251487848155814881565034966359570932, 41133527773195702721888254430635588152230146284903, 52831977755943035119171149659892192776866553558891, 854204650939784222357072555579547723560401354486, 10446115961261407535314330840454009363668715221538, 9645776526511081362876630389278851602463270884913]\n",
      "[24846772438844064578074177402607600227383966714210, 27773639256068336172113331344507987356100129784375, 435807668318848180298083450231339819189020734865, 15798875891211319973932591331097539913869529544197, 48132071089559527662724153025685563663794416086559, 27501205851845249880495748870672033180948245791186, 25455986176245553370557702814934831441420395444461, 46342762707402498902325772082906869547404374799532, 42625275023631980949490223498197459029619372792630, 6270213635896234659994366004505269271585574105055, 8583865112413139460358873227686512737591732364614]\n"
     ]
    }
   ],
   "source": [
    "c1_list = []\n",
    "c2_list = []\n",
    "\n",
    "for k in range(11):\n",
    "    cnt = 0\n",
    "    c1_sum = 0\n",
    "    c2_sum = 0\n",
    "    \n",
    "    messages = df.iloc[:, k].values\n",
    "\n",
    "    for i, message in enumerate(messages, 1):\n",
    "        if message is not None and message == message:\n",
    "            c1, c2 = map(int, message.strip(\"()\").split(\",\"))\n",
    "            c1_sum += c1\n",
    "            c2_sum += c2\n",
    "            cnt += 1\n",
    "    \n",
    "    print(c1_sum//cnt, \",\", c2_sum//cnt)\n",
    "\n",
    "    c1_list.append(c1_sum//cnt)\n",
    "    c2_list.append(c2_sum//cnt)\n",
    "\n",
    "print(c1_list)\n",
    "print(c2_list)"
   ]
  },
  {
   "cell_type": "code",
   "execution_count": 5,
   "metadata": {},
   "outputs": [],
   "source": [
    "column_names = [\n",
    "    \"Age\", \"Sex\", \"ChestPainType\", \"RestingBloodPressure\", \"Cholesterol\",\n",
    "    \"FastingBloodSugar\", \"RestingECG\", \"MaximumHeartRate\", \"ExerciseAngina\",\n",
    "    \"Oldpeak\", \"ST_Slope\", \"HeartDisease\"\n",
    "]"
   ]
  },
  {
   "cell_type": "code",
   "execution_count": 6,
   "metadata": {},
   "outputs": [],
   "source": [
    "imputed_data = pd.DataFrame()\n",
    "\n",
    "for k in range(11):\n",
    "    \n",
    "    messages = df.iloc[:, k].values\n",
    "\n",
    "    imputed_column = []\n",
    "\n",
    "    for i, message in enumerate(messages, 1):\n",
    "        if message is None:\n",
    "            c1 = c1_list[k]\n",
    "            c2 = c2_list[k]\n",
    "        \n",
    "        if message is not None and message == message:\n",
    "            c1, c2 = map(int, message.strip(\"()\").split(\",\"))\n",
    "\n",
    "        imputed_column.append(f\"({c1},{c2})\")\n",
    "\n",
    "    imputed_data[column_names[k]] = imputed_column"
   ]
  },
  {
   "cell_type": "code",
   "execution_count": 7,
   "metadata": {},
   "outputs": [],
   "source": [
    "scaler = joblib.load('13_CC_Scaler.joblib')"
   ]
  },
  {
   "cell_type": "code",
   "execution_count": 8,
   "metadata": {},
   "outputs": [
    {
     "name": "stderr",
     "output_type": "stream",
     "text": [
      "f:\\Thesis\\Resources\\custom_tuple_scaler.py:22: FutureWarning: DataFrame.applymap has been deprecated. Use DataFrame.map instead.\n",
      "  c2_values = X.applymap(self._extract_c2)\n"
     ]
    }
   ],
   "source": [
    "df_scaled = scaler.transform(imputed_data)\n",
    "df_scaled = pd.DataFrame(df_scaled, columns=imputed_data.columns)\n",
    "# df_scaled.to_csv('scaled_new_data.csv', index=False)"
   ]
  },
  {
   "cell_type": "code",
   "execution_count": 9,
   "metadata": {},
   "outputs": [],
   "source": [
    "with open(\"12_SP_Test_Data_RF_IF.txt\", \"r\") as file:\n",
    "    test_indices = eval(file.read()) "
   ]
  },
  {
   "cell_type": "code",
   "execution_count": 10,
   "metadata": {},
   "outputs": [],
   "source": [
    "file_path = \"13_CC_F1_Scores_RF_IF.txt\"\n",
    "\n",
    "with open(file_path, \"r\") as f:\n",
    "    lines = f.readlines()\n",
    "\n",
    "reference_f1_scores = []\n",
    "for line in lines:\n",
    "    if \"F1-score for fold\" in line:\n",
    "        score = float(line.split(\":\")[1].strip())\n",
    "        reference_f1_scores.append(score)"
   ]
  },
  {
   "cell_type": "code",
   "execution_count": 17,
   "metadata": {},
   "outputs": [
    {
     "name": "stdout",
     "output_type": "stream",
     "text": [
      "Test indices for fold 8: [1, 2, 11, 12, 22, 82, 106, 113, 139, 145, 149, 170, 180, 182, 200, 210, 228, 229, 247, 251, 261, 279, 282, 283, 287, 298, 300, 319, 333, 341, 343, 357, 377, 380, 383, 405, 407, 413, 425, 454, 456, 460, 463, 465, 466, 468, 471, 490, 495, 502, 536, 550, 559, 560, 583, 585, 587, 600, 631, 632, 635, 637, 638, 643, 655, 660, 668, 673, 676, 681, 683, 696, 701, 742, 758, 772, 786, 810, 813, 822, 829, 835, 859, 866, 870, 906, 910, 924, 964, 982, 984, 989, 996, 1002, 1007, 1014, 1019, 1030, 1046, 1048, 1079, 1082, 1086, 1096, 1116, 1139, 1140, 1142, 1153, 1157, 1166, 1167, 1170, 1200, 1205, 1211, 1214, 1215, 1222, 1247, 1251, 1265, 1270, 1295, 1297, 1298, 1337, 1346, 1354, 1356, 1382, 1387, 1394, 1397, 1412, 1415, 1416, 1440, 1442, 1467, 1468, 1489, 1498, 1499, 1511, 1547, 1557, 1581, 1604, 1619, 1627, 1630, 1649, 1656, 1681, 1689, 1694, 1709, 1728, 1735, 1741, 1753, 1757, 1764, 1778, 1785, 1792, 1795, 1808, 1813, 1824, 1833, 1845, 1854, 1856, 1868, 1869, 1870, 1871, 1882, 1894, 1909, 1926, 1928, 1929, 1932, 1948, 1956, 1960, 1974, 1994, 2003, 2016, 2018, 2024, 2028, 2030, 2032, 2039, 2043, 2050, 2055, 2058, 2070, 2076, 2084, 2089, 2090, 2097, 2105, 2127, 2144, 2145, 2208, 2236, 2245, 2253, 2254, 2295, 2298, 2304, 2324, 2341, 2343, 2344, 2349, 2353, 2355, 2368, 2369, 2388, 2432, 2434, 2470, 2474, 2482, 2540, 2542, 2564, 2573, 2577, 2579, 2593, 2624, 2625, 2634, 2656, 2668, 2687, 2694, 2700, 2703, 2708, 2712, 2748, 2754, 2758, 2763, 2767, 2772, 2778, 2784, 2798, 2818, 2820, 2829, 2840, 2861, 2885, 2898, 2919, 2929, 2937, 2944, 2950, 2958, 2967, 2969, 2971, 2976, 2985, 2990, 3000, 3010, 3016, 3033, 3046, 3049, 3073, 3074, 3076, 3082, 3084, 3090, 3091, 3092, 3094, 3118, 3131, 3132, 3133, 3173, 3182, 3195, 3203, 3204, 3205, 3211, 3275, 3280, 3282, 3298, 3299, 3301, 3308, 3329, 3336, 3348, 3368, 3370, 3388, 3393, 3395, 3411, 3418, 3420, 3426, 3444, 3445, 3447, 3448, 3454, 3457, 3462, 3480, 3488, 3530, 3531, 3533, 3535, 3546, 3563, 3600, 3609, 3612, 3613, 3614, 3619, 3632, 3642, 3657, 3669, 3673, 3679, 3693, 3702, 3703, 3710, 3712, 3714, 3723, 3731, 3733, 3735, 3737, 3761, 3768, 3782, 3793, 3798, 3846, 3850, 3865, 3868, 3883, 3908, 3912, 3922, 3927, 3934, 3942, 3948, 4020, 4035]\n",
      "Computed F1-score for fold 1: 94.31\n",
      "Reference F1-score for fold 1: 94.31\n",
      "The computed F1-score matches the reference score.\n"
     ]
    }
   ],
   "source": [
    "fold_to_test = random.randint(1, 10)\n",
    "\n",
    "test_indices_fold = test_indices[fold_to_test - 1] \n",
    "print(f\"Test indices for fold {fold_to_test}: {test_indices_fold}\")\n",
    "\n",
    "X_test = df_scaled.iloc[test_indices_fold]\n",
    "\n",
    "model_path = f'12_SP_Model_RF_IF_{fold_to_test}.joblib'\n",
    "model = joblib.load(model_path)\n",
    "\n",
    "Y_test = Y.iloc[test_indices_fold]\n",
    "Y_pred = model.predict(X_test)\n",
    "\n",
    "computed_f1_fold = f1_score(Y_test, Y_pred) * 100\n",
    "\n",
    "reference_f1_fold = reference_f1_scores[fold_to_test - 1]\n",
    "\n",
    "print(f\"Computed F1-score for fold 1: {computed_f1_fold:.2f}\")\n",
    "print(f\"Reference F1-score for fold 1: {reference_f1_fold:.2f}\")\n",
    "\n",
    "if np.isclose(computed_f1_fold, reference_f1_fold, atol=1e-2):\n",
    "    print(\"The computed F1-score matches the reference score.\")\n",
    "else:\n",
    "    print(\"The computed F1-score does not match the reference score.\")"
   ]
  },
  {
   "cell_type": "code",
   "execution_count": null,
   "metadata": {},
   "outputs": [],
   "source": []
  }
 ],
 "metadata": {
  "kernelspec": {
   "display_name": "Python 3",
   "language": "python",
   "name": "python3"
  },
  "language_info": {
   "codemirror_mode": {
    "name": "ipython",
    "version": 3
   },
   "file_extension": ".py",
   "mimetype": "text/x-python",
   "name": "python",
   "nbconvert_exporter": "python",
   "pygments_lexer": "ipython3",
   "version": "3.12.3"
  }
 },
 "nbformat": 4,
 "nbformat_minor": 2
}
