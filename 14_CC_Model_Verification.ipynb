{
 "cells": [
  {
   "cell_type": "code",
   "execution_count": 1,
   "metadata": {},
   "outputs": [],
   "source": [
    "import pandas as pd\n",
    "import numpy as np\n",
    "from sklearn.metrics import f1_score\n",
    "import random\n",
    "import joblib\n",
    "import os\n",
    "os.chdir('Resources/')"
   ]
  },
  {
   "cell_type": "code",
   "execution_count": 2,
   "metadata": {},
   "outputs": [],
   "source": [
    "df = pd.read_csv('7_CC_Encrypted_Data.csv')\n",
    "df = df.dropna()"
   ]
  },
  {
   "cell_type": "code",
   "execution_count": 3,
   "metadata": {},
   "outputs": [
    {
     "data": {
      "text/html": [
       "<div>\n",
       "<style scoped>\n",
       "    .dataframe tbody tr th:only-of-type {\n",
       "        vertical-align: middle;\n",
       "    }\n",
       "\n",
       "    .dataframe tbody tr th {\n",
       "        vertical-align: top;\n",
       "    }\n",
       "\n",
       "    .dataframe thead th {\n",
       "        text-align: right;\n",
       "    }\n",
       "</style>\n",
       "<table border=\"1\" class=\"dataframe\">\n",
       "  <thead>\n",
       "    <tr style=\"text-align: right;\">\n",
       "      <th></th>\n",
       "      <th>HeartDisease</th>\n",
       "    </tr>\n",
       "  </thead>\n",
       "  <tbody>\n",
       "    <tr>\n",
       "      <th>1</th>\n",
       "      <td>1</td>\n",
       "    </tr>\n",
       "    <tr>\n",
       "      <th>3</th>\n",
       "      <td>1</td>\n",
       "    </tr>\n",
       "    <tr>\n",
       "      <th>8</th>\n",
       "      <td>1</td>\n",
       "    </tr>\n",
       "    <tr>\n",
       "      <th>11</th>\n",
       "      <td>1</td>\n",
       "    </tr>\n",
       "    <tr>\n",
       "      <th>13</th>\n",
       "      <td>1</td>\n",
       "    </tr>\n",
       "    <tr>\n",
       "      <th>...</th>\n",
       "      <td>...</td>\n",
       "    </tr>\n",
       "    <tr>\n",
       "      <th>2640</th>\n",
       "      <td>1</td>\n",
       "    </tr>\n",
       "    <tr>\n",
       "      <th>2641</th>\n",
       "      <td>0</td>\n",
       "    </tr>\n",
       "    <tr>\n",
       "      <th>2644</th>\n",
       "      <td>1</td>\n",
       "    </tr>\n",
       "    <tr>\n",
       "      <th>2658</th>\n",
       "      <td>1</td>\n",
       "    </tr>\n",
       "    <tr>\n",
       "      <th>2684</th>\n",
       "      <td>1</td>\n",
       "    </tr>\n",
       "  </tbody>\n",
       "</table>\n",
       "<p>1642 rows × 1 columns</p>\n",
       "</div>"
      ],
      "text/plain": [
       "      HeartDisease\n",
       "1                1\n",
       "3                1\n",
       "8                1\n",
       "11               1\n",
       "13               1\n",
       "...            ...\n",
       "2640             1\n",
       "2641             0\n",
       "2644             1\n",
       "2658             1\n",
       "2684             1\n",
       "\n",
       "[1642 rows x 1 columns]"
      ]
     },
     "execution_count": 3,
     "metadata": {},
     "output_type": "execute_result"
    }
   ],
   "source": [
    "Y = df[['HeartDisease']]\n",
    "Y"
   ]
  },
  {
   "cell_type": "code",
   "execution_count": 4,
   "metadata": {},
   "outputs": [
    {
     "name": "stdout",
     "output_type": "stream",
     "text": [
      "7725238297445332127407991595158267606450716631553 , 16769086783313564315005892769905829054995190029829\n",
      "35517718033104704088502485275726341561551904284337 , 31694636052743011877949568441539763601955516573450\n",
      "22443659489472860229040290952583046495774185357615 , 11407956384593602362165329678909474016590433695050\n",
      "32645786427389652046014896610704699713743820311933 , 27848688656612519512115896382947924708080835729495\n",
      "1304267054805981944467088018208132613735969340595 , 40213139556224060457987572335146069079275789945642\n",
      "18959108316266119489233644530980633950698663352542 , 28082894499471325471937036264896652341526293338076\n",
      "12741437569542050747073334897738270095511225090014 , 19660254220672399784068893752515660820093302012187\n",
      "7384466023307569122962762536709314464704923088871 , 25542657224091022127356801313755505015993021832836\n",
      "20461355034696913938060735031266347179123151849021 , 35928566874823627247307907597475510870209061128324\n",
      "13381293829980648505678154992049712828324147825414 , 22796781457787094302473807285697101270148209248772\n",
      "33269922789787438881901292310454632547714019546100 , 3349668571005574692707957026934212895895424335267\n",
      "[7725238297445332127407991595158267606450716631553, 35517718033104704088502485275726341561551904284337, 22443659489472860229040290952583046495774185357615, 32645786427389652046014896610704699713743820311933, 1304267054805981944467088018208132613735969340595, 18959108316266119489233644530980633950698663352542, 12741437569542050747073334897738270095511225090014, 7384466023307569122962762536709314464704923088871, 20461355034696913938060735031266347179123151849021, 13381293829980648505678154992049712828324147825414, 33269922789787438881901292310454632547714019546100]\n",
      "[16769086783313564315005892769905829054995190029829, 31694636052743011877949568441539763601955516573450, 11407956384593602362165329678909474016590433695050, 27848688656612519512115896382947924708080835729495, 40213139556224060457987572335146069079275789945642, 28082894499471325471937036264896652341526293338076, 19660254220672399784068893752515660820093302012187, 25542657224091022127356801313755505015993021832836, 35928566874823627247307907597475510870209061128324, 22796781457787094302473807285697101270148209248772, 3349668571005574692707957026934212895895424335267]\n"
     ]
    }
   ],
   "source": [
    "c1_list = []\n",
    "c2_list = []\n",
    "\n",
    "for k in range(11):\n",
    "    cnt = 0\n",
    "    c1_sum = 0\n",
    "    c2_sum = 0\n",
    "    \n",
    "    messages = df.iloc[:, k].values\n",
    "\n",
    "    for i, message in enumerate(messages, 1):\n",
    "        if message is not None and message == message:\n",
    "            c1, c2 = map(int, message.strip(\"()\").split(\",\"))\n",
    "            c1_sum += c1\n",
    "            c2_sum += c2\n",
    "            cnt += 1\n",
    "    \n",
    "    print(c1_sum//cnt, \",\", c2_sum//cnt)\n",
    "\n",
    "    c1_list.append(c1_sum//cnt)\n",
    "    c2_list.append(c2_sum//cnt)\n",
    "\n",
    "print(c1_list)\n",
    "print(c2_list)"
   ]
  },
  {
   "cell_type": "code",
   "execution_count": 5,
   "metadata": {},
   "outputs": [],
   "source": [
    "column_names = [\n",
    "    \"Age\", \"Sex\", \"ChestPainType\", \"RestingBloodPressure\", \"Cholesterol\",\n",
    "    \"FastingBloodSugar\", \"RestingECG\", \"MaximumHeartRate\", \"ExerciseAngina\",\n",
    "    \"Oldpeak\", \"ST_Slope\", \"HeartDisease\"\n",
    "]"
   ]
  },
  {
   "cell_type": "code",
   "execution_count": 6,
   "metadata": {},
   "outputs": [],
   "source": [
    "imputed_data = pd.DataFrame()\n",
    "\n",
    "for k in range(11):\n",
    "    \n",
    "    messages = df.iloc[:, k].values\n",
    "\n",
    "    imputed_column = []\n",
    "\n",
    "    for i, message in enumerate(messages, 1):\n",
    "        if message is None:\n",
    "            c1 = c1_list[k]\n",
    "            c2 = c2_list[k]\n",
    "        \n",
    "        if message is not None and message == message:\n",
    "            c1, c2 = map(int, message.strip(\"()\").split(\",\"))\n",
    "\n",
    "        imputed_column.append(f\"({c1},{c2})\")\n",
    "\n",
    "    imputed_data[column_names[k]] = imputed_column"
   ]
  },
  {
   "cell_type": "code",
   "execution_count": 7,
   "metadata": {},
   "outputs": [],
   "source": [
    "scaler = joblib.load('13_CC_Scaler.joblib')"
   ]
  },
  {
   "cell_type": "code",
   "execution_count": 8,
   "metadata": {},
   "outputs": [
    {
     "name": "stderr",
     "output_type": "stream",
     "text": [
      "g:\\Thesis - Paper\\Resources\\custom_tuple_scaler.py:22: FutureWarning: DataFrame.applymap has been deprecated. Use DataFrame.map instead.\n",
      "  c2_values = X.applymap(self._extract_c2)\n"
     ]
    }
   ],
   "source": [
    "df_scaled = scaler.transform(imputed_data)\n",
    "df_scaled = pd.DataFrame(df_scaled, columns=imputed_data.columns)\n",
    "df_scaled.to_csv('14_CC_Scaled_Data.csv', index=False)"
   ]
  },
  {
   "cell_type": "code",
   "execution_count": 9,
   "metadata": {},
   "outputs": [],
   "source": [
    "file_path = \"13_CC_F1_Score_RF_XGB.txt\"\n",
    "\n",
    "with open(file_path, \"r\") as f:\n",
    "    reference_f1_score = float(f.read().strip())"
   ]
  },
  {
   "cell_type": "code",
   "execution_count": 10,
   "metadata": {},
   "outputs": [],
   "source": [
    "import ast\n",
    "\n",
    "with open('12_SP_Test_Data_RF_XGB.txt', 'r') as f:\n",
    "    content = f.read().strip()\n",
    "    test_indices = ast.literal_eval(content)[0]\n",
    "\n",
    "X_test = df_scaled.iloc[test_indices]\n",
    "Y_test = Y.iloc[test_indices]"
   ]
  },
  {
   "cell_type": "code",
   "execution_count": 16,
   "metadata": {},
   "outputs": [
    {
     "name": "stdout",
     "output_type": "stream",
     "text": [
      "Combined F1-score:  94.78%\n",
      "Reference F1-score:  94.78%\n"
     ]
    }
   ],
   "source": [
    "import numpy as np\n",
    "import joblib\n",
    "\n",
    "model_dict = joblib.load('12_SP_Model_RF_XGB.joblib')\n",
    "rf = model_dict['rf']\n",
    "xgb = model_dict['xgb']\n",
    "\n",
    "rf_pred = rf.predict(X_test)\n",
    "xgb_pred = xgb.predict(X_test)\n",
    "\n",
    "combined_pred = [r if r == x else r for r, x in zip(rf_pred, xgb_pred)]\n",
    "\n",
    "combined_f1 = f1_score(Y_test, combined_pred) * 100\n",
    "print(f\"Combined F1-score: {combined_f1 : .2f}%\")\n",
    "print(f\"Reference F1-score: {reference_f1_score * 100 : .2f}%\")"
   ]
  },
  {
   "cell_type": "code",
   "execution_count": null,
   "metadata": {},
   "outputs": [],
   "source": []
  }
 ],
 "metadata": {
  "kernelspec": {
   "display_name": "Python 3",
   "language": "python",
   "name": "python3"
  },
  "language_info": {
   "codemirror_mode": {
    "name": "ipython",
    "version": 3
   },
   "file_extension": ".py",
   "mimetype": "text/x-python",
   "name": "python",
   "nbconvert_exporter": "python",
   "pygments_lexer": "ipython3",
   "version": "3.12.3"
  }
 },
 "nbformat": 4,
 "nbformat_minor": 2
}
