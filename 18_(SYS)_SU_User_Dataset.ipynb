{
 "cells": [
  {
   "cell_type": "code",
   "execution_count": 1,
   "metadata": {},
   "outputs": [],
   "source": [
    "import ipywidgets as widgets\n",
    "from IPython.display import display\n",
    "import pandas as pd\n",
    "import hashlib\n",
    "import random\n",
    "import os\n",
    "import pickle\n",
    "import joblib\n",
    "os.chdir('Resources/')"
   ]
  },
  {
   "cell_type": "code",
   "execution_count": 2,
   "metadata": {},
   "outputs": [],
   "source": [
    "import pandas as pd\n",
    "import ipywidgets as widgets\n",
    "\n",
    "# Create mappings for categorical values to indices\n",
    "sex_mapping = {'Female': 0, 'Male': 1}\n",
    "chest_pain_type_mapping = {'Typical Angina': 0, 'Atypical Angina': 1, 'Non-anginal Pain': 2, 'Asymptomatic': 3}\n",
    "fasting_blood_sugar_mapping = {'No': 0, 'Yes': 1}\n",
    "resting_ecg_mapping = {'Normal': 0, 'Abnormal ST-T Wave': 1, 'Left Ventricular Hypertrophy': 2}\n",
    "exercise_angina_mapping = {'No': 0, 'Yes': 1}\n",
    "st_slope_mapping = {'Upsloping': 0, 'Flat': 1, 'Downsloping': 2}\n",
    "\n",
    "# Save button callback\n",
    "def save_button_clicked(b):\n",
    "    # Map categorical values to indices\n",
    "    data = {\n",
    "        \"Age\": [age_widget.value],\n",
    "        \"Sex\": [sex_mapping[sex_widget.value]],\n",
    "        \"ChestPainType\": [chest_pain_type_mapping[chest_pain_type_widget.value]],\n",
    "        \"RestingBloodPressure\": [resting_blood_pressure_widget.value],\n",
    "        \"Cholesterol\": [cholesterol_widget.value],\n",
    "        \"FastingBloodSugar\": [fasting_blood_sugar_mapping[fasting_blood_sugar_widget.value]],\n",
    "        \"RestingECG\": [resting_ecg_mapping[resting_ecg_widget.value]],\n",
    "        \"MaximumHeartRate\": [max_heart_rate_widget.value],\n",
    "        \"ExerciseAngina\": [exercise_angina_mapping[exercise_angina_widget.value]],\n",
    "        \"Oldpeak\": [oldpeak_widget.value],\n",
    "        \"ST_Slope\": [st_slope_mapping[st_slope_widget.value]]\n",
    "    }\n",
    "    # Create DataFrame\n",
    "    df = pd.DataFrame(data)\n",
    "    # Save data to CSV without column names\n",
    "    df.to_csv(\"18_(SYS)_SU_User_Data.csv\", index=False, header=False)\n",
    "    with output_widget:\n",
    "        output_widget.clear_output()\n",
    "        print(\"Data saved.\")"
   ]
  },
  {
   "cell_type": "code",
   "execution_count": null,
   "metadata": {},
   "outputs": [
    {
     "data": {
      "application/vnd.jupyter.widget-view+json": {
       "model_id": "46f2d0e8d03f406babc9cc2db0bc1c68",
       "version_major": 2,
       "version_minor": 0
      },
      "text/plain": [
       "Text(value='', description='Age:')"
      ]
     },
     "metadata": {},
     "output_type": "display_data"
    },
    {
     "data": {
      "application/vnd.jupyter.widget-view+json": {
       "model_id": "054588ca96a84e519ced4e6f7c4f248a",
       "version_major": 2,
       "version_minor": 0
      },
      "text/plain": [
       "Dropdown(description='Sex:', options=('Female', 'Male'), value='Female')"
      ]
     },
     "metadata": {},
     "output_type": "display_data"
    },
    {
     "data": {
      "application/vnd.jupyter.widget-view+json": {
       "model_id": "d08f52db7c83400fa407c8bbca726532",
       "version_major": 2,
       "version_minor": 0
      },
      "text/plain": [
       "Dropdown(description='ChestPainType:', options=('Typical Angina', 'Atypical Angina', 'Non-anginal Pain', 'Asym…"
      ]
     },
     "metadata": {},
     "output_type": "display_data"
    },
    {
     "data": {
      "application/vnd.jupyter.widget-view+json": {
       "model_id": "95e5f80f04284bb29fd5aaf95a8100bd",
       "version_major": 2,
       "version_minor": 0
      },
      "text/plain": [
       "Text(value='', description='RestingBloodPressure:')"
      ]
     },
     "metadata": {},
     "output_type": "display_data"
    },
    {
     "data": {
      "application/vnd.jupyter.widget-view+json": {
       "model_id": "b2f7cb9b37234b6b8bbbc0230eeb5064",
       "version_major": 2,
       "version_minor": 0
      },
      "text/plain": [
       "Text(value='', description='Cholesterol:')"
      ]
     },
     "metadata": {},
     "output_type": "display_data"
    },
    {
     "data": {
      "application/vnd.jupyter.widget-view+json": {
       "model_id": "e814de4bfcc845429a46c1b69437cbf5",
       "version_major": 2,
       "version_minor": 0
      },
      "text/plain": [
       "Dropdown(description='FastingBloodSugar:', options=('No', 'Yes'), value='No')"
      ]
     },
     "metadata": {},
     "output_type": "display_data"
    },
    {
     "data": {
      "application/vnd.jupyter.widget-view+json": {
       "model_id": "335c8d9a69114e55a69a7f4fa698edf8",
       "version_major": 2,
       "version_minor": 0
      },
      "text/plain": [
       "Dropdown(description='RestingECG:', options=('Normal', 'Abnormal ST-T Wave', 'Left Ventricular Hypertrophy'), …"
      ]
     },
     "metadata": {},
     "output_type": "display_data"
    },
    {
     "data": {
      "application/vnd.jupyter.widget-view+json": {
       "model_id": "f592239cc39d4a5ebaf721a8eec90c4b",
       "version_major": 2,
       "version_minor": 0
      },
      "text/plain": [
       "Text(value='', description='MaximumHeartRate:')"
      ]
     },
     "metadata": {},
     "output_type": "display_data"
    },
    {
     "data": {
      "application/vnd.jupyter.widget-view+json": {
       "model_id": "4de4ded539cf45548466aa6db548bfce",
       "version_major": 2,
       "version_minor": 0
      },
      "text/plain": [
       "Dropdown(description='ExerciseAngina:', options=('No', 'Yes'), value='No')"
      ]
     },
     "metadata": {},
     "output_type": "display_data"
    },
    {
     "data": {
      "application/vnd.jupyter.widget-view+json": {
       "model_id": "02dfc0409635453191534142c8bb5354",
       "version_major": 2,
       "version_minor": 0
      },
      "text/plain": [
       "Text(value='', description='Oldpeak:')"
      ]
     },
     "metadata": {},
     "output_type": "display_data"
    },
    {
     "data": {
      "application/vnd.jupyter.widget-view+json": {
       "model_id": "b32db86549a54771a67d0e0f5ba2326c",
       "version_major": 2,
       "version_minor": 0
      },
      "text/plain": [
       "Dropdown(description='ST_Slope:', options=('Upsloping', 'Flat', 'Downsloping'), value='Upsloping')"
      ]
     },
     "metadata": {},
     "output_type": "display_data"
    },
    {
     "data": {
      "application/vnd.jupyter.widget-view+json": {
       "model_id": "5b7a9f78ffe0472aa594602604857ce3",
       "version_major": 2,
       "version_minor": 0
      },
      "text/plain": [
       "Button(description='Save Data', style=ButtonStyle())"
      ]
     },
     "metadata": {},
     "output_type": "display_data"
    },
    {
     "data": {
      "application/vnd.jupyter.widget-view+json": {
       "model_id": "df26ace8aab74bd3ad718dbac8498fa4",
       "version_major": 2,
       "version_minor": 0
      },
      "text/plain": [
       "Output()"
      ]
     },
     "metadata": {},
     "output_type": "display_data"
    }
   ],
   "source": [
    "age_widget = widgets.Text(description=\"Age:\")\n",
    "sex_widget = widgets.Dropdown(options=['Female', 'Male'], description=\"Sex:\")\n",
    "chest_pain_type_widget = widgets.Dropdown(\n",
    "    options=['Typical Angina', 'Atypical Angina', 'Non-anginal Pain', 'Asymptomatic'],\n",
    "    description=\"ChestPainType:\")\n",
    "resting_blood_pressure_widget = widgets.Text(description=\"RestingBloodPressure:\")\n",
    "cholesterol_widget = widgets.Text(description=\"Cholesterol:\")\n",
    "fasting_blood_sugar_widget = widgets.Dropdown(options=['No', 'Yes'], description=\"FastingBloodSugar:\")\n",
    "resting_ecg_widget = widgets.Dropdown(\n",
    "    options=['Normal', 'Abnormal ST-T Wave', 'Left Ventricular Hypertrophy'], description=\"RestingECG:\")\n",
    "max_heart_rate_widget = widgets.Text(description=\"MaximumHeartRate:\")\n",
    "exercise_angina_widget = widgets.Dropdown(options=['No', 'Yes'], description=\"ExerciseAngina:\")\n",
    "oldpeak_widget = widgets.Text(description=\"Oldpeak:\")\n",
    "st_slope_widget = widgets.Dropdown(options=['Upsloping', 'Flat', 'Downsloping'], description=\"ST_Slope:\")\n",
    "\n",
    "save_button = widgets.Button(description=\"Save Data\")\n",
    "output_widget = widgets.Output()\n",
    "\n",
    "# Link save button to function\n",
    "save_button.on_click(save_button_clicked)\n",
    "\n",
    "# Display widgets\n",
    "display(\n",
    "    age_widget, sex_widget, chest_pain_type_widget, resting_blood_pressure_widget, cholesterol_widget,\n",
    "    fasting_blood_sugar_widget, resting_ecg_widget, max_heart_rate_widget, exercise_angina_widget,\n",
    "    oldpeak_widget, st_slope_widget, save_button, output_widget\n",
    ")"
   ]
  },
  {
   "cell_type": "code",
   "execution_count": null,
   "metadata": {},
   "outputs": [],
   "source": []
  }
 ],
 "metadata": {
  "kernelspec": {
   "display_name": "Python 3",
   "language": "python",
   "name": "python3"
  },
  "language_info": {
   "codemirror_mode": {
    "name": "ipython",
    "version": 3
   },
   "file_extension": ".py",
   "mimetype": "text/x-python",
   "name": "python",
   "nbconvert_exporter": "python",
   "pygments_lexer": "ipython3",
   "version": "3.12.3"
  }
 },
 "nbformat": 4,
 "nbformat_minor": 2
}
