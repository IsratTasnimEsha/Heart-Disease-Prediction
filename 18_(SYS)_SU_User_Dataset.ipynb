{
 "cells": [
  {
   "cell_type": "code",
   "execution_count": 1,
   "metadata": {},
   "outputs": [],
   "source": [
    "import ipywidgets as widgets\n",
    "from IPython.display import display\n",
    "import pandas as pd\n",
    "import hashlib\n",
    "import random\n",
    "import os\n",
    "import pickle\n",
    "import joblib\n",
    "os.chdir('Resources/')"
   ]
  },
  {
   "cell_type": "code",
   "execution_count": 2,
   "metadata": {},
   "outputs": [],
   "source": [
    "cols_to_numeric = ['Age', 'RestingBloodPressure', 'Cholesterol', 'MaximumHeartRate', 'Oldpeak']\n",
    "\n",
    "def categorize_age(age):\n",
    "    if age <= 40:\n",
    "        return 0\n",
    "    elif age <= 50:\n",
    "        return 1\n",
    "    elif age <= 60:\n",
    "        return 2\n",
    "    else:\n",
    "        return 3\n",
    "\n",
    "def categorize_bp(bp):\n",
    "    if bp < 110:\n",
    "        return 0\n",
    "    elif bp <= 130:\n",
    "        return 1\n",
    "    elif bp <= 150:\n",
    "        return 2\n",
    "    else:\n",
    "        return 3\n",
    "\n",
    "def categorize_chol(chol):\n",
    "    if chol < 200:\n",
    "        return 0\n",
    "    elif chol <= 239:\n",
    "        return 1\n",
    "    else:\n",
    "        return 2\n",
    "\n",
    "def categorize_hr(hr):\n",
    "    if hr < 100:\n",
    "        return 0\n",
    "    elif hr <= 140:\n",
    "        return 1\n",
    "    else:\n",
    "        return 2\n",
    "\n",
    "def categorize_oldpeak(op):\n",
    "    if op == 0:\n",
    "        return 0\n",
    "    elif op <= 1.0:\n",
    "        return 1\n",
    "    elif op <= 2.0:\n",
    "        return 2\n",
    "    else:\n",
    "        return 3"
   ]
  },
  {
   "cell_type": "code",
   "execution_count": 3,
   "metadata": {},
   "outputs": [],
   "source": [
    "import pandas as pd\n",
    "import ipywidgets as widgets\n",
    "\n",
    "sex_mapping = {'Female': 0, 'Male': 1}\n",
    "chest_pain_type_mapping = {'Typical Angina': 0, 'Atypical Angina': 1, 'Non-anginal Pain': 2, 'Asymptomatic': 3}\n",
    "fasting_blood_sugar_mapping = {'No': 0, 'Yes': 1}\n",
    "resting_ecg_mapping = {'Normal': 0, 'Abnormal ST-T Wave': 1, 'Left Ventricular Hypertrophy': 2}\n",
    "exercise_angina_mapping = {'No': 0, 'Yes': 1}\n",
    "st_slope_mapping = {'Upsloping': 0, 'Flat': 1, 'Downsloping': 2}\n",
    "\n",
    "def save_button_clicked(b):\n",
    "\n",
    "    data = {\n",
    "        \"Age\": [age_widget.value],\n",
    "        \"Sex\": [sex_mapping[sex_widget.value]],\n",
    "        \"ChestPainType\": [chest_pain_type_mapping[chest_pain_type_widget.value]],\n",
    "        \"RestingBloodPressure\": [resting_blood_pressure_widget.value],\n",
    "        \"Cholesterol\": [cholesterol_widget.value],\n",
    "        \"FastingBloodSugar\": [fasting_blood_sugar_mapping[fasting_blood_sugar_widget.value]],\n",
    "        \"RestingECG\": [resting_ecg_mapping[resting_ecg_widget.value]],\n",
    "        \"MaximumHeartRate\": [max_heart_rate_widget.value],\n",
    "        \"ExerciseAngina\": [exercise_angina_mapping[exercise_angina_widget.value]],\n",
    "        \"Oldpeak\": [oldpeak_widget.value],\n",
    "        \"ST_Slope\": [st_slope_mapping[st_slope_widget.value]]\n",
    "    }\n",
    "\n",
    "    df = pd.DataFrame(data)\n",
    "\n",
    "    for col in cols_to_numeric:\n",
    "        df[col] = pd.to_numeric(df[col], errors='coerce')\n",
    "\n",
    "    df['Age'] = df['Age'].apply(categorize_age)\n",
    "    df['RestingBloodPressure'] = df['RestingBloodPressure'].apply(categorize_bp)\n",
    "    df['Cholesterol'] = df['Cholesterol'].apply(categorize_chol)\n",
    "    df['MaximumHeartRate'] = df['MaximumHeartRate'].apply(categorize_hr)\n",
    "    df['Oldpeak'] = df['Oldpeak'].apply(categorize_oldpeak)\n",
    "\n",
    "    df.to_csv(\"18_(SYS)_SU_User_Data.csv\", index=False, header=False)\n",
    "    with output_widget:\n",
    "        output_widget.clear_output()\n",
    "        print(\"Data saved.\")"
   ]
  },
  {
   "cell_type": "code",
   "execution_count": null,
   "metadata": {},
   "outputs": [
    {
     "data": {
      "application/vnd.jupyter.widget-view+json": {
       "model_id": "a7e525a5b49a403c8a01a2d521e7729a",
       "version_major": 2,
       "version_minor": 0
      },
      "text/plain": [
       "Text(value='', description='Age:')"
      ]
     },
     "metadata": {},
     "output_type": "display_data"
    },
    {
     "data": {
      "application/vnd.jupyter.widget-view+json": {
       "model_id": "9a363beab00a428893a134cdc59e38e9",
       "version_major": 2,
       "version_minor": 0
      },
      "text/plain": [
       "Dropdown(description='Sex:', options=('Female', 'Male'), value='Female')"
      ]
     },
     "metadata": {},
     "output_type": "display_data"
    },
    {
     "data": {
      "application/vnd.jupyter.widget-view+json": {
       "model_id": "5bc6ac181b174dcf91d515dff24e9da0",
       "version_major": 2,
       "version_minor": 0
      },
      "text/plain": [
       "Dropdown(description='ChestPainType:', options=('Typical Angina', 'Atypical Angina', 'Non-anginal Pain', 'Asym…"
      ]
     },
     "metadata": {},
     "output_type": "display_data"
    },
    {
     "data": {
      "application/vnd.jupyter.widget-view+json": {
       "model_id": "bd84f0cd515b4146ba6e4b539f850193",
       "version_major": 2,
       "version_minor": 0
      },
      "text/plain": [
       "Text(value='', description='RestingBloodPressure:')"
      ]
     },
     "metadata": {},
     "output_type": "display_data"
    },
    {
     "data": {
      "application/vnd.jupyter.widget-view+json": {
       "model_id": "b2da74986d0b4986874132bb8e04871f",
       "version_major": 2,
       "version_minor": 0
      },
      "text/plain": [
       "Text(value='', description='Cholesterol:')"
      ]
     },
     "metadata": {},
     "output_type": "display_data"
    },
    {
     "data": {
      "application/vnd.jupyter.widget-view+json": {
       "model_id": "a055f154863f4eb9af69bc20a29846d6",
       "version_major": 2,
       "version_minor": 0
      },
      "text/plain": [
       "Dropdown(description='FastingBloodSugar:', options=('No', 'Yes'), value='No')"
      ]
     },
     "metadata": {},
     "output_type": "display_data"
    },
    {
     "data": {
      "application/vnd.jupyter.widget-view+json": {
       "model_id": "b28bb53d8f1442ceaa4bfa3e4e37f034",
       "version_major": 2,
       "version_minor": 0
      },
      "text/plain": [
       "Dropdown(description='RestingECG:', options=('Normal', 'Abnormal ST-T Wave', 'Left Ventricular Hypertrophy'), …"
      ]
     },
     "metadata": {},
     "output_type": "display_data"
    },
    {
     "data": {
      "application/vnd.jupyter.widget-view+json": {
       "model_id": "1593b0a27afb44cfbc0c7bb9e2df6e3a",
       "version_major": 2,
       "version_minor": 0
      },
      "text/plain": [
       "Text(value='', description='MaximumHeartRate:')"
      ]
     },
     "metadata": {},
     "output_type": "display_data"
    },
    {
     "data": {
      "application/vnd.jupyter.widget-view+json": {
       "model_id": "cfae58eb60174417a50754072fe7ea72",
       "version_major": 2,
       "version_minor": 0
      },
      "text/plain": [
       "Dropdown(description='ExerciseAngina:', options=('No', 'Yes'), value='No')"
      ]
     },
     "metadata": {},
     "output_type": "display_data"
    },
    {
     "data": {
      "application/vnd.jupyter.widget-view+json": {
       "model_id": "957e2f276fc1450895ca3ca1ced4e80b",
       "version_major": 2,
       "version_minor": 0
      },
      "text/plain": [
       "Text(value='', description='Oldpeak:')"
      ]
     },
     "metadata": {},
     "output_type": "display_data"
    },
    {
     "data": {
      "application/vnd.jupyter.widget-view+json": {
       "model_id": "f5ad2316871d429a81277b51826ed13f",
       "version_major": 2,
       "version_minor": 0
      },
      "text/plain": [
       "Dropdown(description='ST_Slope:', options=('Upsloping', 'Flat', 'Downsloping'), value='Upsloping')"
      ]
     },
     "metadata": {},
     "output_type": "display_data"
    },
    {
     "data": {
      "application/vnd.jupyter.widget-view+json": {
       "model_id": "e03973b13ce64b4690802544907d82cd",
       "version_major": 2,
       "version_minor": 0
      },
      "text/plain": [
       "Button(description='Save Data', style=ButtonStyle())"
      ]
     },
     "metadata": {},
     "output_type": "display_data"
    },
    {
     "data": {
      "application/vnd.jupyter.widget-view+json": {
       "model_id": "2c6093023a10461188b2b43e7e4b2403",
       "version_major": 2,
       "version_minor": 0
      },
      "text/plain": [
       "Output()"
      ]
     },
     "metadata": {},
     "output_type": "display_data"
    }
   ],
   "source": [
    "age_widget = widgets.Text(description=\"Age:\")\n",
    "sex_widget = widgets.Dropdown(options=['Female', 'Male'], description=\"Sex:\")\n",
    "chest_pain_type_widget = widgets.Dropdown(\n",
    "    options=['Typical Angina', 'Atypical Angina', 'Non-anginal Pain', 'Asymptomatic'],\n",
    "    description=\"ChestPainType:\")\n",
    "resting_blood_pressure_widget = widgets.Text(description=\"RestingBloodPressure:\")\n",
    "cholesterol_widget = widgets.Text(description=\"Cholesterol:\")\n",
    "fasting_blood_sugar_widget = widgets.Dropdown(options=['No', 'Yes'], description=\"FastingBloodSugar:\")\n",
    "resting_ecg_widget = widgets.Dropdown(\n",
    "    options=['Normal', 'Abnormal ST-T Wave', 'Left Ventricular Hypertrophy'], description=\"RestingECG:\")\n",
    "max_heart_rate_widget = widgets.Text(description=\"MaximumHeartRate:\")\n",
    "exercise_angina_widget = widgets.Dropdown(options=['No', 'Yes'], description=\"ExerciseAngina:\")\n",
    "oldpeak_widget = widgets.Text(description=\"Oldpeak:\")\n",
    "st_slope_widget = widgets.Dropdown(options=['Upsloping', 'Flat', 'Downsloping'], description=\"ST_Slope:\")\n",
    "\n",
    "save_button = widgets.Button(description=\"Save Data\")\n",
    "output_widget = widgets.Output()\n",
    "\n",
    "# Link save button to function\n",
    "save_button.on_click(save_button_clicked)\n",
    "\n",
    "# Display widgets\n",
    "display(\n",
    "    age_widget, sex_widget, chest_pain_type_widget, resting_blood_pressure_widget, cholesterol_widget,\n",
    "    fasting_blood_sugar_widget, resting_ecg_widget, max_heart_rate_widget, exercise_angina_widget,\n",
    "    oldpeak_widget, st_slope_widget, save_button, output_widget\n",
    ")"
   ]
  },
  {
   "cell_type": "code",
   "execution_count": null,
   "metadata": {},
   "outputs": [],
   "source": []
  }
 ],
 "metadata": {
  "kernelspec": {
   "display_name": "Python 3",
   "language": "python",
   "name": "python3"
  },
  "language_info": {
   "codemirror_mode": {
    "name": "ipython",
    "version": 3
   },
   "file_extension": ".py",
   "mimetype": "text/x-python",
   "name": "python",
   "nbconvert_exporter": "python",
   "pygments_lexer": "ipython3",
   "version": "3.12.3"
  }
 },
 "nbformat": 4,
 "nbformat_minor": 2
}
