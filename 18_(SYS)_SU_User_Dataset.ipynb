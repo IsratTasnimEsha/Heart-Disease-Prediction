{
 "cells": [
  {
   "cell_type": "code",
   "execution_count": 1,
   "metadata": {},
   "outputs": [],
   "source": [
    "import ipywidgets as widgets\n",
    "from IPython.display import display\n",
    "import pandas as pd\n",
    "import hashlib\n",
    "import random\n",
    "import os\n",
    "import pickle\n",
    "import joblib\n",
    "os.chdir('Resources/')"
   ]
  },
  {
   "cell_type": "code",
   "execution_count": 2,
   "metadata": {},
   "outputs": [],
   "source": [
    "cols_to_numeric = ['Age', 'RestingBloodPressure', 'Cholesterol', 'MaximumHeartRate', 'Oldpeak']\n",
    "\n",
    "def categorize_age(age):\n",
    "    if age <= 40:\n",
    "        return 0\n",
    "    elif age <= 50:\n",
    "        return 1\n",
    "    elif age <= 60:\n",
    "        return 2\n",
    "    else:\n",
    "        return 3\n",
    "\n",
    "def categorize_bp(bp):\n",
    "    if bp < 110:\n",
    "        return 0\n",
    "    elif bp <= 130:\n",
    "        return 1\n",
    "    elif bp <= 150:\n",
    "        return 2\n",
    "    else:\n",
    "        return 3\n",
    "\n",
    "def categorize_chol(chol):\n",
    "    if chol < 200:\n",
    "        return 0\n",
    "    elif chol <= 239:\n",
    "        return 1\n",
    "    else:\n",
    "        return 2\n",
    "\n",
    "def categorize_hr(hr):\n",
    "    if hr < 100:\n",
    "        return 0\n",
    "    elif hr <= 140:\n",
    "        return 1\n",
    "    else:\n",
    "        return 2\n",
    "\n",
    "def categorize_oldpeak(op):\n",
    "    if op == 0:\n",
    "        return 0\n",
    "    elif op <= 1.0:\n",
    "        return 1\n",
    "    elif op <= 2.0:\n",
    "        return 2\n",
    "    else:\n",
    "        return 3"
   ]
  },
  {
   "cell_type": "code",
   "execution_count": 3,
   "metadata": {},
   "outputs": [],
   "source": [
    "import pandas as pd\n",
    "import ipywidgets as widgets\n",
    "\n",
    "sex_mapping = {'Female': 0, 'Male': 1}\n",
    "chest_pain_type_mapping = {'Typical Angina': 0, 'Atypical Angina': 1, 'Non-anginal Pain': 2, 'Asymptomatic': 3}\n",
    "fasting_blood_sugar_mapping = {'No': 0, 'Yes': 1}\n",
    "resting_ecg_mapping = {'Normal': 0, 'Abnormal ST-T Wave': 1, 'Left Ventricular Hypertrophy': 2}\n",
    "exercise_angina_mapping = {'No': 0, 'Yes': 1}\n",
    "st_slope_mapping = {'Upsloping': 0, 'Flat': 1, 'Downsloping': 2}\n",
    "\n",
    "def save_button_clicked(b):\n",
    "\n",
    "    data = {\n",
    "        \"Age\": [age_widget.value],\n",
    "        \"Sex\": [sex_mapping[sex_widget.value]],\n",
    "        \"ChestPainType\": [chest_pain_type_mapping[chest_pain_type_widget.value]],\n",
    "        \"RestingBloodPressure\": [resting_blood_pressure_widget.value],\n",
    "        \"Cholesterol\": [cholesterol_widget.value],\n",
    "        \"FastingBloodSugar\": [fasting_blood_sugar_mapping[fasting_blood_sugar_widget.value]],\n",
    "        \"RestingECG\": [resting_ecg_mapping[resting_ecg_widget.value]],\n",
    "        \"MaximumHeartRate\": [max_heart_rate_widget.value],\n",
    "        \"ExerciseAngina\": [exercise_angina_mapping[exercise_angina_widget.value]],\n",
    "        \"Oldpeak\": [oldpeak_widget.value],\n",
    "        \"ST_Slope\": [st_slope_mapping[st_slope_widget.value]]\n",
    "    }\n",
    "\n",
    "    df = pd.DataFrame(data)\n",
    "\n",
    "    for col in cols_to_numeric:\n",
    "        df[col] = pd.to_numeric(df[col], errors='coerce')\n",
    "\n",
    "    df['Age'] = df['Age'].apply(categorize_age)\n",
    "    df['RestingBloodPressure'] = df['RestingBloodPressure'].apply(categorize_bp)\n",
    "    df['Cholesterol'] = df['Cholesterol'].apply(categorize_chol)\n",
    "    df['MaximumHeartRate'] = df['MaximumHeartRate'].apply(categorize_hr)\n",
    "    df['Oldpeak'] = df['Oldpeak'].apply(categorize_oldpeak)\n",
    "\n",
    "    df.to_csv(\"18_(SYS)_SU_User_Data.csv\", index=False, header=False)\n",
    "    with output_widget:\n",
    "        output_widget.clear_output()\n",
    "        print(\"Data saved.\")"
   ]
  },
  {
   "cell_type": "code",
   "execution_count": null,
   "metadata": {},
   "outputs": [
    {
     "data": {
      "application/vnd.jupyter.widget-view+json": {
       "model_id": "3a3930f1acb849ab80a4dd5c8b2ed7d8",
       "version_major": 2,
       "version_minor": 0
      },
      "text/plain": [
       "Text(value='', description='Age:')"
      ]
     },
     "metadata": {},
     "output_type": "display_data"
    },
    {
     "data": {
      "application/vnd.jupyter.widget-view+json": {
       "model_id": "d024e1c50e584739954dad041bf7aa6b",
       "version_major": 2,
       "version_minor": 0
      },
      "text/plain": [
       "Dropdown(description='Sex:', options=('Female', 'Male'), value='Female')"
      ]
     },
     "metadata": {},
     "output_type": "display_data"
    },
    {
     "data": {
      "application/vnd.jupyter.widget-view+json": {
       "model_id": "2dc4c72d8cf34a1a83c1a2a0ff1b6fc1",
       "version_major": 2,
       "version_minor": 0
      },
      "text/plain": [
       "Dropdown(description='ChestPainType:', options=('Typical Angina', 'Atypical Angina', 'Non-anginal Pain', 'Asym…"
      ]
     },
     "metadata": {},
     "output_type": "display_data"
    },
    {
     "data": {
      "application/vnd.jupyter.widget-view+json": {
       "model_id": "c9873a593fba45549ad87214a93af45d",
       "version_major": 2,
       "version_minor": 0
      },
      "text/plain": [
       "Text(value='', description='RestingBloodPressure:')"
      ]
     },
     "metadata": {},
     "output_type": "display_data"
    },
    {
     "data": {
      "application/vnd.jupyter.widget-view+json": {
       "model_id": "d8dfaea91d134d989271f70cbd3bdbd6",
       "version_major": 2,
       "version_minor": 0
      },
      "text/plain": [
       "Text(value='', description='Cholesterol:')"
      ]
     },
     "metadata": {},
     "output_type": "display_data"
    },
    {
     "data": {
      "application/vnd.jupyter.widget-view+json": {
       "model_id": "3cf62ae58e174de59cdaaa58be4ef167",
       "version_major": 2,
       "version_minor": 0
      },
      "text/plain": [
       "Dropdown(description='FastingBloodSugar:', options=('No', 'Yes'), value='No')"
      ]
     },
     "metadata": {},
     "output_type": "display_data"
    },
    {
     "data": {
      "application/vnd.jupyter.widget-view+json": {
       "model_id": "15a4c21dc5f04f81b10b27b471f3012e",
       "version_major": 2,
       "version_minor": 0
      },
      "text/plain": [
       "Dropdown(description='RestingECG:', options=('Normal', 'Abnormal ST-T Wave', 'Left Ventricular Hypertrophy'), …"
      ]
     },
     "metadata": {},
     "output_type": "display_data"
    },
    {
     "data": {
      "application/vnd.jupyter.widget-view+json": {
       "model_id": "16166ff3c5304eeba97f223cdfca9f62",
       "version_major": 2,
       "version_minor": 0
      },
      "text/plain": [
       "Text(value='', description='MaximumHeartRate:')"
      ]
     },
     "metadata": {},
     "output_type": "display_data"
    },
    {
     "data": {
      "application/vnd.jupyter.widget-view+json": {
       "model_id": "f61d7b03432e44619da7f716556a221c",
       "version_major": 2,
       "version_minor": 0
      },
      "text/plain": [
       "Dropdown(description='ExerciseAngina:', options=('No', 'Yes'), value='No')"
      ]
     },
     "metadata": {},
     "output_type": "display_data"
    },
    {
     "data": {
      "application/vnd.jupyter.widget-view+json": {
       "model_id": "e4723d8b103e4c5d897034a16c5c543c",
       "version_major": 2,
       "version_minor": 0
      },
      "text/plain": [
       "Text(value='', description='Oldpeak:')"
      ]
     },
     "metadata": {},
     "output_type": "display_data"
    },
    {
     "data": {
      "application/vnd.jupyter.widget-view+json": {
       "model_id": "045dcf8c3a9d491ba83c33243f4f2394",
       "version_major": 2,
       "version_minor": 0
      },
      "text/plain": [
       "Dropdown(description='ST_Slope:', options=('Upsloping', 'Flat', 'Downsloping'), value='Upsloping')"
      ]
     },
     "metadata": {},
     "output_type": "display_data"
    },
    {
     "data": {
      "application/vnd.jupyter.widget-view+json": {
       "model_id": "d7b085bde1dd43bf88e6ff207cd5eb82",
       "version_major": 2,
       "version_minor": 0
      },
      "text/plain": [
       "Button(description='Save Data', style=ButtonStyle())"
      ]
     },
     "metadata": {},
     "output_type": "display_data"
    },
    {
     "data": {
      "application/vnd.jupyter.widget-view+json": {
       "model_id": "91043b51cc4b4e5395163084ab0d6dfc",
       "version_major": 2,
       "version_minor": 0
      },
      "text/plain": [
       "Output()"
      ]
     },
     "metadata": {},
     "output_type": "display_data"
    }
   ],
   "source": [
    "age_widget = widgets.Text(description=\"Age:\")\n",
    "sex_widget = widgets.Dropdown(options=['Female', 'Male'], description=\"Sex:\")\n",
    "chest_pain_type_widget = widgets.Dropdown(\n",
    "    options=['Typical Angina', 'Atypical Angina', 'Non-anginal Pain', 'Asymptomatic'],\n",
    "    description=\"ChestPainType:\")\n",
    "resting_blood_pressure_widget = widgets.Text(description=\"RestingBloodPressure:\")\n",
    "cholesterol_widget = widgets.Text(description=\"Cholesterol:\")\n",
    "fasting_blood_sugar_widget = widgets.Dropdown(options=['No', 'Yes'], description=\"FastingBloodSugar:\")\n",
    "resting_ecg_widget = widgets.Dropdown(\n",
    "    options=['Normal', 'Abnormal ST-T Wave', 'Left Ventricular Hypertrophy'], description=\"RestingECG:\")\n",
    "max_heart_rate_widget = widgets.Text(description=\"MaximumHeartRate:\")\n",
    "exercise_angina_widget = widgets.Dropdown(options=['No', 'Yes'], description=\"ExerciseAngina:\")\n",
    "oldpeak_widget = widgets.Text(description=\"Oldpeak:\")\n",
    "st_slope_widget = widgets.Dropdown(options=['Upsloping', 'Flat', 'Downsloping'], description=\"ST_Slope:\")\n",
    "\n",
    "save_button = widgets.Button(description=\"Save Data\")\n",
    "output_widget = widgets.Output()\n",
    "\n",
    "# Link save button to function\n",
    "save_button.on_click(save_button_clicked)\n",
    "\n",
    "# Display widgets\n",
    "display(\n",
    "    age_widget, sex_widget, chest_pain_type_widget, resting_blood_pressure_widget, cholesterol_widget,\n",
    "    fasting_blood_sugar_widget, resting_ecg_widget, max_heart_rate_widget, exercise_angina_widget,\n",
    "    oldpeak_widget, st_slope_widget, save_button, output_widget\n",
    ")"
   ]
  },
  {
   "cell_type": "code",
   "execution_count": null,
   "metadata": {},
   "outputs": [],
   "source": []
  }
 ],
 "metadata": {
  "kernelspec": {
   "display_name": "Python 3",
   "language": "python",
   "name": "python3"
  },
  "language_info": {
   "codemirror_mode": {
    "name": "ipython",
    "version": 3
   },
   "file_extension": ".py",
   "mimetype": "text/x-python",
   "name": "python",
   "nbconvert_exporter": "python",
   "pygments_lexer": "ipython3",
   "version": "3.12.3"
  }
 },
 "nbformat": 4,
 "nbformat_minor": 2
}
