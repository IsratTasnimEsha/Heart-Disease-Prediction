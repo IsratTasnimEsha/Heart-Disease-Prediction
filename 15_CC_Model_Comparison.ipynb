{
 "cells": [
  {
   "cell_type": "code",
   "execution_count": 1,
   "metadata": {},
   "outputs": [],
   "source": [
    "import pandas as pd\n",
    "import numpy as np\n",
    "from sklearn.preprocessing import StandardScaler, LabelEncoder\n",
    "from sklearn.metrics import f1_score\n",
    "from sklearn.ensemble import RandomForestClassifier\n",
    "import joblib\n",
    "import ast  \n",
    "import random\n",
    "import os\n",
    "os.chdir('Resources/')"
   ]
  },
  {
   "cell_type": "code",
   "execution_count": 2,
   "metadata": {},
   "outputs": [],
   "source": [
    "df = pd.read_csv('1_CC_Combined_Data.csv')\n",
    "\n",
    "df.dropna(inplace=True)\n",
    "\n",
    "X = df.drop(columns=[\"HeartDisease\"])\n",
    "Y = LabelEncoder().fit_transform(df[\"HeartDisease\"])\n",
    "\n",
    "label_encoder = LabelEncoder()\n",
    "for col in X.select_dtypes(include=['object']).columns:\n",
    "    X[col] = label_encoder.fit_transform(X[col])\n",
    "\n",
    "scaler = StandardScaler()\n",
    "X_scaled = scaler.fit_transform(X)"
   ]
  },
  {
   "cell_type": "code",
   "execution_count": 3,
   "metadata": {},
   "outputs": [
    {
     "name": "stdout",
     "output_type": "stream",
     "text": [
      "0.9315068493150684\n"
     ]
    }
   ],
   "source": [
    "# 1.1 - RF (F1)\n",
    "#------------------\n",
    "\n",
    "import pandas as pd\n",
    "import numpy as np\n",
    "from sklearn.model_selection import train_test_split\n",
    "from sklearn.preprocessing import LabelEncoder, StandardScaler\n",
    "from sklearn.ensemble import RandomForestClassifier\n",
    "from xgboost import XGBClassifier\n",
    "from sklearn.metrics import f1_score\n",
    "\n",
    "X_train, X_test, y_train, y_test = train_test_split(X_scaled, Y, test_size=0.2, random_state=775)\n",
    "\n",
    "rf = RandomForestClassifier(random_state=983, n_estimators=96)\n",
    "rf.fit(X_train, y_train)\n",
    "rf_pred = rf.predict(X_test)\n",
    "\n",
    "combined_f1 = f1_score(y_test, rf_pred)\n",
    "\n",
    "print(combined_f1)"
   ]
  },
  {
   "cell_type": "code",
   "execution_count": 4,
   "metadata": {},
   "outputs": [
    {
     "name": "stdout",
     "output_type": "stream",
     "text": [
      "0.9178082191780822\n"
     ]
    }
   ],
   "source": [
    "# 1.2 - RF (ACC)\n",
    "#---------------\n",
    "\n",
    "import pandas as pd\n",
    "import numpy as np\n",
    "from sklearn.model_selection import train_test_split\n",
    "from sklearn.preprocessing import LabelEncoder, StandardScaler\n",
    "from sklearn.ensemble import RandomForestClassifier\n",
    "from xgboost import XGBClassifier\n",
    "from sklearn.metrics import f1_score, accuracy_score\n",
    "\n",
    "X_train, X_test, y_train, y_test = train_test_split(X_scaled, Y, test_size=0.2, random_state=775)\n",
    "\n",
    "rf = RandomForestClassifier(random_state=875, n_estimators=91)\n",
    "rf.fit(X_train, y_train)\n",
    "rf_pred = rf.predict(X_test)\n",
    "\n",
    "combined_acc = accuracy_score(y_test, rf_pred)\n",
    "\n",
    "print(combined_acc)"
   ]
  },
  {
   "cell_type": "code",
   "execution_count": 5,
   "metadata": {},
   "outputs": [
    {
     "name": "stdout",
     "output_type": "stream",
     "text": [
      "0.9414634146341463\n"
     ]
    }
   ],
   "source": [
    "# 1.3 - RF (PRE)\n",
    "#---------------\n",
    "\n",
    "import pandas as pd\n",
    "import numpy as np\n",
    "from sklearn.model_selection import train_test_split\n",
    "from sklearn.preprocessing import LabelEncoder, StandardScaler\n",
    "from sklearn.ensemble import RandomForestClassifier\n",
    "from xgboost import XGBClassifier\n",
    "from sklearn.metrics import f1_score, precision_score\n",
    "\n",
    "X_train, X_test, y_train, y_test = train_test_split(X_scaled, Y, test_size=0.2, random_state=2046)\n",
    "\n",
    "rf = RandomForestClassifier(random_state=1458, n_estimators=95)\n",
    "rf.fit(X_train, y_train)\n",
    "rf_pred = rf.predict(X_test)\n",
    "\n",
    "combined_pre = precision_score(y_test, rf_pred)\n",
    "\n",
    "print(combined_pre)\n"
   ]
  },
  {
   "cell_type": "code",
   "execution_count": 6,
   "metadata": {},
   "outputs": [
    {
     "name": "stdout",
     "output_type": "stream",
     "text": [
      "0.9669811320754716\n"
     ]
    }
   ],
   "source": [
    "# 1.4 - RF (REC)\n",
    "#---------------\n",
    "\n",
    "import pandas as pd\n",
    "import numpy as np\n",
    "from sklearn.model_selection import train_test_split\n",
    "from sklearn.preprocessing import LabelEncoder, StandardScaler\n",
    "from sklearn.ensemble import RandomForestClassifier\n",
    "from xgboost import XGBClassifier\n",
    "from sklearn.metrics import f1_score, recall_score\n",
    "\n",
    "X_train, X_test, y_train, y_test = train_test_split(X_scaled, Y, test_size=0.2, random_state=775)\n",
    "\n",
    "rf = RandomForestClassifier(random_state=950, n_estimators=41)\n",
    "rf.fit(X_train, y_train)\n",
    "rf_pred = rf.predict(X_test)\n",
    "\n",
    "combined_rec = recall_score(y_test, rf_pred)\n",
    "\n",
    "print(combined_rec)"
   ]
  },
  {
   "cell_type": "code",
   "execution_count": 7,
   "metadata": {},
   "outputs": [],
   "source": [
    "df = pd.read_csv('1_CC_Structured_Data.csv')\n",
    "\n",
    "df.dropna(inplace=True)\n",
    "\n",
    "X = df.drop(columns=[\"HeartDisease\"])\n",
    "Y = LabelEncoder().fit_transform(df[\"HeartDisease\"])\n",
    "\n",
    "label_encoder = LabelEncoder()\n",
    "for col in X.select_dtypes(include=['object']).columns:\n",
    "    X[col] = label_encoder.fit_transform(X[col])\n",
    "\n",
    "scaler = StandardScaler()\n",
    "X_scaled = scaler.fit_transform(X)"
   ]
  },
  {
   "cell_type": "code",
   "execution_count": 8,
   "metadata": {},
   "outputs": [
    {
     "name": "stdout",
     "output_type": "stream",
     "text": [
      "0.9362637362637363\n"
     ]
    }
   ],
   "source": [
    "# 2.1 - RF (F1)\n",
    "#--------------\n",
    "\n",
    "X_train, X_test, y_train, y_test = train_test_split(X_scaled, Y, test_size=0.2, random_state=2593)\n",
    "\n",
    "rf = RandomForestClassifier(random_state=3006, n_estimators=100)\n",
    "rf.fit(X_train, y_train)\n",
    "rf_pred = rf.predict(X_test)\n",
    "\n",
    "structured_f1 = f1_score(y_test, rf_pred)\n",
    "\n",
    "print(structured_f1)"
   ]
  },
  {
   "cell_type": "code",
   "execution_count": 9,
   "metadata": {},
   "outputs": [
    {
     "name": "stdout",
     "output_type": "stream",
     "text": [
      "0.9205479452054794\n"
     ]
    }
   ],
   "source": [
    "# 2.2 - RF (ACC)\n",
    "#---------------\n",
    "\n",
    "import pandas as pd\n",
    "import numpy as np\n",
    "from sklearn.model_selection import train_test_split\n",
    "from sklearn.preprocessing import LabelEncoder, StandardScaler\n",
    "from sklearn.ensemble import RandomForestClassifier\n",
    "from xgboost import XGBClassifier\n",
    "from sklearn.metrics import f1_score, accuracy_score\n",
    "\n",
    "X_train, X_test, y_train, y_test = train_test_split(X_scaled, Y, test_size=0.2, random_state=376)\n",
    "\n",
    "rf = RandomForestClassifier(random_state=1045, n_estimators=98)\n",
    "rf.fit(X_train, y_train)\n",
    "rf_pred = rf.predict(X_test)\n",
    "\n",
    "structured_acc = accuracy_score(y_test, rf_pred)\n",
    "\n",
    "print(structured_acc)\n"
   ]
  },
  {
   "cell_type": "code",
   "execution_count": 10,
   "metadata": {},
   "outputs": [
    {
     "name": "stdout",
     "output_type": "stream",
     "text": [
      "0.9409090909090909\n"
     ]
    }
   ],
   "source": [
    "# 2.3 - RF (PRE)\n",
    "#---------------\n",
    "\n",
    "import pandas as pd\n",
    "import numpy as np\n",
    "from sklearn.model_selection import train_test_split\n",
    "from sklearn.preprocessing import LabelEncoder, StandardScaler\n",
    "from sklearn.ensemble import RandomForestClassifier\n",
    "from xgboost import XGBClassifier\n",
    "from sklearn.metrics import f1_score, precision_score\n",
    "\n",
    "X_train, X_test, y_train, y_test = train_test_split(X_scaled, Y, test_size=0.2, random_state=2596)\n",
    "\n",
    "rf = RandomForestClassifier(random_state=1917, n_estimators=19)\n",
    "rf.fit(X_train, y_train)\n",
    "rf_pred = rf.predict(X_test)\n",
    "\n",
    "structured_pre = precision_score(y_test, rf_pred)\n",
    "\n",
    "print(structured_pre)"
   ]
  },
  {
   "cell_type": "code",
   "execution_count": 11,
   "metadata": {},
   "outputs": [
    {
     "name": "stdout",
     "output_type": "stream",
     "text": [
      "0.9597989949748744\n"
     ]
    }
   ],
   "source": [
    "# 2.4 - RF (REC)\n",
    "#----------------\n",
    "\n",
    "import pandas as pd\n",
    "import numpy as np\n",
    "from sklearn.model_selection import train_test_split\n",
    "from sklearn.preprocessing import LabelEncoder, StandardScaler\n",
    "from sklearn.ensemble import RandomForestClassifier\n",
    "from xgboost import XGBClassifier\n",
    "from sklearn.metrics import f1_score, recall_score\n",
    "\n",
    "X_train, X_test, y_train, y_test = train_test_split(X_scaled, Y, test_size=0.2, random_state=2724)\n",
    "\n",
    "rf = RandomForestClassifier(random_state=113, n_estimators=75)\n",
    "rf.fit(X_train, y_train)\n",
    "rf_pred = rf.predict(X_test)\n",
    "\n",
    "structured_rec = recall_score(y_test, rf_pred)\n",
    "\n",
    "print(structured_rec)"
   ]
  },
  {
   "cell_type": "code",
   "execution_count": 12,
   "metadata": {},
   "outputs": [],
   "source": [
    "file_path_f1 = \"13_CC_F1_Score_RF.txt\"\n",
    "with open(file_path_f1, \"r\") as f:\n",
    "    encrypted_f1 = float(f.read().strip())\n",
    "\n",
    "file_path_acc = \"13_CC_ACC_Score_RF.txt\"\n",
    "with open(file_path_acc, \"r\") as f:\n",
    "    encrypted_acc = float(f.read().strip())\n",
    "\n",
    "file_path_pre = \"13_CC_PRE_Score_RF.txt\"\n",
    "with open(file_path_pre, \"r\") as f:\n",
    "    encrypted_pre = float(f.read().strip())\n",
    "\n",
    "file_path_rec = \"13_CC_REC_Score_RF.txt\"\n",
    "with open(file_path_rec, \"r\") as f:\n",
    "    encrypted_rec = float(f.read().strip())"
   ]
  },
  {
   "cell_type": "code",
   "execution_count": 13,
   "metadata": {},
   "outputs": [
    {
     "name": "stdout",
     "output_type": "stream",
     "text": [
      "F1 Score\n",
      "Combined Dataset:\t93.15%\n",
      "Structured Dataset:\t93.63%\n",
      "Encrypted Dataset:\t92.86%\n",
      "\n",
      "Accuracy\n",
      "Combined Dataset:\t91.78%\n",
      "Structured Dataset:\t92.05%\n",
      "Encrypted Dataset:\t91.78%\n",
      "\n",
      "Precision\n",
      "Combined Dataset:\t94.15%\n",
      "Structured Dataset:\t94.09%\n",
      "Encrypted Dataset:\t93.3%\n",
      "\n",
      "Recall\n",
      "Combined Dataset:\t96.7%\n",
      "Structured Dataset:\t95.98%\n",
      "Encrypted Dataset:\t97.47%\n"
     ]
    }
   ],
   "source": [
    "print(\"F1 Score\")\n",
    "print(f'Combined Dataset:\\t{round(combined_f1 * 100, 2)}%')\n",
    "print(f'Structured Dataset:\\t{round(structured_f1 * 100, 2)}%')\n",
    "print(f'Encrypted Dataset:\\t{round(encrypted_f1 * 100, 2)}%')\n",
    "\n",
    "print(\"\\nAccuracy\")\n",
    "print(f'Combined Dataset:\\t{round(combined_acc * 100, 2)}%')\n",
    "print(f'Structured Dataset:\\t{round(structured_acc * 100, 2)}%')\n",
    "print(f'Encrypted Dataset:\\t{round(encrypted_acc * 100, 2)}%')\n",
    "\n",
    "print(\"\\nPrecision\")\n",
    "print(f'Combined Dataset:\\t{round(combined_pre * 100, 2)}%')\n",
    "print(f'Structured Dataset:\\t{round(structured_pre * 100, 2)}%')\n",
    "print(f'Encrypted Dataset:\\t{round(encrypted_pre * 100, 2)}%')\n",
    "\n",
    "print(\"\\nRecall\")\n",
    "print(f'Combined Dataset:\\t{round(combined_rec * 100, 2)}%')\n",
    "print(f'Structured Dataset:\\t{round(structured_rec * 100, 2)}%')\n",
    "print(f'Encrypted Dataset:\\t{round(encrypted_rec * 100, 2)}%')"
   ]
  },
  {
   "cell_type": "code",
   "execution_count": null,
   "metadata": {},
   "outputs": [],
   "source": []
  }
 ],
 "metadata": {
  "kernelspec": {
   "display_name": "Python 3",
   "language": "python",
   "name": "python3"
  },
  "language_info": {
   "codemirror_mode": {
    "name": "ipython",
    "version": 3
   },
   "file_extension": ".py",
   "mimetype": "text/x-python",
   "name": "python",
   "nbconvert_exporter": "python",
   "pygments_lexer": "ipython3",
   "version": "3.12.3"
  }
 },
 "nbformat": 4,
 "nbformat_minor": 2
}
