{
 "cells": [
  {
   "cell_type": "code",
   "execution_count": null,
   "metadata": {},
   "outputs": [],
   "source": [
    "import pandas as pd\n",
    "import numpy as np\n",
    "import random\n",
    "import os\n",
    "import matplotlib.pyplot as plt\n",
    "from sklearn.model_selection import train_test_split\n",
    "from sklearn.preprocessing import StandardScaler\n",
    "from sklearn.ensemble import RandomForestClassifier\n",
    "from sklearn.tree import DecisionTreeClassifier\n",
    "from sklearn.metrics import confusion_matrix, accuracy_score, precision_score, recall_score, f1_score, roc_auc_score, confusion_matrix, roc_curve\n",
    "from sklearn.decomposition import PCA\n",
    "from keras.models import Sequential\n",
    "from keras.layers import LSTM, Dense, Dropout\n",
    "from keras.optimizers import Adam\n",
    "import tensorflow as tf\n",
    "import seaborn as sns\n",
    "from sklearn.ensemble import IsolationForest\n",
    "os.chdir('Resources/')"
   ]
  },
  {
   "cell_type": "code",
   "execution_count": null,
   "metadata": {},
   "outputs": [],
   "source": [
    "df = pd.read_csv('6_Preprocessed_Data.csv')\n",
    "\n",
    "X = df.drop(['HeartDisease'], axis='columns')\n",
    "Y = df[['HeartDisease']]"
   ]
  },
  {
   "cell_type": "code",
   "execution_count": null,
   "metadata": {},
   "outputs": [
    {
     "name": "stdout",
     "output_type": "stream",
     "text": [
      "759 8.02861888366454 8.154457525222528 232\n",
      "760 7.986109851746364 8.154457525222528 232\n",
      "761 8.04397119462685 8.154457525222528 232\n",
      "762 8.08257224318784 8.154457525222528 232\n",
      "763 8.039373118310762 8.154457525222528 232\n",
      "764 8.007755415449415 8.154457525222528 232\n",
      "765 8.05592143335107 8.154457525222528 232\n",
      "766 8.042479803268648 8.154457525222528 232\n",
      "767 7.979839854575708 8.154457525222528 232\n"
     ]
    }
   ],
   "source": [
    "seed = 1341\n",
    "\n",
    "mx=8.154457525222528\n",
    "ind=232\n",
    "\n",
    "for i in range(768, 5000):\n",
    "    seed = i\n",
    "    \n",
    "    full = []\n",
    "    \n",
    "    for j in range(1, 10):\n",
    "        X_train, X_test, Y_train, Y_test = train_test_split(X, Y, test_size=0.1*j, random_state=seed)\n",
    "        \n",
    "        clf = IsolationForest(n_estimators=26, contamination=0.01 * 1, random_state=seed, max_samples=105)\n",
    "        outliers = clf.fit_predict(X_train)\n",
    "        X_train = X_train[outliers == 1]\n",
    "        Y_train = Y_train[outliers == 1]\n",
    "\n",
    "        corr_matrix = X_train.corr().abs()\n",
    "        upper = corr_matrix.where(np.triu(np.ones(corr_matrix.shape), k=1).astype(bool))\n",
    "        to_drop = [column for column in upper.columns if any(upper[column] > 0.95)]\n",
    "        X_train_selected = X_train.drop(to_drop, axis=1)\n",
    "        X_test_selected = X_test.drop(to_drop, axis=1)\n",
    "\n",
    "        rf_classifier = RandomForestClassifier(n_estimators=63, random_state=seed, criterion='gini')\n",
    "        rf_classifier.fit(X_train_selected, Y_train.values.ravel())\n",
    "\n",
    "        Y_pred = rf_classifier.predict(X_test_selected)\n",
    "\n",
    "        accuracy_isolation = f1_score(Y_test, Y_pred)\n",
    "\n",
    "        full.append(accuracy_isolation)\n",
    "\n",
    "    accuracy_nb = sum(full)\n",
    "\n",
    "    if(accuracy_nb>mx):\n",
    "        mx=accuracy_nb\n",
    "        ind=i\n",
    "    \n",
    "    print(i, accuracy_nb, mx, ind)"
   ]
  },
  {
   "cell_type": "code",
   "execution_count": null,
   "metadata": {},
   "outputs": [],
   "source": [
    "print(mx, ind)"
   ]
  },
  {
   "cell_type": "code",
   "execution_count": null,
   "metadata": {},
   "outputs": [],
   "source": []
  }
 ],
 "metadata": {
  "kernelspec": {
   "display_name": "Python 3",
   "language": "python",
   "name": "python3"
  },
  "language_info": {
   "codemirror_mode": {
    "name": "ipython",
    "version": 3
   },
   "file_extension": ".py",
   "mimetype": "text/x-python",
   "name": "python",
   "nbconvert_exporter": "python",
   "pygments_lexer": "ipython3",
   "version": "3.12.3"
  }
 },
 "nbformat": 4,
 "nbformat_minor": 2
}
