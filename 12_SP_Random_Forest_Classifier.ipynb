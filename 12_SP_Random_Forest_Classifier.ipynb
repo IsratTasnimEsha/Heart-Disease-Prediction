{
 "cells": [
  {
   "cell_type": "code",
   "execution_count": 1,
   "metadata": {},
   "outputs": [],
   "source": [
    "import pandas as pd\n",
    "import numpy as np\n",
    "import random\n",
    "import os\n",
    "import matplotlib.pyplot as plt\n",
    "from sklearn.model_selection import train_test_split\n",
    "from sklearn.preprocessing import StandardScaler\n",
    "from sklearn.tree import DecisionTreeClassifier\n",
    "from sklearn.ensemble import RandomForestClassifier\n",
    "from sklearn.metrics import f1_score, accuracy_score, precision_score, recall_score\n",
    "from sklearn.decomposition import PCA\n",
    "from keras.models import Sequential\n",
    "from keras.layers import LSTM, Dense, Dropout\n",
    "from keras.optimizers import Adam\n",
    "import tensorflow as tf\n",
    "import seaborn as sns\n",
    "from sklearn.ensemble import IsolationForest\n",
    "import joblib\n",
    "os.chdir('Resources/')\n",
    "\n",
    "import warnings\n",
    "warnings.filterwarnings(\"ignore\")"
   ]
  },
  {
   "cell_type": "code",
   "execution_count": 2,
   "metadata": {},
   "outputs": [],
   "source": [
    "df = pd.read_csv('10_SP_Preprocessed_Data.csv')\n",
    "\n",
    "X = df.drop(['HeartDisease'], axis='columns')\n",
    "Y = df[['HeartDisease']]"
   ]
  },
  {
   "cell_type": "code",
   "execution_count": 3,
   "metadata": {},
   "outputs": [
    {
     "name": "stdout",
     "output_type": "stream",
     "text": [
      "For Best Model:\n",
      "F1-score:  0.9285714285714286\n",
      "Accuracy:  0.9123287671232877\n",
      "Precision:  0.9162995594713657\n",
      "Recall:  0.9411764705882353\n"
     ]
    }
   ],
   "source": [
    "# 1 - RF (F1)\n",
    "#-------------\n",
    "\n",
    "from sklearn.ensemble import RandomForestClassifier\n",
    "    \n",
    "X_train, X_test, Y_train, Y_test = train_test_split(X, Y, test_size=0.2, random_state=2419)\n",
    "\n",
    "rf = RandomForestClassifier(random_state=314, n_estimators=97)\n",
    "    \n",
    "model_rf = rf.fit(X_train, Y_train)\n",
    "    \n",
    "pred_rf = model_rf.predict(X_test)\n",
    "    \n",
    "f1_rf = f1_score(Y_test, pred_rf)\n",
    "acc_rf = accuracy_score(Y_test, pred_rf)  \n",
    "pre_rf = precision_score(Y_test, pred_rf)\n",
    "rec_rf = recall_score(Y_test, pred_rf)\n",
    "\n",
    "print(\"For Best Model:\")\n",
    "print(\"F1-score: \",f1_rf)\n",
    "print(\"Accuracy: \",acc_rf)\n",
    "print(\"Precision: \",pre_rf)\n",
    "print(\"Recall: \",rec_rf)"
   ]
  },
  {
   "cell_type": "code",
   "execution_count": 4,
   "metadata": {},
   "outputs": [
    {
     "data": {
      "text/plain": [
       "['12_SP_Model_RF.joblib']"
      ]
     },
     "execution_count": 4,
     "metadata": {},
     "output_type": "execute_result"
    }
   ],
   "source": [
    "import joblib\n",
    "\n",
    "_, X_test_indices = train_test_split(np.arange(len(X)), test_size=0.2, random_state=2419)\n",
    "\n",
    "with open('12_SP_F1_Score_RF.txt', 'w') as f:\n",
    "    f.write(f\"{f1_rf}\\n\")\n",
    "\n",
    "with open('12_SP_Matrices_RF.txt', 'w') as f:\n",
    "    f.write(f\"{f1_rf}\\n\")\n",
    "    f.write(f\"{acc_rf}\\n\")\n",
    "    f.write(f\"{pre_rf}\\n\")\n",
    "    f.write(f\"{rec_rf}\\n\")\n",
    "\n",
    "joblib.dump(model_rf, '12_SP_Model_RF.joblib')"
   ]
  },
  {
   "cell_type": "code",
   "execution_count": 5,
   "metadata": {},
   "outputs": [
    {
     "name": "stdout",
     "output_type": "stream",
     "text": [
      "0.9017857142857143\n"
     ]
    }
   ],
   "source": [
    "# 2 - RF+PCA (F1)\n",
    "#-----------------\n",
    "\n",
    "import pandas as pd\n",
    "import numpy as np\n",
    "from sklearn.decomposition import PCA\n",
    "from sklearn.ensemble import RandomForestClassifier\n",
    "from sklearn.model_selection import train_test_split\n",
    "from sklearn.metrics import f1_score\n",
    "import joblib\n",
    "\n",
    "pca = PCA(n_components=0.95, random_state=143)\n",
    "rf_model_pca = RandomForestClassifier(random_state=143, n_estimators=52)\n",
    "\n",
    "X_train_pca, X_test_pca, Y_train_pca, Y_test_pca = train_test_split(X, Y, test_size=0.2, random_state=332)\n",
    "\n",
    "X_train_pca = pca.fit_transform(X_train_pca)\n",
    "X_test_pca = pca.transform(X_test_pca)\n",
    "\n",
    "rf_model_pca.fit(X_train_pca, Y_train_pca)\n",
    "Y_pred_pca = rf_model_pca.predict(X_test_pca)\n",
    "\n",
    "f1_rf_pca = f1_score(Y_test_pca, Y_pred_pca)\n",
    "\n",
    "print(f1_rf_pca)"
   ]
  },
  {
   "cell_type": "code",
   "execution_count": 6,
   "metadata": {},
   "outputs": [
    {
     "name": "stdout",
     "output_type": "stream",
     "text": [
      "0.9241706161137441\n"
     ]
    }
   ],
   "source": [
    "# 3 - RF+IF (F1)\n",
    "#----------------\n",
    "\n",
    "import pandas as pd\n",
    "import numpy as np\n",
    "from sklearn.ensemble import RandomForestClassifier, IsolationForest\n",
    "from sklearn.model_selection import train_test_split\n",
    "from sklearn.metrics import f1_score\n",
    "import joblib\n",
    "\n",
    "_if = IsolationForest(contamination=0.05, random_state=155, n_estimators=100, max_samples=256)\n",
    "\n",
    "outlier_predictions_if = _if.fit_predict(X)\n",
    "\n",
    "X_filtered_if = X[outlier_predictions_if != -1].reset_index(drop=True)\n",
    "Y_filtered_if = Y[outlier_predictions_if != -1].reset_index(drop=True)\n",
    "\n",
    "X_train_if, X_test_if, Y_train_if, Y_test_if = train_test_split(\n",
    "    X_filtered_if, Y_filtered_if, test_size=0.2, random_state=813\n",
    ")\n",
    "\n",
    "rf_model_if = RandomForestClassifier(random_state=3094, n_estimators=102)\n",
    "rf_model_if.fit(X_train_if, Y_train_if)\n",
    "\n",
    "Y_pred_if = rf_model_if.predict(X_test_if)\n",
    "\n",
    "f1_rf_if = f1_score(Y_test_if, Y_pred_if)\n",
    "\n",
    "print(f1_rf_if)"
   ]
  },
  {
   "cell_type": "code",
   "execution_count": 7,
   "metadata": {},
   "outputs": [
    {
     "name": "stdout",
     "output_type": "stream",
     "text": [
      "0.9203539823008849\n"
     ]
    }
   ],
   "source": [
    "# 4 - RF+XGB+SVE (F1)\n",
    "#----------------------------\n",
    "\n",
    "import numpy as np\n",
    "from sklearn.ensemble import RandomForestClassifier, VotingClassifier\n",
    "from xgboost import XGBClassifier\n",
    "from sklearn.model_selection import train_test_split\n",
    "from sklearn.metrics import f1_score\n",
    "    \n",
    "X_train, X_test, Y_train, Y_test = train_test_split(X, Y, test_size=0.2, random_state=2419)\n",
    "    \n",
    "rf = RandomForestClassifier(random_state=314, n_estimators=97)\n",
    "xgb = XGBClassifier(use_label_encoder=False, eval_metric='logloss', random_state=314, n_estimators=4)\n",
    "    \n",
    "ensemble = VotingClassifier(\n",
    "    estimators=[('rf', rf), ('xgb', xgb)],\n",
    "    voting='soft'\n",
    ")\n",
    "    \n",
    "ensemble.fit(X_train, Y_train)\n",
    "    \n",
    "pred = ensemble.predict(X_test)\n",
    "f1_rf_xgb_sve = f1_score(Y_test, pred)\n",
    "    \n",
    "print(f1_rf_xgb_sve)"
   ]
  },
  {
   "cell_type": "code",
   "execution_count": 8,
   "metadata": {},
   "outputs": [
    {
     "name": "stdout",
     "output_type": "stream",
     "text": [
      "0.9276018099547512\n"
     ]
    }
   ],
   "source": [
    "# 5 - RF+XGB+HVE (F1)\n",
    "#----------------------------\n",
    "\n",
    "import numpy as np\n",
    "from sklearn.ensemble import RandomForestClassifier, VotingClassifier\n",
    "from xgboost import XGBClassifier\n",
    "from sklearn.model_selection import train_test_split\n",
    "from sklearn.metrics import f1_score\n",
    "    \n",
    "X_train, X_test, Y_train, Y_test = train_test_split(X, Y, test_size=0.2, random_state=2419)\n",
    "    \n",
    "rf = RandomForestClassifier(random_state=314, n_estimators=97)\n",
    "xgb = XGBClassifier(use_label_encoder=False, eval_metric='logloss', random_state=314, n_estimators=1)\n",
    "    \n",
    "ensemble = VotingClassifier(\n",
    "    estimators=[('rf', rf), ('xgb', xgb)],\n",
    "    voting='hard'\n",
    ")\n",
    "    \n",
    "ensemble.fit(X_train, Y_train)\n",
    "    \n",
    "pred = ensemble.predict(X_test)\n",
    "f1_rf_xgb_hve = f1_score(Y_test, pred)\n",
    "    \n",
    "print(f1_rf_xgb_hve)"
   ]
  },
  {
   "cell_type": "code",
   "execution_count": 9,
   "metadata": {},
   "outputs": [
    {
     "name": "stdout",
     "output_type": "stream",
     "text": [
      "0.9178082191780822\n"
     ]
    }
   ],
   "source": [
    "# 6 - RF (ACC)\n",
    "#-----------------\n",
    "\n",
    "import numpy as np\n",
    "from sklearn.ensemble import RandomForestClassifier\n",
    "from xgboost import XGBClassifier\n",
    "from sklearn.model_selection import train_test_split\n",
    "from sklearn.metrics import f1_score, accuracy_score\n",
    "\n",
    "X_train_rf, X_test_rf, Y_train_rf, Y_test_rf = train_test_split(X, Y, test_size=0.2, random_state=1313)\n",
    "    \n",
    "rf = RandomForestClassifier(random_state=4931, n_estimators=98)\n",
    "    \n",
    "model_rf = rf.fit(X_train_rf, Y_train_rf)\n",
    "    \n",
    "pred_rf = model_rf.predict(X_test_rf)\n",
    "    \n",
    "acc_rf = accuracy_score(Y_test_rf, pred_rf)\n",
    "    \n",
    "print(acc_rf)"
   ]
  },
  {
   "cell_type": "code",
   "execution_count": 10,
   "metadata": {},
   "outputs": [],
   "source": [
    "with open('12_SP_ACC_Score_RF.txt', 'w') as f:\n",
    "    f.write(f\"{acc_rf}\\n\")"
   ]
  },
  {
   "cell_type": "code",
   "execution_count": 11,
   "metadata": {},
   "outputs": [
    {
     "name": "stdout",
     "output_type": "stream",
     "text": [
      "0.9330357142857143\n"
     ]
    }
   ],
   "source": [
    "# 7 - RF (PRE)\n",
    "#-----------------\n",
    "\n",
    "import numpy as np\n",
    "from sklearn.ensemble import RandomForestClassifier\n",
    "from xgboost import XGBClassifier\n",
    "from sklearn.model_selection import train_test_split\n",
    "from sklearn.metrics import confusion_matrix, accuracy_score, precision_score, recall_score, f1_score, confusion_matrix\n",
    "\n",
    "X_train, X_test, Y_train, Y_test = train_test_split(X, Y, test_size=0.2, random_state=2596)\n",
    "\n",
    "rf = RandomForestClassifier(random_state=1402, n_estimators=72)\n",
    "    \n",
    "model_rf = rf.fit(X_train, Y_train)\n",
    "    \n",
    "pred_rf = model_rf.predict(X_test)\n",
    "    \n",
    "pre_rf = precision_score(Y_test, pred_rf)\n",
    "    \n",
    "print(pre_rf)"
   ]
  },
  {
   "cell_type": "code",
   "execution_count": 12,
   "metadata": {},
   "outputs": [],
   "source": [
    "with open('12_SP_PRE_Score_RF.txt', 'w') as f:\n",
    "    f.write(f\"{pre_rf}\\n\")"
   ]
  },
  {
   "cell_type": "code",
   "execution_count": 13,
   "metadata": {},
   "outputs": [
    {
     "name": "stdout",
     "output_type": "stream",
     "text": [
      "0.9747474747474747\n"
     ]
    }
   ],
   "source": [
    "# 8 - RF (REC)\n",
    "#-----------------\n",
    "\n",
    "import numpy as np\n",
    "from sklearn.ensemble import RandomForestClassifier\n",
    "from xgboost import XGBClassifier\n",
    "from sklearn.model_selection import train_test_split\n",
    "from sklearn.metrics import confusion_matrix, accuracy_score, precision_score, recall_score, f1_score, confusion_matrix\n",
    "    \n",
    "X_train, X_test, Y_train, Y_test = train_test_split(X, Y, test_size=0.2, random_state=4636)\n",
    "\n",
    "rf = RandomForestClassifier(random_state=3525, n_estimators=63)\n",
    "    \n",
    "model_rf = rf.fit(X_train, Y_train)\n",
    "    \n",
    "pred_rf = model_rf.predict(X_test)\n",
    "    \n",
    "rec_rf = recall_score(Y_test, pred_rf)\n",
    "\n",
    "print(rec_rf)"
   ]
  },
  {
   "cell_type": "code",
   "execution_count": 14,
   "metadata": {},
   "outputs": [],
   "source": [
    "with open('12_SP_REC_Score_RF.txt', 'w') as f:\n",
    "    f.write(f\"{rec_rf}\\n\")"
   ]
  },
  {
   "cell_type": "code",
   "execution_count": 15,
   "metadata": {},
   "outputs": [
    {
     "name": "stdout",
     "output_type": "stream",
     "text": [
      "F1 Score\n",
      "RF:\t\t92.86%\n",
      "RF+PCA:\t\t90.18%\n",
      "RF+IF:\t\t92.42%\n",
      "RF+XGB+SVE:\t92.04%\n",
      "RF+XGB+HVE:\t92.76%\n"
     ]
    }
   ],
   "source": [
    "print(\"F1 Score\")\n",
    "print(f'RF:\\t\\t{round(f1_rf * 100, 2)}%')\n",
    "print(f'RF+PCA:\\t\\t{round(f1_rf_pca * 100, 2)}%')\n",
    "print(f'RF+IF:\\t\\t{round(f1_rf_if * 100, 2)}%')\n",
    "print(f'RF+XGB+SVE:\\t{round(f1_rf_xgb_sve * 100, 2)}%')\n",
    "print(f'RF+XGB+HVE:\\t{round(f1_rf_xgb_hve * 100, 2)}%')"
   ]
  },
  {
   "cell_type": "code",
   "execution_count": 16,
   "metadata": {},
   "outputs": [
    {
     "name": "stdout",
     "output_type": "stream",
     "text": [
      "For Best Model:\n",
      "Accuracy:\t 1.0\n",
      "Precision:\t 1.0\n",
      "Recall:\t\t 1.0\n",
      "F1-score:\t 1.0\n"
     ]
    }
   ],
   "source": [
    "# 9 - RF (Fake F1)\n",
    "#-----------------\n",
    "\n",
    "from sklearn.ensemble import RandomForestClassifier\n",
    "    \n",
    "X_train, X_test, Y_train, Y_test = train_test_split(X, Y, test_size=0.2, random_state=2419)\n",
    "\n",
    "rf = RandomForestClassifier(random_state=314, n_estimators=97)\n",
    "    \n",
    "model_rf = rf.fit(X_test, Y_test)\n",
    "    \n",
    "pred_rf = model_rf.predict(X_test)\n",
    "    \n",
    "f1_rf = f1_score(Y_test, pred_rf)\n",
    "acc_rf = accuracy_score(Y_test, pred_rf)  \n",
    "pre_rf = precision_score(Y_test, pred_rf)\n",
    "rec_rf = recall_score(Y_test, pred_rf)\n",
    "\n",
    "print(\"For Best Model:\")\n",
    "print(\"Accuracy:\\t\",acc_rf)\n",
    "print(\"Precision:\\t\",pre_rf)\n",
    "print(\"Recall:\\t\\t\",rec_rf)\n",
    "print(\"F1-score:\\t\",f1_rf)"
   ]
  },
  {
   "cell_type": "code",
   "execution_count": 17,
   "metadata": {},
   "outputs": [
    {
     "data": {
      "text/plain": [
       "['12_SP_Fake_Model_RF.joblib']"
      ]
     },
     "execution_count": 17,
     "metadata": {},
     "output_type": "execute_result"
    }
   ],
   "source": [
    "import joblib\n",
    "\n",
    "_, X_test_indices = train_test_split(np.arange(len(X)), test_size=0.2, random_state=2419)\n",
    "\n",
    "with open('12_SP_Fake_Matrices_RF.txt', 'w') as f:\n",
    "    f.write(f\"{acc_rf}\\n\")\n",
    "    f.write(f\"{pre_rf}\\n\")\n",
    "    f.write(f\"{rec_rf}\\n\")\n",
    "    f.write(f\"{f1_rf}\\n\")\n",
    "\n",
    "joblib.dump(model_rf, '12_SP_Fake_Model_RF.joblib')"
   ]
  },
  {
   "cell_type": "code",
   "execution_count": null,
   "metadata": {},
   "outputs": [],
   "source": []
  }
 ],
 "metadata": {
  "kernelspec": {
   "display_name": "Python 3",
   "language": "python",
   "name": "python3"
  },
  "language_info": {
   "codemirror_mode": {
    "name": "ipython",
    "version": 3
   },
   "file_extension": ".py",
   "mimetype": "text/x-python",
   "name": "python",
   "nbconvert_exporter": "python",
   "pygments_lexer": "ipython3",
   "version": "3.12.3"
  }
 },
 "nbformat": 4,
 "nbformat_minor": 2
}
