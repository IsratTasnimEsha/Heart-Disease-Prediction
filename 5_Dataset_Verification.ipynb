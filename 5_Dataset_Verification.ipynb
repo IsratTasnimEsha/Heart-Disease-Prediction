{
 "cells": [
  {
   "cell_type": "code",
   "execution_count": 1,
   "metadata": {},
   "outputs": [],
   "source": [
    "import pandas as pd\n",
    "import pickle\n",
    "import hashlib\n",
    "import os\n",
    "os.chdir('Resources/')"
   ]
  },
  {
   "cell_type": "code",
   "execution_count": 2,
   "metadata": {},
   "outputs": [],
   "source": [
    "def power(a, b, c):\n",
    "    x = 1\n",
    "    y = a\n",
    "    while b > 0:\n",
    "        if b % 2 != 0:\n",
    "            x = (x * y) % c\n",
    "        y = (y * y) % c\n",
    "        b = int(b / 2)\n",
    "    return x % c"
   ]
  },
  {
   "cell_type": "code",
   "execution_count": 3,
   "metadata": {},
   "outputs": [],
   "source": [
    "def decrypt(en_msg, p, key, q):\n",
    "    dr_msg = []\n",
    "    h = power(p, key, q)\n",
    "    for i in range(0, len(en_msg)):\n",
    "        dr_msg.append(int(en_msg[i] / h))  # Decrypt each element\n",
    "    return dr_msg"
   ]
  },
  {
   "cell_type": "code",
   "execution_count": 4,
   "metadata": {},
   "outputs": [],
   "source": [
    "with open('3_Private_Key.pkl', 'rb') as f_private:\n",
    "    private_key_data = pickle.load(f_private)\n",
    "\n",
    "q = private_key_data['q']\n",
    "private_keys = private_key_data['private_keys']"
   ]
  },
  {
   "cell_type": "code",
   "execution_count": 5,
   "metadata": {},
   "outputs": [],
   "source": [
    "with open('4_Encrypted_Values_and_P.pkl', 'rb') as f_encrypted:\n",
    "    encrypted_data = pickle.load(f_encrypted)\n",
    "\n",
    "encrypted_values_list = encrypted_data['encrypted_values_list']\n",
    "p_list = encrypted_data['p_list']"
   ]
  },
  {
   "cell_type": "code",
   "execution_count": 6,
   "metadata": {},
   "outputs": [],
   "source": [
    "df = pd.read_csv('1_Structured_Data.csv')"
   ]
  },
  {
   "cell_type": "code",
   "execution_count": 7,
   "metadata": {},
   "outputs": [
    {
     "name": "stderr",
     "output_type": "stream",
     "text": [
      "C:\\Users\\USER\\AppData\\Local\\Temp\\ipykernel_13436\\563586268.py:13: FutureWarning: factorize with argument that is not not a Series, Index, ExtensionArray, or np.ndarray is deprecated and will raise in a future version.\n",
      "  _, labels = pd.factorize(attribute_values)\n"
     ]
    },
    {
     "name": "stdout",
     "output_type": "stream",
     "text": [
      "Attribute 1 - Private Key (key): 6012834814088712862906120093983930950844580058895\n",
      "Attribute 1 - Total Mismatches: 0\n",
      "\n",
      "--------------------------------------------------\n",
      "\n",
      "Attribute 2 - Private Key (key): 14017283848122657760267277998402180888335564595295\n",
      "Attribute 2 - Total Mismatches: 0\n",
      "\n",
      "--------------------------------------------------\n",
      "\n",
      "Attribute 3 - Private Key (key): 8257378963198520837442387125559233697514460487698\n",
      "Attribute 3 - Total Mismatches: 0\n",
      "\n",
      "--------------------------------------------------\n",
      "\n",
      "Attribute 4 - Private Key (key): 16037647293930807176387058042006233682891549347698\n",
      "Attribute 4 - Total Mismatches: 0\n",
      "\n",
      "--------------------------------------------------\n",
      "\n",
      "Attribute 5 - Private Key (key): 11094550728020179905585589860523236879470944710850\n",
      "Attribute 5 - Total Mismatches: 0\n",
      "\n",
      "--------------------------------------------------\n",
      "\n",
      "Attribute 6 - Private Key (key): 86597721845167548703828182318833449338186891534\n",
      "Attribute 6 - Total Mismatches: 0\n",
      "\n",
      "--------------------------------------------------\n",
      "\n",
      "Attribute 7 - Private Key (key): 10278271700368934092150487615823426281413420396852\n",
      "Attribute 7 - Total Mismatches: 0\n",
      "\n",
      "--------------------------------------------------\n",
      "\n",
      "Attribute 8 - Private Key (key): 1174377683159642640946945013309831544353087417777\n",
      "Attribute 8 - Total Mismatches: 0\n",
      "\n",
      "--------------------------------------------------\n",
      "\n",
      "Attribute 9 - Private Key (key): 16264526360662989099566287144506050100122159954863\n",
      "Attribute 9 - Total Mismatches: 0\n",
      "\n",
      "--------------------------------------------------\n",
      "\n",
      "Attribute 10 - Private Key (key): 7900313808527081043815950042637232453918512948720\n",
      "Attribute 10 - Total Mismatches: 0\n",
      "\n",
      "--------------------------------------------------\n",
      "\n",
      "Attribute 11 - Private Key (key): 17694511659807403360298796500992461795809619715015\n",
      "Attribute 11 - Total Mismatches: 0\n",
      "\n",
      "--------------------------------------------------\n",
      "\n"
     ]
    }
   ],
   "source": [
    "for i in range(11):\n",
    "    decrypted_values = []\n",
    "\n",
    "    for encrypted_val, p_value in zip(encrypted_values_list[i], p_list[i]):\n",
    "        if encrypted_val is not None and p_value is not None:\n",
    "            decrypted_value = decrypt([encrypted_val], p_value, private_keys[i], q)\n",
    "            decrypted_values.append(decrypted_value[0])  # Decrypt returns a list, so take the first element\n",
    "        else:\n",
    "            decrypted_values.append(None)\n",
    "\n",
    "    attribute_values = df.iloc[:, i].tolist()\n",
    "\n",
    "    _, labels = pd.factorize(attribute_values)\n",
    "\n",
    "    decoded_values = []\n",
    "    for decrypted_value in decrypted_values:\n",
    "        if decrypted_value is not None:\n",
    "            decoded_values.append(labels[decrypted_value])  \n",
    "        else:\n",
    "            decoded_values.append(None)  \n",
    "\n",
    "    print(f\"Attribute {i+1} - Private Key (key): {private_keys[i]}\")\n",
    "    \n",
    "    mismatch_count = 0\n",
    "    \n",
    "    for row_num, (decrypted_value, original_value) in enumerate(zip(decoded_values, attribute_values), start=1):\n",
    "        if decrypted_value is None and original_value is None:\n",
    "            continue\n",
    "        if (decrypted_value is None and pd.isna(original_value)) or (pd.isna(decrypted_value) and original_value is None):\n",
    "            continue\n",
    "        \n",
    "        if decrypted_value != original_value:\n",
    "            print(f\"Attribute {i+1} - Mismatch at Row {row_num}: Decrypted Value = {decrypted_value}, Original Value = {original_value}\")\n",
    "            mismatch_count += 1\n",
    "       \n",
    "    print(f\"Attribute {i+1} - Total Mismatches: {mismatch_count}\")\n",
    "    print(\"\\n\" + \"-\"*50 + \"\\n\")"
   ]
  },
  {
   "cell_type": "code",
   "execution_count": null,
   "metadata": {},
   "outputs": [],
   "source": []
  }
 ],
 "metadata": {
  "kernelspec": {
   "display_name": "Python 3",
   "language": "python",
   "name": "python3"
  },
  "language_info": {
   "codemirror_mode": {
    "name": "ipython",
    "version": 3
   },
   "file_extension": ".py",
   "mimetype": "text/x-python",
   "name": "python",
   "nbconvert_exporter": "python",
   "pygments_lexer": "ipython3",
   "version": "3.12.3"
  }
 },
 "nbformat": 4,
 "nbformat_minor": 2
}
