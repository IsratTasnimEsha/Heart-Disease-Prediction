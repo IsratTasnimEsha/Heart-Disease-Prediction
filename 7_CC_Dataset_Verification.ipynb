{
 "cells": [
  {
   "cell_type": "code",
   "execution_count": 1,
   "metadata": {},
   "outputs": [],
   "source": [
    "import pandas as pd\n",
    "import numpy as np\n",
    "import random\n",
    "from sympy import isprime, nextprime\n",
    "import os\n",
    "import pickle\n",
    "os.chdir('Resources/')"
   ]
  },
  {
   "cell_type": "code",
   "execution_count": 2,
   "metadata": {},
   "outputs": [],
   "source": [
    "def load_key(filename):\n",
    "    with open(filename, \"rb\") as f:\n",
    "        return pickle.load(f)"
   ]
  },
  {
   "cell_type": "code",
   "execution_count": 3,
   "metadata": {},
   "outputs": [],
   "source": [
    "def string_to_int(message):\n",
    "    return int.from_bytes(message.encode('utf-8'), byteorder='big')\n",
    "\n",
    "def int_to_string(value):\n",
    "    byte_length = (value.bit_length() + 7) // 8 \n",
    "    return value.to_bytes(byte_length, byteorder='big').decode('utf-8', errors='ignore')\n",
    "\n",
    "def float_to_string(message):\n",
    "    return str(message)\n",
    "\n",
    "def string_to_float(message):\n",
    "    return float(message)"
   ]
  },
  {
   "cell_type": "code",
   "execution_count": 4,
   "metadata": {},
   "outputs": [],
   "source": [
    "def power(b, p, m):\n",
    "    b = b % m\n",
    "    if p == 0:\n",
    "        return 1\n",
    "    j = power(b, p // 2, m)\n",
    "    j = (j * j) % m\n",
    "    if p % 2 == 1:\n",
    "        j = (j * b) % m\n",
    "    return j"
   ]
  },
  {
   "cell_type": "code",
   "execution_count": 5,
   "metadata": {},
   "outputs": [],
   "source": [
    "def mod_inv(a, m):\n",
    "    origin_m = m\n",
    "    y, x = 0, 1\n",
    "\n",
    "    if m == 1:\n",
    "        return 0\n",
    "\n",
    "    while a > 1:\n",
    "        q = a // m\n",
    "        temp = m\n",
    "\n",
    "        m = a % m\n",
    "        a = temp\n",
    "        temp = y\n",
    "\n",
    "        y = x - q * y\n",
    "        x = temp\n",
    "\n",
    "    if x < 0:\n",
    "        x += origin_m\n",
    "    return x"
   ]
  },
  {
   "cell_type": "code",
   "execution_count": 6,
   "metadata": {},
   "outputs": [],
   "source": [
    "df = pd.read_csv('6_CC_Encrypted_Data.csv')\n",
    "df_org = pd.read_csv('1_CC_Structured_Data.csv')\n",
    "private_keys = load_key(\"3_CC_Private_Key.pkl\")"
   ]
  },
  {
   "cell_type": "code",
   "execution_count": 7,
   "metadata": {},
   "outputs": [
    {
     "name": "stdout",
     "output_type": "stream",
     "text": [
      "Mismatches for Age: []\n",
      "Mismatches for Sex: []\n",
      "Mismatches for ChestPainType: []\n",
      "Mismatches for RestingBloodPressure: []\n",
      "Mismatches for Cholesterol: []\n",
      "Mismatches for FastingBloodSugar: []\n",
      "Mismatches for RestingECG: []\n",
      "Mismatches for MaximumHeartRate: []\n",
      "Mismatches for ExerciseAngina: []\n",
      "Mismatches for Oldpeak: []\n",
      "Mismatches for ST_Slope: []\n",
      "Mismatches for HeartDisease: []\n",
      "\n",
      "Mismatch Summary:\n",
      "Age: []\n",
      "Sex: []\n",
      "ChestPainType: []\n",
      "RestingBloodPressure: []\n",
      "Cholesterol: []\n",
      "FastingBloodSugar: []\n",
      "RestingECG: []\n",
      "MaximumHeartRate: []\n",
      "ExerciseAngina: []\n",
      "Oldpeak: []\n",
      "ST_Slope: []\n",
      "HeartDisease: []\n"
     ]
    }
   ],
   "source": [
    "column_names = [\n",
    "    \"Age\", \"Sex\", \"ChestPainType\", \"RestingBloodPressure\", \"Cholesterol\",\n",
    "    \"FastingBloodSugar\", \"RestingECG\", \"MaximumHeartRate\", \"ExerciseAngina\",\n",
    "    \"Oldpeak\", \"ST_Slope\", \"HeartDisease\"\n",
    "]\n",
    "\n",
    "df_org = pd.read_csv(\"1_CC_Structured_Data.csv\") \n",
    "mismatch_summary = {}  \n",
    "\n",
    "for k in range(12):\n",
    "    if k != 11:\n",
    "        private_key = private_keys[k]\n",
    "        x = private_key['x']\n",
    "        p = private_key['p']\n",
    "        g = private_key['g']\n",
    "\n",
    "    messages = df.iloc[:, k].values\n",
    "    original_column = df_org.loc[:, column_names[k]].values  \n",
    "\n",
    "    decrypted_column = []\n",
    "    mismatches = [] \n",
    "\n",
    "    for i, (message, original_value) in enumerate(zip(messages, original_column), 1):\n",
    "        if message is not None and message == message:\n",
    "\n",
    "            if k == 11:\n",
    "                if original_value == 'Yes' and message == 1:\n",
    "                    pass\n",
    "\n",
    "                elif original_value == 'No' and message == 0:\n",
    "                    pass\n",
    "                \n",
    "                else:\n",
    "                    mismatches.append(i)\n",
    "                    print(f\"dec: {message}, org: {original_value}\")\n",
    "\n",
    "            else:\n",
    "                c1, c2 = map(int, message.strip(\"()\").split(\",\"))\n",
    "\n",
    "                cur = power(c1, x, p)\n",
    "                if cur == 0:\n",
    "                    decrypted_column.append(None)\n",
    "                    continue\n",
    "                \n",
    "                temp = mod_inv(cur, p)\n",
    "                decrypted_message = (c2 * temp) % p\n",
    "\n",
    "                if k == 0:\n",
    "                    temp_decrypted_message = decrypted_message\n",
    "                elif k in [1, 2, 5, 6, 8, 10]: \n",
    "                    temp_decrypted_message = int_to_string(decrypted_message)\n",
    "                elif k in [3, 4, 7, 9]: \n",
    "                    temp_decrypted_message = string_to_float(int_to_string(decrypted_message))\n",
    "                \n",
    "                decrypted_column.append(temp_decrypted_message)\n",
    "\n",
    "                if temp_decrypted_message != original_value:\n",
    "                    mismatches.append(i)\n",
    "                    print(f\"dec: {temp_decrypted_message}, org: {original_value}\")\n",
    "        \n",
    "        else:\n",
    "            decrypted_column.append(None)\n",
    "\n",
    "    mismatch_summary[column_names[k]] = mismatches\n",
    "    print(f\"Mismatches for {column_names[k]}: {mismatches}\")\n",
    "\n",
    "print(\"\\nMismatch Summary:\")\n",
    "for column, mismatches in mismatch_summary.items():\n",
    "    print(f\"{column}: {mismatches}\")\n"
   ]
  },
  {
   "cell_type": "code",
   "execution_count": null,
   "metadata": {},
   "outputs": [],
   "source": []
  }
 ],
 "metadata": {
  "kernelspec": {
   "display_name": "Python 3",
   "language": "python",
   "name": "python3"
  },
  "language_info": {
   "codemirror_mode": {
    "name": "ipython",
    "version": 3
   },
   "file_extension": ".py",
   "mimetype": "text/x-python",
   "name": "python",
   "nbconvert_exporter": "python",
   "pygments_lexer": "ipython3",
   "version": "3.12.3"
  }
 },
 "nbformat": 4,
 "nbformat_minor": 2
}
