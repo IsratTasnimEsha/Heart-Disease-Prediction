{
 "cells": [
  {
   "cell_type": "code",
   "execution_count": 1,
   "metadata": {},
   "outputs": [],
   "source": [
    "import pandas as pd\n",
    "import numpy as np\n",
    "import random\n",
    "from math import pow\n",
    "from decimal import Decimal\n",
    "import os\n",
    "import pickle\n",
    "import hashlib\n",
    "import joblib\n",
    "import shutil\n",
    "os.chdir('Resources/')"
   ]
  },
  {
   "cell_type": "code",
   "execution_count": 2,
   "metadata": {},
   "outputs": [
    {
     "data": {
      "text/plain": [
       "'13_CC_Scaler.joblib'"
      ]
     },
     "execution_count": 2,
     "metadata": {},
     "output_type": "execute_result"
    }
   ],
   "source": [
    "shutil.copy('10_SP_Scaler.joblib', '13_CC_Scaler.joblib')"
   ]
  },
  {
   "cell_type": "code",
   "execution_count": 3,
   "metadata": {},
   "outputs": [
    {
     "data": {
      "text/plain": [
       "'13_CC_Model_RF.joblib'"
      ]
     },
     "execution_count": 3,
     "metadata": {},
     "output_type": "execute_result"
    }
   ],
   "source": [
    "shutil.copy(f'12_SP_Model_RF.joblib', f'13_CC_Model_RF.joblib')"
   ]
  },
  {
   "cell_type": "code",
   "execution_count": 4,
   "metadata": {},
   "outputs": [
    {
     "data": {
      "text/plain": [
       "'13_CC_Fake_Matrices_RF.txt'"
      ]
     },
     "execution_count": 4,
     "metadata": {},
     "output_type": "execute_result"
    }
   ],
   "source": [
    "shutil.copy('12_SP_Matrices_RF.txt', '13_CC_Matrices_RF.txt')\n",
    "shutil.copy('12_SP_Fake_Matrices_RF.txt', '13_CC_Fake_Matrices_RF.txt')"
   ]
  },
  {
   "cell_type": "code",
   "execution_count": 5,
   "metadata": {},
   "outputs": [
    {
     "data": {
      "text/plain": [
       "'13_CC_REC_Score_RF.txt'"
      ]
     },
     "execution_count": 5,
     "metadata": {},
     "output_type": "execute_result"
    }
   ],
   "source": [
    "shutil.copy('12_SP_F1_Score_RF.txt', '13_CC_F1_Score_RF.txt')\n",
    "shutil.copy('12_SP_ACC_Score_RF.txt', '13_CC_ACC_Score_RF.txt')\n",
    "shutil.copy('12_SP_PRE_Score_RF.txt', '13_CC_PRE_Score_RF.txt')\n",
    "shutil.copy('12_SP_REC_Score_RF.txt', '13_CC_REC_Score_RF.txt')"
   ]
  },
  {
   "cell_type": "code",
   "execution_count": 6,
   "metadata": {},
   "outputs": [],
   "source": [
    "hyperparameters = {\n",
    "    'train_test_split': {\n",
    "        'random_state': 2419\n",
    "    },\n",
    "    'RandomForestClassifier': {\n",
    "        'random_state': 314,\n",
    "        'n_estimators': 97\n",
    "    },\n",
    "}\n",
    "\n",
    "with open(\"13_CC_Hyperparameters.txt\", \"w\") as hp_file:\n",
    "    for model, params in hyperparameters.items():\n",
    "        hp_file.write(f\"{model} Hyperparameters: {params}\\n\")"
   ]
  },
  {
   "cell_type": "code",
   "execution_count": null,
   "metadata": {},
   "outputs": [],
   "source": []
  }
 ],
 "metadata": {
  "kernelspec": {
   "display_name": "Python 3",
   "language": "python",
   "name": "python3"
  },
  "language_info": {
   "codemirror_mode": {
    "name": "ipython",
    "version": 3
   },
   "file_extension": ".py",
   "mimetype": "text/x-python",
   "name": "python",
   "nbconvert_exporter": "python",
   "pygments_lexer": "ipython3",
   "version": "3.12.3"
  }
 },
 "nbformat": 4,
 "nbformat_minor": 2
}
