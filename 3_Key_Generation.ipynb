{
 "cells": [
  {
   "cell_type": "code",
   "execution_count": 1,
   "metadata": {},
   "outputs": [],
   "source": [
    "import pandas as pd\n",
    "import random\n",
    "from math import pow\n",
    "from decimal import Decimal\n",
    "import os\n",
    "import pickle\n",
    "os.chdir('Resources/')"
   ]
  },
  {
   "cell_type": "code",
   "execution_count": 2,
   "metadata": {},
   "outputs": [],
   "source": [
    "def gcd(a, b):\n",
    "    if a < b:\n",
    "        return gcd(b, a)\n",
    "    elif a % b == 0:\n",
    "        return b\n",
    "    else:\n",
    "        return gcd(b, a % b)"
   ]
  },
  {
   "cell_type": "code",
   "execution_count": 3,
   "metadata": {},
   "outputs": [],
   "source": [
    "def gen_key(q):\n",
    "    key = random.randint(int(pow(10, 20)), q)\n",
    "    while gcd(q, key) != 1:\n",
    "        key = random.randint(int(pow(10, 20)), q)\n",
    "    return key"
   ]
  },
  {
   "cell_type": "code",
   "execution_count": 4,
   "metadata": {},
   "outputs": [],
   "source": [
    "def power(a, b, c):\n",
    "    x = 1\n",
    "    y = a\n",
    "    while b > 0:\n",
    "        if b % 2 != 0:\n",
    "            x = (x * y) % c\n",
    "        y = (y * y) % c\n",
    "        b = int(b / 2)\n",
    "    return x % c"
   ]
  },
  {
   "cell_type": "code",
   "execution_count": 5,
   "metadata": {},
   "outputs": [],
   "source": [
    "def encrypt(value, q, h, g, fixed_key):\n",
    "    s = power(h, fixed_key, q)\n",
    "    p = power(g, fixed_key, q)\n",
    "    return s * value, p"
   ]
  },
  {
   "cell_type": "code",
   "execution_count": 6,
   "metadata": {},
   "outputs": [],
   "source": [
    "df = pd.read_csv('1_Structured_Data.csv')\n",
    "X = df.drop(['HeartDisease'], axis='columns')\n",
    "Y = df[['HeartDisease']]"
   ]
  },
  {
   "cell_type": "code",
   "execution_count": 7,
   "metadata": {},
   "outputs": [],
   "source": [
    "q = random.randint(int(pow(10, 20)), int(pow(10, 50)))\n",
    "g = random.randint(2, q)\n",
    "fixed_key = gen_key(q)\n",
    "h = power(g, fixed_key, q)"
   ]
  },
  {
   "cell_type": "code",
   "execution_count": 8,
   "metadata": {},
   "outputs": [],
   "source": [
    "column_keys = {}\n",
    "for column in X.columns:\n",
    "    q = random.randint(int(pow(10, 20)), int(pow(10, 50)))\n",
    "    g = random.randint(2, q)\n",
    "    fixed_key = gen_key(q)\n",
    "    h = power(g, fixed_key, q)\n",
    "    column_keys[column] = (q, h, g, fixed_key)"
   ]
  },
  {
   "cell_type": "code",
   "execution_count": 9,
   "metadata": {},
   "outputs": [
    {
     "name": "stderr",
     "output_type": "stream",
     "text": [
      "C:\\Users\\USER\\AppData\\Local\\Temp\\ipykernel_13096\\2653026528.py:1: FutureWarning: Downcasting behavior in `replace` is deprecated and will be removed in a future version. To retain the old behavior, explicitly call `result.infer_objects(copy=False)`. To opt-in to the future behavior, set `pd.set_option('future.no_silent_downcasting', True)`\n",
      "  Y['HeartDisease'] = Y['HeartDisease'].replace({'No': 0, 'Yes': 1})\n",
      "C:\\Users\\USER\\AppData\\Local\\Temp\\ipykernel_13096\\2653026528.py:1: SettingWithCopyWarning: \n",
      "A value is trying to be set on a copy of a slice from a DataFrame.\n",
      "Try using .loc[row_indexer,col_indexer] = value instead\n",
      "\n",
      "See the caveats in the documentation: https://pandas.pydata.org/pandas-docs/stable/user_guide/indexing.html#returning-a-view-versus-a-copy\n",
      "  Y['HeartDisease'] = Y['HeartDisease'].replace({'No': 0, 'Yes': 1})\n"
     ]
    }
   ],
   "source": [
    "Y['HeartDisease'] = Y['HeartDisease'].replace({'No': 0, 'Yes': 1})"
   ]
  },
  {
   "cell_type": "code",
   "execution_count": 11,
   "metadata": {},
   "outputs": [],
   "source": [
    "public_key = (q, h, g, fixed_key)\n",
    "public_key_file_path = '3_Public_Key.pkl'\n",
    "\n",
    "with open(public_key_file_path, 'wb') as public_key_file:\n",
    "    pickle.dump(column_keys, public_key_file)"
   ]
  },
  {
   "cell_type": "code",
   "execution_count": null,
   "metadata": {},
   "outputs": [],
   "source": []
  }
 ],
 "metadata": {
  "kernelspec": {
   "display_name": "base",
   "language": "python",
   "name": "python3"
  },
  "language_info": {
   "codemirror_mode": {
    "name": "ipython",
    "version": 3
   },
   "file_extension": ".py",
   "mimetype": "text/x-python",
   "name": "python",
   "nbconvert_exporter": "python",
   "pygments_lexer": "ipython3",
   "version": "3.11.5"
  }
 },
 "nbformat": 4,
 "nbformat_minor": 2
}
