{
 "cells": [
  {
   "cell_type": "code",
   "execution_count": 1,
   "metadata": {},
   "outputs": [],
   "source": [
    "import pandas as pd\n",
    "import random\n",
    "from math import pow\n",
    "from decimal import Decimal\n",
    "import os\n",
    "import pickle\n",
    "import hashlib\n",
    "os.chdir('Resources/')"
   ]
  },
  {
   "cell_type": "code",
   "execution_count": 3,
   "metadata": {},
   "outputs": [],
   "source": [
    "def gen_key(q):\n",
    "    return random.randint(2, q-1) "
   ]
  },
  {
   "cell_type": "code",
   "execution_count": 4,
   "metadata": {},
   "outputs": [],
   "source": [
    "def power(a, b, c):\n",
    "    x = 1\n",
    "    y = a\n",
    "    while b > 0:\n",
    "        if b % 2 != 0:\n",
    "            x = (x * y) % c\n",
    "        y = (y * y) % c\n",
    "        b = int(b / 2)\n",
    "    return x % c"
   ]
  },
  {
   "cell_type": "code",
   "execution_count": 6,
   "metadata": {},
   "outputs": [],
   "source": [
    "def generate_unique_keys():\n",
    "    q = random.randint(10**20, 10**50)  # Large prime number\n",
    "    g = random.randint(2, q)  # Generator value\n",
    "\n",
    "    public_keys = []\n",
    "    private_keys = []\n",
    "\n",
    "    for _ in range(11):  # Generate for 11 attributes\n",
    "        key = gen_key(q)  # Private key for receiver\n",
    "        h = power(g, key, q)  # Public key component\n",
    "        public_keys.append(h)\n",
    "        private_keys.append(key)\n",
    "\n",
    "    return public_keys, private_keys, q, g\n",
    "public_keys, private_keys, q, g = generate_unique_keys()"
   ]
  },
  {
   "cell_type": "code",
   "execution_count": 7,
   "metadata": {},
   "outputs": [],
   "source": [
    "\n",
    "public_key_data = {\n",
    "    'q': q,\n",
    "    'g': g,\n",
    "    'public_keys': public_keys\n",
    "}\n",
    "\n",
    "private_key_data = {\n",
    "    'q': q,\n",
    "    'private_keys': private_keys\n",
    "}\n",
    "\n",
    "with open('3_Public_Key.pkl', 'wb') as f_public:\n",
    "    pickle.dump(public_key_data, f_public)\n",
    "\n",
    "with open('3_Private_Key.pkl', 'wb') as f_private:\n",
    "    pickle.dump(private_key_data, f_private)"
   ]
  }
 ],
 "metadata": {
  "kernelspec": {
   "display_name": "Python 3",
   "language": "python",
   "name": "python3"
  },
  "language_info": {
   "codemirror_mode": {
    "name": "ipython",
    "version": 3
   },
   "file_extension": ".py",
   "mimetype": "text/x-python",
   "name": "python",
   "nbconvert_exporter": "python",
   "pygments_lexer": "ipython3",
   "version": "3.12.3"
  }
 },
 "nbformat": 4,
 "nbformat_minor": 2
}
