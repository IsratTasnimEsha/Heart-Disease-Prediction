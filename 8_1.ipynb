{
 "cells": [
  {
   "cell_type": "code",
   "execution_count": null,
   "metadata": {},
   "outputs": [],
   "source": [
    "import pandas as pd\n",
    "import numpy as np\n",
    "import random\n",
    "import os\n",
    "import matplotlib.pyplot as plt\n",
    "from sklearn.model_selection import train_test_split\n",
    "from sklearn.preprocessing import StandardScaler\n",
    "from sklearn.ensemble import RandomForestClassifier\n",
    "from sklearn.tree import DecisionTreeClassifier\n",
    "from sklearn.metrics import confusion_matrix, accuracy_score, precision_score, recall_score, f1_score, roc_auc_score, confusion_matrix, roc_curve\n",
    "from sklearn.decomposition import PCA\n",
    "from keras.models import Sequential\n",
    "from keras.layers import LSTM, Dense, Dropout\n",
    "from keras.optimizers import Adam\n",
    "import tensorflow as tf\n",
    "import seaborn as sns\n",
    "from sklearn.ensemble import IsolationForest\n",
    "os.chdir('Resources/')"
   ]
  },
  {
   "cell_type": "code",
   "execution_count": null,
   "metadata": {},
   "outputs": [],
   "source": [
    "df = pd.read_csv('6_Preprocessed_Data.csv')\n",
    "\n",
    "X = df.drop(['HeartDisease'], axis='columns')\n",
    "Y = df[['HeartDisease']]"
   ]
  },
  {
   "cell_type": "code",
   "execution_count": null,
   "metadata": {},
   "outputs": [
    {
     "name": "stdout",
     "output_type": "stream",
     "text": [
      "638 8.01037640707607 8.162495101007952 232\n",
      "639 8.065654409567738 8.162495101007952 232\n",
      "640 7.979095110038995 8.162495101007952 232\n",
      "641 7.944335542317767 8.162495101007952 232\n",
      "642 7.932339378595574 8.162495101007952 232\n",
      "643 8.030943235714672 8.162495101007952 232\n",
      "644 8.024124149126566 8.162495101007952 232\n",
      "645 8.037617262890892 8.162495101007952 232\n",
      "646 8.007138109899348 8.162495101007952 232\n",
      "647 8.053052664395958 8.162495101007952 232\n",
      "648 8.00048931215742 8.162495101007952 232\n",
      "649 7.985343841501297 8.162495101007952 232\n"
     ]
    }
   ],
   "source": [
    "seed = 1743\n",
    "\n",
    "mx=8.162495101007952\n",
    "ind=232\n",
    "\n",
    "for i in range(650, 5000):\n",
    "    seed = i\n",
    "    \n",
    "    full = []\n",
    "    \n",
    "    for j in range(1, 10):\n",
    "        X_train, X_test, Y_train, Y_test = train_test_split(X, Y, test_size=0.1*j, random_state=seed)    \n",
    "\n",
    "        rf = RandomForestClassifier(random_state=seed)\n",
    "        model = rf.fit(X_train, Y_train.values.ravel()) \n",
    "        \n",
    "        pred = model.predict(X_test)\n",
    "        accuracy_rf = f1_score(Y_test, pred)\n",
    "        \n",
    "        full.append(accuracy_rf)\n",
    "\n",
    "    accuracy_nb = sum(full)\n",
    "    if(accuracy_nb>mx):\n",
    "        mx=accuracy_nb\n",
    "        ind=i\n",
    "    \n",
    "    print(i, accuracy_nb, mx, ind)"
   ]
  },
  {
   "cell_type": "code",
   "execution_count": null,
   "metadata": {},
   "outputs": [],
   "source": [
    "print(mx, ind)"
   ]
  },
  {
   "cell_type": "code",
   "execution_count": null,
   "metadata": {},
   "outputs": [],
   "source": []
  }
 ],
 "metadata": {
  "kernelspec": {
   "display_name": "Python 3",
   "language": "python",
   "name": "python3"
  },
  "language_info": {
   "codemirror_mode": {
    "name": "ipython",
    "version": 3
   },
   "file_extension": ".py",
   "mimetype": "text/x-python",
   "name": "python",
   "nbconvert_exporter": "python",
   "pygments_lexer": "ipython3",
   "version": "3.12.3"
  }
 },
 "nbformat": 4,
 "nbformat_minor": 2
}
