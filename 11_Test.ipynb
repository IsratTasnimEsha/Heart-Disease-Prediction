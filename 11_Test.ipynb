{
 "cells": [
  {
   "cell_type": "code",
   "execution_count": 1,
   "metadata": {},
   "outputs": [],
   "source": [
    "import ipywidgets as widgets\n",
    "from IPython.display import display\n",
    "import pandas as pd\n",
    "import hashlib\n",
    "import random\n",
    "import os\n",
    "import pickle\n",
    "import joblib\n",
    "os.chdir('Resources/')"
   ]
  },
  {
   "cell_type": "code",
   "execution_count": 2,
   "metadata": {},
   "outputs": [],
   "source": [
    "public_key_file_path = '3_Public_Key.pkl'\n",
    "with open(public_key_file_path, 'rb') as public_key_file:\n",
    "    column_keys = pickle.load(public_key_file)"
   ]
  },
  {
   "cell_type": "code",
   "execution_count": 3,
   "metadata": {},
   "outputs": [],
   "source": [
    "model = joblib.load('9_RF_Isolation_Model.joblib')\n",
    "scaler = joblib.load('6_scaler.joblib')"
   ]
  },
  {
   "cell_type": "code",
   "execution_count": 4,
   "metadata": {},
   "outputs": [],
   "source": [
    "def power(a, b, c):\n",
    "    x = 1\n",
    "    y = a\n",
    "    while b > 0:\n",
    "        if b % 2 != 0:\n",
    "            x = (x * y) % c\n",
    "        y = (y * y) % c\n",
    "        b = int(b / 2)\n",
    "    return x % c"
   ]
  },
  {
   "cell_type": "code",
   "execution_count": 5,
   "metadata": {},
   "outputs": [],
   "source": [
    "def encrypt(msg, q, h, g):\n",
    "    en_msg = []\n",
    "    k = gen_key(q)  # Private key for sender\n",
    "    s = power(h, k, q)\n",
    "    p = power(g, k, q)\n",
    "    \n",
    "    for i in range(0, len(msg)):\n",
    "        en_msg.append(s * msg[i])  # Encrypt each element\n",
    "    \n",
    "    return en_msg, p"
   ]
  },
  {
   "cell_type": "code",
   "execution_count": 6,
   "metadata": {},
   "outputs": [],
   "source": [
    "def save_button_clicked(button):\n",
    "    X_new_s = {\n",
    "        'Age': int(age_widget.value),\n",
    "        'Sex': sex_widget.value,\n",
    "        'ChestPainType': chest_pain_type_widget.value,\n",
    "        'RestingBloodPressure': int(resting_blood_pressure_widget.value),\n",
    "        'Cholesterol': int(cholesterol_widget.value),\n",
    "        'FastingBloodSugar': fasting_blood_sugar_widget.value,\n",
    "        'RestingECG': resting_ecg_widget.value,\n",
    "        'MaximumHeartRate': int(max_heart_rate_widget.value),\n",
    "        'ExerciseAngina': exercise_angina_widget.value,\n",
    "        'Oldpeak': float(oldpeak_widget.value),\n",
    "        'ST_Slope': st_slope_widget.value\n",
    "    }\n",
    "\n",
    "    encrypted_row = {}\n",
    "    for column, value in X_new_s.items():\n",
    "        q, h, g, fixed_key = column_keys[column]\n",
    "        if isinstance(value, str):\n",
    "            numeric_value = sum(ord(char) for char in value)\n",
    "            encrypted_value, _ = encrypt(numeric_value, q, h, g, fixed_key)\n",
    "        else:\n",
    "            encrypted_value, _ = encrypt(float(value), q, h, g, fixed_key)\n",
    "        encrypted_row[column] = encrypted_value\n",
    "\n",
    "    encrypted_df_s = pd.DataFrame([encrypted_row])\n",
    "\n",
    "    X_new_scaled_s = scaler.transform(encrypted_df_s)\n",
    "\n",
    "    pred_new_s = model.predict(X_new_scaled_s)\n",
    "\n",
    "    output_widget.clear_output()\n",
    "    with output_widget:\n",
    "        if pred_new_s[0] == 0:\n",
    "            print(\"Heart Disease: No\")\n",
    "        else:\n",
    "            print(\"Heart Disease: Yes\")"
   ]
  },
  {
   "cell_type": "code",
   "execution_count": 7,
   "metadata": {},
   "outputs": [
    {
     "data": {
      "application/vnd.jupyter.widget-view+json": {
       "model_id": "8541eae0316a45a18c307148a7d7f03a",
       "version_major": 2,
       "version_minor": 0
      },
      "text/plain": [
       "Text(value='', description='Age:')"
      ]
     },
     "metadata": {},
     "output_type": "display_data"
    },
    {
     "data": {
      "application/vnd.jupyter.widget-view+json": {
       "model_id": "6b679a958f3a4bff8939018c546fbf6c",
       "version_major": 2,
       "version_minor": 0
      },
      "text/plain": [
       "Dropdown(description='Sex:', options=('Female', 'Male'), value='Female')"
      ]
     },
     "metadata": {},
     "output_type": "display_data"
    },
    {
     "data": {
      "application/vnd.jupyter.widget-view+json": {
       "model_id": "164c9c7efd6044499856020446755887",
       "version_major": 2,
       "version_minor": 0
      },
      "text/plain": [
       "Dropdown(description='ChestPainType:', options=('Typical Angina', 'Atypical Angina', 'Non-anginal Pain', 'Asym…"
      ]
     },
     "metadata": {},
     "output_type": "display_data"
    },
    {
     "data": {
      "application/vnd.jupyter.widget-view+json": {
       "model_id": "6eb9c2c6e51640c79e91c9d65ba2124b",
       "version_major": 2,
       "version_minor": 0
      },
      "text/plain": [
       "Text(value='', description='RestingBloodPressure:')"
      ]
     },
     "metadata": {},
     "output_type": "display_data"
    },
    {
     "data": {
      "application/vnd.jupyter.widget-view+json": {
       "model_id": "79d2914141c841949a790d8dcaf84579",
       "version_major": 2,
       "version_minor": 0
      },
      "text/plain": [
       "Text(value='', description='Cholesterol:')"
      ]
     },
     "metadata": {},
     "output_type": "display_data"
    },
    {
     "data": {
      "application/vnd.jupyter.widget-view+json": {
       "model_id": "832db9a32b5b405baec86df37301da41",
       "version_major": 2,
       "version_minor": 0
      },
      "text/plain": [
       "Dropdown(description='FastingBloodSugar:', options=('No', 'Yes'), value='No')"
      ]
     },
     "metadata": {},
     "output_type": "display_data"
    },
    {
     "data": {
      "application/vnd.jupyter.widget-view+json": {
       "model_id": "12cb194f749d4c7b9b8af39b7ab2f544",
       "version_major": 2,
       "version_minor": 0
      },
      "text/plain": [
       "Dropdown(description='RestingECG:', options=('Normal', 'Abnormal ST-T Wave', 'Left Ventricular Hypertrophy'), …"
      ]
     },
     "metadata": {},
     "output_type": "display_data"
    },
    {
     "data": {
      "application/vnd.jupyter.widget-view+json": {
       "model_id": "4322c78ae5704dbf8c1caec2b25bcca0",
       "version_major": 2,
       "version_minor": 0
      },
      "text/plain": [
       "Text(value='', description='MaximumHeartRate:')"
      ]
     },
     "metadata": {},
     "output_type": "display_data"
    },
    {
     "data": {
      "application/vnd.jupyter.widget-view+json": {
       "model_id": "7e47b1fc04e14de49018c0b0fc22fe53",
       "version_major": 2,
       "version_minor": 0
      },
      "text/plain": [
       "Dropdown(description='ExerciseAngina:', options=('No', 'Yes'), value='No')"
      ]
     },
     "metadata": {},
     "output_type": "display_data"
    },
    {
     "data": {
      "application/vnd.jupyter.widget-view+json": {
       "model_id": "c78c6c74477745a3a79d11bcce869127",
       "version_major": 2,
       "version_minor": 0
      },
      "text/plain": [
       "Text(value='', description='Oldpeak:')"
      ]
     },
     "metadata": {},
     "output_type": "display_data"
    },
    {
     "data": {
      "application/vnd.jupyter.widget-view+json": {
       "model_id": "8def741744d3435da8c26a9700e75198",
       "version_major": 2,
       "version_minor": 0
      },
      "text/plain": [
       "Dropdown(description='ST_Slope:', options=('Upsloping', 'Flat', 'Downsloping'), value='Upsloping')"
      ]
     },
     "metadata": {},
     "output_type": "display_data"
    },
    {
     "data": {
      "application/vnd.jupyter.widget-view+json": {
       "model_id": "e1f959ad447549e5b626fec19d32e645",
       "version_major": 2,
       "version_minor": 0
      },
      "text/plain": [
       "Button(description='Save Data', style=ButtonStyle())"
      ]
     },
     "metadata": {},
     "output_type": "display_data"
    },
    {
     "data": {
      "application/vnd.jupyter.widget-view+json": {
       "model_id": "c5cb546148194c13bccd2cbd43c9e30c",
       "version_major": 2,
       "version_minor": 0
      },
      "text/plain": [
       "Output()"
      ]
     },
     "metadata": {},
     "output_type": "display_data"
    },
    {
     "ename": "KeyError",
     "evalue": "'Age'",
     "output_type": "error",
     "traceback": [
      "\u001b[1;31m---------------------------------------------------------------------------\u001b[0m",
      "\u001b[1;31mKeyError\u001b[0m                                  Traceback (most recent call last)",
      "Cell \u001b[1;32mIn[6], line 18\u001b[0m, in \u001b[0;36msave_button_clicked\u001b[1;34m(button)\u001b[0m\n\u001b[0;32m     16\u001b[0m encrypted_row \u001b[38;5;241m=\u001b[39m {}\n\u001b[0;32m     17\u001b[0m \u001b[38;5;28;01mfor\u001b[39;00m column, value \u001b[38;5;129;01min\u001b[39;00m X_new_s\u001b[38;5;241m.\u001b[39mitems():\n\u001b[1;32m---> 18\u001b[0m     q, h, g, fixed_key \u001b[38;5;241m=\u001b[39m \u001b[43mcolumn_keys\u001b[49m\u001b[43m[\u001b[49m\u001b[43mcolumn\u001b[49m\u001b[43m]\u001b[49m\n\u001b[0;32m     19\u001b[0m     \u001b[38;5;28;01mif\u001b[39;00m \u001b[38;5;28misinstance\u001b[39m(value, \u001b[38;5;28mstr\u001b[39m):\n\u001b[0;32m     20\u001b[0m         numeric_value \u001b[38;5;241m=\u001b[39m \u001b[38;5;28msum\u001b[39m(\u001b[38;5;28mord\u001b[39m(char) \u001b[38;5;28;01mfor\u001b[39;00m char \u001b[38;5;129;01min\u001b[39;00m value)\n",
      "\u001b[1;31mKeyError\u001b[0m: 'Age'"
     ]
    }
   ],
   "source": [
    "age_widget = widgets.Text(description=\"Age:\")\n",
    "sex_widget = widgets.Dropdown(options=['Female', 'Male'], description=\"Sex:\")\n",
    "chest_pain_type_widget = widgets.Dropdown(options=['Typical Angina', 'Atypical Angina', 'Non-anginal Pain', 'Asymptomatic'], description=\"ChestPainType:\")\n",
    "resting_blood_pressure_widget = widgets.Text(description=\"RestingBloodPressure:\")\n",
    "cholesterol_widget = widgets.Text(description=\"Cholesterol:\")\n",
    "fasting_blood_sugar_widget = widgets.Dropdown(options=['No', 'Yes'], description=\"FastingBloodSugar:\")\n",
    "resting_ecg_widget = widgets.Dropdown(options=['Normal', 'Abnormal ST-T Wave', 'Left Ventricular Hypertrophy'], description=\"RestingECG:\")\n",
    "max_heart_rate_widget = widgets.Text(description=\"MaximumHeartRate:\")\n",
    "exercise_angina_widget = widgets.Dropdown(options=['No', 'Yes'], description=\"ExerciseAngina:\")\n",
    "oldpeak_widget = widgets.Text(description=\"Oldpeak:\")\n",
    "st_slope_widget = widgets.Dropdown(options=['Upsloping', 'Flat', 'Downsloping'], description=\"ST_Slope:\")\n",
    "\n",
    "save_button = widgets.Button(description=\"Save Data\")\n",
    "save_button.on_click(save_button_clicked)\n",
    "\n",
    "output_widget = widgets.Output()\n",
    "\n",
    "display(age_widget, sex_widget, chest_pain_type_widget, resting_blood_pressure_widget, cholesterol_widget, fasting_blood_sugar_widget, resting_ecg_widget, max_heart_rate_widget, exercise_angina_widget, oldpeak_widget, st_slope_widget, save_button, output_widget)"
   ]
  },
  {
   "cell_type": "code",
   "execution_count": null,
   "metadata": {},
   "outputs": [],
   "source": []
  }
 ],
 "metadata": {
  "kernelspec": {
   "display_name": "Python 3",
   "language": "python",
   "name": "python3"
  },
  "language_info": {
   "codemirror_mode": {
    "name": "ipython",
    "version": 3
   },
   "file_extension": ".py",
   "mimetype": "text/x-python",
   "name": "python",
   "nbconvert_exporter": "python",
   "pygments_lexer": "ipython3",
   "version": "3.12.3"
  }
 },
 "nbformat": 4,
 "nbformat_minor": 2
}
