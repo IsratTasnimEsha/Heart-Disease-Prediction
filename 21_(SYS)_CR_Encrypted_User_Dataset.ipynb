{
 "cells": [
  {
   "cell_type": "code",
   "execution_count": 1,
   "metadata": {},
   "outputs": [],
   "source": [
    "import ipywidgets as widgets\n",
    "from IPython.display import display\n",
    "import pandas as pd\n",
    "import hashlib\n",
    "import random\n",
    "import os\n",
    "import pickle\n",
    "import joblib\n",
    "os.chdir('Resources/')"
   ]
  },
  {
   "cell_type": "code",
   "execution_count": 2,
   "metadata": {},
   "outputs": [],
   "source": [
    "def load_key(filename):\n",
    "    with open(filename, \"rb\") as f:\n",
    "        return pickle.load(f)"
   ]
  },
  {
   "cell_type": "code",
   "execution_count": 3,
   "metadata": {},
   "outputs": [],
   "source": [
    "def string_to_int(message):\n",
    "    return int.from_bytes(message.encode('utf-8'), byteorder='big')\n",
    "\n",
    "def int_to_string(value):\n",
    "    byte_length = (value.bit_length() + 7) // 8 \n",
    "    return value.to_bytes(byte_length, byteorder='big').decode('utf-8', errors='ignore')\n",
    "\n",
    "def float_to_string(message):\n",
    "    return str(message)\n",
    "\n",
    "def string_to_float(message):\n",
    "    return float(message)"
   ]
  },
  {
   "cell_type": "code",
   "execution_count": 4,
   "metadata": {},
   "outputs": [],
   "source": [
    "def power(b, p, m):\n",
    "    b = b % m\n",
    "    if p == 0:\n",
    "        return 1\n",
    "    j = power(b, p // 2, m)\n",
    "    j = (j * j) % m\n",
    "    if p % 2 == 1:\n",
    "        j = (j * b) % m\n",
    "    return j"
   ]
  },
  {
   "cell_type": "code",
   "execution_count": 5,
   "metadata": {},
   "outputs": [],
   "source": [
    "def mod_inv(a, m):\n",
    "    origin_m = m\n",
    "    y, x = 0, 1\n",
    "\n",
    "    if m == 1:\n",
    "        return 0\n",
    "\n",
    "    while a > 1:\n",
    "        q = a // m\n",
    "        temp = m\n",
    "\n",
    "        m = a % m\n",
    "        a = temp\n",
    "        temp = y\n",
    "\n",
    "        y = x - q * y\n",
    "        x = temp\n",
    "\n",
    "    if x < 0:\n",
    "        x += origin_m\n",
    "    return x"
   ]
  },
  {
   "cell_type": "code",
   "execution_count": 6,
   "metadata": {},
   "outputs": [
    {
     "data": {
      "text/html": [
       "<div>\n",
       "<style scoped>\n",
       "    .dataframe tbody tr th:only-of-type {\n",
       "        vertical-align: middle;\n",
       "    }\n",
       "\n",
       "    .dataframe tbody tr th {\n",
       "        vertical-align: top;\n",
       "    }\n",
       "\n",
       "    .dataframe thead th {\n",
       "        text-align: right;\n",
       "    }\n",
       "</style>\n",
       "<table border=\"1\" class=\"dataframe\">\n",
       "  <thead>\n",
       "    <tr style=\"text-align: right;\">\n",
       "      <th></th>\n",
       "      <th>ST_Slope</th>\n",
       "      <th>HeartDisease</th>\n",
       "    </tr>\n",
       "  </thead>\n",
       "  <tbody>\n",
       "    <tr>\n",
       "      <th>0</th>\n",
       "      <td>Upsloping</td>\n",
       "      <td>NaN</td>\n",
       "    </tr>\n",
       "  </tbody>\n",
       "</table>\n",
       "</div>"
      ],
      "text/plain": [
       "    ST_Slope  HeartDisease\n",
       "0  Upsloping           NaN"
      ]
     },
     "execution_count": 6,
     "metadata": {},
     "output_type": "execute_result"
    }
   ],
   "source": [
    "df = pd.read_csv('20_(SYS)_CC_Received_User_Data.csv')\n",
    "#df = df.dropna()\n",
    "df1 = df.iloc[:, :5]\n",
    "df2 = df.iloc[:, 5:10]\n",
    "df3 = df.iloc[:, 10:]  \n",
    "df3"
   ]
  },
  {
   "cell_type": "code",
   "execution_count": 7,
   "metadata": {},
   "outputs": [],
   "source": [
    "def encrypt_data(n, df, public_keys, column_names):\n",
    "    encrypted_data = pd.DataFrame()\n",
    "\n",
    "    for k in range(n):\n",
    "        public_key = public_keys[column_names[k]] \n",
    "        p = public_key['p']\n",
    "        g = public_key['g']\n",
    "        h = public_key['h']\n",
    "        y = public_key['y']\n",
    "            \n",
    "        print(f\"Processing Column: {column_names[k]}\")\n",
    "\n",
    "        s = power(h, y, p)\n",
    "\n",
    "        messages = df.iloc[:, k].values \n",
    "\n",
    "        encrypted_column = []\n",
    "\n",
    "        for i, message in enumerate(messages, 1):\n",
    "            if message is not None and message == message:  \n",
    "                print(f\"Processing Message {i}: {message}\")\n",
    "                \n",
    "                temp_message = string_to_int(message)  \n",
    "                \n",
    "                c1 = power(g, y, p)\n",
    "                c2 = (temp_message * s) % p\n",
    "                \n",
    "                encrypted_column.append(f\"({c1},{c2})\") \n",
    "                print(f\"Ciphertext: (c1, c2): ({c1}, {c2})\")\n",
    "            \n",
    "            else:\n",
    "                encrypted_column.append(None)\n",
    "\n",
    "        encrypted_data[column_names[k]] = encrypted_column\n",
    "\n",
    "    return encrypted_data"
   ]
  },
  {
   "cell_type": "code",
   "execution_count": 8,
   "metadata": {},
   "outputs": [
    {
     "name": "stdout",
     "output_type": "stream",
     "text": [
      "Processing Column: Age\n",
      "Processing Message 1: Middle-aged\n",
      "Ciphertext: (c1, c2): (7725238297445332127407991595158267606450716631553, 4274730442883565920336037254176546269980471338891)\n",
      "Processing Column: Sex\n",
      "Processing Message 1: Female\n",
      "Ciphertext: (c1, c2): (35517718033104704088502485275726341561551904284337, 23188915792823836432044653809327381448450200244661)\n",
      "Processing Column: ChestPainType\n",
      "Processing Message 1: Atypical Angina\n",
      "Ciphertext: (c1, c2): (22443659489472860229040290952583046495774185357615, 7241693035070086510586471683043736059438700931885)\n",
      "Processing Column: RestingBloodPressure\n",
      "Processing Message 1: Normal\n",
      "Ciphertext: (c1, c2): (32645786427389652046014896610704699713743820311933, 12861701305792585207367963936785195559926271406427)\n",
      "Processing Column: Cholesterol\n",
      "Processing Message 1: High\n",
      "Ciphertext: (c1, c2): (1304267054805981944467088018208132613735969340595, 42465400876689406566951597473927995615875243628626)\n"
     ]
    },
    {
     "data": {
      "text/html": [
       "<div>\n",
       "<style scoped>\n",
       "    .dataframe tbody tr th:only-of-type {\n",
       "        vertical-align: middle;\n",
       "    }\n",
       "\n",
       "    .dataframe tbody tr th {\n",
       "        vertical-align: top;\n",
       "    }\n",
       "\n",
       "    .dataframe thead th {\n",
       "        text-align: right;\n",
       "    }\n",
       "</style>\n",
       "<table border=\"1\" class=\"dataframe\">\n",
       "  <thead>\n",
       "    <tr style=\"text-align: right;\">\n",
       "      <th></th>\n",
       "      <th>Age</th>\n",
       "      <th>Sex</th>\n",
       "      <th>ChestPainType</th>\n",
       "      <th>RestingBloodPressure</th>\n",
       "      <th>Cholesterol</th>\n",
       "    </tr>\n",
       "  </thead>\n",
       "  <tbody>\n",
       "    <tr>\n",
       "      <th>0</th>\n",
       "      <td>(772523829744533212740799159515826760645071663...</td>\n",
       "      <td>(355177180331047040885024852757263415615519042...</td>\n",
       "      <td>(224436594894728602290402909525830464957741853...</td>\n",
       "      <td>(326457864273896520460148966107046997137438203...</td>\n",
       "      <td>(130426705480598194446708801820813261373596934...</td>\n",
       "    </tr>\n",
       "  </tbody>\n",
       "</table>\n",
       "</div>"
      ],
      "text/plain": [
       "                                                 Age  \\\n",
       "0  (772523829744533212740799159515826760645071663...   \n",
       "\n",
       "                                                 Sex  \\\n",
       "0  (355177180331047040885024852757263415615519042...   \n",
       "\n",
       "                                       ChestPainType  \\\n",
       "0  (224436594894728602290402909525830464957741853...   \n",
       "\n",
       "                                RestingBloodPressure  \\\n",
       "0  (326457864273896520460148966107046997137438203...   \n",
       "\n",
       "                                         Cholesterol  \n",
       "0  (130426705480598194446708801820813261373596934...  "
      ]
     },
     "execution_count": 8,
     "metadata": {},
     "output_type": "execute_result"
    }
   ],
   "source": [
    "public_keys = load_key(\"5_1_CR1_Public_Key_Part.pkl\")\n",
    "\n",
    "column_names = [\n",
    "    \"Age\", \"Sex\", \"ChestPainType\", \"RestingBloodPressure\", \"Cholesterol\"\n",
    "]\n",
    "\n",
    "encrypted_data_1 = encrypt_data(5, df1, public_keys, column_names)\n",
    "encrypted_data_1"
   ]
  },
  {
   "cell_type": "code",
   "execution_count": 9,
   "metadata": {},
   "outputs": [
    {
     "name": "stdout",
     "output_type": "stream",
     "text": [
      "Processing Column: FastingBloodSugar\n",
      "Processing Message 1: No\n",
      "Ciphertext: (c1, c2): (18959108316266119489233644530980633950698663352542, 33810995375882583283482249513236475170709139984741)\n",
      "Processing Column: RestingECG\n",
      "Processing Message 1: Normal\n",
      "Ciphertext: (c1, c2): (12741437569542050747073334897738270095511225090014, 4937776636611353583684620223178330241268700879095)\n",
      "Processing Column: MaximumHeartRate\n",
      "Processing Message 1: Moderate\n",
      "Ciphertext: (c1, c2): (7384466023307569122962762536709314464704923088871, 12957944149271503600812266143018628298526313693571)\n",
      "Processing Column: ExerciseAngina\n",
      "Processing Message 1: No\n",
      "Ciphertext: (c1, c2): (20461355034696913938060735031266347179123151849021, 34978493924221736660734634798859756197578254899277)\n",
      "Processing Column: Oldpeak\n"
     ]
    },
    {
     "data": {
      "text/html": [
       "<div>\n",
       "<style scoped>\n",
       "    .dataframe tbody tr th:only-of-type {\n",
       "        vertical-align: middle;\n",
       "    }\n",
       "\n",
       "    .dataframe tbody tr th {\n",
       "        vertical-align: top;\n",
       "    }\n",
       "\n",
       "    .dataframe thead th {\n",
       "        text-align: right;\n",
       "    }\n",
       "</style>\n",
       "<table border=\"1\" class=\"dataframe\">\n",
       "  <thead>\n",
       "    <tr style=\"text-align: right;\">\n",
       "      <th></th>\n",
       "      <th>FastingBloodSugar</th>\n",
       "      <th>RestingECG</th>\n",
       "      <th>MaximumHeartRate</th>\n",
       "      <th>ExerciseAngina</th>\n",
       "      <th>Oldpeak</th>\n",
       "    </tr>\n",
       "  </thead>\n",
       "  <tbody>\n",
       "    <tr>\n",
       "      <th>0</th>\n",
       "      <td>(189591083162661194892336445309806339506986633...</td>\n",
       "      <td>(127414375695420507470733348977382700955112250...</td>\n",
       "      <td>(738446602330756912296276253670931446470492308...</td>\n",
       "      <td>(204613550346969139380607350312663471791231518...</td>\n",
       "      <td>None</td>\n",
       "    </tr>\n",
       "  </tbody>\n",
       "</table>\n",
       "</div>"
      ],
      "text/plain": [
       "                                   FastingBloodSugar  \\\n",
       "0  (189591083162661194892336445309806339506986633...   \n",
       "\n",
       "                                          RestingECG  \\\n",
       "0  (127414375695420507470733348977382700955112250...   \n",
       "\n",
       "                                    MaximumHeartRate  \\\n",
       "0  (738446602330756912296276253670931446470492308...   \n",
       "\n",
       "                                      ExerciseAngina Oldpeak  \n",
       "0  (204613550346969139380607350312663471791231518...    None  "
      ]
     },
     "execution_count": 9,
     "metadata": {},
     "output_type": "execute_result"
    }
   ],
   "source": [
    "public_keys = load_key(\"5_2_CR2_Public_Key_Part.pkl\")\n",
    "\n",
    "column_names = [\n",
    "    \"FastingBloodSugar\", \"RestingECG\", \"MaximumHeartRate\", \"ExerciseAngina\", \"Oldpeak\"\n",
    "]\n",
    "\n",
    "encrypted_data_2 = encrypt_data(5, df2, public_keys, column_names)\n",
    "encrypted_data_2"
   ]
  },
  {
   "cell_type": "code",
   "execution_count": 10,
   "metadata": {},
   "outputs": [
    {
     "name": "stdout",
     "output_type": "stream",
     "text": [
      "Processing Column: ST_Slope\n",
      "Processing Message 1: Upsloping\n",
      "Ciphertext: (c1, c2): (33269922789787438881901292310454632547714019546100, 5701636905427024824662866983306169439856314483175)\n"
     ]
    },
    {
     "data": {
      "text/html": [
       "<div>\n",
       "<style scoped>\n",
       "    .dataframe tbody tr th:only-of-type {\n",
       "        vertical-align: middle;\n",
       "    }\n",
       "\n",
       "    .dataframe tbody tr th {\n",
       "        vertical-align: top;\n",
       "    }\n",
       "\n",
       "    .dataframe thead th {\n",
       "        text-align: right;\n",
       "    }\n",
       "</style>\n",
       "<table border=\"1\" class=\"dataframe\">\n",
       "  <thead>\n",
       "    <tr style=\"text-align: right;\">\n",
       "      <th></th>\n",
       "      <th>ST_Slope</th>\n",
       "    </tr>\n",
       "  </thead>\n",
       "  <tbody>\n",
       "    <tr>\n",
       "      <th>0</th>\n",
       "      <td>(332699227897874388819012923104546325477140195...</td>\n",
       "    </tr>\n",
       "  </tbody>\n",
       "</table>\n",
       "</div>"
      ],
      "text/plain": [
       "                                            ST_Slope\n",
       "0  (332699227897874388819012923104546325477140195..."
      ]
     },
     "execution_count": 10,
     "metadata": {},
     "output_type": "execute_result"
    }
   ],
   "source": [
    "public_keys = load_key(\"5_3_CC_Public_Key_Part.pkl\")\n",
    "\n",
    "column_names = [\n",
    "    \"ST_Slope\"\n",
    "]\n",
    "\n",
    "encrypted_data_3 = encrypt_data(1, df3, public_keys, column_names)\n",
    "encrypted_data_3"
   ]
  },
  {
   "cell_type": "code",
   "execution_count": 11,
   "metadata": {},
   "outputs": [],
   "source": [
    "encrypted_df = pd.concat([encrypted_data_1, encrypted_data_2, encrypted_data_3], axis='columns')\n",
    "encrypted_df\n",
    "encrypted_df.to_csv('21_(SYS)_CR_Encrypted_User_Data.csv', index=False)"
   ]
  },
  {
   "cell_type": "code",
   "execution_count": null,
   "metadata": {},
   "outputs": [],
   "source": []
  }
 ],
 "metadata": {
  "kernelspec": {
   "display_name": "Python 3",
   "language": "python",
   "name": "python3"
  },
  "language_info": {
   "codemirror_mode": {
    "name": "ipython",
    "version": 3
   },
   "file_extension": ".py",
   "mimetype": "text/x-python",
   "name": "python",
   "nbconvert_exporter": "python",
   "pygments_lexer": "ipython3",
   "version": "3.12.3"
  }
 },
 "nbformat": 4,
 "nbformat_minor": 2
}
