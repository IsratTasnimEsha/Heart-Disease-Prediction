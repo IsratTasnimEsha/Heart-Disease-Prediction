{
 "cells": [
  {
   "cell_type": "code",
   "execution_count": 1,
   "metadata": {},
   "outputs": [],
   "source": [
    "import ipywidgets as widgets\n",
    "from IPython.display import display\n",
    "import pandas as pd\n",
    "import hashlib\n",
    "import random\n",
    "import os\n",
    "import pickle\n",
    "import joblib\n",
    "os.chdir('Resources/')"
   ]
  },
  {
   "cell_type": "code",
   "execution_count": 2,
   "metadata": {},
   "outputs": [],
   "source": [
    "def load_key(filename):\n",
    "    with open(filename, \"rb\") as f:\n",
    "        return pickle.load(f)"
   ]
  },
  {
   "cell_type": "code",
   "execution_count": 3,
   "metadata": {},
   "outputs": [],
   "source": [
    "def string_to_int(message):\n",
    "    return int.from_bytes(message.encode('utf-8'), byteorder='big')\n",
    "\n",
    "def int_to_string(value):\n",
    "    byte_length = (value.bit_length() + 7) // 8 \n",
    "    return value.to_bytes(byte_length, byteorder='big').decode('utf-8', errors='ignore')\n",
    "\n",
    "def float_to_string(message):\n",
    "    return str(message)\n",
    "\n",
    "def string_to_float(message):\n",
    "    return float(message)"
   ]
  },
  {
   "cell_type": "code",
   "execution_count": 4,
   "metadata": {},
   "outputs": [],
   "source": [
    "def power(b, p, m):\n",
    "    b = b % m\n",
    "    if p == 0:\n",
    "        return 1\n",
    "    j = power(b, p // 2, m)\n",
    "    j = (j * j) % m\n",
    "    if p % 2 == 1:\n",
    "        j = (j * b) % m\n",
    "    return j"
   ]
  },
  {
   "cell_type": "code",
   "execution_count": 5,
   "metadata": {},
   "outputs": [],
   "source": [
    "def mod_inv(a, m):\n",
    "    origin_m = m\n",
    "    y, x = 0, 1\n",
    "\n",
    "    if m == 1:\n",
    "        return 0\n",
    "\n",
    "    while a > 1:\n",
    "        q = a // m\n",
    "        temp = m\n",
    "\n",
    "        m = a % m\n",
    "        a = temp\n",
    "        temp = y\n",
    "\n",
    "        y = x - q * y\n",
    "        x = temp\n",
    "\n",
    "    if x < 0:\n",
    "        x += origin_m\n",
    "    return x"
   ]
  },
  {
   "cell_type": "code",
   "execution_count": 6,
   "metadata": {},
   "outputs": [
    {
     "data": {
      "text/html": [
       "<div>\n",
       "<style scoped>\n",
       "    .dataframe tbody tr th:only-of-type {\n",
       "        vertical-align: middle;\n",
       "    }\n",
       "\n",
       "    .dataframe tbody tr th {\n",
       "        vertical-align: top;\n",
       "    }\n",
       "\n",
       "    .dataframe thead th {\n",
       "        text-align: right;\n",
       "    }\n",
       "</style>\n",
       "<table border=\"1\" class=\"dataframe\">\n",
       "  <thead>\n",
       "    <tr style=\"text-align: right;\">\n",
       "      <th></th>\n",
       "      <th>ST_Slope</th>\n",
       "      <th>HeartDisease</th>\n",
       "    </tr>\n",
       "  </thead>\n",
       "  <tbody>\n",
       "    <tr>\n",
       "      <th>0</th>\n",
       "      <td>Flat</td>\n",
       "      <td>NaN</td>\n",
       "    </tr>\n",
       "  </tbody>\n",
       "</table>\n",
       "</div>"
      ],
      "text/plain": [
       "  ST_Slope  HeartDisease\n",
       "0     Flat           NaN"
      ]
     },
     "execution_count": 6,
     "metadata": {},
     "output_type": "execute_result"
    }
   ],
   "source": [
    "df = pd.read_csv('20_(SYS)_CC_Received_User_Data.csv')\n",
    "#df = df.dropna()\n",
    "df1 = df.iloc[:, :5]\n",
    "df2 = df.iloc[:, 5:10]\n",
    "df3 = df.iloc[:, 10:]  \n",
    "df3"
   ]
  },
  {
   "cell_type": "code",
   "execution_count": 7,
   "metadata": {},
   "outputs": [],
   "source": [
    "def encrypt_data(n, df, public_keys, column_names):\n",
    "    encrypted_data = pd.DataFrame()\n",
    "\n",
    "    for k in range(n):\n",
    "        public_key = public_keys[column_names[k]] \n",
    "        p = public_key['p']\n",
    "        g = public_key['g']\n",
    "        h = public_key['h']\n",
    "        y = public_key['y']\n",
    "            \n",
    "        print(f\"Processing Column: {column_names[k]}\")\n",
    "\n",
    "        s = power(h, y, p)\n",
    "\n",
    "        messages = df.iloc[:, k].values \n",
    "\n",
    "        encrypted_column = []\n",
    "\n",
    "        for i, message in enumerate(messages, 1):\n",
    "            if message is not None and message == message:  \n",
    "                print(f\"Processing Message {i}: {message}\")\n",
    "                \n",
    "                temp_message = string_to_int(message)  \n",
    "                \n",
    "                c1 = power(g, y, p)\n",
    "                c2 = (temp_message * s) % p\n",
    "                \n",
    "                encrypted_column.append(f\"({c1},{c2})\") \n",
    "                print(f\"Ciphertext: (c1, c2): ({c1}, {c2})\")\n",
    "            \n",
    "            else:\n",
    "                encrypted_column.append(None)\n",
    "\n",
    "        encrypted_data[column_names[k]] = encrypted_column\n",
    "\n",
    "    return encrypted_data"
   ]
  },
  {
   "cell_type": "code",
   "execution_count": 8,
   "metadata": {},
   "outputs": [
    {
     "name": "stdout",
     "output_type": "stream",
     "text": [
      "Processing Column: Age\n",
      "Processing Message 1: Middle-aged\n",
      "Ciphertext: (c1, c2): (7270988666945721113120809463312144500555280693674, 29378076229834480526623698013398561105293578426979)\n",
      "Processing Column: Sex\n",
      "Processing Message 1: Male\n",
      "Ciphertext: (c1, c2): (22961665442842143903220898566890700943449852505536, 52767206925905853065827991660681686067837424862391)\n",
      "Processing Column: ChestPainType\n",
      "Processing Message 1: Atypical Angina\n",
      "Ciphertext: (c1, c2): (20613262322062277119573630365746595127182499134519, 10626643683754479036384694824612448404945809430203)\n",
      "Processing Column: RestingBloodPressure\n",
      "Processing Message 1: High\n",
      "Ciphertext: (c1, c2): (25666449378145533821257044298909866450131224188388, 44129450815403147156592275346933750510317032563972)\n",
      "Processing Column: Cholesterol\n",
      "Processing Message 1: High\n",
      "Ciphertext: (c1, c2): (49648777350264920336257917599386766751429992537949, 1135939455600870294993318531954353030495459122925)\n"
     ]
    },
    {
     "data": {
      "text/html": [
       "<div>\n",
       "<style scoped>\n",
       "    .dataframe tbody tr th:only-of-type {\n",
       "        vertical-align: middle;\n",
       "    }\n",
       "\n",
       "    .dataframe tbody tr th {\n",
       "        vertical-align: top;\n",
       "    }\n",
       "\n",
       "    .dataframe thead th {\n",
       "        text-align: right;\n",
       "    }\n",
       "</style>\n",
       "<table border=\"1\" class=\"dataframe\">\n",
       "  <thead>\n",
       "    <tr style=\"text-align: right;\">\n",
       "      <th></th>\n",
       "      <th>Age</th>\n",
       "      <th>Sex</th>\n",
       "      <th>ChestPainType</th>\n",
       "      <th>RestingBloodPressure</th>\n",
       "      <th>Cholesterol</th>\n",
       "    </tr>\n",
       "  </thead>\n",
       "  <tbody>\n",
       "    <tr>\n",
       "      <th>0</th>\n",
       "      <td>(727098866694572111312080946331214450055528069...</td>\n",
       "      <td>(229616654428421439032208985668907009434498525...</td>\n",
       "      <td>(206132623220622771195736303657465951271824991...</td>\n",
       "      <td>(256664493781455338212570442989098664501312241...</td>\n",
       "      <td>(496487773502649203362579175993867667514299925...</td>\n",
       "    </tr>\n",
       "  </tbody>\n",
       "</table>\n",
       "</div>"
      ],
      "text/plain": [
       "                                                 Age  \\\n",
       "0  (727098866694572111312080946331214450055528069...   \n",
       "\n",
       "                                                 Sex  \\\n",
       "0  (229616654428421439032208985668907009434498525...   \n",
       "\n",
       "                                       ChestPainType  \\\n",
       "0  (206132623220622771195736303657465951271824991...   \n",
       "\n",
       "                                RestingBloodPressure  \\\n",
       "0  (256664493781455338212570442989098664501312241...   \n",
       "\n",
       "                                         Cholesterol  \n",
       "0  (496487773502649203362579175993867667514299925...  "
      ]
     },
     "execution_count": 8,
     "metadata": {},
     "output_type": "execute_result"
    }
   ],
   "source": [
    "public_keys = load_key(\"5_1_CR1_Public_Key_Part.pkl\")\n",
    "\n",
    "column_names = [\n",
    "    \"Age\", \"Sex\", \"ChestPainType\", \"RestingBloodPressure\", \"Cholesterol\"\n",
    "]\n",
    "\n",
    "encrypted_data_1 = encrypt_data(5, df1, public_keys, column_names)\n",
    "encrypted_data_1"
   ]
  },
  {
   "cell_type": "code",
   "execution_count": 9,
   "metadata": {},
   "outputs": [
    {
     "name": "stdout",
     "output_type": "stream",
     "text": [
      "Processing Column: FastingBloodSugar\n",
      "Processing Message 1: Yes\n",
      "Ciphertext: (c1, c2): (23262138535430815965897209751063602705729030703607, 4914346123643601822726979785757666703777986672995)\n",
      "Processing Column: RestingECG\n",
      "Processing Message 1: Left Ventricular Hypertrophy\n",
      "Ciphertext: (c1, c2): (20663312364214574545779485666796513311973587596483, 48486076259671370764155465307622813075662573960886)\n",
      "Processing Column: MaximumHeartRate\n",
      "Processing Message 1: High\n",
      "Ciphertext: (c1, c2): (52792865455644029778549137754509322291183002304751, 28983986677276752523453900194013762641905265375780)\n",
      "Processing Column: ExerciseAngina\n",
      "Processing Message 1: Yes\n",
      "Ciphertext: (c1, c2): (53567916807806914103914877537850847808169443022861, 28334333845225812059600031434937154322565505902319)\n",
      "Processing Column: Oldpeak\n",
      "Processing Message 1: Mild\n",
      "Ciphertext: (c1, c2): (22453991272873058234492300158377019032521111612219, 9272096283892224631377319923711877207820123633085)\n"
     ]
    },
    {
     "data": {
      "text/html": [
       "<div>\n",
       "<style scoped>\n",
       "    .dataframe tbody tr th:only-of-type {\n",
       "        vertical-align: middle;\n",
       "    }\n",
       "\n",
       "    .dataframe tbody tr th {\n",
       "        vertical-align: top;\n",
       "    }\n",
       "\n",
       "    .dataframe thead th {\n",
       "        text-align: right;\n",
       "    }\n",
       "</style>\n",
       "<table border=\"1\" class=\"dataframe\">\n",
       "  <thead>\n",
       "    <tr style=\"text-align: right;\">\n",
       "      <th></th>\n",
       "      <th>FastingBloodSugar</th>\n",
       "      <th>RestingECG</th>\n",
       "      <th>MaximumHeartRate</th>\n",
       "      <th>ExerciseAngina</th>\n",
       "      <th>Oldpeak</th>\n",
       "    </tr>\n",
       "  </thead>\n",
       "  <tbody>\n",
       "    <tr>\n",
       "      <th>0</th>\n",
       "      <td>(232621385354308159658972097510636027057290307...</td>\n",
       "      <td>(206633123642145745457794856667965133119735875...</td>\n",
       "      <td>(527928654556440297785491377545093222911830023...</td>\n",
       "      <td>(535679168078069141039148775378508478081694430...</td>\n",
       "      <td>(224539912728730582344923001583770190325211116...</td>\n",
       "    </tr>\n",
       "  </tbody>\n",
       "</table>\n",
       "</div>"
      ],
      "text/plain": [
       "                                   FastingBloodSugar  \\\n",
       "0  (232621385354308159658972097510636027057290307...   \n",
       "\n",
       "                                          RestingECG  \\\n",
       "0  (206633123642145745457794856667965133119735875...   \n",
       "\n",
       "                                    MaximumHeartRate  \\\n",
       "0  (527928654556440297785491377545093222911830023...   \n",
       "\n",
       "                                      ExerciseAngina  \\\n",
       "0  (535679168078069141039148775378508478081694430...   \n",
       "\n",
       "                                             Oldpeak  \n",
       "0  (224539912728730582344923001583770190325211116...  "
      ]
     },
     "execution_count": 9,
     "metadata": {},
     "output_type": "execute_result"
    }
   ],
   "source": [
    "public_keys = load_key(\"5_2_CR2_Public_Key_Part.pkl\")\n",
    "\n",
    "column_names = [\n",
    "    \"FastingBloodSugar\", \"RestingECG\", \"MaximumHeartRate\", \"ExerciseAngina\", \"Oldpeak\"\n",
    "]\n",
    "\n",
    "encrypted_data_2 = encrypt_data(5, df2, public_keys, column_names)\n",
    "encrypted_data_2"
   ]
  },
  {
   "cell_type": "code",
   "execution_count": 10,
   "metadata": {},
   "outputs": [
    {
     "name": "stdout",
     "output_type": "stream",
     "text": [
      "Processing Column: ST_Slope\n",
      "Processing Message 1: Flat\n",
      "Ciphertext: (c1, c2): (10235051201618776623875359480548401671315373635138, 39327948452405280433016459820259504149041535047652)\n"
     ]
    },
    {
     "data": {
      "text/html": [
       "<div>\n",
       "<style scoped>\n",
       "    .dataframe tbody tr th:only-of-type {\n",
       "        vertical-align: middle;\n",
       "    }\n",
       "\n",
       "    .dataframe tbody tr th {\n",
       "        vertical-align: top;\n",
       "    }\n",
       "\n",
       "    .dataframe thead th {\n",
       "        text-align: right;\n",
       "    }\n",
       "</style>\n",
       "<table border=\"1\" class=\"dataframe\">\n",
       "  <thead>\n",
       "    <tr style=\"text-align: right;\">\n",
       "      <th></th>\n",
       "      <th>ST_Slope</th>\n",
       "    </tr>\n",
       "  </thead>\n",
       "  <tbody>\n",
       "    <tr>\n",
       "      <th>0</th>\n",
       "      <td>(102350512016187766238753594805484016713153736...</td>\n",
       "    </tr>\n",
       "  </tbody>\n",
       "</table>\n",
       "</div>"
      ],
      "text/plain": [
       "                                            ST_Slope\n",
       "0  (102350512016187766238753594805484016713153736..."
      ]
     },
     "execution_count": 10,
     "metadata": {},
     "output_type": "execute_result"
    }
   ],
   "source": [
    "public_keys = load_key(\"5_3_CC_Public_Key_Part.pkl\")\n",
    "\n",
    "column_names = [\n",
    "    \"ST_Slope\"\n",
    "]\n",
    "\n",
    "encrypted_data_3 = encrypt_data(1, df3, public_keys, column_names)\n",
    "encrypted_data_3"
   ]
  },
  {
   "cell_type": "code",
   "execution_count": 11,
   "metadata": {},
   "outputs": [],
   "source": [
    "encrypted_df = pd.concat([encrypted_data_1, encrypted_data_2, encrypted_data_3], axis='columns')\n",
    "encrypted_df\n",
    "encrypted_df.to_csv('21_(SYS)_CR_Encrypted_User_Data.csv', index=False)"
   ]
  },
  {
   "cell_type": "code",
   "execution_count": null,
   "metadata": {},
   "outputs": [],
   "source": []
  }
 ],
 "metadata": {
  "kernelspec": {
   "display_name": "Python 3",
   "language": "python",
   "name": "python3"
  },
  "language_info": {
   "codemirror_mode": {
    "name": "ipython",
    "version": 3
   },
   "file_extension": ".py",
   "mimetype": "text/x-python",
   "name": "python",
   "nbconvert_exporter": "python",
   "pygments_lexer": "ipython3",
   "version": "3.12.3"
  }
 },
 "nbformat": 4,
 "nbformat_minor": 2
}
