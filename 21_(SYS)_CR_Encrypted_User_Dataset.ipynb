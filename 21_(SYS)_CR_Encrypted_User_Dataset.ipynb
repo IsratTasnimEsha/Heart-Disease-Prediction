{
 "cells": [
  {
   "cell_type": "code",
   "execution_count": 1,
   "metadata": {},
   "outputs": [],
   "source": [
    "import ipywidgets as widgets\n",
    "from IPython.display import display\n",
    "import pandas as pd\n",
    "import hashlib\n",
    "import random\n",
    "import os\n",
    "import pickle\n",
    "import joblib\n",
    "os.chdir('Resources/')"
   ]
  },
  {
   "cell_type": "code",
   "execution_count": 2,
   "metadata": {},
   "outputs": [],
   "source": [
    "def load_key(filename):\n",
    "    with open(filename, \"rb\") as f:\n",
    "        return pickle.load(f)"
   ]
  },
  {
   "cell_type": "code",
   "execution_count": 3,
   "metadata": {},
   "outputs": [],
   "source": [
    "def string_to_int(message):\n",
    "    return int.from_bytes(message.encode('utf-8'), byteorder='big')\n",
    "\n",
    "def int_to_string(value):\n",
    "    byte_length = (value.bit_length() + 7) // 8 \n",
    "    return value.to_bytes(byte_length, byteorder='big').decode('utf-8', errors='ignore')\n",
    "\n",
    "def float_to_string(message):\n",
    "    return str(message)\n",
    "\n",
    "def string_to_float(message):\n",
    "    return float(message)"
   ]
  },
  {
   "cell_type": "code",
   "execution_count": 4,
   "metadata": {},
   "outputs": [],
   "source": [
    "def power(b, p, m):\n",
    "    b = b % m\n",
    "    if p == 0:\n",
    "        return 1\n",
    "    j = power(b, p // 2, m)\n",
    "    j = (j * j) % m\n",
    "    if p % 2 == 1:\n",
    "        j = (j * b) % m\n",
    "    return j"
   ]
  },
  {
   "cell_type": "code",
   "execution_count": 5,
   "metadata": {},
   "outputs": [],
   "source": [
    "def mod_inv(a, m):\n",
    "    origin_m = m\n",
    "    y, x = 0, 1\n",
    "\n",
    "    if m == 1:\n",
    "        return 0\n",
    "\n",
    "    while a > 1:\n",
    "        q = a // m\n",
    "        temp = m\n",
    "\n",
    "        m = a % m\n",
    "        a = temp\n",
    "        temp = y\n",
    "\n",
    "        y = x - q * y\n",
    "        x = temp\n",
    "\n",
    "    if x < 0:\n",
    "        x += origin_m\n",
    "    return x"
   ]
  },
  {
   "cell_type": "code",
   "execution_count": 6,
   "metadata": {},
   "outputs": [
    {
     "data": {
      "text/html": [
       "<div>\n",
       "<style scoped>\n",
       "    .dataframe tbody tr th:only-of-type {\n",
       "        vertical-align: middle;\n",
       "    }\n",
       "\n",
       "    .dataframe tbody tr th {\n",
       "        vertical-align: top;\n",
       "    }\n",
       "\n",
       "    .dataframe thead th {\n",
       "        text-align: right;\n",
       "    }\n",
       "</style>\n",
       "<table border=\"1\" class=\"dataframe\">\n",
       "  <thead>\n",
       "    <tr style=\"text-align: right;\">\n",
       "      <th></th>\n",
       "      <th>ST_Slope</th>\n",
       "      <th>HeartDisease</th>\n",
       "    </tr>\n",
       "  </thead>\n",
       "  <tbody>\n",
       "    <tr>\n",
       "      <th>0</th>\n",
       "      <td>Flat</td>\n",
       "      <td>NaN</td>\n",
       "    </tr>\n",
       "  </tbody>\n",
       "</table>\n",
       "</div>"
      ],
      "text/plain": [
       "  ST_Slope  HeartDisease\n",
       "0     Flat           NaN"
      ]
     },
     "execution_count": 6,
     "metadata": {},
     "output_type": "execute_result"
    }
   ],
   "source": [
    "df = pd.read_csv('20_(SYS)_CC_Received_User_Data.csv')\n",
    "df1 = df.iloc[:, :5]\n",
    "df2 = df.iloc[:, 5:10]\n",
    "df3 = df.iloc[:, 10:]  \n",
    "df3"
   ]
  },
  {
   "cell_type": "code",
   "execution_count": 7,
   "metadata": {},
   "outputs": [],
   "source": [
    "def encrypt_data(n, df, public_keys, column_names):\n",
    "    encrypted_data = pd.DataFrame()\n",
    "\n",
    "    for k in range(n):\n",
    "        public_key = public_keys[column_names[k]] \n",
    "        p = public_key['p']\n",
    "        g = public_key['g']\n",
    "        h = public_key['h']\n",
    "        y = public_key['y']\n",
    "            \n",
    "        print(f\"Processing Column: {column_names[k]}\")\n",
    "\n",
    "        s = power(h, y, p)\n",
    "\n",
    "        messages = df.iloc[:, k].values \n",
    "\n",
    "        encrypted_column = []\n",
    "\n",
    "        for i, message in enumerate(messages, 1):\n",
    "            if message is not None and message == message:  \n",
    "                print(f\"Processing Message {i}: {message}\")\n",
    "                \n",
    "                if isinstance(message, str):\n",
    "                    temp_message = string_to_int(message)\n",
    "                elif isinstance(message, float):\n",
    "                    temp_message = string_to_int(float_to_string(message))\n",
    "                else:\n",
    "                    temp_message = int(message)  \n",
    "                \n",
    "                c1 = power(g, y, p)\n",
    "                c2 = (temp_message * s) % p\n",
    "                \n",
    "                encrypted_column.append(f\"({c1},{c2})\") \n",
    "                print(f\"Ciphertext: (c1, c2): ({c1}, {c2})\")\n",
    "            \n",
    "            else:\n",
    "                encrypted_column.append(None)\n",
    "\n",
    "        encrypted_data[column_names[k]] = encrypted_column\n",
    "\n",
    "    return encrypted_data"
   ]
  },
  {
   "cell_type": "code",
   "execution_count": 8,
   "metadata": {},
   "outputs": [
    {
     "name": "stdout",
     "output_type": "stream",
     "text": [
      "Processing Column: Age\n",
      "Processing Message 1: 56\n",
      "Ciphertext: (c1, c2): (11611711856791845453844363544193004458436652567582, 10773622686875878692856244763039934724031240962584)\n",
      "Processing Column: Sex\n",
      "Processing Message 1: Male\n",
      "Ciphertext: (c1, c2): (11521613315689790599790221322656441619898359351715, 2964730976727955981426344307431069086843753651983)\n",
      "Processing Column: ChestPainType\n",
      "Processing Message 1: Non-anginal Pain\n",
      "Ciphertext: (c1, c2): (5340627710438748782301236172298939673737240321334, 8373572660573689414511738173508041614498152858317)\n",
      "Processing Column: RestingBloodPressure\n",
      "Processing Message 1: 140\n",
      "Ciphertext: (c1, c2): (2959799491122696844814186940885321444153216238962, 13356721525663435021843137376573774862783952558017)\n",
      "Processing Column: Cholesterol\n",
      "Processing Message 1: 250\n",
      "Ciphertext: (c1, c2): (2572745932559499053547019353918953850096268849190, 5433374778066829517275318753852696644728036248185)\n"
     ]
    },
    {
     "data": {
      "text/html": [
       "<div>\n",
       "<style scoped>\n",
       "    .dataframe tbody tr th:only-of-type {\n",
       "        vertical-align: middle;\n",
       "    }\n",
       "\n",
       "    .dataframe tbody tr th {\n",
       "        vertical-align: top;\n",
       "    }\n",
       "\n",
       "    .dataframe thead th {\n",
       "        text-align: right;\n",
       "    }\n",
       "</style>\n",
       "<table border=\"1\" class=\"dataframe\">\n",
       "  <thead>\n",
       "    <tr style=\"text-align: right;\">\n",
       "      <th></th>\n",
       "      <th>Age</th>\n",
       "      <th>Sex</th>\n",
       "      <th>ChestPainType</th>\n",
       "      <th>RestingBloodPressure</th>\n",
       "      <th>Cholesterol</th>\n",
       "    </tr>\n",
       "  </thead>\n",
       "  <tbody>\n",
       "    <tr>\n",
       "      <th>0</th>\n",
       "      <td>(116117118567918454538443635441930044584366525...</td>\n",
       "      <td>(115216133156897905997902213226564416198983593...</td>\n",
       "      <td>(534062771043874878230123617229893967373724032...</td>\n",
       "      <td>(295979949112269684481418694088532144415321623...</td>\n",
       "      <td>(257274593255949905354701935391895385009626884...</td>\n",
       "    </tr>\n",
       "  </tbody>\n",
       "</table>\n",
       "</div>"
      ],
      "text/plain": [
       "                                                 Age  \\\n",
       "0  (116117118567918454538443635441930044584366525...   \n",
       "\n",
       "                                                 Sex  \\\n",
       "0  (115216133156897905997902213226564416198983593...   \n",
       "\n",
       "                                       ChestPainType  \\\n",
       "0  (534062771043874878230123617229893967373724032...   \n",
       "\n",
       "                                RestingBloodPressure  \\\n",
       "0  (295979949112269684481418694088532144415321623...   \n",
       "\n",
       "                                         Cholesterol  \n",
       "0  (257274593255949905354701935391895385009626884...  "
      ]
     },
     "execution_count": 8,
     "metadata": {},
     "output_type": "execute_result"
    }
   ],
   "source": [
    "public_keys = load_key(\"5_1_CR1_Public_Key_Part.pkl\")\n",
    "\n",
    "column_names = [\n",
    "    \"Age\", \"Sex\", \"ChestPainType\", \"RestingBloodPressure\", \"Cholesterol\"\n",
    "]\n",
    "\n",
    "encrypted_data_1 = encrypt_data(5, df1, public_keys, column_names)\n",
    "encrypted_data_1"
   ]
  },
  {
   "cell_type": "code",
   "execution_count": 9,
   "metadata": {},
   "outputs": [
    {
     "name": "stdout",
     "output_type": "stream",
     "text": [
      "Processing Column: FastingBloodSugar\n",
      "Processing Message 1: Yes\n",
      "Ciphertext: (c1, c2): (8991270131106317065828259596356481212681246291421, 15568715435446811299055523258210286707692570160693)\n",
      "Processing Column: RestingECG\n",
      "Processing Message 1: Left Ventricular Hypertrophy\n",
      "Ciphertext: (c1, c2): (3734041290046056160613914136571085705122900972458, 17057184702817548962293299462681744792720153792848)\n",
      "Processing Column: MaximumHeartRate\n",
      "Processing Message 1: 150\n",
      "Ciphertext: (c1, c2): (11607967323062549316964231219539938367253314058306, 7668520651373950135840832281204620228559205021292)\n",
      "Processing Column: ExerciseAngina\n",
      "Processing Message 1: No\n",
      "Ciphertext: (c1, c2): (13647169038252931707909305178839774745227353223390, 3890046730447452713932648705085222577958075487680)\n",
      "Processing Column: Oldpeak\n",
      "Processing Message 1: 2\n",
      "Ciphertext: (c1, c2): (2127171966273882616386704855669834874862200078566, 8140073766936942039891431619861208656708976578470)\n"
     ]
    },
    {
     "data": {
      "text/html": [
       "<div>\n",
       "<style scoped>\n",
       "    .dataframe tbody tr th:only-of-type {\n",
       "        vertical-align: middle;\n",
       "    }\n",
       "\n",
       "    .dataframe tbody tr th {\n",
       "        vertical-align: top;\n",
       "    }\n",
       "\n",
       "    .dataframe thead th {\n",
       "        text-align: right;\n",
       "    }\n",
       "</style>\n",
       "<table border=\"1\" class=\"dataframe\">\n",
       "  <thead>\n",
       "    <tr style=\"text-align: right;\">\n",
       "      <th></th>\n",
       "      <th>FastingBloodSugar</th>\n",
       "      <th>RestingECG</th>\n",
       "      <th>MaximumHeartRate</th>\n",
       "      <th>ExerciseAngina</th>\n",
       "      <th>Oldpeak</th>\n",
       "    </tr>\n",
       "  </thead>\n",
       "  <tbody>\n",
       "    <tr>\n",
       "      <th>0</th>\n",
       "      <td>(899127013110631706582825959635648121268124629...</td>\n",
       "      <td>(373404129004605616061391413657108570512290097...</td>\n",
       "      <td>(116079673230625493169642312195399383672533140...</td>\n",
       "      <td>(136471690382529317079093051788397747452273532...</td>\n",
       "      <td>(212717196627388261638670485566983487486220007...</td>\n",
       "    </tr>\n",
       "  </tbody>\n",
       "</table>\n",
       "</div>"
      ],
      "text/plain": [
       "                                   FastingBloodSugar  \\\n",
       "0  (899127013110631706582825959635648121268124629...   \n",
       "\n",
       "                                          RestingECG  \\\n",
       "0  (373404129004605616061391413657108570512290097...   \n",
       "\n",
       "                                    MaximumHeartRate  \\\n",
       "0  (116079673230625493169642312195399383672533140...   \n",
       "\n",
       "                                      ExerciseAngina  \\\n",
       "0  (136471690382529317079093051788397747452273532...   \n",
       "\n",
       "                                             Oldpeak  \n",
       "0  (212717196627388261638670485566983487486220007...  "
      ]
     },
     "execution_count": 9,
     "metadata": {},
     "output_type": "execute_result"
    }
   ],
   "source": [
    "public_keys = load_key(\"5_2_CR2_Public_Key_Part.pkl\")\n",
    "\n",
    "column_names = [\n",
    "    \"FastingBloodSugar\", \"RestingECG\", \"MaximumHeartRate\", \"ExerciseAngina\", \"Oldpeak\"\n",
    "]\n",
    "\n",
    "encrypted_data_2 = encrypt_data(5, df2, public_keys, column_names)\n",
    "encrypted_data_2"
   ]
  },
  {
   "cell_type": "code",
   "execution_count": 10,
   "metadata": {},
   "outputs": [
    {
     "name": "stdout",
     "output_type": "stream",
     "text": [
      "Processing Column: ST_Slope\n",
      "Processing Message 1: Flat\n",
      "Ciphertext: (c1, c2): (9533738547640960361372917347170583969881856341594, 14348667148581208206885409276877045417652009792193)\n"
     ]
    },
    {
     "data": {
      "text/html": [
       "<div>\n",
       "<style scoped>\n",
       "    .dataframe tbody tr th:only-of-type {\n",
       "        vertical-align: middle;\n",
       "    }\n",
       "\n",
       "    .dataframe tbody tr th {\n",
       "        vertical-align: top;\n",
       "    }\n",
       "\n",
       "    .dataframe thead th {\n",
       "        text-align: right;\n",
       "    }\n",
       "</style>\n",
       "<table border=\"1\" class=\"dataframe\">\n",
       "  <thead>\n",
       "    <tr style=\"text-align: right;\">\n",
       "      <th></th>\n",
       "      <th>ST_Slope</th>\n",
       "    </tr>\n",
       "  </thead>\n",
       "  <tbody>\n",
       "    <tr>\n",
       "      <th>0</th>\n",
       "      <td>(953373854764096036137291734717058396988185634...</td>\n",
       "    </tr>\n",
       "  </tbody>\n",
       "</table>\n",
       "</div>"
      ],
      "text/plain": [
       "                                            ST_Slope\n",
       "0  (953373854764096036137291734717058396988185634..."
      ]
     },
     "execution_count": 10,
     "metadata": {},
     "output_type": "execute_result"
    }
   ],
   "source": [
    "public_keys = load_key(\"5_3_CC_Public_Key_Part.pkl\")\n",
    "\n",
    "column_names = [\n",
    "    \"ST_Slope\"\n",
    "]\n",
    "\n",
    "encrypted_data_3 = encrypt_data(1, df3, public_keys, column_names)\n",
    "encrypted_data_3"
   ]
  },
  {
   "cell_type": "code",
   "execution_count": 11,
   "metadata": {},
   "outputs": [],
   "source": [
    "encrypted_df = pd.concat([encrypted_data_1, encrypted_data_2, encrypted_data_3], axis='columns')\n",
    "encrypted_df\n",
    "encrypted_df.to_csv('21_(SYS)_CR_Encrypted_User_Data.csv', index=False)"
   ]
  },
  {
   "cell_type": "code",
   "execution_count": null,
   "metadata": {},
   "outputs": [],
   "source": []
  }
 ],
 "metadata": {
  "kernelspec": {
   "display_name": "Python 3",
   "language": "python",
   "name": "python3"
  },
  "language_info": {
   "codemirror_mode": {
    "name": "ipython",
    "version": 3
   },
   "file_extension": ".py",
   "mimetype": "text/x-python",
   "name": "python",
   "nbconvert_exporter": "python",
   "pygments_lexer": "ipython3",
   "version": "3.12.3"
  }
 },
 "nbformat": 4,
 "nbformat_minor": 2
}
