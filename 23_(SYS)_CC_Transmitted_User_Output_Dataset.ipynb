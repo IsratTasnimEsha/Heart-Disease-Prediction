{
 "cells": [
  {
   "cell_type": "code",
   "execution_count": 1,
   "metadata": {},
   "outputs": [],
   "source": [
    "import random\n",
    "import csv\n",
    "import os\n",
    "import pickle\n",
    "import sys\n",
    "os.chdir('Resources/')"
   ]
  },
  {
   "cell_type": "code",
   "execution_count": 2,
   "metadata": {},
   "outputs": [],
   "source": [
    "def power(b, p, m):\n",
    "    b = b % m\n",
    "    if p == 0:\n",
    "        return 1\n",
    "    j = power(b, p // 2, m)\n",
    "    j = (j * j) % m\n",
    "    if p % 2 == 1:\n",
    "        j = (j * b) % m\n",
    "    return j"
   ]
  },
  {
   "cell_type": "code",
   "execution_count": 3,
   "metadata": {},
   "outputs": [],
   "source": [
    "def load_key(filename):\n",
    "    with open(filename, \"rb\") as f:\n",
    "        return pickle.load(f)"
   ]
  },
  {
   "cell_type": "code",
   "execution_count": 4,
   "metadata": {},
   "outputs": [
    {
     "data": {
      "text/plain": [
       "(4192637885330971573, 4774294288111246121)"
      ]
     },
     "execution_count": 4,
     "metadata": {},
     "output_type": "execute_result"
    }
   ],
   "source": [
    "sys_rsa_2_public_key = load_key(\"17_SYS_RSA_2_Public_Key.pkl\")\n",
    "sys_rsa_2_public_key"
   ]
  },
  {
   "cell_type": "code",
   "execution_count": 5,
   "metadata": {},
   "outputs": [],
   "source": [
    "input_filename = '22_(SYS)_CC_Predicted_User_Output_Data.csv'"
   ]
  },
  {
   "cell_type": "code",
   "execution_count": 6,
   "metadata": {},
   "outputs": [
    {
     "name": "stdout",
     "output_type": "stream",
     "text": [
      "[524658259528873529, 4498258305198829921, 524658259528873529, 4249860195149345262, 1164770017514057496, 3636838611358563201, 4592127022199445741, 4498258305198829921, 2848419555841521786, 2300939831866961911, 1164770017514057496, 519337717827213692, 524658259528873529, 4498258305198829921, 4249860195149345262, 1164770017514057496, 2848419555841521786, 4249860195149345262, 4498258305198829921, 2300939831866961911, 1164770017514057496, 519337717827213692, 4498258305198829921, 524658259528873529, 524658259528873529, 1164770017514057496, 3564282447330381440, 524658259528873529, 4498258305198829921, 4325096859872585300, 1164770017514057496, 3636838611358563201, 4249860195149345262, 4498258305198829921, 3636838611358563201, 1164770017514057496, 3636838611358563201, 2848419555841521786, 4498258305198829921, 2300939831866961911, 1164770017514057496, 2300939831866961911, 2300939831866961911, 4498258305198829921, 4249860195149345262, 1164770017514057496, 4249860195149345262, 3564282447330381440, 4498258305198829921, 2300939831866961911, 1164770017514057496, 2848419555841521786, 524658259528873529, 4498258305198829921, 2300939831866961911, 1164770017514057496, 3636838611358563201, 2848419555841521786, 4498258305198829921, 4325096859872585300, 1164770017514057496, 4592127022199445741, 2848419555841521786, 4498258305198829921, 3564282447330381440, 3636838611358563201, 1164770017514057496, 4325096859872585300, 4592127022199445741] \n",
      " 69\n",
      "1,16.49,83.51,6.86,3.5,11.21,7.46,4.48,3.33,6.62,3.81,3.48,7.98,24.79\n"
     ]
    }
   ],
   "source": [
    "def encrypt(message, public_key):\n",
    "    e, n = public_key\n",
    "    encrypted_message = [pow(ord(char), e, n) for char in message]\n",
    "    return encrypted_message\n",
    "\n",
    "def encrypt_csv_file(input_filename, public_key):\n",
    "    with open(input_filename, 'r') as f:\n",
    "        reader = csv.reader(f)\n",
    "        data = \"\\n\".join([\",\".join(row) for row in reader])\n",
    "    \n",
    "    encrypted_data = encrypt(data, public_key)\n",
    "    \n",
    "    return encrypted_data\n",
    "\n",
    "encrypted_data = encrypt_csv_file(input_filename, sys_rsa_2_public_key)\n",
    "print(encrypted_data, '\\n', len(encrypted_data))\n",
    "\n",
    "def decrypt(private_key, encrypted_message):\n",
    "    d, n = private_key\n",
    "    decrypted_message = ''.join([chr(pow(char, d, n)) for char in encrypted_message])\n",
    "    return decrypted_message\n",
    "\n",
    "su_rsa_2_private_key = load_key(\"16_SU_RSA_2_Private_Key.pkl\")\n",
    "\n",
    "decrypted_data = decrypt(su_rsa_2_private_key, encrypted_data)\n",
    "print(decrypted_data)"
   ]
  },
  {
   "cell_type": "code",
   "execution_count": 7,
   "metadata": {},
   "outputs": [],
   "source": [
    "def encrypt_data_with_aes(data, key):\n",
    "    encrypted_data = \"\".join(chr(ord(c) ^ key) for c in data)\n",
    "    return encrypted_data"
   ]
  },
  {
   "cell_type": "code",
   "execution_count": 8,
   "metadata": {},
   "outputs": [],
   "source": [
    "def encrypt_aes_key_with_rsa(aes_key, public_key):\n",
    "    e, n = public_key\n",
    "    return power(aes_key, e, n)"
   ]
  },
  {
   "cell_type": "code",
   "execution_count": 9,
   "metadata": {},
   "outputs": [],
   "source": [
    "def encrypt_csv_file(input_filename, public_key):\n",
    "    aes_key = random.randint(1, 255) \n",
    "\n",
    "    with open(input_filename, 'r', encoding='utf-8') as f:\n",
    "        reader = csv.reader(f)\n",
    "        data = \"\\n\".join([\",\".join(row) for row in reader])\n",
    "\n",
    "    encrypted_data = encrypt_data_with_aes(data, aes_key)\n",
    "    encrypted_aes_key = encrypt_aes_key_with_rsa(aes_key, public_key)\n",
    "\n",
    "    with open(\"23_(SYS)_CC_Transmitted_User_Output_Data.csv\", 'w', newline='', encoding='utf-8') as f:\n",
    "        writer = csv.writer(f)\n",
    "        writer.writerow([encrypted_aes_key])\n",
    "        writer.writerow([encrypted_data])\n",
    "\n",
    "    return encrypted_aes_key, encrypted_data"
   ]
  },
  {
   "cell_type": "code",
   "execution_count": 10,
   "metadata": {},
   "outputs": [
    {
     "name": "stdout",
     "output_type": "stream",
     "text": [
      "File encrypted successfully. Data saved in '22_(SYS)_CC_Predicted_User_Output_Data.csv'.\n",
      "1401078831196967303 [F[\\D^SFRYD_[F\\DR\\FYD_F[[DX[F]D^\\F^D^RFYDYYF\\D\\XFYDR[FYD^RF]DSRFX^D]S 69\n"
     ]
    }
   ],
   "source": [
    "encrypted_aes_key, encrypted_data = encrypt_csv_file(input_filename, sys_rsa_2_public_key)\n",
    "print(\"File encrypted successfully. Data saved in '22_(SYS)_CC_Predicted_User_Output_Data.csv'.\")\n",
    "\n",
    "print(encrypted_aes_key, encrypted_data, len(encrypted_data))"
   ]
  },
  {
   "cell_type": "code",
   "execution_count": 11,
   "metadata": {},
   "outputs": [
    {
     "data": {
      "text/plain": [
       "(551453761721239577, 12056529777636162823)"
      ]
     },
     "execution_count": 11,
     "metadata": {},
     "output_type": "execute_result"
    }
   ],
   "source": [
    "sys_rsa_1_private_key = load_key(\"16_SYS_RSA_1_Private_Key.pkl\")\n",
    "sys_rsa_1_private_key"
   ]
  },
  {
   "cell_type": "code",
   "execution_count": 12,
   "metadata": {},
   "outputs": [
    {
     "data": {
      "text/plain": [
       "(800039276376817193, 12056529777636162823)"
      ]
     },
     "execution_count": 12,
     "metadata": {},
     "output_type": "execute_result"
    }
   ],
   "source": [
    "sys_rsa_1_public_key = load_key(\"16_SYS_RSA_1_Public_Key.pkl\")\n",
    "sys_rsa_1_public_key"
   ]
  },
  {
   "cell_type": "code",
   "execution_count": 13,
   "metadata": {},
   "outputs": [],
   "source": [
    "def split_message(message, max_size):\n",
    "    encoded = message.encode()\n",
    "    chunks = [encoded[i:i + max_size] for i in range(0, len(encoded), max_size)]\n",
    "    return [int.from_bytes(chunk, 'big') for chunk in chunks]"
   ]
  },
  {
   "cell_type": "code",
   "execution_count": 14,
   "metadata": {},
   "outputs": [],
   "source": [
    "def sign_message(message, private_key, n):\n",
    "    d, n = private_key\n",
    "    max_bytes = (n.bit_length() // 8) - 1 \n",
    "    message_chunks = split_message(message, max_bytes)\n",
    "    \n",
    "    signatures = [power(chunk, d, n) for chunk in message_chunks] \n",
    "    return signatures"
   ]
  },
  {
   "cell_type": "code",
   "execution_count": 15,
   "metadata": {},
   "outputs": [
    {
     "data": {
      "text/plain": [
       "[10157239781934559752,\n",
       " 10062977358364607205,\n",
       " 5568479385692153325,\n",
       " 9093427784715901898,\n",
       " 9594345489230289981,\n",
       " 1307713079321390238,\n",
       " 7727664801510162456,\n",
       " 2923087285957354114,\n",
       " 9076400092781076890,\n",
       " 5014189973543546288,\n",
       " 8774351438908640735,\n",
       " 2597567152988309471,\n",
       " 8637281600472874339]"
      ]
     },
     "execution_count": 15,
     "metadata": {},
     "output_type": "execute_result"
    }
   ],
   "source": [
    "signatures = sign_message(str(encrypted_aes_key) + '\\n' + encrypted_data, sys_rsa_1_private_key, sys_rsa_1_public_key[1])\n",
    "signatures"
   ]
  },
  {
   "cell_type": "code",
   "execution_count": 16,
   "metadata": {},
   "outputs": [],
   "source": [
    "with open(\"23_(SYS)_CC_Transmitted_User_Output_Data.csv\", 'a', newline='', encoding='utf-8') as f:\n",
    "        writer = csv.writer(f)\n",
    "        writer.writerow([signatures])"
   ]
  }
 ],
 "metadata": {
  "kernelspec": {
   "display_name": "Python 3",
   "language": "python",
   "name": "python3"
  },
  "language_info": {
   "codemirror_mode": {
    "name": "ipython",
    "version": 3
   },
   "file_extension": ".py",
   "mimetype": "text/x-python",
   "name": "python",
   "nbconvert_exporter": "python",
   "pygments_lexer": "ipython3",
   "version": "3.12.3"
  }
 },
 "nbformat": 4,
 "nbformat_minor": 2
}
