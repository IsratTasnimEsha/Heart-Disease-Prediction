{
 "cells": [
  {
   "cell_type": "code",
   "execution_count": 1,
   "metadata": {},
   "outputs": [],
   "source": [
    "import random\n",
    "import csv\n",
    "import os\n",
    "import pickle\n",
    "import sys\n",
    "os.chdir('Resources/')"
   ]
  },
  {
   "cell_type": "code",
   "execution_count": 2,
   "metadata": {},
   "outputs": [],
   "source": [
    "def power(b, p, m):\n",
    "    b = b % m\n",
    "    if p == 0:\n",
    "        return 1\n",
    "    j = power(b, p // 2, m)\n",
    "    j = (j * j) % m\n",
    "    if p % 2 == 1:\n",
    "        j = (j * b) % m\n",
    "    return j"
   ]
  },
  {
   "cell_type": "code",
   "execution_count": 3,
   "metadata": {},
   "outputs": [],
   "source": [
    "def load_key(filename):\n",
    "    with open(filename, \"rb\") as f:\n",
    "        return pickle.load(f)"
   ]
  },
  {
   "cell_type": "code",
   "execution_count": 4,
   "metadata": {},
   "outputs": [
    {
     "data": {
      "text/plain": [
       "(2122126697722114073, 4088522690914825687)"
      ]
     },
     "execution_count": 4,
     "metadata": {},
     "output_type": "execute_result"
    }
   ],
   "source": [
    "sys_rsa_2_public_key = load_key(\"17_SYS_RSA_2_Public_Key.pkl\")\n",
    "sys_rsa_2_public_key"
   ]
  },
  {
   "cell_type": "code",
   "execution_count": 5,
   "metadata": {},
   "outputs": [],
   "source": [
    "input_filename = '22_(SYS)_CC_Predicted_User_Output_Data.csv'"
   ]
  },
  {
   "cell_type": "code",
   "execution_count": null,
   "metadata": {},
   "outputs": [
    {
     "name": "stdout",
     "output_type": "stream",
     "text": [
      "[3102485109909011686, 1877207330295490415, 3940073200913276221, 1523743525283707443, 395700448356710368, 2277231977029810214, 2094261450293435056, 1877207330295490415, 1523743525283707443, 3940073200913276221, 395700448356710368, 3646923029200822005, 2277231977029810214, 1877207330295490415, 1523743525283707443, 395700448356710368, 3789165470007541789, 2277231977029810214, 1877207330295490415, 3102485109909011686, 395700448356710368, 3789165470007541789, 3789165470007541789, 1877207330295490415, 3102485109909011686, 522653050973348653, 395700448356710368, 2277231977029810214, 3102485109909011686, 1877207330295490415, 3646923029200822005, 395700448356710368, 522653050973348653, 2117736292850633602, 1877207330295490415, 2094261450293435056, 395700448356710368, 3102485109909011686, 3102485109909011686, 1877207330295490415, 3102485109909011686, 395700448356710368, 1523743525283707443, 2094261450293435056, 1877207330295490415, 2537117204760381740, 395700448356710368, 1523743525283707443, 2277231977029810214, 1877207330295490415, 3646923029200822005, 395700448356710368, 3789165470007541789, 2117736292850633602, 1877207330295490415, 2277231977029810214, 395700448356710368, 522653050973348653, 3646923029200822005, 1877207330295490415, 1523743525283707443, 395700448356710368, 3102485109909011686, 3789165470007541789, 1877207330295490415, 2094261450293435056, 395700448356710368, 3102485109909011686, 2277231977029810214] \n",
      " 69\n",
      "1,36.28,63.72,6.52,1.55,10.21,7.09,8.11,1.68,4.62,7.59,2.07,6.15,8.12\n"
     ]
    }
   ],
   "source": [
    "def encrypt(message, public_key):\n",
    "    e, n = public_key\n",
    "    encrypted_message = [pow(ord(char), e, n) for char in message]\n",
    "    return encrypted_message\n",
    "\n",
    "def encrypt_csv_file(input_filename, public_key):\n",
    "    with open(input_filename, 'r') as f:\n",
    "        reader = csv.reader(f)\n",
    "        data = \"\\n\".join([\",\".join(row) for row in reader])\n",
    "    \n",
    "    encrypted_data = encrypt(data, public_key)\n",
    "    \n",
    "    return encrypted_data\n",
    "\n",
    "encrypted_data = encrypt_csv_file(input_filename, sys_rsa_2_public_key)\n",
    "print(encrypted_data, '\\n', len(encrypted_data))\n",
    "\n",
    "def decrypt(private_key, encrypted_message):\n",
    "    d, n = private_key\n",
    "    decrypted_message = ''.join([chr(pow(char, d, n)) for char in encrypted_message])\n",
    "    return decrypted_message\n",
    "\n",
    "su_rsa_2_private_key = load_key(\"16_SU_RSA_2Private_Key.pkl\")\n",
    "\n",
    "decrypted_data = decrypt(su_rsa_2_private_key, encrypted_data)\n",
    "print(decrypted_data)"
   ]
  },
  {
   "cell_type": "code",
   "execution_count": 7,
   "metadata": {},
   "outputs": [],
   "source": [
    "def encrypt_data_with_aes(data, key):\n",
    "    encrypted_data = \"\".join(chr(ord(c) ^ key) for c in data)\n",
    "    return encrypted_data"
   ]
  },
  {
   "cell_type": "code",
   "execution_count": 8,
   "metadata": {},
   "outputs": [],
   "source": [
    "def encrypt_aes_key_with_rsa(aes_key, public_key):\n",
    "    e, n = public_key\n",
    "    return power(aes_key, e, n)"
   ]
  },
  {
   "cell_type": "code",
   "execution_count": 9,
   "metadata": {},
   "outputs": [],
   "source": [
    "def encrypt_csv_file(input_filename, public_key):\n",
    "    aes_key = random.randint(1, 255) \n",
    "\n",
    "    with open(input_filename, 'r', encoding='utf-8') as f:\n",
    "        reader = csv.reader(f)\n",
    "        data = \"\\n\".join([\",\".join(row) for row in reader])\n",
    "\n",
    "    encrypted_data = encrypt_data_with_aes(data, aes_key)\n",
    "    encrypted_aes_key = encrypt_aes_key_with_rsa(aes_key, public_key)\n",
    "\n",
    "    with open(\"23_(SYS)_CC_Transmitted_User_Output_Data.csv\", 'w', newline='', encoding='utf-8') as f:\n",
    "        writer = csv.writer(f)\n",
    "        writer.writerow([encrypted_aes_key])\n",
    "        writer.writerow([encrypted_data])\n",
    "\n",
    "    return encrypted_aes_key, encrypted_data"
   ]
  },
  {
   "cell_type": "code",
   "execution_count": 10,
   "metadata": {},
   "outputs": [
    {
     "name": "stdout",
     "output_type": "stream",
     "text": [
      "File encrypted successfully. Data saved in '22_(SYS)_CC_Predicted_User_Output_Data.csv'.\n",
      "1341273744198387466 ±¬³¶®²¸¬¶³®·²¬¶®µ²¬±®µµ¬±°®²±¬·®°¹¬¸®±±¬±®¶¸¬´®¶²¬·®µ¹¬²®°·¬¶®±µ¬¸®±² 69\n"
     ]
    }
   ],
   "source": [
    "encrypted_aes_key, encrypted_data = encrypt_csv_file(input_filename, sys_rsa_2_public_key)\n",
    "print(\"File encrypted successfully. Data saved in '22_(SYS)_CC_Predicted_User_Output_Data.csv'.\")\n",
    "\n",
    "print(encrypted_aes_key, encrypted_data, len(encrypted_data))"
   ]
  },
  {
   "cell_type": "code",
   "execution_count": 11,
   "metadata": {},
   "outputs": [
    {
     "data": {
      "text/plain": [
       "(3072872903477649361, 4936349149105973713)"
      ]
     },
     "execution_count": 11,
     "metadata": {},
     "output_type": "execute_result"
    }
   ],
   "source": [
    "sys_rsa_1_private_key = load_key(\"16_SYS_RSA_1_Private_Key.pkl\")\n",
    "sys_rsa_1_private_key"
   ]
  },
  {
   "cell_type": "code",
   "execution_count": 12,
   "metadata": {},
   "outputs": [
    {
     "data": {
      "text/plain": [
       "(4740866271843932821, 4936349149105973713)"
      ]
     },
     "execution_count": 12,
     "metadata": {},
     "output_type": "execute_result"
    }
   ],
   "source": [
    "sys_rsa_1_public_key = load_key(\"16_SYS_RSA_1_Public_Key.pkl\")\n",
    "sys_rsa_1_public_key"
   ]
  },
  {
   "cell_type": "code",
   "execution_count": 13,
   "metadata": {},
   "outputs": [],
   "source": [
    "def split_message(message, max_size):\n",
    "    encoded = message.encode()\n",
    "    chunks = [encoded[i:i + max_size] for i in range(0, len(encoded), max_size)]\n",
    "    return [int.from_bytes(chunk, 'big') for chunk in chunks]"
   ]
  },
  {
   "cell_type": "code",
   "execution_count": 14,
   "metadata": {},
   "outputs": [],
   "source": [
    "def sign_message(message, private_key, n):\n",
    "    d, n = private_key\n",
    "    max_bytes = (n.bit_length() // 8) - 1 \n",
    "    message_chunks = split_message(message, max_bytes)\n",
    "    \n",
    "    signatures = [power(chunk, d, n) for chunk in message_chunks] \n",
    "    return signatures"
   ]
  },
  {
   "cell_type": "code",
   "execution_count": 15,
   "metadata": {},
   "outputs": [
    {
     "data": {
      "text/plain": [
       "[3205602664549909,\n",
       " 3447745512069441285,\n",
       " 2489797258560214952,\n",
       " 3124616741309888142,\n",
       " 1482160092119021631,\n",
       " 1098225392873360908,\n",
       " 2020012527594586627,\n",
       " 2867225597601863248,\n",
       " 1501320906724594166,\n",
       " 195587764134538962,\n",
       " 1502506073101583288,\n",
       " 4429655535045463694,\n",
       " 3658852097740764940,\n",
       " 3482630735499925464,\n",
       " 2895259305470063752,\n",
       " 2531333605066411853,\n",
       " 2074820729966048787,\n",
       " 2354242228339499051,\n",
       " 2592332395419911616,\n",
       " 2371543707636744898,\n",
       " 3069980523513241918,\n",
       " 1187966848632638091,\n",
       " 1747106648655079009,\n",
       " 272656924682902115,\n",
       " 3629050669635446993,\n",
       " 2531333605066411853,\n",
       " 2094223683623980923]"
      ]
     },
     "execution_count": 15,
     "metadata": {},
     "output_type": "execute_result"
    }
   ],
   "source": [
    "signatures = sign_message(str(encrypted_aes_key) + '\\n' + encrypted_data, sys_rsa_1_private_key, sys_rsa_1_public_key[1])\n",
    "signatures"
   ]
  },
  {
   "cell_type": "code",
   "execution_count": 16,
   "metadata": {},
   "outputs": [],
   "source": [
    "with open(\"23_(SYS)_CC_Transmitted_User_Output_Data.csv\", 'a', newline='', encoding='utf-8') as f:\n",
    "        writer = csv.writer(f)\n",
    "        writer.writerow([signatures])"
   ]
  }
 ],
 "metadata": {
  "kernelspec": {
   "display_name": "Python 3",
   "language": "python",
   "name": "python3"
  },
  "language_info": {
   "codemirror_mode": {
    "name": "ipython",
    "version": 3
   },
   "file_extension": ".py",
   "mimetype": "text/x-python",
   "name": "python",
   "nbconvert_exporter": "python",
   "pygments_lexer": "ipython3",
   "version": "3.12.3"
  }
 },
 "nbformat": 4,
 "nbformat_minor": 2
}
