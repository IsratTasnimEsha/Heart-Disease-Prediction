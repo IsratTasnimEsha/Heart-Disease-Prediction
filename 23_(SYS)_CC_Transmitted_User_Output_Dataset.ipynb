{
 "cells": [
  {
   "cell_type": "code",
   "execution_count": 1,
   "metadata": {},
   "outputs": [],
   "source": [
    "import random\n",
    "import csv\n",
    "import os\n",
    "import pickle\n",
    "import sys\n",
    "os.chdir('Resources/')"
   ]
  },
  {
   "cell_type": "code",
   "execution_count": 2,
   "metadata": {},
   "outputs": [],
   "source": [
    "def power(b, p, m):\n",
    "    b = b % m\n",
    "    if p == 0:\n",
    "        return 1\n",
    "    j = power(b, p // 2, m)\n",
    "    j = (j * j) % m\n",
    "    if p % 2 == 1:\n",
    "        j = (j * b) % m\n",
    "    return j"
   ]
  },
  {
   "cell_type": "code",
   "execution_count": 3,
   "metadata": {},
   "outputs": [],
   "source": [
    "def load_key(filename):\n",
    "    with open(filename, \"rb\") as f:\n",
    "        return pickle.load(f)"
   ]
  },
  {
   "cell_type": "code",
   "execution_count": 4,
   "metadata": {},
   "outputs": [
    {
     "data": {
      "text/plain": [
       "(637769984173082991, 9361844235008265709)"
      ]
     },
     "execution_count": 4,
     "metadata": {},
     "output_type": "execute_result"
    }
   ],
   "source": [
    "sys_rsa_2_public_key = load_key(\"17_SYS_RSA_2_Public_Key.pkl\")\n",
    "sys_rsa_2_public_key"
   ]
  },
  {
   "cell_type": "code",
   "execution_count": 5,
   "metadata": {},
   "outputs": [],
   "source": [
    "input_filename = '22_(SYS)_CC_Predicted_User_Output_Data.csv'"
   ]
  },
  {
   "cell_type": "code",
   "execution_count": 6,
   "metadata": {},
   "outputs": [
    {
     "name": "stdout",
     "output_type": "stream",
     "text": [
      "[4955708925362059469, 7176964512877741619, 4955708925362059469, 2942582851663474782, 8242659079974169821, 2086571625238332354, 8310600070549202077, 7176964512877741619, 9004561701176289127, 8009690529124638334, 8242659079974169821, 7822645058523022688, 4977592835381219096, 7176964512877741619, 6500047266885745314, 8242659079974169821, 8310600070549202077, 7176964512877741619, 4977592835381219096, 8242659079974169821, 2942582851663474782, 9004561701176289127, 7176964512877741619, 4955708925362059469, 6500047266885745314, 8242659079974169821, 2086571625238332354, 6500047266885745314, 7176964512877741619, 9004561701176289127, 8242659079974169821, 1414172889041247964, 8310600070549202077, 7176964512877741619, 2942582851663474782, 8242659079974169821, 8009690529124638334, 6500047266885745314, 7176964512877741619, 4977592835381219096, 8242659079974169821, 4977592835381219096, 2942582851663474782, 7176964512877741619, 8009690529124638334, 8242659079974169821, 8009690529124638334, 8310600070549202077, 7176964512877741619, 2942582851663474782, 8242659079974169821, 8009690529124638334, 1414172889041247964, 7176964512877741619, 4977592835381219096, 8242659079974169821, 6500047266885745314, 2942582851663474782, 7176964512877741619, 6500047266885745314, 8242659079974169821, 4955708925362059469, 8009690529124638334, 7176964512877741619, 4955708925362059469, 8310600070549202077, 8242659079974169821, 8009690529124638334, 1414172889041247964] \n",
      " 69\n",
      "1,14.07,85.93,6.7,3.48,16.06,8.27,4.56,3.34,5.57,4.52,3.64,6.15,17.52\n"
     ]
    }
   ],
   "source": [
    "def encrypt(message, public_key):\n",
    "    e, n = public_key\n",
    "    encrypted_message = [pow(ord(char), e, n) for char in message]\n",
    "    return encrypted_message\n",
    "\n",
    "def encrypt_csv_file(input_filename, public_key):\n",
    "    with open(input_filename, 'r') as f:\n",
    "        reader = csv.reader(f)\n",
    "        data = \"\\n\".join([\",\".join(row) for row in reader])\n",
    "    \n",
    "    encrypted_data = encrypt(data, public_key)\n",
    "    \n",
    "    return encrypted_data\n",
    "\n",
    "encrypted_data = encrypt_csv_file(input_filename, sys_rsa_2_public_key)\n",
    "print(encrypted_data, '\\n', len(encrypted_data))\n",
    "\n",
    "def decrypt(private_key, encrypted_message):\n",
    "    d, n = private_key\n",
    "    decrypted_message = ''.join([chr(pow(char, d, n)) for char in encrypted_message])\n",
    "    return decrypted_message\n",
    "\n",
    "su_rsa_2_private_key = load_key(\"16_SU_RSA_2_Private_Key.pkl\")\n",
    "\n",
    "decrypted_data = decrypt(su_rsa_2_private_key, encrypted_data)\n",
    "print(decrypted_data)"
   ]
  },
  {
   "cell_type": "code",
   "execution_count": 7,
   "metadata": {},
   "outputs": [],
   "source": [
    "def encrypt_data_with_aes(data, key):\n",
    "    encrypted_data = \"\".join(chr(ord(c) ^ key) for c in data)\n",
    "    return encrypted_data"
   ]
  },
  {
   "cell_type": "code",
   "execution_count": 8,
   "metadata": {},
   "outputs": [],
   "source": [
    "def encrypt_aes_key_with_rsa(aes_key, public_key):\n",
    "    e, n = public_key\n",
    "    return power(aes_key, e, n)"
   ]
  },
  {
   "cell_type": "code",
   "execution_count": 9,
   "metadata": {},
   "outputs": [],
   "source": [
    "def encrypt_csv_file(input_filename, public_key):\n",
    "    aes_key = random.randint(1, 255) \n",
    "\n",
    "    with open(input_filename, 'r', encoding='utf-8') as f:\n",
    "        reader = csv.reader(f)\n",
    "        data = \"\\n\".join([\",\".join(row) for row in reader])\n",
    "\n",
    "    encrypted_data = encrypt_data_with_aes(data, aes_key)\n",
    "    encrypted_aes_key = encrypt_aes_key_with_rsa(aes_key, public_key)\n",
    "\n",
    "    with open(\"23_(SYS)_CC_Transmitted_User_Output_Data.csv\", 'w', newline='', encoding='utf-8') as f:\n",
    "        writer = csv.writer(f)\n",
    "        writer.writerow([encrypted_aes_key])\n",
    "        writer.writerow([encrypted_data])\n",
    "\n",
    "    return encrypted_aes_key, encrypted_data"
   ]
  },
  {
   "cell_type": "code",
   "execution_count": 10,
   "metadata": {},
   "outputs": [
    {
     "name": "stdout",
     "output_type": "stream",
     "text": [
      "File encrypted successfully. Data saved in '22_(SYS)_CC_Predicted_User_Output_Data.csv'.\n",
      "818169501822285797  69\n"
     ]
    }
   ],
   "source": [
    "encrypted_aes_key, encrypted_data = encrypt_csv_file(input_filename, sys_rsa_2_public_key)\n",
    "print(\"File encrypted successfully. Data saved in '22_(SYS)_CC_Predicted_User_Output_Data.csv'.\")\n",
    "\n",
    "print(encrypted_aes_key, encrypted_data, len(encrypted_data))"
   ]
  },
  {
   "cell_type": "code",
   "execution_count": 11,
   "metadata": {},
   "outputs": [
    {
     "data": {
      "text/plain": [
       "(859385927303833, 14124542637770933)"
      ]
     },
     "execution_count": 11,
     "metadata": {},
     "output_type": "execute_result"
    }
   ],
   "source": [
    "sys_rsa_1_private_key = load_key(\"16_SYS_RSA_1_Private_Key.pkl\")\n",
    "sys_rsa_1_private_key"
   ]
  },
  {
   "cell_type": "code",
   "execution_count": 12,
   "metadata": {},
   "outputs": [
    {
     "data": {
      "text/plain": [
       "(1943022477995605, 14124542637770933)"
      ]
     },
     "execution_count": 12,
     "metadata": {},
     "output_type": "execute_result"
    }
   ],
   "source": [
    "sys_rsa_1_public_key = load_key(\"16_SYS_RSA_1_Public_Key.pkl\")\n",
    "sys_rsa_1_public_key"
   ]
  },
  {
   "cell_type": "code",
   "execution_count": 13,
   "metadata": {},
   "outputs": [],
   "source": [
    "def split_message(message, max_size):\n",
    "    encoded = message.encode()\n",
    "    chunks = [encoded[i:i + max_size] for i in range(0, len(encoded), max_size)]\n",
    "    return [int.from_bytes(chunk, 'big') for chunk in chunks]"
   ]
  },
  {
   "cell_type": "code",
   "execution_count": 14,
   "metadata": {},
   "outputs": [],
   "source": [
    "def sign_message(message, private_key, n):\n",
    "    d, n = private_key\n",
    "    max_bytes = (n.bit_length() // 8) - 1 \n",
    "    message_chunks = split_message(message, max_bytes)\n",
    "    \n",
    "    signatures = [power(chunk, d, n) for chunk in message_chunks] \n",
    "    return signatures"
   ]
  },
  {
   "cell_type": "code",
   "execution_count": 15,
   "metadata": {},
   "outputs": [
    {
     "data": {
      "text/plain": [
       "[12194609040518969,\n",
       " 1015239318434636,\n",
       " 4645423683045531,\n",
       " 11672629159180615,\n",
       " 11543116880627,\n",
       " 1045426965696641,\n",
       " 3275542182321768,\n",
       " 1215557403436967,\n",
       " 911248178049847,\n",
       " 2945526559738101,\n",
       " 13653070716171649,\n",
       " 7023082032623673,\n",
       " 2191865490723381,\n",
       " 10641758339350562,\n",
       " 11844146457741191,\n",
       " 11968725886519366,\n",
       " 2886099202939499,\n",
       " 5033757734705123,\n",
       " 34951163949291,\n",
       " 4277172120691509,\n",
       " 8125239790273257,\n",
       " 5295145414988602,\n",
       " 4718749664969643,\n",
       " 5033757734705123,\n",
       " 3889632977068025,\n",
       " 4277172120691509,\n",
       " 13589005267831491,\n",
       " 2945526559738101,\n",
       " 9822452874962629,\n",
       " 11941501573293971,\n",
       " 7118203964992900,\n",
       " 13906954041328122]"
      ]
     },
     "execution_count": 15,
     "metadata": {},
     "output_type": "execute_result"
    }
   ],
   "source": [
    "signatures = sign_message(str(encrypted_aes_key) + '\\n' + encrypted_data, sys_rsa_1_private_key, sys_rsa_1_public_key[1])\n",
    "signatures"
   ]
  },
  {
   "cell_type": "code",
   "execution_count": 16,
   "metadata": {},
   "outputs": [],
   "source": [
    "with open(\"23_(SYS)_CC_Transmitted_User_Output_Data.csv\", 'a', newline='', encoding='utf-8') as f:\n",
    "        writer = csv.writer(f)\n",
    "        writer.writerow([signatures])"
   ]
  }
 ],
 "metadata": {
  "kernelspec": {
   "display_name": "Python 3",
   "language": "python",
   "name": "python3"
  },
  "language_info": {
   "codemirror_mode": {
    "name": "ipython",
    "version": 3
   },
   "file_extension": ".py",
   "mimetype": "text/x-python",
   "name": "python",
   "nbconvert_exporter": "python",
   "pygments_lexer": "ipython3",
   "version": "3.12.3"
  }
 },
 "nbformat": 4,
 "nbformat_minor": 2
}
