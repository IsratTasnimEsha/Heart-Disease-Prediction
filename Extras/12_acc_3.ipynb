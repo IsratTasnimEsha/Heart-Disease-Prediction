{
 "cells": [
  {
   "cell_type": "code",
   "execution_count": null,
   "metadata": {},
   "outputs": [],
   "source": [
    "import pandas as pd\n",
    "import numpy as np\n",
    "import random\n",
    "import os\n",
    "import matplotlib.pyplot as plt\n",
    "from sklearn.model_selection import train_test_split\n",
    "from sklearn.preprocessing import StandardScaler\n",
    "from sklearn.tree import DecisionTreeClassifier\n",
    "from sklearn.ensemble import RandomForestClassifier\n",
    "from sklearn.metrics import f1_score\n",
    "from sklearn.decomposition import PCA\n",
    "from keras.models import Sequential\n",
    "from keras.layers import LSTM, Dense, Dropout\n",
    "from keras.optimizers import Adam\n",
    "import tensorflow as tf\n",
    "import seaborn as sns\n",
    "from sklearn.ensemble import IsolationForest\n",
    "from sklearn.metrics import confusion_matrix, accuracy_score, precision_score, recall_score, f1_score, confusion_matrix\n",
    "import joblib\n",
    "os.chdir('Resources/')\n",
    "\n",
    "import warnings\n",
    "warnings.filterwarnings(\"ignore\")"
   ]
  },
  {
   "cell_type": "code",
   "execution_count": 2,
   "metadata": {},
   "outputs": [],
   "source": [
    "df = pd.read_csv('10_SP_Preprocessed_Data.csv')\n",
    "\n",
    "X = df.drop(['HeartDisease'], axis='columns')\n",
    "Y = df[['HeartDisease']]"
   ]
  },
  {
   "cell_type": "code",
   "execution_count": null,
   "metadata": {},
   "outputs": [
    {
     "name": "stdout",
     "output_type": "stream",
     "text": [
      "0 0.851063829787234 0.851063829787234 0\n",
      "1 0.8814589665653495 0.8814589665653495 1\n",
      "2 0.878419452887538 0.8814589665653495 1\n",
      "3 0.8662613981762918 0.8814589665653495 1\n",
      "4 0.8449848024316109 0.8814589665653495 1\n",
      "5 0.8480243161094225 0.8814589665653495 1\n",
      "6 0.8693009118541033 0.8814589665653495 1\n",
      "7 0.8632218844984803 0.8814589665653495 1\n",
      "8 0.8571428571428571 0.8814589665653495 1\n",
      "9 0.8601823708206687 0.8814589665653495 1\n",
      "10 0.8480243161094225 0.8814589665653495 1\n",
      "11 0.8571428571428571 0.8814589665653495 1\n",
      "12 0.8601823708206687 0.8814589665653495 1\n",
      "13 0.8571428571428571 0.8814589665653495 1\n",
      "14 0.8480243161094225 0.8814589665653495 1\n",
      "15 0.8480243161094225 0.8814589665653495 1\n",
      "16 0.8662613981762918 0.8814589665653495 1\n",
      "17 0.8693009118541033 0.8814589665653495 1\n",
      "18 0.8358662613981763 0.8814589665653495 1\n",
      "19 0.8267477203647416 0.8814589665653495 1\n",
      "20 0.8297872340425532 0.8814589665653495 1\n",
      "21 0.8662613981762918 0.8814589665653495 1\n",
      "22 0.8571428571428571 0.8814589665653495 1\n",
      "23 0.8449848024316109 0.8814589665653495 1\n"
     ]
    }
   ],
   "source": [
    "import pandas as pd\n",
    "import numpy as np\n",
    "from sklearn.ensemble import RandomForestClassifier, IsolationForest\n",
    "from sklearn.model_selection import train_test_split\n",
    "from sklearn.metrics import f1_score\n",
    "import joblib\n",
    "\n",
    "mx = 0\n",
    "ind = 0\n",
    "seed = 0\n",
    "\n",
    "for i in range(5000):\n",
    "    seed = i\n",
    "\n",
    "    _if = IsolationForest(contamination=0.05, random_state=seed)\n",
    "\n",
    "    outlier_predictions_if = _if.fit_predict(X)\n",
    "\n",
    "    X_filtered_if = X[outlier_predictions_if != -1].reset_index(drop=True)\n",
    "    Y_filtered_if = Y[outlier_predictions_if != -1].reset_index(drop=True)\n",
    "\n",
    "    X_train_if, X_test_if, Y_train_if, Y_test_if = train_test_split(\n",
    "        X_filtered_if, Y_filtered_if, test_size=0.2, random_state=seed\n",
    "    )\n",
    "\n",
    "    rf_model_if = RandomForestClassifier(random_state=seed)\n",
    "    rf_model_if.fit(X_train_if, Y_train_if)\n",
    "\n",
    "    Y_pred_if = rf_model_if.predict(X_test_if)\n",
    "\n",
    "    accuracy_if = accuracy_score(Y_test_if, Y_pred_if)\n",
    "\n",
    "    if accuracy_if > mx:\n",
    "        mx = accuracy_if\n",
    "        ind = i\n",
    "\n",
    "    print(i, accuracy_if, mx, ind)"
   ]
  },
  {
   "cell_type": "code",
   "execution_count": null,
   "metadata": {},
   "outputs": [],
   "source": []
  }
 ],
 "metadata": {
  "kernelspec": {
   "display_name": "Python 3",
   "language": "python",
   "name": "python3"
  },
  "language_info": {
   "codemirror_mode": {
    "name": "ipython",
    "version": 3
   },
   "file_extension": ".py",
   "mimetype": "text/x-python",
   "name": "python",
   "nbconvert_exporter": "python",
   "pygments_lexer": "ipython3",
   "version": "3.12.3"
  }
 },
 "nbformat": 4,
 "nbformat_minor": 2
}
