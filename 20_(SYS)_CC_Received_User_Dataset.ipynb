{
 "cells": [
  {
   "cell_type": "code",
   "execution_count": 1,
   "metadata": {},
   "outputs": [],
   "source": [
    "import random\n",
    "import csv\n",
    "import os\n",
    "import pickle\n",
    "import sys\n",
    "os.chdir('Resources/')"
   ]
  },
  {
   "cell_type": "code",
   "execution_count": 2,
   "metadata": {},
   "outputs": [],
   "source": [
    "def power(b, p, m):\n",
    "    b = b % m\n",
    "    if p == 0:\n",
    "        return 1\n",
    "    j = power(b, p // 2, m)\n",
    "    j = (j * j) % m\n",
    "    if p % 2 == 1:\n",
    "        j = (j * b) % m\n",
    "    return j"
   ]
  },
  {
   "cell_type": "code",
   "execution_count": 3,
   "metadata": {},
   "outputs": [],
   "source": [
    "def split_message(message, max_size):\n",
    "    encoded = message.encode()\n",
    "    chunks = [encoded[i:i + max_size] for i in range(0, len(encoded), max_size)]\n",
    "    return [int.from_bytes(chunk, 'big') for chunk in chunks]"
   ]
  },
  {
   "cell_type": "code",
   "execution_count": 4,
   "metadata": {},
   "outputs": [],
   "source": [
    "def join_chunks(chunks, max_size):\n",
    "    \"\"\"Reassemble integer chunks into the original message.\"\"\"\n",
    "    message_bytes = b''.join(chunk.to_bytes(max_size, 'big') for chunk in chunks)\n",
    "    return message_bytes.decode(errors='ignore')"
   ]
  },
  {
   "cell_type": "code",
   "execution_count": 5,
   "metadata": {},
   "outputs": [],
   "source": [
    "def verify_signature(signed_chunks, original_message, public_key):\n",
    "    \"\"\"Verify the RSA signature by decrypting and comparing.\"\"\"\n",
    "    e, n = public_key\n",
    "    max_bytes = (n.bit_length() // 8) - 1\n",
    "\n",
    "    original_chunks = split_message(original_message, max_bytes)\n",
    "\n",
    "    decrypted_chunks = [power(sig, e, n) for sig in signed_chunks]\n",
    "\n",
    "    return original_chunks == decrypted_chunks"
   ]
  },
  {
   "cell_type": "code",
   "execution_count": 6,
   "metadata": {},
   "outputs": [],
   "source": [
    "def load_key(filename):\n",
    "    with open(filename, \"rb\") as f:\n",
    "        return pickle.load(f)"
   ]
  },
  {
   "cell_type": "code",
   "execution_count": 7,
   "metadata": {},
   "outputs": [
    {
     "data": {
      "text/plain": [
       "(2122126697722114073, 4088522690914825687)"
      ]
     },
     "execution_count": 7,
     "metadata": {},
     "output_type": "execute_result"
    }
   ],
   "source": [
    "sys_rsa_2_public_key = load_key(\"17_SYS_RSA_2_Public_Key.pkl\")\n",
    "sys_rsa_2_public_key"
   ]
  },
  {
   "cell_type": "code",
   "execution_count": 8,
   "metadata": {},
   "outputs": [
    {
     "name": "stdout",
     "output_type": "stream",
     "text": [
      "2136287171331916797 \n",
      " áâøåøæøåàäøæáäøåøæøåáäøäøæøå \n",
      " [882643961481838630, 1337866713467690038, 3140871930271757227, 4059081381053974844, 2210007273399152650, 2674233172039042455, 2940767274681283384, 2100575981009037332, 2210007273399152650, 2674233172039042455, 46090542140770433, 1624928314837446202, 3199564187534310285]\n"
     ]
    }
   ],
   "source": [
    "with open(\"19_(SYS)_SU_Transmitted_User_Data.csv\", 'r', encoding='utf-8') as f:\n",
    "    reader = csv.reader(f)\n",
    "    rows = list(reader)\n",
    "\n",
    "encrypted_aes_key = rows[0][0]\n",
    "encrypted_data = rows[1][0]\n",
    "signed_chunks = eval(rows[2][0])\n",
    "\n",
    "print(encrypted_aes_key, '\\n', encrypted_data, '\\n', signed_chunks)"
   ]
  },
  {
   "cell_type": "code",
   "execution_count": 9,
   "metadata": {},
   "outputs": [
    {
     "name": "stdout",
     "output_type": "stream",
     "text": [
      "Signature Verification: Valid\n"
     ]
    }
   ],
   "source": [
    "original_message = str(encrypted_aes_key) + '\\n' + encrypted_data\n",
    "is_valid = verify_signature(signed_chunks, original_message, sys_rsa_2_public_key)\n",
    "\n",
    "print(\"Signature Verification:\", \"Valid\" if is_valid else \"Invalid\")"
   ]
  },
  {
   "cell_type": "code",
   "execution_count": 10,
   "metadata": {},
   "outputs": [
    {
     "data": {
      "text/plain": [
       "(3072872903477649361, 4936349149105973713)"
      ]
     },
     "execution_count": 10,
     "metadata": {},
     "output_type": "execute_result"
    }
   ],
   "source": [
    "sys_rsa_1_private_key = load_key(\"16_SYS_RSA_1_Private_Key.pkl\")\n",
    "sys_rsa_1_private_key"
   ]
  },
  {
   "cell_type": "code",
   "execution_count": 11,
   "metadata": {},
   "outputs": [],
   "source": [
    "def decrypt_data_with_aes(encrypted_data, key):\n",
    "    decrypted_data = \"\".join(chr(ord(c) ^ key) for c in encrypted_data)\n",
    "    return decrypted_data"
   ]
  },
  {
   "cell_type": "code",
   "execution_count": 12,
   "metadata": {},
   "outputs": [],
   "source": [
    "def decrypt_aes_key_with_rsa(encrypted_aes_key, private_key):\n",
    "    d, n = private_key\n",
    "    return power(encrypted_aes_key, d, n)"
   ]
  },
  {
   "cell_type": "code",
   "execution_count": 13,
   "metadata": {},
   "outputs": [],
   "source": [
    "def decrypt_and_map_csv(input_filename, private_key, output_filename):\n",
    "    with open(input_filename, 'r', encoding='utf-8') as f:\n",
    "        reader = csv.reader(f)\n",
    "        rows = list(reader)\n",
    "\n",
    "    encrypted_aes_key = int(rows[0][0])  \n",
    "    encrypted_data = rows[1][0]  \n",
    "\n",
    "    aes_key = decrypt_aes_key_with_rsa(encrypted_aes_key, private_key)\n",
    "    decrypted_data = decrypt_data_with_aes(encrypted_data, aes_key)\n",
    "\n",
    "    column_names = [\n",
    "        \"Age\", \"Sex\", \"ChestPainType\", \"RestingBloodPressure\", \"Cholesterol\",\n",
    "        \"FastingBloodSugar\", \"RestingECG\", \"MaximumHeartRate\", \"ExerciseAngina\",\n",
    "        \"Oldpeak\", \"ST_Slope\", \"HeartDisease\"\n",
    "    ]\n",
    "\n",
    "    mappings = {\n",
    "        1: {0: 'Female', 1: 'Male'},\n",
    "        2: {0: 'Typical Angina', 1: 'Atypical Angina', 2: 'Non-anginal Pain', 3: 'Asymptomatic'},\n",
    "        5: {0: 'No', 1: 'Yes'},\n",
    "        6: {0: 'Normal', 1: 'Abnormal ST-T Wave', 2: 'Left Ventricular Hypertrophy'},\n",
    "        8: {0: 'No', 1: 'Yes'},\n",
    "        10: {0: 'Upsloping', 1: 'Flat', 2: 'Downsloping'}\n",
    "    }\n",
    "\n",
    "    decrypted_rows = [column_names] + [row.split(\",\") for row in decrypted_data.split(\"\\n\")]\n",
    "\n",
    "    for row in decrypted_rows[1:]:  # Skip header\n",
    "        for col, mapping in mappings.items():\n",
    "            row[col] = mapping.get(int(row[col]), row[col])\n",
    "\n",
    "    with open(output_filename, 'w', newline='', encoding='utf-8') as f:\n",
    "        writer = csv.writer(f)\n",
    "        writer.writerows(decrypted_rows)\n",
    "\n",
    "    print(f\"Decrypted and mapped data saved as '{output_filename}'.\")"
   ]
  },
  {
   "cell_type": "code",
   "execution_count": 14,
   "metadata": {},
   "outputs": [
    {
     "name": "stdout",
     "output_type": "stream",
     "text": [
      "Decrypted and mapped data saved as '20_(SYS)_CC_Received_User_Data.csv'.\n"
     ]
    }
   ],
   "source": [
    "if is_valid:\n",
    "    output_filename = '20_(SYS)_CC_Received_User_Data.csv'\n",
    "    decrypt_and_map_csv(\"19_(SYS)_SU_Transmitted_User_Data.csv\", sys_rsa_1_private_key, output_filename)\n",
    "else:\n",
    "    print(\"Invalid User Data\")"
   ]
  },
  {
   "cell_type": "code",
   "execution_count": null,
   "metadata": {},
   "outputs": [],
   "source": []
  }
 ],
 "metadata": {
  "kernelspec": {
   "display_name": "Python 3",
   "language": "python",
   "name": "python3"
  },
  "language_info": {
   "codemirror_mode": {
    "name": "ipython",
    "version": 3
   },
   "file_extension": ".py",
   "mimetype": "text/x-python",
   "name": "python",
   "nbconvert_exporter": "python",
   "pygments_lexer": "ipython3",
   "version": "3.12.3"
  }
 },
 "nbformat": 4,
 "nbformat_minor": 2
}
