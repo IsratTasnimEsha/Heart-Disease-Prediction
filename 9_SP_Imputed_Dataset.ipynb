{
 "cells": [
  {
   "cell_type": "code",
   "execution_count": 1,
   "metadata": {},
   "outputs": [],
   "source": [
    "import pandas as pd\n",
    "import numpy as np\n",
    "from sklearn.model_selection import train_test_split\n",
    "from sklearn.preprocessing import StandardScaler, OneHotEncoder\n",
    "from sklearn.impute import SimpleImputer\n",
    "from sklearn.decomposition import PCA\n",
    "from sklearn.ensemble import IsolationForest\n",
    "import joblib\n",
    "import os\n",
    "os.chdir('Resources/')"
   ]
  },
  {
   "cell_type": "code",
   "execution_count": 2,
   "metadata": {},
   "outputs": [],
   "source": [
    "df = pd.read_csv('8_SP_Encrypted_Data.csv')"
   ]
  },
  {
   "cell_type": "code",
   "execution_count": 3,
   "metadata": {},
   "outputs": [
    {
     "name": "stdout",
     "output_type": "stream",
     "text": [
      "3476488068334709321004428324822234875385570758714 , 24846772438844064578074177402607600227383966714210\n",
      "11587453737390097227590471271492528351599113734033 , 27773639256068336172113331344507987356100129784375\n",
      "363472194187901669993758967694323171766562404977 , 435807668318848180298083450231339819189020734865\n",
      "17402451201959742363565894493521834331259341891463 , 15798875891211319973932591331097539913869529544197\n",
      "85477594117714443314955803616242954325220841032757 , 48132071089559527662724153025685563663794416086559\n",
      "37951409833662251487848155814881565034966359570932 , 27501205851845249880495748870672033180948245791186\n",
      "41133527773195702721888254430635588152230146284903 , 25455986176245553370557702814934831441420395444461\n",
      "52831977755943035119171149659892192776866553558891 , 46342762707402498902325772082906869547404374799532\n",
      "854204650939784222357072555579547723560401354486 , 42625275023631980949490223498197459029619372792630\n",
      "10446115961261407535314330840454009363668715221538 , 6270213635896234659994366004505269271585574105055\n",
      "9645776526511081362876630389278851602463270884913 , 8583865112413139460358873227686512737591732364614\n",
      "[3476488068334709321004428324822234875385570758714, 11587453737390097227590471271492528351599113734033, 363472194187901669993758967694323171766562404977, 17402451201959742363565894493521834331259341891463, 85477594117714443314955803616242954325220841032757, 37951409833662251487848155814881565034966359570932, 41133527773195702721888254430635588152230146284903, 52831977755943035119171149659892192776866553558891, 854204650939784222357072555579547723560401354486, 10446115961261407535314330840454009363668715221538, 9645776526511081362876630389278851602463270884913]\n",
      "[24846772438844064578074177402607600227383966714210, 27773639256068336172113331344507987356100129784375, 435807668318848180298083450231339819189020734865, 15798875891211319973932591331097539913869529544197, 48132071089559527662724153025685563663794416086559, 27501205851845249880495748870672033180948245791186, 25455986176245553370557702814934831441420395444461, 46342762707402498902325772082906869547404374799532, 42625275023631980949490223498197459029619372792630, 6270213635896234659994366004505269271585574105055, 8583865112413139460358873227686512737591732364614]\n"
     ]
    }
   ],
   "source": [
    "c1_list = []\n",
    "c2_list = []\n",
    "\n",
    "for k in range(11):\n",
    "    cnt = 0\n",
    "    c1_sum = 0\n",
    "    c2_sum = 0\n",
    "    \n",
    "    messages = df.iloc[:, k].values\n",
    "\n",
    "    for i, message in enumerate(messages, 1):\n",
    "        if message is not None and message == message:\n",
    "            c1, c2 = map(int, message.strip(\"()\").split(\",\"))\n",
    "            c1_sum += c1\n",
    "            c2_sum += c2\n",
    "            cnt += 1\n",
    "    \n",
    "    print(c1_sum//cnt, \",\", c2_sum//cnt)\n",
    "\n",
    "    c1_list.append(c1_sum//cnt)\n",
    "    c2_list.append(c2_sum//cnt)\n",
    "\n",
    "print(c1_list)\n",
    "print(c2_list)"
   ]
  },
  {
   "cell_type": "code",
   "execution_count": 4,
   "metadata": {},
   "outputs": [],
   "source": [
    "column_names = [\n",
    "    \"Age\", \"Sex\", \"ChestPainType\", \"RestingBloodPressure\", \"Cholesterol\",\n",
    "    \"FastingBloodSugar\", \"RestingECG\", \"MaximumHeartRate\", \"ExerciseAngina\",\n",
    "    \"Oldpeak\", \"ST_Slope\", \"HeartDisease\"\n",
    "]"
   ]
  },
  {
   "cell_type": "code",
   "execution_count": 5,
   "metadata": {},
   "outputs": [],
   "source": [
    "imputed_data = pd.DataFrame()\n",
    "\n",
    "for k in range(11):\n",
    "    \n",
    "    messages = df.iloc[:, k].values\n",
    "\n",
    "    imputed_column = []\n",
    "\n",
    "    for i, message in enumerate(messages, 1):\n",
    "        if message is None:\n",
    "            c1 = c1_list[k]\n",
    "            c2 = c2_list[k]\n",
    "        \n",
    "        if message is not None and message == message:\n",
    "            c1, c2 = map(int, message.strip(\"()\").split(\",\"))\n",
    "\n",
    "        imputed_column.append(f\"({c1},{c2})\")\n",
    "\n",
    "    imputed_data[column_names[k]] = imputed_column\n",
    "\n",
    "combined_df = pd.concat([imputed_data, df['HeartDisease']], axis=1)\n",
    "combined_df.to_csv('9_SP_Imputed_Data.csv', index=False)"
   ]
  },
  {
   "cell_type": "code",
   "execution_count": null,
   "metadata": {},
   "outputs": [],
   "source": []
  }
 ],
 "metadata": {
  "kernelspec": {
   "display_name": "Python 3",
   "language": "python",
   "name": "python3"
  },
  "language_info": {
   "codemirror_mode": {
    "name": "ipython",
    "version": 3
   },
   "file_extension": ".py",
   "mimetype": "text/x-python",
   "name": "python",
   "nbconvert_exporter": "python",
   "pygments_lexer": "ipython3",
   "version": "3.12.3"
  }
 },
 "nbformat": 4,
 "nbformat_minor": 2
}
