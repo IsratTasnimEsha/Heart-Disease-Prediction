{
 "cells": [
  {
   "cell_type": "code",
   "execution_count": 1,
   "metadata": {},
   "outputs": [],
   "source": [
    "import pandas as pd\n",
    "import numpy as np\n",
    "from sklearn.model_selection import train_test_split\n",
    "from sklearn.preprocessing import StandardScaler, OneHotEncoder\n",
    "from sklearn.impute import SimpleImputer\n",
    "from sklearn.decomposition import PCA\n",
    "from sklearn.ensemble import IsolationForest\n",
    "import joblib\n",
    "import os\n",
    "os.chdir('Resources/')"
   ]
  },
  {
   "cell_type": "code",
   "execution_count": 2,
   "metadata": {},
   "outputs": [],
   "source": [
    "df = pd.read_csv('8_SP_Encrypted_Data.csv')"
   ]
  },
  {
   "cell_type": "code",
   "execution_count": 3,
   "metadata": {},
   "outputs": [
    {
     "name": "stdout",
     "output_type": "stream",
     "text": [
      "6965361356960251970681699416527167003396930684399 , 30217139673302031254829592992378024533878940689657\n",
      "54600078953351133152003341118517817314167801601939 , 23882417530828833820232030289434178573895492614734\n",
      "36649207273954309735937122332365840930023873680884 , 31257445741747527543331712533634722199901749334179\n",
      "83860246762706255172761784370775066461479861118299 , 47736326788307872921021879683387002044728535726667\n",
      "16043955655060611551799098102694158622740324518298 , 43570977182708344300493988886736242425372723276623\n",
      "48796268997449217309075469418552965717916389030766 , 21270487134087081655449550974215752004786739471885\n",
      "3857767734957454709824171872090418722115974714484 , 6007744126266429215264072859610897495757862371132\n",
      "83297904217885534795359347609074572793018462457138 , 40148136876669348027076612145139127910533037019312\n",
      "12956688826076395746654158514081595251862400502558 , 5473654934117652083434044599580847510549404051408\n",
      "5759314526113684676869960964229505210431962579413 , 9488133877349612967877140601298226962784337710630\n",
      "78949507728584780390701073438136512925023759739404 , 45618960443992718645592720069173286841300228957617\n",
      "[6965361356960251970681699416527167003396930684399, 54600078953351133152003341118517817314167801601939, 36649207273954309735937122332365840930023873680884, 83860246762706255172761784370775066461479861118299, 16043955655060611551799098102694158622740324518298, 48796268997449217309075469418552965717916389030766, 3857767734957454709824171872090418722115974714484, 83297904217885534795359347609074572793018462457138, 12956688826076395746654158514081595251862400502558, 5759314526113684676869960964229505210431962579413, 78949507728584780390701073438136512925023759739404]\n",
      "[30217139673302031254829592992378024533878940689657, 23882417530828833820232030289434178573895492614734, 31257445741747527543331712533634722199901749334179, 47736326788307872921021879683387002044728535726667, 43570977182708344300493988886736242425372723276623, 21270487134087081655449550974215752004786739471885, 6007744126266429215264072859610897495757862371132, 40148136876669348027076612145139127910533037019312, 5473654934117652083434044599580847510549404051408, 9488133877349612967877140601298226962784337710630, 45618960443992718645592720069173286841300228957617]\n"
     ]
    }
   ],
   "source": [
    "c1_list = []\n",
    "c2_list = []\n",
    "\n",
    "for k in range(11):\n",
    "    cnt = 0\n",
    "    c1_sum = 0\n",
    "    c2_sum = 0\n",
    "    \n",
    "    messages = df.iloc[:, k].values\n",
    "\n",
    "    for i, message in enumerate(messages, 1):\n",
    "        if message is not None and message == message:\n",
    "            c1, c2 = map(int, message.strip(\"()\").split(\",\"))\n",
    "            c1_sum += c1\n",
    "            c2_sum += c2\n",
    "            cnt += 1\n",
    "    \n",
    "    print(c1_sum//cnt, \",\", c2_sum//cnt)\n",
    "\n",
    "    c1_list.append(c1_sum//cnt)\n",
    "    c2_list.append(c2_sum//cnt)\n",
    "\n",
    "print(c1_list)\n",
    "print(c2_list)"
   ]
  },
  {
   "cell_type": "code",
   "execution_count": 4,
   "metadata": {},
   "outputs": [],
   "source": [
    "column_names = [\n",
    "    \"Age\", \"Sex\", \"ChestPainType\", \"RestingBloodPressure\", \"Cholesterol\",\n",
    "    \"FastingBloodSugar\", \"RestingECG\", \"MaximumHeartRate\", \"ExerciseAngina\",\n",
    "    \"Oldpeak\", \"ST_Slope\", \"HeartDisease\"\n",
    "]"
   ]
  },
  {
   "cell_type": "code",
   "execution_count": 5,
   "metadata": {},
   "outputs": [],
   "source": [
    "imputed_data = pd.DataFrame()\n",
    "\n",
    "for k in range(11):\n",
    "    \n",
    "    messages = df.iloc[:, k].values\n",
    "\n",
    "    imputed_column = []\n",
    "\n",
    "    for i, message in enumerate(messages, 1):\n",
    "        if message is None:\n",
    "            c1 = c1_list[k]\n",
    "            c2 = c2_list[k]\n",
    "        \n",
    "        if message is not None and message == message:\n",
    "            c1, c2 = map(int, message.strip(\"()\").split(\",\"))\n",
    "\n",
    "        imputed_column.append(f\"({c1},{c2})\")\n",
    "\n",
    "    imputed_data[column_names[k]] = imputed_column\n",
    "\n",
    "combined_df = pd.concat([imputed_data, df['HeartDisease']], axis=1)\n",
    "combined_df.to_csv('9_SP_Imputed_Data.csv', index=False)"
   ]
  },
  {
   "cell_type": "code",
   "execution_count": null,
   "metadata": {},
   "outputs": [],
   "source": []
  }
 ],
 "metadata": {
  "kernelspec": {
   "display_name": "Python 3",
   "language": "python",
   "name": "python3"
  },
  "language_info": {
   "codemirror_mode": {
    "name": "ipython",
    "version": 3
   },
   "file_extension": ".py",
   "mimetype": "text/x-python",
   "name": "python",
   "nbconvert_exporter": "python",
   "pygments_lexer": "ipython3",
   "version": "3.12.3"
  }
 },
 "nbformat": 4,
 "nbformat_minor": 2
}
