{
 "cells": [
  {
   "cell_type": "code",
   "execution_count": 1,
   "metadata": {},
   "outputs": [],
   "source": [
    "import pandas as pd\n",
    "import numpy as np\n",
    "from sklearn.model_selection import train_test_split\n",
    "from sklearn.preprocessing import StandardScaler, OneHotEncoder\n",
    "from sklearn.impute import SimpleImputer\n",
    "from sklearn.decomposition import PCA\n",
    "from sklearn.ensemble import IsolationForest\n",
    "import joblib\n",
    "import os\n",
    "os.chdir('Resources/')"
   ]
  },
  {
   "cell_type": "code",
   "execution_count": 2,
   "metadata": {},
   "outputs": [],
   "source": [
    "df = pd.read_csv('8_SP_Encrypted_Data.csv')"
   ]
  },
  {
   "cell_type": "code",
   "execution_count": 3,
   "metadata": {},
   "outputs": [
    {
     "name": "stdout",
     "output_type": "stream",
     "text": [
      "11611711856791845453844363544193004458436652567582 , 8642669844787942563492368268684939284711804276863\n",
      "11521613315689790599790221322656441619898359351715 , 4034377802708626089760659764802423667325298890365\n",
      "5340627710438748782301236172298939673737240321334 , 9518105488393556837220105912093619880523995570700\n",
      "2959799491122696844814186940885321444153216238962 , 8836753688425624510165520513314840242974747212475\n",
      "2572745932559499053547019353918953850096268849190 , 8474196311723243744418844799390940207929097720980\n",
      "8991270131106317065828259596356481212681246291421 , 6772656204179509619791305715810025426227694403263\n",
      "3734041290046056160613914136571085705122900972458 , 10241515065873839029286567858642248780707707120098\n",
      "11607967323062549316964231219539938367253314058306 , 8434009008481148221040720356012447928285472689883\n",
      "13647169038252931707909305178839774745227353223390 , 7296217498572403303360981577425449678087323016318\n",
      "2127171966273882616386704855669834874862200078566 , 8091959164370435025476562502466163931209875156334\n",
      "9533738547640960361372917347170583969881856341594 , 12842934798604731416355474983470799751567125342597\n",
      "[11611711856791845453844363544193004458436652567582, 11521613315689790599790221322656441619898359351715, 5340627710438748782301236172298939673737240321334, 2959799491122696844814186940885321444153216238962, 2572745932559499053547019353918953850096268849190, 8991270131106317065828259596356481212681246291421, 3734041290046056160613914136571085705122900972458, 11607967323062549316964231219539938367253314058306, 13647169038252931707909305178839774745227353223390, 2127171966273882616386704855669834874862200078566, 9533738547640960361372917347170583969881856341594]\n",
      "[8642669844787942563492368268684939284711804276863, 4034377802708626089760659764802423667325298890365, 9518105488393556837220105912093619880523995570700, 8836753688425624510165520513314840242974747212475, 8474196311723243744418844799390940207929097720980, 6772656204179509619791305715810025426227694403263, 10241515065873839029286567858642248780707707120098, 8434009008481148221040720356012447928285472689883, 7296217498572403303360981577425449678087323016318, 8091959164370435025476562502466163931209875156334, 12842934798604731416355474983470799751567125342597]\n"
     ]
    }
   ],
   "source": [
    "c1_list = []\n",
    "c2_list = []\n",
    "\n",
    "for k in range(11):\n",
    "    cnt = 0\n",
    "    c1_sum = 0\n",
    "    c2_sum = 0\n",
    "    \n",
    "    messages = df.iloc[:, k].values\n",
    "\n",
    "    for i, message in enumerate(messages, 1):\n",
    "        if message is not None and message == message:\n",
    "            c1, c2 = map(int, message.strip(\"()\").split(\",\"))\n",
    "            c1_sum += c1\n",
    "            c2_sum += c2\n",
    "            cnt += 1\n",
    "    \n",
    "    print(c1_sum//cnt, \",\", c2_sum//cnt)\n",
    "\n",
    "    c1_list.append(c1_sum//cnt)\n",
    "    c2_list.append(c2_sum//cnt)\n",
    "\n",
    "print(c1_list)\n",
    "print(c2_list)"
   ]
  },
  {
   "cell_type": "code",
   "execution_count": 4,
   "metadata": {},
   "outputs": [],
   "source": [
    "column_names = [\n",
    "    \"Age\", \"Sex\", \"ChestPainType\", \"RestingBloodPressure\", \"Cholesterol\",\n",
    "    \"FastingBloodSugar\", \"RestingECG\", \"MaximumHeartRate\", \"ExerciseAngina\",\n",
    "    \"Oldpeak\", \"ST_Slope\", \"HeartDisease\"\n",
    "]"
   ]
  },
  {
   "cell_type": "code",
   "execution_count": 5,
   "metadata": {},
   "outputs": [],
   "source": [
    "imputed_data = pd.DataFrame()\n",
    "\n",
    "for k in range(11):\n",
    "    \n",
    "    messages = df.iloc[:, k].values\n",
    "\n",
    "    imputed_column = []\n",
    "\n",
    "    for i, message in enumerate(messages, 1):\n",
    "        if message is None:\n",
    "            c1 = c1_list[k]\n",
    "            c2 = c2_list[k]\n",
    "        \n",
    "        if message is not None and message == message:\n",
    "            c1, c2 = map(int, message.strip(\"()\").split(\",\"))\n",
    "\n",
    "        imputed_column.append(f\"({c1},{c2})\")\n",
    "\n",
    "    imputed_data[column_names[k]] = imputed_column\n",
    "\n",
    "combined_df = pd.concat([imputed_data, df['HeartDisease']], axis=1)\n",
    "combined_df.to_csv('9_SP_Imputed_Data.csv', index=False)"
   ]
  },
  {
   "cell_type": "code",
   "execution_count": null,
   "metadata": {},
   "outputs": [],
   "source": []
  }
 ],
 "metadata": {
  "kernelspec": {
   "display_name": "Python 3",
   "language": "python",
   "name": "python3"
  },
  "language_info": {
   "codemirror_mode": {
    "name": "ipython",
    "version": 3
   },
   "file_extension": ".py",
   "mimetype": "text/x-python",
   "name": "python",
   "nbconvert_exporter": "python",
   "pygments_lexer": "ipython3",
   "version": "3.12.3"
  }
 },
 "nbformat": 4,
 "nbformat_minor": 2
}
