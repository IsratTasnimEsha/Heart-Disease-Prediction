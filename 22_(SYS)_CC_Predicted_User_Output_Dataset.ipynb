{
 "cells": [
  {
   "cell_type": "code",
   "execution_count": 1,
   "metadata": {},
   "outputs": [],
   "source": [
    "import pandas as pd\n",
    "import numpy as np\n",
    "from sklearn.model_selection import train_test_split\n",
    "from sklearn.preprocessing import StandardScaler, OneHotEncoder\n",
    "from sklearn.impute import SimpleImputer\n",
    "from sklearn.decomposition import PCA\n",
    "from sklearn.ensemble import IsolationForest\n",
    "import joblib\n",
    "import os\n",
    "os.chdir('Resources/')"
   ]
  },
  {
   "cell_type": "code",
   "execution_count": 2,
   "metadata": {},
   "outputs": [
    {
     "data": {
      "text/html": [
       "<div>\n",
       "<style scoped>\n",
       "    .dataframe tbody tr th:only-of-type {\n",
       "        vertical-align: middle;\n",
       "    }\n",
       "\n",
       "    .dataframe tbody tr th {\n",
       "        vertical-align: top;\n",
       "    }\n",
       "\n",
       "    .dataframe thead th {\n",
       "        text-align: right;\n",
       "    }\n",
       "</style>\n",
       "<table border=\"1\" class=\"dataframe\">\n",
       "  <thead>\n",
       "    <tr style=\"text-align: right;\">\n",
       "      <th></th>\n",
       "      <th>Age</th>\n",
       "      <th>Sex</th>\n",
       "      <th>ChestPainType</th>\n",
       "      <th>RestingBloodPressure</th>\n",
       "      <th>Cholesterol</th>\n",
       "      <th>FastingBloodSugar</th>\n",
       "      <th>RestingECG</th>\n",
       "      <th>MaximumHeartRate</th>\n",
       "      <th>ExerciseAngina</th>\n",
       "      <th>Oldpeak</th>\n",
       "      <th>ST_Slope</th>\n",
       "    </tr>\n",
       "  </thead>\n",
       "  <tbody>\n",
       "    <tr>\n",
       "      <th>0</th>\n",
       "      <td>(727098866694572111312080946331214450055528069...</td>\n",
       "      <td>(229616654428421439032208985668907009434498525...</td>\n",
       "      <td>(206132623220622771195736303657465951271824991...</td>\n",
       "      <td>(256664493781455338212570442989098664501312241...</td>\n",
       "      <td>(496487773502649203362579175993867667514299925...</td>\n",
       "      <td>(232621385354308159658972097510636027057290307...</td>\n",
       "      <td>(206633123642145745457794856667965133119735875...</td>\n",
       "      <td>(527928654556440297785491377545093222911830023...</td>\n",
       "      <td>(535679168078069141039148775378508478081694430...</td>\n",
       "      <td>(224539912728730582344923001583770190325211116...</td>\n",
       "      <td>(102350512016187766238753594805484016713153736...</td>\n",
       "    </tr>\n",
       "  </tbody>\n",
       "</table>\n",
       "</div>"
      ],
      "text/plain": [
       "                                                 Age  \\\n",
       "0  (727098866694572111312080946331214450055528069...   \n",
       "\n",
       "                                                 Sex  \\\n",
       "0  (229616654428421439032208985668907009434498525...   \n",
       "\n",
       "                                       ChestPainType  \\\n",
       "0  (206132623220622771195736303657465951271824991...   \n",
       "\n",
       "                                RestingBloodPressure  \\\n",
       "0  (256664493781455338212570442989098664501312241...   \n",
       "\n",
       "                                         Cholesterol  \\\n",
       "0  (496487773502649203362579175993867667514299925...   \n",
       "\n",
       "                                   FastingBloodSugar  \\\n",
       "0  (232621385354308159658972097510636027057290307...   \n",
       "\n",
       "                                          RestingECG  \\\n",
       "0  (206633123642145745457794856667965133119735875...   \n",
       "\n",
       "                                    MaximumHeartRate  \\\n",
       "0  (527928654556440297785491377545093222911830023...   \n",
       "\n",
       "                                      ExerciseAngina  \\\n",
       "0  (535679168078069141039148775378508478081694430...   \n",
       "\n",
       "                                             Oldpeak  \\\n",
       "0  (224539912728730582344923001583770190325211116...   \n",
       "\n",
       "                                            ST_Slope  \n",
       "0  (102350512016187766238753594805484016713153736...  "
      ]
     },
     "execution_count": 2,
     "metadata": {},
     "output_type": "execute_result"
    }
   ],
   "source": [
    "df = pd.read_csv('21_(SYS)_CR_Encrypted_User_Data.csv')\n",
    "df.head()"
   ]
  },
  {
   "cell_type": "code",
   "execution_count": 3,
   "metadata": {},
   "outputs": [
    {
     "name": "stdout",
     "output_type": "stream",
     "text": [
      "        Age       Sex  ChestPainType  RestingBloodPressure  Cholesterol  \\\n",
      "0 -0.163405  0.602289      -0.617559               0.11147    -0.769996   \n",
      "\n",
      "   FastingBloodSugar  RestingECG  MaximumHeartRate  ExerciseAngina   Oldpeak  \\\n",
      "0          -1.761705    0.498936         -0.006199         1.15581 -0.863679   \n",
      "\n",
      "   ST_Slope  \n",
      "0 -0.031283  \n"
     ]
    },
    {
     "name": "stderr",
     "output_type": "stream",
     "text": [
      "g:\\Thesis - Paper - Proper\\Resources\\custom_tuple_scaler.py:22: FutureWarning: DataFrame.applymap has been deprecated. Use DataFrame.map instead.\n",
      "  c2_values = X.applymap(self._extract_c2)\n"
     ]
    }
   ],
   "source": [
    "custom_scaler = joblib.load('13_CC_Scaler.joblib')\n",
    "\n",
    "df_scaled = custom_scaler.transform(df)\n",
    "\n",
    "df_scaled = pd.DataFrame(df_scaled, columns=df.columns)\n",
    "\n",
    "print(df_scaled)"
   ]
  },
  {
   "cell_type": "code",
   "execution_count": 4,
   "metadata": {},
   "outputs": [],
   "source": [
    "model = joblib.load('12_SP_Model_RF.joblib')"
   ]
  },
  {
   "cell_type": "code",
   "execution_count": 5,
   "metadata": {},
   "outputs": [
    {
     "name": "stdout",
     "output_type": "stream",
     "text": [
      "[1]\n"
     ]
    }
   ],
   "source": [
    "prediction = model.predict(df_scaled)\n",
    "print(prediction)"
   ]
  },
  {
   "cell_type": "code",
   "execution_count": 6,
   "metadata": {},
   "outputs": [
    {
     "data": {
      "text/plain": [
       "array([[16.49, 83.51]])"
      ]
     },
     "execution_count": 6,
     "metadata": {},
     "output_type": "execute_result"
    }
   ],
   "source": [
    "prediction_prob = np.round(model.predict_proba(df_scaled) * 100, 2)\n",
    "prediction_prob"
   ]
  },
  {
   "cell_type": "code",
   "execution_count": 7,
   "metadata": {},
   "outputs": [
    {
     "data": {
      "text/plain": [
       "array([ 6.86,  3.5 , 11.21,  7.46,  4.48,  3.33,  6.62,  3.81,  3.48,\n",
       "        7.98, 24.79])"
      ]
     },
     "execution_count": 7,
     "metadata": {},
     "output_type": "execute_result"
    }
   ],
   "source": [
    "prediction_prob_class_1 = model.predict_proba(df_scaled)[:, 1][0]\n",
    "feature_importance = model.feature_importances_\n",
    "feature_contributions = np.round(feature_importance * prediction_prob_class_1 * 100, 2)\n",
    "feature_contributions"
   ]
  },
  {
   "cell_type": "code",
   "execution_count": 8,
   "metadata": {},
   "outputs": [
    {
     "data": {
      "text/plain": [
       "[1,\n",
       " 16.49,\n",
       " 83.51,\n",
       " 6.86,\n",
       " 3.5,\n",
       " 11.21,\n",
       " 7.46,\n",
       " 4.48,\n",
       " 3.33,\n",
       " 6.62,\n",
       " 3.81,\n",
       " 3.48,\n",
       " 7.98,\n",
       " 24.79]"
      ]
     },
     "execution_count": 8,
     "metadata": {},
     "output_type": "execute_result"
    }
   ],
   "source": [
    "prediction_value = int(prediction[0])\n",
    "\n",
    "output_data = [prediction_value] + [prediction_prob[0][0]] + [prediction_prob[0][1]] + feature_contributions.tolist()\n",
    "output_data"
   ]
  },
  {
   "cell_type": "code",
   "execution_count": 9,
   "metadata": {},
   "outputs": [],
   "source": [
    "pd.DataFrame([output_data]).to_csv(\"22_(SYS)_CC_Predicted_User_Output_Data.csv\", index=False, header=False)"
   ]
  },
  {
   "cell_type": "code",
   "execution_count": null,
   "metadata": {},
   "outputs": [],
   "source": []
  }
 ],
 "metadata": {
  "kernelspec": {
   "display_name": "Python 3",
   "language": "python",
   "name": "python3"
  },
  "language_info": {
   "codemirror_mode": {
    "name": "ipython",
    "version": 3
   },
   "file_extension": ".py",
   "mimetype": "text/x-python",
   "name": "python",
   "nbconvert_exporter": "python",
   "pygments_lexer": "ipython3",
   "version": "3.12.3"
  }
 },
 "nbformat": 4,
 "nbformat_minor": 2
}
