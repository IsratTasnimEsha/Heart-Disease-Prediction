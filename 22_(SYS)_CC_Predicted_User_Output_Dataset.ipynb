{
 "cells": [
  {
   "cell_type": "code",
   "execution_count": 1,
   "metadata": {},
   "outputs": [],
   "source": [
    "import pandas as pd\n",
    "import numpy as np\n",
    "from sklearn.model_selection import train_test_split\n",
    "from sklearn.preprocessing import StandardScaler, OneHotEncoder\n",
    "from sklearn.impute import SimpleImputer\n",
    "from sklearn.decomposition import PCA\n",
    "from sklearn.ensemble import IsolationForest\n",
    "import joblib\n",
    "import os\n",
    "os.chdir('Resources/')\n",
    "\n",
    "from custom_tuple_scaler import CustomTupleScaler  "
   ]
  },
  {
   "cell_type": "code",
   "execution_count": 2,
   "metadata": {},
   "outputs": [
    {
     "data": {
      "text/html": [
       "<div>\n",
       "<style scoped>\n",
       "    .dataframe tbody tr th:only-of-type {\n",
       "        vertical-align: middle;\n",
       "    }\n",
       "\n",
       "    .dataframe tbody tr th {\n",
       "        vertical-align: top;\n",
       "    }\n",
       "\n",
       "    .dataframe thead th {\n",
       "        text-align: right;\n",
       "    }\n",
       "</style>\n",
       "<table border=\"1\" class=\"dataframe\">\n",
       "  <thead>\n",
       "    <tr style=\"text-align: right;\">\n",
       "      <th></th>\n",
       "      <th>Age</th>\n",
       "      <th>Sex</th>\n",
       "      <th>ChestPainType</th>\n",
       "      <th>RestingBloodPressure</th>\n",
       "      <th>Cholesterol</th>\n",
       "      <th>FastingBloodSugar</th>\n",
       "      <th>RestingECG</th>\n",
       "      <th>MaximumHeartRate</th>\n",
       "      <th>ExerciseAngina</th>\n",
       "      <th>Oldpeak</th>\n",
       "      <th>ST_Slope</th>\n",
       "    </tr>\n",
       "  </thead>\n",
       "  <tbody>\n",
       "    <tr>\n",
       "      <th>0</th>\n",
       "      <td>(116117118567918454538443635441930044584366525...</td>\n",
       "      <td>(115216133156897905997902213226564416198983593...</td>\n",
       "      <td>(534062771043874878230123617229893967373724032...</td>\n",
       "      <td>(295979949112269684481418694088532144415321623...</td>\n",
       "      <td>(257274593255949905354701935391895385009626884...</td>\n",
       "      <td>(899127013110631706582825959635648121268124629...</td>\n",
       "      <td>(373404129004605616061391413657108570512290097...</td>\n",
       "      <td>(116079673230625493169642312195399383672533140...</td>\n",
       "      <td>(136471690382529317079093051788397747452273532...</td>\n",
       "      <td>(212717196627388261638670485566983487486220007...</td>\n",
       "      <td>(953373854764096036137291734717058396988185634...</td>\n",
       "    </tr>\n",
       "  </tbody>\n",
       "</table>\n",
       "</div>"
      ],
      "text/plain": [
       "                                                 Age  \\\n",
       "0  (116117118567918454538443635441930044584366525...   \n",
       "\n",
       "                                                 Sex  \\\n",
       "0  (115216133156897905997902213226564416198983593...   \n",
       "\n",
       "                                       ChestPainType  \\\n",
       "0  (534062771043874878230123617229893967373724032...   \n",
       "\n",
       "                                RestingBloodPressure  \\\n",
       "0  (295979949112269684481418694088532144415321623...   \n",
       "\n",
       "                                         Cholesterol  \\\n",
       "0  (257274593255949905354701935391895385009626884...   \n",
       "\n",
       "                                   FastingBloodSugar  \\\n",
       "0  (899127013110631706582825959635648121268124629...   \n",
       "\n",
       "                                          RestingECG  \\\n",
       "0  (373404129004605616061391413657108570512290097...   \n",
       "\n",
       "                                    MaximumHeartRate  \\\n",
       "0  (116079673230625493169642312195399383672533140...   \n",
       "\n",
       "                                      ExerciseAngina  \\\n",
       "0  (136471690382529317079093051788397747452273532...   \n",
       "\n",
       "                                             Oldpeak  \\\n",
       "0  (212717196627388261638670485566983487486220007...   \n",
       "\n",
       "                                            ST_Slope  \n",
       "0  (953373854764096036137291734717058396988185634...  "
      ]
     },
     "execution_count": 2,
     "metadata": {},
     "output_type": "execute_result"
    }
   ],
   "source": [
    "df = pd.read_csv('21_(SYS)_CR_Encrypted_User_Data.csv')\n",
    "df.head()"
   ]
  },
  {
   "cell_type": "code",
   "execution_count": 3,
   "metadata": {},
   "outputs": [
    {
     "name": "stdout",
     "output_type": "stream",
     "text": [
      "        Age       Sex  ChestPainType  RestingBloodPressure  Cholesterol  \\\n",
      "0  0.411571 -0.574685       -0.22904              0.883218    -0.586446   \n",
      "\n",
      "   FastingBloodSugar  RestingECG  MaximumHeartRate  ExerciseAngina   Oldpeak  \\\n",
      "0            1.95009    1.065109         -0.147421       -0.825528  0.011132   \n",
      "\n",
      "   ST_Slope  \n",
      "0  1.024518  \n"
     ]
    },
    {
     "name": "stderr",
     "output_type": "stream",
     "text": [
      "g:\\Thesis - Copy\\Resources\\custom_tuple_scaler.py:22: FutureWarning: DataFrame.applymap has been deprecated. Use DataFrame.map instead.\n",
      "  c2_values = X.applymap(self._extract_c2)\n"
     ]
    }
   ],
   "source": [
    "custom_scaler = joblib.load('13_CC_Scaler.joblib')\n",
    "\n",
    "df_scaled = custom_scaler.transform(df)\n",
    "\n",
    "df_scaled = pd.DataFrame(df_scaled, columns=df.columns)\n",
    "\n",
    "print(df_scaled)"
   ]
  },
  {
   "cell_type": "code",
   "execution_count": 4,
   "metadata": {},
   "outputs": [],
   "source": [
    "model = joblib.load('12_SP_Model_RF_IF_3.joblib')"
   ]
  },
  {
   "cell_type": "code",
   "execution_count": 5,
   "metadata": {},
   "outputs": [
    {
     "data": {
      "text/plain": [
       "array([1], dtype=int64)"
      ]
     },
     "execution_count": 5,
     "metadata": {},
     "output_type": "execute_result"
    }
   ],
   "source": [
    "prediction = model.predict(df_scaled)\n",
    "prediction"
   ]
  },
  {
   "cell_type": "code",
   "execution_count": 6,
   "metadata": {},
   "outputs": [
    {
     "data": {
      "text/plain": [
       "array([[36.28, 63.72]])"
      ]
     },
     "execution_count": 6,
     "metadata": {},
     "output_type": "execute_result"
    }
   ],
   "source": [
    "prediction_prob = np.round(model.predict_proba(df_scaled) * 100, 2)\n",
    "prediction_prob"
   ]
  },
  {
   "cell_type": "code",
   "execution_count": 7,
   "metadata": {},
   "outputs": [
    {
     "data": {
      "text/plain": [
       "array([ 6.52,  1.55, 10.21,  7.09,  8.11,  1.68,  4.62,  7.59,  2.07,\n",
       "        6.15,  8.12])"
      ]
     },
     "execution_count": 7,
     "metadata": {},
     "output_type": "execute_result"
    }
   ],
   "source": [
    "prediction_prob_class_1 = model.predict_proba(df_scaled)[:, 1][0]\n",
    "feature_importance = model.feature_importances_\n",
    "feature_contributions = np.round(feature_importance * prediction_prob_class_1 * 100, 2)\n",
    "feature_contributions"
   ]
  },
  {
   "cell_type": "code",
   "execution_count": 8,
   "metadata": {},
   "outputs": [
    {
     "data": {
      "text/plain": [
       "[1,\n",
       " 36.28,\n",
       " 63.72,\n",
       " 6.52,\n",
       " 1.55,\n",
       " 10.21,\n",
       " 7.09,\n",
       " 8.11,\n",
       " 1.68,\n",
       " 4.62,\n",
       " 7.59,\n",
       " 2.07,\n",
       " 6.15,\n",
       " 8.12]"
      ]
     },
     "execution_count": 8,
     "metadata": {},
     "output_type": "execute_result"
    }
   ],
   "source": [
    "prediction_value = int(prediction[0])\n",
    "\n",
    "output_data = [prediction_value] + [prediction_prob[0][0]] + [prediction_prob[0][1]] + feature_contributions.tolist()\n",
    "output_data\n"
   ]
  },
  {
   "cell_type": "code",
   "execution_count": 9,
   "metadata": {},
   "outputs": [],
   "source": [
    "pd.DataFrame([output_data]).to_csv(\"22_(SYS)_CC_Predicted_User_Output_Data.csv\", index=False, header=False)"
   ]
  },
  {
   "cell_type": "code",
   "execution_count": null,
   "metadata": {},
   "outputs": [],
   "source": []
  }
 ],
 "metadata": {
  "kernelspec": {
   "display_name": "Python 3",
   "language": "python",
   "name": "python3"
  },
  "language_info": {
   "codemirror_mode": {
    "name": "ipython",
    "version": 3
   },
   "file_extension": ".py",
   "mimetype": "text/x-python",
   "name": "python",
   "nbconvert_exporter": "python",
   "pygments_lexer": "ipython3",
   "version": "3.12.3"
  }
 },
 "nbformat": 4,
 "nbformat_minor": 2
}
