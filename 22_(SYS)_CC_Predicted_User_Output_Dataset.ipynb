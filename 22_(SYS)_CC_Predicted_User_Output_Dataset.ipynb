{
 "cells": [
  {
   "cell_type": "code",
   "execution_count": 1,
   "metadata": {},
   "outputs": [],
   "source": [
    "import pandas as pd\n",
    "import numpy as np\n",
    "from sklearn.model_selection import train_test_split\n",
    "from sklearn.preprocessing import StandardScaler, OneHotEncoder\n",
    "from sklearn.impute import SimpleImputer\n",
    "from sklearn.decomposition import PCA\n",
    "from sklearn.ensemble import IsolationForest\n",
    "import joblib\n",
    "import os\n",
    "os.chdir('Resources/')"
   ]
  },
  {
   "cell_type": "code",
   "execution_count": 2,
   "metadata": {},
   "outputs": [
    {
     "data": {
      "text/html": [
       "<div>\n",
       "<style scoped>\n",
       "    .dataframe tbody tr th:only-of-type {\n",
       "        vertical-align: middle;\n",
       "    }\n",
       "\n",
       "    .dataframe tbody tr th {\n",
       "        vertical-align: top;\n",
       "    }\n",
       "\n",
       "    .dataframe thead th {\n",
       "        text-align: right;\n",
       "    }\n",
       "</style>\n",
       "<table border=\"1\" class=\"dataframe\">\n",
       "  <thead>\n",
       "    <tr style=\"text-align: right;\">\n",
       "      <th></th>\n",
       "      <th>Age</th>\n",
       "      <th>Sex</th>\n",
       "      <th>ChestPainType</th>\n",
       "      <th>RestingBloodPressure</th>\n",
       "      <th>Cholesterol</th>\n",
       "      <th>FastingBloodSugar</th>\n",
       "      <th>RestingECG</th>\n",
       "      <th>MaximumHeartRate</th>\n",
       "      <th>ExerciseAngina</th>\n",
       "      <th>Oldpeak</th>\n",
       "      <th>ST_Slope</th>\n",
       "    </tr>\n",
       "  </thead>\n",
       "  <tbody>\n",
       "    <tr>\n",
       "      <th>0</th>\n",
       "      <td>(772523829744533212740799159515826760645071663...</td>\n",
       "      <td>(355177180331047040885024852757263415615519042...</td>\n",
       "      <td>(224436594894728602290402909525830464957741853...</td>\n",
       "      <td>(326457864273896520460148966107046997137438203...</td>\n",
       "      <td>(130426705480598194446708801820813261373596934...</td>\n",
       "      <td>(189591083162661194892336445309806339506986633...</td>\n",
       "      <td>(127414375695420507470733348977382700955112250...</td>\n",
       "      <td>(738446602330756912296276253670931446470492308...</td>\n",
       "      <td>(204613550346969139380607350312663471791231518...</td>\n",
       "      <td>NaN</td>\n",
       "      <td>(332699227897874388819012923104546325477140195...</td>\n",
       "    </tr>\n",
       "  </tbody>\n",
       "</table>\n",
       "</div>"
      ],
      "text/plain": [
       "                                                 Age  \\\n",
       "0  (772523829744533212740799159515826760645071663...   \n",
       "\n",
       "                                                 Sex  \\\n",
       "0  (355177180331047040885024852757263415615519042...   \n",
       "\n",
       "                                       ChestPainType  \\\n",
       "0  (224436594894728602290402909525830464957741853...   \n",
       "\n",
       "                                RestingBloodPressure  \\\n",
       "0  (326457864273896520460148966107046997137438203...   \n",
       "\n",
       "                                         Cholesterol  \\\n",
       "0  (130426705480598194446708801820813261373596934...   \n",
       "\n",
       "                                   FastingBloodSugar  \\\n",
       "0  (189591083162661194892336445309806339506986633...   \n",
       "\n",
       "                                          RestingECG  \\\n",
       "0  (127414375695420507470733348977382700955112250...   \n",
       "\n",
       "                                    MaximumHeartRate  \\\n",
       "0  (738446602330756912296276253670931446470492308...   \n",
       "\n",
       "                                      ExerciseAngina  Oldpeak  \\\n",
       "0  (204613550346969139380607350312663471791231518...      NaN   \n",
       "\n",
       "                                            ST_Slope  \n",
       "0  (332699227897874388819012923104546325477140195...  "
      ]
     },
     "execution_count": 2,
     "metadata": {},
     "output_type": "execute_result"
    }
   ],
   "source": [
    "df = pd.read_csv('21_(SYS)_CR_Encrypted_User_Data.csv')\n",
    "df.head()"
   ]
  },
  {
   "cell_type": "code",
   "execution_count": 3,
   "metadata": {},
   "outputs": [
    {
     "name": "stdout",
     "output_type": "stream",
     "text": [
      "        Age       Sex  ChestPainType  RestingBloodPressure  Cholesterol  \\\n",
      "0 -1.097775 -1.854141       -0.64371             -1.440979     0.538046   \n",
      "\n",
      "   FastingBloodSugar  RestingECG  MaximumHeartRate  ExerciseAngina  Oldpeak  \\\n",
      "0           0.639877   -0.838135         -0.896268       -1.025914      NaN   \n",
      "\n",
      "   ST_Slope  \n",
      "0  1.534482  \n"
     ]
    },
    {
     "name": "stderr",
     "output_type": "stream",
     "text": [
      "g:\\Thesis - Paper\\Resources\\custom_tuple_scaler.py:22: FutureWarning: DataFrame.applymap has been deprecated. Use DataFrame.map instead.\n",
      "  c2_values = X.applymap(self._extract_c2)\n"
     ]
    }
   ],
   "source": [
    "custom_scaler = joblib.load('13_CC_Scaler.joblib')\n",
    "\n",
    "df_scaled = custom_scaler.transform(df)\n",
    "\n",
    "df_scaled = pd.DataFrame(df_scaled, columns=df.columns)\n",
    "\n",
    "print(df_scaled)"
   ]
  },
  {
   "cell_type": "code",
   "execution_count": 4,
   "metadata": {},
   "outputs": [],
   "source": [
    "model = joblib.load('12_SP_Model_RF_XGB.joblib')"
   ]
  },
  {
   "cell_type": "code",
   "execution_count": 5,
   "metadata": {},
   "outputs": [
    {
     "name": "stdout",
     "output_type": "stream",
     "text": [
      "Random Forest Predictions: [0]\n",
      "XGBoost Predictions: [0]\n",
      "Combined Prediction: [0]\n"
     ]
    }
   ],
   "source": [
    "rf = model['rf']\n",
    "xgb = model['xgb']\n",
    "\n",
    "rf_pred = rf.predict(df_scaled)\n",
    "xgb_pred = xgb.predict(df_scaled)\n",
    "\n",
    "print(\"Random Forest Predictions:\", rf_pred)\n",
    "print(\"XGBoost Predictions:\", xgb_pred)\n",
    "\n",
    "prediction = [r if r == x else r for r, x in zip(rf_pred, xgb_pred)]\n",
    "print(\"Combined Prediction:\", prediction)"
   ]
  },
  {
   "cell_type": "code",
   "execution_count": 6,
   "metadata": {},
   "outputs": [
    {
     "data": {
      "text/plain": [
       "array([[95.86,  4.14]])"
      ]
     },
     "execution_count": 6,
     "metadata": {},
     "output_type": "execute_result"
    }
   ],
   "source": [
    "rf_prob = rf.predict_proba(df_scaled)\n",
    "xgb_prob = xgb.predict_proba(df_scaled)\n",
    "\n",
    "prediction_prob = np.round((rf_prob + xgb_prob) / 2 * 100, 2)\n",
    "prediction_prob"
   ]
  },
  {
   "cell_type": "code",
   "execution_count": 7,
   "metadata": {},
   "outputs": [
    {
     "data": {
      "text/plain": [
       "array([0.42, 0.22, 1.02, 0.52, 0.29, 0.21, 0.35, 0.29, 0.23, 0.39, 1.11])"
      ]
     },
     "execution_count": 7,
     "metadata": {},
     "output_type": "execute_result"
    }
   ],
   "source": [
    "prediction_prob_class_1 = rf.predict_proba(df_scaled)[:, 1][0]\n",
    "feature_importance = rf.feature_importances_\n",
    "feature_contributions = np.round(feature_importance * prediction_prob_class_1 * 100, 2)\n",
    "feature_contributions"
   ]
  },
  {
   "cell_type": "code",
   "execution_count": 8,
   "metadata": {},
   "outputs": [
    {
     "data": {
      "text/plain": [
       "[0,\n",
       " 95.86,\n",
       " 4.14,\n",
       " 0.42,\n",
       " 0.22,\n",
       " 1.02,\n",
       " 0.52,\n",
       " 0.29,\n",
       " 0.21,\n",
       " 0.35,\n",
       " 0.29,\n",
       " 0.23,\n",
       " 0.39,\n",
       " 1.11]"
      ]
     },
     "execution_count": 8,
     "metadata": {},
     "output_type": "execute_result"
    }
   ],
   "source": [
    "prediction_value = int(prediction[0])\n",
    "\n",
    "output_data = [prediction_value] + [prediction_prob[0][0]] + [prediction_prob[0][1]] + feature_contributions.tolist()\n",
    "output_data\n"
   ]
  },
  {
   "cell_type": "code",
   "execution_count": 9,
   "metadata": {},
   "outputs": [],
   "source": [
    "pd.DataFrame([output_data]).to_csv(\"22_(SYS)_CC_Predicted_User_Output_Data.csv\", index=False, header=False)"
   ]
  },
  {
   "cell_type": "code",
   "execution_count": null,
   "metadata": {},
   "outputs": [],
   "source": []
  }
 ],
 "metadata": {
  "kernelspec": {
   "display_name": "Python 3",
   "language": "python",
   "name": "python3"
  },
  "language_info": {
   "codemirror_mode": {
    "name": "ipython",
    "version": 3
   },
   "file_extension": ".py",
   "mimetype": "text/x-python",
   "name": "python",
   "nbconvert_exporter": "python",
   "pygments_lexer": "ipython3",
   "version": "3.12.3"
  }
 },
 "nbformat": 4,
 "nbformat_minor": 2
}
