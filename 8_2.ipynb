{
 "cells": [
  {
   "cell_type": "code",
   "execution_count": null,
   "metadata": {},
   "outputs": [],
   "source": [
    "import pandas as pd\n",
    "import numpy as np\n",
    "import random\n",
    "import os\n",
    "import matplotlib.pyplot as plt\n",
    "from sklearn.model_selection import train_test_split\n",
    "from sklearn.preprocessing import StandardScaler\n",
    "from sklearn.ensemble import RandomForestClassifier\n",
    "from sklearn.tree import DecisionTreeClassifier\n",
    "from sklearn.metrics import confusion_matrix, accuracy_score, precision_score, recall_score, f1_score, roc_auc_score, confusion_matrix, roc_curve\n",
    "from sklearn.decomposition import PCA\n",
    "from keras.models import Sequential\n",
    "from keras.layers import LSTM, Dense, Dropout\n",
    "from keras.optimizers import Adam\n",
    "import tensorflow as tf\n",
    "import seaborn as sns\n",
    "from sklearn.ensemble import IsolationForest\n",
    "os.chdir('Resources/')"
   ]
  },
  {
   "cell_type": "code",
   "execution_count": null,
   "metadata": {},
   "outputs": [],
   "source": [
    "df = pd.read_csv('6_Preprocessed_Data.csv')\n",
    "\n",
    "X = df.drop(['HeartDisease'], axis='columns')\n",
    "Y = df[['HeartDisease']]"
   ]
  },
  {
   "cell_type": "code",
   "execution_count": null,
   "metadata": {},
   "outputs": [
    {
     "name": "stdout",
     "output_type": "stream",
     "text": [
      "1158 7.429228115422932 7.584088288327858 441\n",
      "1159 7.467969251642626 7.584088288327858 441\n",
      "1160 7.439729123603722 7.584088288327858 441\n",
      "1161 7.476190892524716 7.584088288327858 441\n",
      "1162 7.325461822726345 7.584088288327858 441\n",
      "1163 7.447453755896946 7.584088288327858 441\n",
      "1164 7.411118335882531 7.584088288327858 441\n",
      "1165 7.444096731150542 7.584088288327858 441\n",
      "1166 7.45443871450382 7.584088288327858 441\n",
      "1167 7.422994572534539 7.584088288327858 441\n",
      "1168 7.476677556004233 7.584088288327858 441\n",
      "1169 7.431459130678054 7.584088288327858 441\n",
      "1170 7.38534603722529 7.584088288327858 441\n",
      "1171 7.369685078409775 7.584088288327858 441\n",
      "1172 7.404034900418285 7.584088288327858 441\n",
      "1173 7.5078141251924055 7.584088288327858 441\n",
      "1174 7.526705924159742 7.584088288327858 441\n",
      "1175 7.460674339595132 7.584088288327858 441\n"
     ]
    }
   ],
   "source": [
    "seed=983\n",
    "mx=7.584088288327858\n",
    "ind=1176\n",
    "\n",
    "for i in range(615, 5000):\n",
    "    seed = i\n",
    "    \n",
    "    full = []\n",
    "    \n",
    "    for j in range(1, 10):\n",
    "        X_train, X_test, Y_train, Y_test = train_test_split(X, Y, test_size=0.1*j, random_state=seed)\n",
    "        \n",
    "        pca = PCA(n_components=9)\n",
    "        X_train_pca = pca.fit_transform(X_train)\n",
    "        X_test_pca = pca.transform(X_test)\n",
    "        \n",
    "        rf_pca = RandomForestClassifier(random_state=seed, n_estimators=10)\n",
    "        rf_pca.fit(X_train_pca, Y_train.values.ravel())\n",
    "        \n",
    "        pred_pca = rf_pca.predict(X_test_pca)\n",
    "        accuracy_pca = f1_score(Y_test, pred_pca)\n",
    "\n",
    "        full.append(accuracy_pca)\n",
    "\n",
    "    accuracy_nb = sum(full)\n",
    "    if(accuracy_nb>mx):\n",
    "        mx=accuracy_nb\n",
    "        ind=i\n",
    "    \n",
    "    print(i, accuracy_nb, mx, ind)"
   ]
  },
  {
   "cell_type": "code",
   "execution_count": null,
   "metadata": {},
   "outputs": [],
   "source": [
    "print(mx, ind)"
   ]
  },
  {
   "cell_type": "code",
   "execution_count": null,
   "metadata": {},
   "outputs": [],
   "source": []
  }
 ],
 "metadata": {
  "kernelspec": {
   "display_name": "Python 3",
   "language": "python",
   "name": "python3"
  },
  "language_info": {
   "codemirror_mode": {
    "name": "ipython",
    "version": 3
   },
   "file_extension": ".py",
   "mimetype": "text/x-python",
   "name": "python",
   "nbconvert_exporter": "python",
   "pygments_lexer": "ipython3",
   "version": "3.12.3"
  }
 },
 "nbformat": 4,
 "nbformat_minor": 2
}
