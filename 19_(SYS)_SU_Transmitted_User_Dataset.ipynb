{
 "cells": [
  {
   "cell_type": "code",
   "execution_count": 1,
   "metadata": {},
   "outputs": [],
   "source": [
    "import random\n",
    "import csv\n",
    "import os\n",
    "import pickle\n",
    "import sys\n",
    "os.chdir('Resources/')"
   ]
  },
  {
   "cell_type": "code",
   "execution_count": 2,
   "metadata": {},
   "outputs": [],
   "source": [
    "def power(b, p, m):\n",
    "    b = b % m\n",
    "    if p == 0:\n",
    "        return 1\n",
    "    j = power(b, p // 2, m)\n",
    "    j = (j * j) % m\n",
    "    if p % 2 == 1:\n",
    "        j = (j * b) % m\n",
    "    return j"
   ]
  },
  {
   "cell_type": "code",
   "execution_count": 3,
   "metadata": {},
   "outputs": [],
   "source": [
    "def load_key(filename):\n",
    "    with open(filename, \"rb\") as f:\n",
    "        return pickle.load(f)"
   ]
  },
  {
   "cell_type": "code",
   "execution_count": 4,
   "metadata": {},
   "outputs": [
    {
     "data": {
      "text/plain": [
       "(800039276376817193, 12056529777636162823)"
      ]
     },
     "execution_count": 4,
     "metadata": {},
     "output_type": "execute_result"
    }
   ],
   "source": [
    "su_rsa_1_public_key = load_key(\"17_SU_RSA_1_Public_Key.pkl\")\n",
    "su_rsa_1_public_key"
   ]
  },
  {
   "cell_type": "code",
   "execution_count": 5,
   "metadata": {},
   "outputs": [],
   "source": [
    "input_filename = '18_(SYS)_SU_User_Data.csv'  # Your input file"
   ]
  },
  {
   "cell_type": "code",
   "execution_count": 6,
   "metadata": {},
   "outputs": [
    {
     "name": "stdout",
     "output_type": "stream",
     "text": [
      "[1570019678569955073, 9342350681798855386, 1570019678569955073, 9342350681798855386, 1570019678569955073, 9342350681798855386, 4360975317796435632, 9342350681798855386, 6412230937143983564, 9342350681798855386, 1570019678569955073, 9342350681798855386, 6412230937143983564, 9342350681798855386, 6412230937143983564, 9342350681798855386, 1570019678569955073, 9342350681798855386, 1570019678569955073, 9342350681798855386, 1570019678569955073] \n",
      " 21\n",
      "1,1,1,3,2,1,2,2,1,1,1\n"
     ]
    }
   ],
   "source": [
    "def encrypt(message, public_key):\n",
    "    e, n = public_key\n",
    "    encrypted_message = [pow(ord(char), e, n) for char in message]\n",
    "    return encrypted_message\n",
    "\n",
    "def encrypt_csv_file(input_filename, public_key):\n",
    "    with open(input_filename, 'r') as f:\n",
    "        reader = csv.reader(f)\n",
    "        data = \"\\n\".join([\",\".join(row) for row in reader])  # Join all rows into a single string\n",
    "    \n",
    "    encrypted_data = encrypt(data, public_key)\n",
    "    \n",
    "    return encrypted_data\n",
    "\n",
    "encrypted_data = encrypt_csv_file(input_filename, su_rsa_1_public_key)\n",
    "print(encrypted_data, '\\n', len(encrypted_data))\n",
    "\n",
    "def decrypt(private_key, encrypted_message):\n",
    "    d, n = private_key\n",
    "    decrypted_message = ''.join([chr(pow(char, d, n)) for char in encrypted_message])\n",
    "    return decrypted_message\n",
    "\n",
    "sys_rsa_1_private_key = load_key(\"16_SYS_RSA_1_Private_Key.pkl\")\n",
    "\n",
    "decrypted_data = decrypt(sys_rsa_1_private_key, encrypted_data)\n",
    "print(decrypted_data)"
   ]
  },
  {
   "cell_type": "code",
   "execution_count": 7,
   "metadata": {},
   "outputs": [],
   "source": [
    "def encrypt_data_with_aes(data, key):\n",
    "    encrypted_data = \"\".join(chr(ord(c) ^ key) for c in data)\n",
    "    return encrypted_data"
   ]
  },
  {
   "cell_type": "code",
   "execution_count": 8,
   "metadata": {},
   "outputs": [],
   "source": [
    "def encrypt_aes_key_with_rsa(aes_key, public_key):\n",
    "    e, n = public_key\n",
    "    return power(aes_key, e, n)"
   ]
  },
  {
   "cell_type": "code",
   "execution_count": 9,
   "metadata": {},
   "outputs": [],
   "source": [
    "def encrypt_csv_file(input_filename, public_key):\n",
    "    aes_key = random.randint(1, 255)  # Simple key for XOR-based encryption\n",
    "\n",
    "    with open(input_filename, 'r', encoding='utf-8') as f:\n",
    "        reader = csv.reader(f)\n",
    "        data = \"\\n\".join([\",\".join(row) for row in reader])\n",
    "\n",
    "    encrypted_data = encrypt_data_with_aes(data, aes_key)\n",
    "    encrypted_aes_key = encrypt_aes_key_with_rsa(aes_key, public_key)\n",
    "\n",
    "    with open(\"19_(SYS)_SU_Transmitted_User_Data.csv\", 'w', newline='', encoding='utf-8') as f:\n",
    "        writer = csv.writer(f)\n",
    "        writer.writerow([encrypted_aes_key])\n",
    "        writer.writerow([encrypted_data])\n",
    "\n",
    "    return encrypted_aes_key, encrypted_data"
   ]
  },
  {
   "cell_type": "code",
   "execution_count": 10,
   "metadata": {},
   "outputs": [
    {
     "name": "stdout",
     "output_type": "stream",
     "text": [
      "File encrypted successfully. Data saved in '18_(SYS)_SU_User_Data.csv'.\n",
      "506376234230267999 ÔÉÔÉÔÉÖÉ×ÉÔÉ×É×ÉÔÉÔÉÔ 21\n"
     ]
    }
   ],
   "source": [
    "encrypted_aes_key, encrypted_data = encrypt_csv_file(input_filename, su_rsa_1_public_key)\n",
    "print(\"File encrypted successfully. Data saved in '18_(SYS)_SU_User_Data.csv'.\")\n",
    "\n",
    "print(encrypted_aes_key, encrypted_data, len(encrypted_data))"
   ]
  },
  {
   "cell_type": "code",
   "execution_count": 11,
   "metadata": {},
   "outputs": [
    {
     "data": {
      "text/plain": [
       "(4642646676108725137, 4774294288111246121)"
      ]
     },
     "execution_count": 11,
     "metadata": {},
     "output_type": "execute_result"
    }
   ],
   "source": [
    "su_rsa_2_private_key = load_key(\"16_SU_RSA_2_Private_Key.pkl\")\n",
    "su_rsa_2_private_key"
   ]
  },
  {
   "cell_type": "code",
   "execution_count": 12,
   "metadata": {},
   "outputs": [
    {
     "data": {
      "text/plain": [
       "(4192637885330971573, 4774294288111246121)"
      ]
     },
     "execution_count": 12,
     "metadata": {},
     "output_type": "execute_result"
    }
   ],
   "source": [
    "su_rsa_2_public_key = load_key(\"16_SU_RSA_2_Public_Key.pkl\")\n",
    "su_rsa_2_public_key"
   ]
  },
  {
   "cell_type": "code",
   "execution_count": 13,
   "metadata": {},
   "outputs": [],
   "source": [
    "def split_message(message, max_size):\n",
    "    encoded = message.encode()\n",
    "    chunks = [encoded[i:i + max_size] for i in range(0, len(encoded), max_size)]\n",
    "    return [int.from_bytes(chunk, 'big') for chunk in chunks]"
   ]
  },
  {
   "cell_type": "code",
   "execution_count": 14,
   "metadata": {},
   "outputs": [],
   "source": [
    "def sign_message(message, private_key, n):\n",
    "    d, n = private_key\n",
    "    max_bytes = (n.bit_length() // 8) - 1  \n",
    "    message_chunks = split_message(message, max_bytes)\n",
    "    \n",
    "    signatures = [power(chunk, d, n) for chunk in message_chunks]  \n",
    "    return signatures"
   ]
  },
  {
   "cell_type": "code",
   "execution_count": 15,
   "metadata": {},
   "outputs": [
    {
     "data": {
      "text/plain": [
       "[2607616277728619247,\n",
       " 2809090494700990442,\n",
       " 2508269642706020596,\n",
       " 3207827347336413751,\n",
       " 1314379480226133519,\n",
       " 3328154650291215162,\n",
       " 2082221313762622287,\n",
       " 1125935328081719414,\n",
       " 2082221313762622287,\n",
       " 4743254279816394809,\n",
       " 574009851758614159]"
      ]
     },
     "execution_count": 15,
     "metadata": {},
     "output_type": "execute_result"
    }
   ],
   "source": [
    "signatures = sign_message(str(encrypted_aes_key) + '\\n' + encrypted_data, su_rsa_2_private_key, su_rsa_2_public_key[1])\n",
    "signatures"
   ]
  },
  {
   "cell_type": "code",
   "execution_count": 16,
   "metadata": {},
   "outputs": [],
   "source": [
    "with open(\"19_(SYS)_SU_Transmitted_User_Data.csv\", 'a', newline='', encoding='utf-8') as f:\n",
    "        writer = csv.writer(f)\n",
    "        writer.writerow([signatures])"
   ]
  },
  {
   "cell_type": "code",
   "execution_count": null,
   "metadata": {},
   "outputs": [],
   "source": []
  }
 ],
 "metadata": {
  "kernelspec": {
   "display_name": "Python 3",
   "language": "python",
   "name": "python3"
  },
  "language_info": {
   "codemirror_mode": {
    "name": "ipython",
    "version": 3
   },
   "file_extension": ".py",
   "mimetype": "text/x-python",
   "name": "python",
   "nbconvert_exporter": "python",
   "pygments_lexer": "ipython3",
   "version": "3.12.3"
  }
 },
 "nbformat": 4,
 "nbformat_minor": 2
}
