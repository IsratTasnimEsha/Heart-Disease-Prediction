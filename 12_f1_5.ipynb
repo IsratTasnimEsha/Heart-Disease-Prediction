{
 "cells": [
  {
   "cell_type": "code",
   "execution_count": 1,
   "metadata": {},
   "outputs": [],
   "source": [
    "import pandas as pd\n",
    "import numpy as np\n",
    "import random\n",
    "import os\n",
    "import matplotlib.pyplot as plt\n",
    "from sklearn.model_selection import train_test_split\n",
    "from sklearn.preprocessing import StandardScaler\n",
    "from sklearn.tree import DecisionTreeClassifier\n",
    "from sklearn.ensemble import RandomForestClassifier\n",
    "from sklearn.metrics import f1_score\n",
    "from sklearn.decomposition import PCA\n",
    "from keras.models import Sequential\n",
    "from keras.layers import LSTM, Dense, Dropout\n",
    "from keras.optimizers import Adam\n",
    "import tensorflow as tf\n",
    "import seaborn as sns\n",
    "from sklearn.ensemble import IsolationForest\n",
    "import joblib\n",
    "os.chdir('Resources/')\n",
    "\n",
    "import warnings\n",
    "warnings.filterwarnings(\"ignore\")"
   ]
  },
  {
   "cell_type": "code",
   "execution_count": 2,
   "metadata": {},
   "outputs": [],
   "source": [
    "df = pd.read_csv('10_SP_Preprocessed_Data.csv')\n",
    "\n",
    "X = df.drop(['HeartDisease'], axis='columns')\n",
    "Y = df[['HeartDisease']]"
   ]
  },
  {
   "cell_type": "code",
   "execution_count": null,
   "metadata": {},
   "outputs": [
    {
     "name": "stdout",
     "output_type": "stream",
     "text": [
      "1 0.9421841541755889 0.9421841541755889 1\n",
      "2 0.9421841541755889 0.9421841541755889 1\n",
      "3 0.9421841541755889 0.9421841541755889 1\n",
      "4 0.9421841541755889 0.9421841541755889 1\n",
      "5 0.9421841541755889 0.9421841541755889 1\n",
      "6 0.9421841541755889 0.9421841541755889 1\n",
      "7 0.9421841541755889 0.9421841541755889 1\n",
      "8 0.9421841541755889 0.9421841541755889 1\n",
      "9 0.9421841541755889 0.9421841541755889 1\n",
      "10 0.9421841541755889 0.9421841541755889 1\n"
     ]
    }
   ],
   "source": [
    "import numpy as np\n",
    "from sklearn.ensemble import RandomForestClassifier, IsolationForest\n",
    "from xgboost import XGBClassifier\n",
    "from sklearn.model_selection import train_test_split\n",
    "from sklearn.metrics import f1_score\n",
    "\n",
    "mx = 0\n",
    "ind = 0\n",
    "\n",
    "#0.9421841541755889 \n",
    "\n",
    "for i in range(1, 500):\n",
    "    seed = i\n",
    "\n",
    "    iso_forest = IsolationForest(contamination=0.05, random_state=227, n_estimators=100, max_samples=256)\n",
    "    outliers = iso_forest.fit_predict(X)\n",
    "    X_filtered = X[outliers != -1].reset_index(drop=True)\n",
    "    Y_filtered = Y[outliers != -1].reset_index(drop=True)\n",
    "\n",
    "    X_train, X_test, Y_train, Y_test = train_test_split(\n",
    "        X_filtered, Y_filtered, test_size=0.2, random_state=227\n",
    "    )\n",
    "\n",
    "    rf = RandomForestClassifier(random_state=227, n_estimators=94, max_depth=18, max_features=3)\n",
    "    rf.fit(X_train, Y_train)\n",
    "    rf_pred = rf.predict(X_test)\n",
    "\n",
    "    xgb = XGBClassifier(use_label_encoder=False, eval_metric='logloss', random_state=227)\n",
    "    xgb.fit(X_train, Y_train)\n",
    "    xgb_pred = xgb.predict(X_test)\n",
    "\n",
    "    combined_pred = []\n",
    "    for r, x in zip(rf_pred, xgb_pred):\n",
    "        combined_pred.append(r if r == x else r)\n",
    "\n",
    "    combined_f1 = f1_score(Y_test, combined_pred)\n",
    "\n",
    "    if combined_f1 > mx:\n",
    "        mx = combined_f1\n",
    "        ind = i\n",
    "\n",
    "    print(i, combined_f1, mx, ind)\n"
   ]
  },
  {
   "cell_type": "code",
   "execution_count": null,
   "metadata": {},
   "outputs": [],
   "source": []
  }
 ],
 "metadata": {
  "kernelspec": {
   "display_name": "Python 3",
   "language": "python",
   "name": "python3"
  },
  "language_info": {
   "codemirror_mode": {
    "name": "ipython",
    "version": 3
   },
   "file_extension": ".py",
   "mimetype": "text/x-python",
   "name": "python",
   "nbconvert_exporter": "python",
   "pygments_lexer": "ipython3",
   "version": "3.12.3"
  }
 },
 "nbformat": 4,
 "nbformat_minor": 2
}
