{
 "cells": [
  {
   "cell_type": "code",
   "execution_count": 1,
   "metadata": {},
   "outputs": [],
   "source": [
    "import random\n",
    "import csv\n",
    "import os\n",
    "import pickle\n",
    "from sympy import isprime\n",
    "os.chdir('Resources/')"
   ]
  },
  {
   "cell_type": "code",
   "execution_count": 2,
   "metadata": {},
   "outputs": [],
   "source": [
    "def power(b, p, m):\n",
    "    b = b % m\n",
    "    if p == 0:\n",
    "        return 1\n",
    "    j = power(b, p // 2, m)\n",
    "    j = (j * j) % m\n",
    "    if p % 2 == 1:\n",
    "        j = (j * b) % m\n",
    "    return j"
   ]
  },
  {
   "cell_type": "code",
   "execution_count": 3,
   "metadata": {},
   "outputs": [],
   "source": [
    "def mod_inv(a, m):\n",
    "    origin_m = m\n",
    "    y, x = 0, 1\n",
    "\n",
    "    if m == 1:\n",
    "        return 0\n",
    "\n",
    "    while a > 1:\n",
    "        q = a // m\n",
    "        temp = m\n",
    "\n",
    "        m = a % m\n",
    "        a = temp\n",
    "        temp = y\n",
    "\n",
    "        y = x - q * y\n",
    "        x = temp\n",
    "\n",
    "    if x < 0:\n",
    "        x += origin_m\n",
    "    return x"
   ]
  },
  {
   "cell_type": "code",
   "execution_count": 4,
   "metadata": {},
   "outputs": [],
   "source": [
    "def generate_prime(start=2, end=2**32):\n",
    "    while True:\n",
    "        num = random.randint(start, end)\n",
    "        if isprime(num):\n",
    "            return num"
   ]
  },
  {
   "cell_type": "code",
   "execution_count": 5,
   "metadata": {},
   "outputs": [],
   "source": [
    "def generate_rsa_keys():\n",
    "    def gcd(a, b):\n",
    "        while b:\n",
    "            a, b = b, a % b\n",
    "        return a\n",
    "\n",
    "    p = generate_prime()\n",
    "    q = generate_prime()\n",
    "    while p == q:\n",
    "        q = generate_prime()\n",
    "\n",
    "    n = p * q\n",
    "    phi = (p - 1) * (q - 1)\n",
    "\n",
    "    e = random.randrange(2, phi)\n",
    "    while gcd(e, phi) != 1:\n",
    "        e = random.randrange(2, phi)\n",
    "\n",
    "    d = mod_inv(e, phi)\n",
    "\n",
    "    return ((e, n), (d, n))"
   ]
  },
  {
   "cell_type": "code",
   "execution_count": 6,
   "metadata": {},
   "outputs": [],
   "source": [
    "def save_key(filename, key):\n",
    "    with open(filename, \"wb\") as f:\n",
    "        pickle.dump(key, f)"
   ]
  },
  {
   "cell_type": "code",
   "execution_count": 7,
   "metadata": {},
   "outputs": [
    {
     "name": "stdout",
     "output_type": "stream",
     "text": [
      "(800039276376817193, 12056529777636162823) \n",
      " (551453761721239577, 12056529777636162823)\n"
     ]
    }
   ],
   "source": [
    "sys_public_key, sys_private_key = generate_rsa_keys()\n",
    "print(sys_public_key,'\\n',sys_private_key)\n",
    "\n",
    "save_key(\"16_SYS_RSA_1_Private_Key.pkl\", sys_private_key)\n",
    "save_key(\"16_SYS_RSA_1_Public_Key.pkl\", sys_public_key)"
   ]
  },
  {
   "cell_type": "code",
   "execution_count": 8,
   "metadata": {},
   "outputs": [
    {
     "name": "stdout",
     "output_type": "stream",
     "text": [
      "(4192637885330971573, 4774294288111246121) \n",
      " (4642646676108725137, 4774294288111246121)\n"
     ]
    }
   ],
   "source": [
    "su_public_key, su_private_key = generate_rsa_keys()\n",
    "print(su_public_key,'\\n',su_private_key)\n",
    "\n",
    "save_key(\"16_SU_RSA_2_Private_Key.pkl\", su_private_key)\n",
    "save_key(\"16_SU_RSA_2_Public_Key.pkl\", su_public_key)"
   ]
  },
  {
   "cell_type": "code",
   "execution_count": null,
   "metadata": {},
   "outputs": [],
   "source": []
  }
 ],
 "metadata": {
  "kernelspec": {
   "display_name": "Python 3",
   "language": "python",
   "name": "python3"
  },
  "language_info": {
   "codemirror_mode": {
    "name": "ipython",
    "version": 3
   },
   "file_extension": ".py",
   "mimetype": "text/x-python",
   "name": "python",
   "nbconvert_exporter": "python",
   "pygments_lexer": "ipython3",
   "version": "3.12.3"
  }
 },
 "nbformat": 4,
 "nbformat_minor": 2
}
